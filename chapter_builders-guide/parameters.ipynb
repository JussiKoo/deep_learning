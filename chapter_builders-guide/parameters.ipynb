{
  "cells": [
    {
      "cell_type": "markdown",
      "id": "7443df46",
      "metadata": {
        "origin_pos": 1,
        "id": "7443df46"
      },
      "source": [
        "# Parameter Management\n",
        "\n",
        "Once we have chosen an architecture\n",
        "and set our hyperparameters,\n",
        "we proceed to the training loop,\n",
        "where our goal is to find parameter values\n",
        "that minimize our loss function.\n",
        "After training, we will need these parameters\n",
        "in order to make future predictions.\n",
        "Additionally, we will sometimes wish\n",
        "to extract the parameters\n",
        "perhaps to reuse them in some other context,\n",
        "to save our model to disk so that\n",
        "it may be executed in other software,\n",
        "or for examination in the hope of\n",
        "gaining scientific understanding.\n",
        "\n",
        "Most of the time, we will be able\n",
        "to ignore the nitty-gritty details\n",
        "of how parameters are declared\n",
        "and manipulated, relying on deep learning frameworks\n",
        "to do the heavy lifting.\n",
        "However, when we move away from\n",
        "stacked architectures with standard layers,\n",
        "we will sometimes need to get into the weeds\n",
        "of declaring and manipulating parameters.\n",
        "In this section, we cover the following:\n",
        "\n",
        "* Accessing parameters for debugging, diagnostics, and visualizations.\n",
        "* Sharing parameters across different model components.\n"
      ]
    },
    {
      "cell_type": "code",
      "execution_count": 1,
      "id": "41cbf7e2",
      "metadata": {
        "execution": {
          "iopub.execute_input": "2023-08-18T19:27:20.807089Z",
          "iopub.status.busy": "2023-08-18T19:27:20.806426Z",
          "iopub.status.idle": "2023-08-18T19:27:22.457089Z",
          "shell.execute_reply": "2023-08-18T19:27:22.456154Z"
        },
        "origin_pos": 3,
        "tab": [
          "pytorch"
        ],
        "id": "41cbf7e2"
      },
      "outputs": [],
      "source": [
        "import torch\n",
        "from torch import nn"
      ]
    },
    {
      "cell_type": "markdown",
      "id": "293084ba",
      "metadata": {
        "origin_pos": 6,
        "id": "293084ba"
      },
      "source": [
        "(**We start by focusing on an MLP with one hidden layer.**)\n"
      ]
    },
    {
      "cell_type": "code",
      "execution_count": 88,
      "id": "9aa0461f",
      "metadata": {
        "execution": {
          "iopub.execute_input": "2023-08-18T19:27:22.461279Z",
          "iopub.status.busy": "2023-08-18T19:27:22.460607Z",
          "iopub.status.idle": "2023-08-18T19:27:22.494399Z",
          "shell.execute_reply": "2023-08-18T19:27:22.493545Z"
        },
        "origin_pos": 8,
        "tab": [
          "pytorch"
        ],
        "id": "9aa0461f",
        "outputId": "04dc7811-f829-40f3-b25f-a32e65193aa1",
        "colab": {
          "base_uri": "https://localhost:8080/"
        }
      },
      "outputs": [
        {
          "output_type": "execute_result",
          "data": {
            "text/plain": [
              "torch.Size([2, 1])"
            ]
          },
          "metadata": {},
          "execution_count": 88
        }
      ],
      "source": [
        "net = nn.Sequential(nn.LazyLinear(8),\n",
        "                    nn.ReLU(),\n",
        "                    nn.LazyLinear(1))\n",
        "\n",
        "X = torch.rand(size=(2, 4))\n",
        "net(X).shape"
      ]
    },
    {
      "cell_type": "markdown",
      "id": "8d0bb094",
      "metadata": {
        "origin_pos": 11,
        "id": "8d0bb094"
      },
      "source": [
        "## [**Parameter Access**]\n",
        ":label:`subsec_param-access`\n",
        "\n",
        "Let's start with how to access parameters\n",
        "from the models that you already know.\n"
      ]
    },
    {
      "cell_type": "markdown",
      "id": "81e03323",
      "metadata": {
        "origin_pos": 12,
        "tab": [
          "pytorch"
        ],
        "id": "81e03323"
      },
      "source": [
        "When a model is defined via the `Sequential` class,\n",
        "we can first access any layer by indexing\n",
        "into the model as though it were a list.\n",
        "Each layer's parameters are conveniently\n",
        "located in its attribute.\n"
      ]
    },
    {
      "cell_type": "markdown",
      "id": "5f41ac20",
      "metadata": {
        "origin_pos": 14,
        "id": "5f41ac20"
      },
      "source": [
        "We can inspect the parameters of the second fully connected layer as follows.\n"
      ]
    },
    {
      "cell_type": "code",
      "execution_count": 89,
      "id": "3c6fdb60",
      "metadata": {
        "execution": {
          "iopub.execute_input": "2023-08-18T19:27:22.497996Z",
          "iopub.status.busy": "2023-08-18T19:27:22.497442Z",
          "iopub.status.idle": "2023-08-18T19:27:22.504291Z",
          "shell.execute_reply": "2023-08-18T19:27:22.503521Z"
        },
        "origin_pos": 16,
        "tab": [
          "pytorch"
        ],
        "id": "3c6fdb60",
        "outputId": "46202848-0a9e-4410-d694-3f9574a2f562",
        "colab": {
          "base_uri": "https://localhost:8080/"
        }
      },
      "outputs": [
        {
          "output_type": "execute_result",
          "data": {
            "text/plain": [
              "OrderedDict([('weight',\n",
              "              tensor([[-0.1709, -0.1406, -0.4279, -0.1338],\n",
              "                      [ 0.2216,  0.2282, -0.4397, -0.2073],\n",
              "                      [-0.4880,  0.2239, -0.0268, -0.2185],\n",
              "                      [-0.0167, -0.2703, -0.1663, -0.4087],\n",
              "                      [ 0.4300, -0.3129,  0.4477,  0.0756],\n",
              "                      [-0.3256, -0.2088,  0.3990,  0.1338],\n",
              "                      [-0.1164, -0.1817,  0.2940,  0.3005],\n",
              "                      [-0.3111, -0.4293,  0.4876,  0.0462]])),\n",
              "             ('bias',\n",
              "              tensor([ 0.2620,  0.0964,  0.1856, -0.3303,  0.3859, -0.1541,  0.2219, -0.0893]))])"
            ]
          },
          "metadata": {},
          "execution_count": 89
        }
      ],
      "source": [
        "net[0].state_dict()"
      ]
    },
    {
      "cell_type": "markdown",
      "id": "cc9e6e49",
      "metadata": {
        "origin_pos": 19,
        "id": "cc9e6e49"
      },
      "source": [
        "We can see that this fully connected layer\n",
        "contains two parameters,\n",
        "corresponding to that layer's\n",
        "weights and biases, respectively.\n",
        "\n",
        "\n",
        "### [**Targeted Parameters**]\n",
        "\n",
        "Note that each parameter is represented\n",
        "as an instance of the parameter class.\n",
        "To do anything useful with the parameters,\n",
        "we first need to access the underlying numerical values.\n",
        "There are several ways to do this.\n",
        "Some are simpler while others are more general.\n",
        "The following code extracts the bias\n",
        "from the second neural network layer, which returns a parameter class instance, and\n",
        "further accesses that parameter's value.\n"
      ]
    },
    {
      "cell_type": "code",
      "execution_count": null,
      "id": "ba2da7b4",
      "metadata": {
        "execution": {
          "iopub.execute_input": "2023-08-18T19:27:22.507849Z",
          "iopub.status.busy": "2023-08-18T19:27:22.507181Z",
          "iopub.status.idle": "2023-08-18T19:27:22.513236Z",
          "shell.execute_reply": "2023-08-18T19:27:22.512406Z"
        },
        "origin_pos": 21,
        "tab": [
          "pytorch"
        ],
        "id": "ba2da7b4",
        "outputId": "003ee355-9ca4-46d6-ab1f-904188eaa8cf"
      },
      "outputs": [
        {
          "data": {
            "text/plain": [
              "(torch.nn.parameter.Parameter, tensor([0.0709]))"
            ]
          },
          "execution_count": 4,
          "metadata": {},
          "output_type": "execute_result"
        }
      ],
      "source": [
        "type(net[2].bias), net[2].bias.data"
      ]
    },
    {
      "cell_type": "code",
      "source": [
        "net[2].weight.data[0]"
      ],
      "metadata": {
        "id": "9RyH78xmTnPd",
        "outputId": "6ba4f1a1-712d-4f47-a3eb-268e406b2e4f",
        "colab": {
          "base_uri": "https://localhost:8080/"
        }
      },
      "id": "9RyH78xmTnPd",
      "execution_count": 14,
      "outputs": [
        {
          "output_type": "execute_result",
          "data": {
            "text/plain": [
              "tensor([ 0.1828,  0.1423, -0.0567, -0.1793,  0.3061, -0.0629, -0.3294, -0.2392])"
            ]
          },
          "metadata": {},
          "execution_count": 14
        }
      ]
    },
    {
      "cell_type": "markdown",
      "id": "8c10cf6c",
      "metadata": {
        "origin_pos": 24,
        "tab": [
          "pytorch"
        ],
        "id": "8c10cf6c"
      },
      "source": [
        "Parameters are complex objects,\n",
        "containing values, gradients,\n",
        "and additional information.\n",
        "That is why we need to request the value explicitly.\n",
        "\n",
        "In addition to the value, each parameter also allows us to access the gradient. Because we have not invoked backpropagation for this network yet, it is in its initial state.\n"
      ]
    },
    {
      "cell_type": "code",
      "execution_count": 16,
      "id": "4c5f0ae9",
      "metadata": {
        "execution": {
          "iopub.execute_input": "2023-08-18T19:27:22.516723Z",
          "iopub.status.busy": "2023-08-18T19:27:22.516170Z",
          "iopub.status.idle": "2023-08-18T19:27:22.521606Z",
          "shell.execute_reply": "2023-08-18T19:27:22.520790Z"
        },
        "origin_pos": 27,
        "tab": [
          "pytorch"
        ],
        "id": "4c5f0ae9",
        "outputId": "a35e15f8-b7f0-45e2-fc97-8274cf403bf1",
        "colab": {
          "base_uri": "https://localhost:8080/"
        }
      },
      "outputs": [
        {
          "output_type": "execute_result",
          "data": {
            "text/plain": [
              "True"
            ]
          },
          "metadata": {},
          "execution_count": 16
        }
      ],
      "source": [
        "net[2].weight.grad == None"
      ]
    },
    {
      "cell_type": "markdown",
      "id": "49d744bc",
      "metadata": {
        "origin_pos": 28,
        "id": "49d744bc"
      },
      "source": [
        "### [**All Parameters at Once**]\n",
        "\n",
        "When we need to perform operations on all parameters,\n",
        "accessing them one-by-one can grow tedious.\n",
        "The situation can grow especially unwieldy\n",
        "when we work with more complex, e.g., nested, modules,\n",
        "since we would need to recurse\n",
        "through the entire tree to extract\n",
        "each sub-module's parameters. Below we demonstrate accessing the parameters of all layers.\n"
      ]
    },
    {
      "cell_type": "code",
      "execution_count": 17,
      "id": "dab1b4b5",
      "metadata": {
        "execution": {
          "iopub.execute_input": "2023-08-18T19:27:22.525019Z",
          "iopub.status.busy": "2023-08-18T19:27:22.524380Z",
          "iopub.status.idle": "2023-08-18T19:27:22.530002Z",
          "shell.execute_reply": "2023-08-18T19:27:22.529195Z"
        },
        "origin_pos": 30,
        "tab": [
          "pytorch"
        ],
        "id": "dab1b4b5",
        "outputId": "8787d477-71b4-43c1-a5ae-3812205da234",
        "colab": {
          "base_uri": "https://localhost:8080/"
        }
      },
      "outputs": [
        {
          "output_type": "execute_result",
          "data": {
            "text/plain": [
              "[('0.weight',\n",
              "  Parameter containing:\n",
              "  tensor([[ 0.1334, -0.1237, -0.3839, -0.2493],\n",
              "          [-0.2873, -0.1194, -0.1950,  0.2753],\n",
              "          [ 0.4725,  0.4304,  0.0616, -0.2288],\n",
              "          [-0.2622, -0.3297,  0.3641, -0.2552],\n",
              "          [ 0.2952, -0.3730, -0.2026,  0.2635],\n",
              "          [ 0.4092,  0.1098,  0.1583,  0.2103],\n",
              "          [-0.3041,  0.1532,  0.1656, -0.2515],\n",
              "          [-0.0381,  0.2765, -0.3207, -0.2442]], requires_grad=True)),\n",
              " ('0.bias',\n",
              "  Parameter containing:\n",
              "  tensor([-0.2282,  0.3261, -0.4351,  0.3788,  0.3820,  0.0589,  0.0012,  0.3643],\n",
              "         requires_grad=True)),\n",
              " ('2.weight',\n",
              "  Parameter containing:\n",
              "  tensor([[ 0.1828,  0.1423, -0.0567, -0.1793,  0.3061, -0.0629, -0.3294, -0.2392]],\n",
              "         requires_grad=True)),\n",
              " ('2.bias',\n",
              "  Parameter containing:\n",
              "  tensor([-0.0622], requires_grad=True))]"
            ]
          },
          "metadata": {},
          "execution_count": 17
        }
      ],
      "source": [
        "[(name, param) for name, param in net.named_parameters()]"
      ]
    },
    {
      "cell_type": "markdown",
      "id": "1fd29a2e",
      "metadata": {
        "origin_pos": 33,
        "id": "1fd29a2e"
      },
      "source": [
        "## [**Tied Parameters**]\n",
        "\n",
        "Often, we want to share parameters across multiple layers.\n",
        "Let's see how to do this elegantly.\n",
        "In the following we allocate a fully connected layer\n",
        "and then use its parameters specifically\n",
        "to set those of another layer.\n",
        "Here we need to run the forward propagation\n",
        "`net(X)` before accessing the parameters.\n"
      ]
    },
    {
      "cell_type": "code",
      "execution_count": 22,
      "id": "5b706636",
      "metadata": {
        "execution": {
          "iopub.execute_input": "2023-08-18T19:27:22.533421Z",
          "iopub.status.busy": "2023-08-18T19:27:22.532786Z",
          "iopub.status.idle": "2023-08-18T19:27:22.541856Z",
          "shell.execute_reply": "2023-08-18T19:27:22.541011Z"
        },
        "origin_pos": 35,
        "tab": [
          "pytorch"
        ],
        "id": "5b706636",
        "outputId": "dd0570f7-13fd-4909-aeab-b1aac07eb2fd",
        "colab": {
          "base_uri": "https://localhost:8080/"
        }
      },
      "outputs": [
        {
          "output_type": "stream",
          "name": "stdout",
          "text": [
            "ReLU()\n",
            "tensor([True, True, True, True, True, True, True, True])\n",
            "tensor(0.0584)\n",
            "tensor(100.)\n",
            "tensor([True, True, True, True, True, True, True, True])\n"
          ]
        }
      ],
      "source": [
        "# We need to give the shared layer a name so that we can refer to its\n",
        "# parameters\n",
        "shared = nn.LazyLinear(8)\n",
        "net = nn.Sequential(nn.LazyLinear(8), nn.ReLU(),\n",
        "                    shared, nn.ReLU(),\n",
        "                    shared, nn.ReLU(),\n",
        "                    nn.LazyLinear(1))\n",
        "\n",
        "net(X)\n",
        "# Check whether the parameters are the same\n",
        "print(net[2].weight.data[0] == net[4].weight.data[0])\n",
        "print(net[2].weight.data[0, 0])\n",
        "net[2].weight.data[0, 0] = 100\n",
        "print(net[2].weight.data[0, 0])\n",
        "# Make sure that they are actually the same object rather than just having the\n",
        "# same value\n",
        "print(net[2].weight.data[0] == net[4].weight.data[0])"
      ]
    },
    {
      "cell_type": "markdown",
      "id": "6ec93f84",
      "metadata": {
        "origin_pos": 38,
        "id": "6ec93f84"
      },
      "source": [
        "This example shows that the parameters\n",
        "of the second and third layer are tied.\n",
        "They are not just equal, they are\n",
        "represented by the same exact tensor.\n",
        "Thus, if we change one of the parameters,\n",
        "the other one changes, too.\n"
      ]
    },
    {
      "cell_type": "markdown",
      "id": "2a7b800f",
      "metadata": {
        "origin_pos": 39,
        "tab": [
          "pytorch"
        ],
        "id": "2a7b800f"
      },
      "source": [
        "You might wonder,\n",
        "when parameters are tied\n",
        "what happens to the gradients?\n",
        "Since the model parameters contain gradients,\n",
        "the gradients of the second hidden layer\n",
        "and the third hidden layer are added together\n",
        "during backpropagation.\n"
      ]
    },
    {
      "cell_type": "markdown",
      "id": "b4f0f0ad",
      "metadata": {
        "origin_pos": 40,
        "id": "b4f0f0ad"
      },
      "source": [
        "## Summary\n",
        "\n",
        "We have several ways of accessing and tying model parameters.\n",
        "\n",
        "\n",
        "## Exercises\n",
        "\n",
        "1. Use the `NestMLP` model defined in :numref:`sec_model_construction` and access the parameters of the various layers.\n",
        "1. Construct an MLP containing a shared parameter layer and train it. During the training process, observe the model parameters and gradients of each layer.\n",
        "1. Why is sharing parameters a good idea?\n"
      ]
    },
    {
      "cell_type": "code",
      "source": [
        "#Excercise 1\n",
        "\n",
        "class NestMLP(nn.Module):\n",
        "    def __init__(self):\n",
        "        super().__init__()\n",
        "        self.net = nn.Sequential(nn.LazyLinear(64), nn.ReLU(),\n",
        "                                 nn.LazyLinear(32), nn.ReLU())\n",
        "        self.linear = nn.LazyLinear(16)\n",
        "\n",
        "    def forward(self, X):\n",
        "        return self.linear(self.net(X))\n",
        "\n",
        "nest = NestMLP()\n",
        "nest(X)\n",
        "\n",
        "#Access all parameters in the first two hidden layers\n",
        "[(name, param.shape) for name, param in nest.net.named_parameters()]\n",
        "\n",
        "#Access weights of the first hidden layer\n",
        "nest.net[0].weight.data\n",
        "\n",
        "#Access all parameters of the last hidden layer\n",
        "nest.linear.state_dict()"
      ],
      "metadata": {
        "id": "7Da1QAPxa9A4",
        "outputId": "a74cd12e-b81c-4b52-ca6c-49c2258a09bd",
        "colab": {
          "base_uri": "https://localhost:8080/"
        }
      },
      "id": "7Da1QAPxa9A4",
      "execution_count": 45,
      "outputs": [
        {
          "output_type": "stream",
          "name": "stdout",
          "text": [
            "torch.Size([2, 16])\n"
          ]
        }
      ]
    },
    {
      "cell_type": "code",
      "source": [
        "from torch.utils.data import DataLoader, TensorDataset\n",
        "import torch.optim as optim\n",
        "\n",
        "#Construct an MLP containing a shared parameter layer and train it. During the training process, observe the model parameters and gradients of each layer.\n",
        "\n",
        "shared = nn.LazyLinear(4)\n",
        "net = nn.Sequential(nn.LazyLinear(4), nn.ReLU(),\n",
        "                    shared, nn.ReLU(),\n",
        "                    shared, nn.ReLU(),\n",
        "                    nn.LazyLinear(1))\n",
        "\n",
        "# Generate some sample data\n",
        "X = torch.randn(10, 4)\n",
        "y = torch.randn(10, 1)\n",
        "\n",
        "# Create a dataset and data loader\n",
        "dataset = TensorDataset(X, y)\n",
        "data_loader = DataLoader(dataset, batch_size=32, shuffle=True)\n",
        "\n",
        "# Define the loss function and optimizer\n",
        "loss_fn = nn.MSELoss()\n",
        "optimizer = optim.SGD(net.parameters(), lr=0.01)\n",
        "\n",
        "# Training loop\n",
        "num_epochs = 5\n",
        "for epoch in range(num_epochs):\n",
        "    for batch_idx, (data, target) in enumerate(data_loader):\n",
        "        # Zero the gradients\n",
        "        optimizer.zero_grad()\n",
        "\n",
        "        # Forward pass\n",
        "        output = net(data)\n",
        "\n",
        "        # Calculate the loss\n",
        "        loss = loss_fn(output, target)\n",
        "\n",
        "        # Backward pass\n",
        "        loss.backward()\n",
        "\n",
        "        # Update the parameters\n",
        "        optimizer.step()\n",
        "\n",
        "        # Print the parameters and gradients for the shared layer (optional)\n",
        "        if batch_idx % 10 == 0:\n",
        "            print(f\"Epoch: {epoch}, Batch: {batch_idx}\")\n",
        "            for name, param in shared.named_parameters():\n",
        "                print(f\"Parameter: {name}, Value: {param.data}\")\n",
        "                if param.grad is not None:\n",
        "                    print(f\"Gradient: {name}, Value: {param.grad}\")"
      ],
      "metadata": {
        "id": "WhbWUiVMsF1x",
        "outputId": "88aef59d-48d1-46ac-d3a4-60b155a71bb8",
        "colab": {
          "base_uri": "https://localhost:8080/"
        }
      },
      "id": "WhbWUiVMsF1x",
      "execution_count": 90,
      "outputs": [
        {
          "output_type": "stream",
          "name": "stdout",
          "text": [
            "Epoch: 0, Batch: 0\n",
            "Parameter: weight, Value: tensor([[ 0.3454, -0.2830, -0.1320, -0.1220],\n",
            "        [-0.0330,  0.2569, -0.3630, -0.3798],\n",
            "        [-0.4470, -0.4838,  0.1064, -0.1026],\n",
            "        [ 0.2153,  0.3756,  0.0189,  0.2346]])\n",
            "Gradient: weight, Value: tensor([[-2.6510e-03, -6.6914e-04, -6.1215e-03, -4.8917e-04],\n",
            "        [ 0.0000e+00,  0.0000e+00,  0.0000e+00,  0.0000e+00],\n",
            "        [ 0.0000e+00,  0.0000e+00,  5.7456e-05,  0.0000e+00],\n",
            "        [-2.2884e-04,  3.2236e-04, -3.9631e-04,  2.9306e-04]])\n",
            "Parameter: bias, Value: tensor([ 0.2009, -0.0364, -0.0035, -0.2945])\n",
            "Gradient: bias, Value: tensor([-0.0217,  0.0000,  0.0004,  0.0002])\n",
            "Epoch: 1, Batch: 0\n",
            "Parameter: weight, Value: tensor([[ 0.3454, -0.2830, -0.1320, -0.1220],\n",
            "        [-0.0330,  0.2569, -0.3630, -0.3798],\n",
            "        [-0.4470, -0.4838,  0.1064, -0.1026],\n",
            "        [ 0.2153,  0.3756,  0.0189,  0.2346]])\n",
            "Gradient: weight, Value: tensor([[-2.7391e-03, -7.0578e-04, -6.4194e-03, -4.8846e-04],\n",
            "        [ 0.0000e+00,  0.0000e+00,  0.0000e+00,  0.0000e+00],\n",
            "        [ 0.0000e+00,  0.0000e+00,  6.0185e-05,  0.0000e+00],\n",
            "        [-2.5013e-04,  3.2974e-04, -4.3586e-04,  2.9973e-04]])\n",
            "Parameter: bias, Value: tensor([ 0.2011, -0.0364, -0.0035, -0.2945])\n",
            "Gradient: bias, Value: tensor([-0.0226,  0.0000,  0.0004,  0.0002])\n",
            "Epoch: 2, Batch: 0\n",
            "Parameter: weight, Value: tensor([[ 0.3454, -0.2830, -0.1319, -0.1220],\n",
            "        [-0.0330,  0.2569, -0.3630, -0.3798],\n",
            "        [-0.4470, -0.4838,  0.1064, -0.1026],\n",
            "        [ 0.2153,  0.3756,  0.0189,  0.2346]])\n",
            "Gradient: weight, Value: tensor([[-2.8167e-03, -7.4108e-04, -6.7015e-03, -4.8421e-04],\n",
            "        [ 0.0000e+00,  0.0000e+00,  0.0000e+00,  0.0000e+00],\n",
            "        [ 0.0000e+00,  0.0000e+00,  6.2758e-05,  0.0000e+00],\n",
            "        [-2.7177e-04,  3.3553e-04, -4.7626e-04,  3.0493e-04]])\n",
            "Parameter: bias, Value: tensor([ 0.2013, -0.0364, -0.0035, -0.2945])\n",
            "Gradient: bias, Value: tensor([-0.0234,  0.0000,  0.0004,  0.0002])\n",
            "Epoch: 3, Batch: 0\n",
            "Parameter: weight, Value: tensor([[ 0.3455, -0.2830, -0.1318, -0.1220],\n",
            "        [-0.0330,  0.2569, -0.3630, -0.3798],\n",
            "        [-0.4470, -0.4838,  0.1064, -0.1026],\n",
            "        [ 0.2153,  0.3756,  0.0190,  0.2346]])\n",
            "Gradient: weight, Value: tensor([[-2.8844e-03, -7.7508e-04, -6.9685e-03, -4.7663e-04],\n",
            "        [ 0.0000e+00,  0.0000e+00,  0.0000e+00,  0.0000e+00],\n",
            "        [ 0.0000e+00,  0.0000e+00,  6.5183e-05,  0.0000e+00],\n",
            "        [-2.9373e-04,  3.3980e-04, -5.1742e-04,  3.0876e-04]])\n",
            "Parameter: bias, Value: tensor([ 0.2016, -0.0364, -0.0035, -0.2945])\n",
            "Gradient: bias, Value: tensor([-0.0242,  0.0000,  0.0004,  0.0002])\n",
            "Epoch: 4, Batch: 0\n",
            "Parameter: weight, Value: tensor([[ 0.3455, -0.2830, -0.1318, -0.1220],\n",
            "        [-0.0330,  0.2569, -0.3630, -0.3798],\n",
            "        [-0.4470, -0.4838,  0.1064, -0.1026],\n",
            "        [ 0.2153,  0.3756,  0.0190,  0.2346]])\n",
            "Gradient: weight, Value: tensor([[-2.9427e-03, -8.0783e-04, -7.2211e-03, -4.6593e-04],\n",
            "        [ 0.0000e+00,  0.0000e+00,  0.0000e+00,  0.0000e+00],\n",
            "        [ 0.0000e+00,  0.0000e+00,  6.7467e-05,  0.0000e+00],\n",
            "        [-3.1596e-04,  3.4266e-04, -5.5928e-04,  3.1131e-04]])\n",
            "Parameter: bias, Value: tensor([ 0.2018, -0.0364, -0.0035, -0.2945])\n",
            "Gradient: bias, Value: tensor([-0.0248,  0.0000,  0.0004,  0.0002])\n"
          ]
        }
      ]
    },
    {
      "cell_type": "markdown",
      "id": "3987814f",
      "metadata": {
        "origin_pos": 42,
        "tab": [
          "pytorch"
        ],
        "id": "3987814f"
      },
      "source": [
        "[Discussions](https://discuss.d2l.ai/t/57)\n"
      ]
    }
  ],
  "metadata": {
    "kernelspec": {
      "display_name": "Python 3",
      "name": "python3"
    },
    "language_info": {
      "name": "python"
    },
    "required_libs": [],
    "colab": {
      "provenance": []
    }
  },
  "nbformat": 4,
  "nbformat_minor": 5
}