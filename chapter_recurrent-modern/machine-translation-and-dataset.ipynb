{
  "cells": [
    {
      "cell_type": "markdown",
      "id": "cd23eb28",
      "metadata": {
        "id": "cd23eb28"
      },
      "source": [
        "The following additional libraries are needed to run this\n",
        "notebook. Note that running on Colab is experimental, please report a Github\n",
        "issue if you have any problem."
      ]
    },
    {
      "cell_type": "code",
      "execution_count": 1,
      "id": "f08d6219",
      "metadata": {
        "id": "f08d6219",
        "outputId": "ca1e7c94-92d6-4b83-a389-484153c23cdb",
        "colab": {
          "base_uri": "https://localhost:8080/",
          "height": 1000
        }
      },
      "outputs": [
        {
          "output_type": "stream",
          "name": "stdout",
          "text": [
            "Collecting d2l==1.0.3\n",
            "  Downloading d2l-1.0.3-py3-none-any.whl.metadata (556 bytes)\n",
            "Collecting jupyter==1.0.0 (from d2l==1.0.3)\n",
            "  Downloading jupyter-1.0.0-py2.py3-none-any.whl.metadata (995 bytes)\n",
            "Collecting numpy==1.23.5 (from d2l==1.0.3)\n",
            "  Downloading numpy-1.23.5-cp311-cp311-manylinux_2_17_x86_64.manylinux2014_x86_64.whl.metadata (2.3 kB)\n",
            "Collecting matplotlib==3.7.2 (from d2l==1.0.3)\n",
            "  Downloading matplotlib-3.7.2-cp311-cp311-manylinux_2_17_x86_64.manylinux2014_x86_64.whl.metadata (5.6 kB)\n",
            "Collecting matplotlib-inline==0.1.6 (from d2l==1.0.3)\n",
            "  Downloading matplotlib_inline-0.1.6-py3-none-any.whl.metadata (2.8 kB)\n",
            "Collecting requests==2.31.0 (from d2l==1.0.3)\n",
            "  Downloading requests-2.31.0-py3-none-any.whl.metadata (4.6 kB)\n",
            "Collecting pandas==2.0.3 (from d2l==1.0.3)\n",
            "  Downloading pandas-2.0.3-cp311-cp311-manylinux_2_17_x86_64.manylinux2014_x86_64.whl.metadata (18 kB)\n",
            "Collecting scipy==1.10.1 (from d2l==1.0.3)\n",
            "  Downloading scipy-1.10.1-cp311-cp311-manylinux_2_17_x86_64.manylinux2014_x86_64.whl.metadata (58 kB)\n",
            "\u001b[2K     \u001b[90m━━━━━━━━━━━━━━━━━━━━━━━━━━━━━━━━━━━━━━━━\u001b[0m \u001b[32m58.9/58.9 kB\u001b[0m \u001b[31m1.7 MB/s\u001b[0m eta \u001b[36m0:00:00\u001b[0m\n",
            "\u001b[?25hRequirement already satisfied: notebook in /usr/local/lib/python3.11/dist-packages (from jupyter==1.0.0->d2l==1.0.3) (6.5.5)\n",
            "Collecting qtconsole (from jupyter==1.0.0->d2l==1.0.3)\n",
            "  Downloading qtconsole-5.6.1-py3-none-any.whl.metadata (5.0 kB)\n",
            "Requirement already satisfied: jupyter-console in /usr/local/lib/python3.11/dist-packages (from jupyter==1.0.0->d2l==1.0.3) (6.1.0)\n",
            "Requirement already satisfied: nbconvert in /usr/local/lib/python3.11/dist-packages (from jupyter==1.0.0->d2l==1.0.3) (7.16.6)\n",
            "Requirement already satisfied: ipykernel in /usr/local/lib/python3.11/dist-packages (from jupyter==1.0.0->d2l==1.0.3) (6.17.1)\n",
            "Requirement already satisfied: ipywidgets in /usr/local/lib/python3.11/dist-packages (from jupyter==1.0.0->d2l==1.0.3) (7.7.1)\n",
            "Requirement already satisfied: contourpy>=1.0.1 in /usr/local/lib/python3.11/dist-packages (from matplotlib==3.7.2->d2l==1.0.3) (1.3.1)\n",
            "Requirement already satisfied: cycler>=0.10 in /usr/local/lib/python3.11/dist-packages (from matplotlib==3.7.2->d2l==1.0.3) (0.12.1)\n",
            "Requirement already satisfied: fonttools>=4.22.0 in /usr/local/lib/python3.11/dist-packages (from matplotlib==3.7.2->d2l==1.0.3) (4.56.0)\n",
            "Requirement already satisfied: kiwisolver>=1.0.1 in /usr/local/lib/python3.11/dist-packages (from matplotlib==3.7.2->d2l==1.0.3) (1.4.8)\n",
            "Requirement already satisfied: packaging>=20.0 in /usr/local/lib/python3.11/dist-packages (from matplotlib==3.7.2->d2l==1.0.3) (24.2)\n",
            "Requirement already satisfied: pillow>=6.2.0 in /usr/local/lib/python3.11/dist-packages (from matplotlib==3.7.2->d2l==1.0.3) (11.1.0)\n",
            "Collecting pyparsing<3.1,>=2.3.1 (from matplotlib==3.7.2->d2l==1.0.3)\n",
            "  Downloading pyparsing-3.0.9-py3-none-any.whl.metadata (4.2 kB)\n",
            "Requirement already satisfied: python-dateutil>=2.7 in /usr/local/lib/python3.11/dist-packages (from matplotlib==3.7.2->d2l==1.0.3) (2.8.2)\n",
            "Requirement already satisfied: traitlets in /usr/local/lib/python3.11/dist-packages (from matplotlib-inline==0.1.6->d2l==1.0.3) (5.7.1)\n",
            "Requirement already satisfied: pytz>=2020.1 in /usr/local/lib/python3.11/dist-packages (from pandas==2.0.3->d2l==1.0.3) (2025.1)\n",
            "Requirement already satisfied: tzdata>=2022.1 in /usr/local/lib/python3.11/dist-packages (from pandas==2.0.3->d2l==1.0.3) (2025.1)\n",
            "Requirement already satisfied: charset-normalizer<4,>=2 in /usr/local/lib/python3.11/dist-packages (from requests==2.31.0->d2l==1.0.3) (3.4.1)\n",
            "Requirement already satisfied: idna<4,>=2.5 in /usr/local/lib/python3.11/dist-packages (from requests==2.31.0->d2l==1.0.3) (3.10)\n",
            "Requirement already satisfied: urllib3<3,>=1.21.1 in /usr/local/lib/python3.11/dist-packages (from requests==2.31.0->d2l==1.0.3) (2.3.0)\n",
            "Requirement already satisfied: certifi>=2017.4.17 in /usr/local/lib/python3.11/dist-packages (from requests==2.31.0->d2l==1.0.3) (2025.1.31)\n",
            "Requirement already satisfied: six>=1.5 in /usr/local/lib/python3.11/dist-packages (from python-dateutil>=2.7->matplotlib==3.7.2->d2l==1.0.3) (1.17.0)\n",
            "Requirement already satisfied: debugpy>=1.0 in /usr/local/lib/python3.11/dist-packages (from ipykernel->jupyter==1.0.0->d2l==1.0.3) (1.8.0)\n",
            "Requirement already satisfied: ipython>=7.23.1 in /usr/local/lib/python3.11/dist-packages (from ipykernel->jupyter==1.0.0->d2l==1.0.3) (7.34.0)\n",
            "Requirement already satisfied: jupyter-client>=6.1.12 in /usr/local/lib/python3.11/dist-packages (from ipykernel->jupyter==1.0.0->d2l==1.0.3) (6.1.12)\n",
            "Requirement already satisfied: nest-asyncio in /usr/local/lib/python3.11/dist-packages (from ipykernel->jupyter==1.0.0->d2l==1.0.3) (1.6.0)\n",
            "Requirement already satisfied: psutil in /usr/local/lib/python3.11/dist-packages (from ipykernel->jupyter==1.0.0->d2l==1.0.3) (5.9.5)\n",
            "Requirement already satisfied: pyzmq>=17 in /usr/local/lib/python3.11/dist-packages (from ipykernel->jupyter==1.0.0->d2l==1.0.3) (24.0.1)\n",
            "Requirement already satisfied: tornado>=6.1 in /usr/local/lib/python3.11/dist-packages (from ipykernel->jupyter==1.0.0->d2l==1.0.3) (6.4.2)\n",
            "Requirement already satisfied: ipython-genutils~=0.2.0 in /usr/local/lib/python3.11/dist-packages (from ipywidgets->jupyter==1.0.0->d2l==1.0.3) (0.2.0)\n",
            "Requirement already satisfied: widgetsnbextension~=3.6.0 in /usr/local/lib/python3.11/dist-packages (from ipywidgets->jupyter==1.0.0->d2l==1.0.3) (3.6.10)\n",
            "Requirement already satisfied: jupyterlab-widgets>=1.0.0 in /usr/local/lib/python3.11/dist-packages (from ipywidgets->jupyter==1.0.0->d2l==1.0.3) (3.0.13)\n",
            "Requirement already satisfied: prompt-toolkit!=3.0.0,!=3.0.1,<3.1.0,>=2.0.0 in /usr/local/lib/python3.11/dist-packages (from jupyter-console->jupyter==1.0.0->d2l==1.0.3) (3.0.50)\n",
            "Requirement already satisfied: pygments in /usr/local/lib/python3.11/dist-packages (from jupyter-console->jupyter==1.0.0->d2l==1.0.3) (2.18.0)\n",
            "Requirement already satisfied: beautifulsoup4 in /usr/local/lib/python3.11/dist-packages (from nbconvert->jupyter==1.0.0->d2l==1.0.3) (4.13.3)\n",
            "Requirement already satisfied: bleach!=5.0.0 in /usr/local/lib/python3.11/dist-packages (from bleach[css]!=5.0.0->nbconvert->jupyter==1.0.0->d2l==1.0.3) (6.2.0)\n",
            "Requirement already satisfied: defusedxml in /usr/local/lib/python3.11/dist-packages (from nbconvert->jupyter==1.0.0->d2l==1.0.3) (0.7.1)\n",
            "Requirement already satisfied: jinja2>=3.0 in /usr/local/lib/python3.11/dist-packages (from nbconvert->jupyter==1.0.0->d2l==1.0.3) (3.1.5)\n",
            "Requirement already satisfied: jupyter-core>=4.7 in /usr/local/lib/python3.11/dist-packages (from nbconvert->jupyter==1.0.0->d2l==1.0.3) (5.7.2)\n",
            "Requirement already satisfied: jupyterlab-pygments in /usr/local/lib/python3.11/dist-packages (from nbconvert->jupyter==1.0.0->d2l==1.0.3) (0.3.0)\n",
            "Requirement already satisfied: markupsafe>=2.0 in /usr/local/lib/python3.11/dist-packages (from nbconvert->jupyter==1.0.0->d2l==1.0.3) (3.0.2)\n",
            "Requirement already satisfied: mistune<4,>=2.0.3 in /usr/local/lib/python3.11/dist-packages (from nbconvert->jupyter==1.0.0->d2l==1.0.3) (3.1.1)\n",
            "Requirement already satisfied: nbclient>=0.5.0 in /usr/local/lib/python3.11/dist-packages (from nbconvert->jupyter==1.0.0->d2l==1.0.3) (0.10.2)\n",
            "Requirement already satisfied: nbformat>=5.7 in /usr/local/lib/python3.11/dist-packages (from nbconvert->jupyter==1.0.0->d2l==1.0.3) (5.10.4)\n",
            "Requirement already satisfied: pandocfilters>=1.4.1 in /usr/local/lib/python3.11/dist-packages (from nbconvert->jupyter==1.0.0->d2l==1.0.3) (1.5.1)\n",
            "Requirement already satisfied: argon2-cffi in /usr/local/lib/python3.11/dist-packages (from notebook->jupyter==1.0.0->d2l==1.0.3) (23.1.0)\n",
            "Requirement already satisfied: Send2Trash>=1.8.0 in /usr/local/lib/python3.11/dist-packages (from notebook->jupyter==1.0.0->d2l==1.0.3) (1.8.3)\n",
            "Requirement already satisfied: terminado>=0.8.3 in /usr/local/lib/python3.11/dist-packages (from notebook->jupyter==1.0.0->d2l==1.0.3) (0.18.1)\n",
            "Requirement already satisfied: prometheus-client in /usr/local/lib/python3.11/dist-packages (from notebook->jupyter==1.0.0->d2l==1.0.3) (0.21.1)\n",
            "Requirement already satisfied: nbclassic>=0.4.7 in /usr/local/lib/python3.11/dist-packages (from notebook->jupyter==1.0.0->d2l==1.0.3) (1.2.0)\n",
            "Collecting qtpy>=2.4.0 (from qtconsole->jupyter==1.0.0->d2l==1.0.3)\n",
            "  Downloading QtPy-2.4.3-py3-none-any.whl.metadata (12 kB)\n",
            "Requirement already satisfied: webencodings in /usr/local/lib/python3.11/dist-packages (from bleach!=5.0.0->bleach[css]!=5.0.0->nbconvert->jupyter==1.0.0->d2l==1.0.3) (0.5.1)\n",
            "Requirement already satisfied: tinycss2<1.5,>=1.1.0 in /usr/local/lib/python3.11/dist-packages (from bleach[css]!=5.0.0->nbconvert->jupyter==1.0.0->d2l==1.0.3) (1.4.0)\n",
            "Requirement already satisfied: setuptools>=18.5 in /usr/local/lib/python3.11/dist-packages (from ipython>=7.23.1->ipykernel->jupyter==1.0.0->d2l==1.0.3) (75.1.0)\n",
            "Collecting jedi>=0.16 (from ipython>=7.23.1->ipykernel->jupyter==1.0.0->d2l==1.0.3)\n",
            "  Downloading jedi-0.19.2-py2.py3-none-any.whl.metadata (22 kB)\n",
            "Requirement already satisfied: decorator in /usr/local/lib/python3.11/dist-packages (from ipython>=7.23.1->ipykernel->jupyter==1.0.0->d2l==1.0.3) (4.4.2)\n",
            "Requirement already satisfied: pickleshare in /usr/local/lib/python3.11/dist-packages (from ipython>=7.23.1->ipykernel->jupyter==1.0.0->d2l==1.0.3) (0.7.5)\n",
            "Requirement already satisfied: backcall in /usr/local/lib/python3.11/dist-packages (from ipython>=7.23.1->ipykernel->jupyter==1.0.0->d2l==1.0.3) (0.2.0)\n",
            "Requirement already satisfied: pexpect>4.3 in /usr/local/lib/python3.11/dist-packages (from ipython>=7.23.1->ipykernel->jupyter==1.0.0->d2l==1.0.3) (4.9.0)\n",
            "Requirement already satisfied: platformdirs>=2.5 in /usr/local/lib/python3.11/dist-packages (from jupyter-core>=4.7->nbconvert->jupyter==1.0.0->d2l==1.0.3) (4.3.6)\n",
            "Requirement already satisfied: notebook-shim>=0.2.3 in /usr/local/lib/python3.11/dist-packages (from nbclassic>=0.4.7->notebook->jupyter==1.0.0->d2l==1.0.3) (0.2.4)\n",
            "Requirement already satisfied: fastjsonschema>=2.15 in /usr/local/lib/python3.11/dist-packages (from nbformat>=5.7->nbconvert->jupyter==1.0.0->d2l==1.0.3) (2.21.1)\n",
            "Requirement already satisfied: jsonschema>=2.6 in /usr/local/lib/python3.11/dist-packages (from nbformat>=5.7->nbconvert->jupyter==1.0.0->d2l==1.0.3) (4.23.0)\n",
            "Requirement already satisfied: wcwidth in /usr/local/lib/python3.11/dist-packages (from prompt-toolkit!=3.0.0,!=3.0.1,<3.1.0,>=2.0.0->jupyter-console->jupyter==1.0.0->d2l==1.0.3) (0.2.13)\n",
            "Requirement already satisfied: ptyprocess in /usr/local/lib/python3.11/dist-packages (from terminado>=0.8.3->notebook->jupyter==1.0.0->d2l==1.0.3) (0.7.0)\n",
            "Requirement already satisfied: argon2-cffi-bindings in /usr/local/lib/python3.11/dist-packages (from argon2-cffi->notebook->jupyter==1.0.0->d2l==1.0.3) (21.2.0)\n",
            "Requirement already satisfied: soupsieve>1.2 in /usr/local/lib/python3.11/dist-packages (from beautifulsoup4->nbconvert->jupyter==1.0.0->d2l==1.0.3) (2.6)\n",
            "Requirement already satisfied: typing-extensions>=4.0.0 in /usr/local/lib/python3.11/dist-packages (from beautifulsoup4->nbconvert->jupyter==1.0.0->d2l==1.0.3) (4.12.2)\n",
            "Requirement already satisfied: parso<0.9.0,>=0.8.4 in /usr/local/lib/python3.11/dist-packages (from jedi>=0.16->ipython>=7.23.1->ipykernel->jupyter==1.0.0->d2l==1.0.3) (0.8.4)\n",
            "Requirement already satisfied: attrs>=22.2.0 in /usr/local/lib/python3.11/dist-packages (from jsonschema>=2.6->nbformat>=5.7->nbconvert->jupyter==1.0.0->d2l==1.0.3) (25.1.0)\n",
            "Requirement already satisfied: jsonschema-specifications>=2023.03.6 in /usr/local/lib/python3.11/dist-packages (from jsonschema>=2.6->nbformat>=5.7->nbconvert->jupyter==1.0.0->d2l==1.0.3) (2024.10.1)\n",
            "Requirement already satisfied: referencing>=0.28.4 in /usr/local/lib/python3.11/dist-packages (from jsonschema>=2.6->nbformat>=5.7->nbconvert->jupyter==1.0.0->d2l==1.0.3) (0.36.2)\n",
            "Requirement already satisfied: rpds-py>=0.7.1 in /usr/local/lib/python3.11/dist-packages (from jsonschema>=2.6->nbformat>=5.7->nbconvert->jupyter==1.0.0->d2l==1.0.3) (0.22.3)\n",
            "Requirement already satisfied: jupyter-server<3,>=1.8 in /usr/local/lib/python3.11/dist-packages (from notebook-shim>=0.2.3->nbclassic>=0.4.7->notebook->jupyter==1.0.0->d2l==1.0.3) (1.24.0)\n",
            "Requirement already satisfied: cffi>=1.0.1 in /usr/local/lib/python3.11/dist-packages (from argon2-cffi-bindings->argon2-cffi->notebook->jupyter==1.0.0->d2l==1.0.3) (1.17.1)\n",
            "Requirement already satisfied: pycparser in /usr/local/lib/python3.11/dist-packages (from cffi>=1.0.1->argon2-cffi-bindings->argon2-cffi->notebook->jupyter==1.0.0->d2l==1.0.3) (2.22)\n",
            "Requirement already satisfied: anyio<4,>=3.1.0 in /usr/local/lib/python3.11/dist-packages (from jupyter-server<3,>=1.8->notebook-shim>=0.2.3->nbclassic>=0.4.7->notebook->jupyter==1.0.0->d2l==1.0.3) (3.7.1)\n",
            "Requirement already satisfied: websocket-client in /usr/local/lib/python3.11/dist-packages (from jupyter-server<3,>=1.8->notebook-shim>=0.2.3->nbclassic>=0.4.7->notebook->jupyter==1.0.0->d2l==1.0.3) (1.8.0)\n",
            "Requirement already satisfied: sniffio>=1.1 in /usr/local/lib/python3.11/dist-packages (from anyio<4,>=3.1.0->jupyter-server<3,>=1.8->notebook-shim>=0.2.3->nbclassic>=0.4.7->notebook->jupyter==1.0.0->d2l==1.0.3) (1.3.1)\n",
            "Downloading d2l-1.0.3-py3-none-any.whl (111 kB)\n",
            "\u001b[2K   \u001b[90m━━━━━━━━━━━━━━━━━━━━━━━━━━━━━━━━━━━━━━━━\u001b[0m \u001b[32m111.7/111.7 kB\u001b[0m \u001b[31m5.5 MB/s\u001b[0m eta \u001b[36m0:00:00\u001b[0m\n",
            "\u001b[?25hDownloading jupyter-1.0.0-py2.py3-none-any.whl (2.7 kB)\n",
            "Downloading matplotlib-3.7.2-cp311-cp311-manylinux_2_17_x86_64.manylinux2014_x86_64.whl (11.6 MB)\n",
            "\u001b[2K   \u001b[90m━━━━━━━━━━━━━━━━━━━━━━━━━━━━━━━━━━━━━━━━\u001b[0m \u001b[32m11.6/11.6 MB\u001b[0m \u001b[31m18.3 MB/s\u001b[0m eta \u001b[36m0:00:00\u001b[0m\n",
            "\u001b[?25hDownloading matplotlib_inline-0.1.6-py3-none-any.whl (9.4 kB)\n",
            "Downloading numpy-1.23.5-cp311-cp311-manylinux_2_17_x86_64.manylinux2014_x86_64.whl (17.1 MB)\n",
            "\u001b[2K   \u001b[90m━━━━━━━━━━━━━━━━━━━━━━━━━━━━━━━━━━━━━━━━\u001b[0m \u001b[32m17.1/17.1 MB\u001b[0m \u001b[31m23.5 MB/s\u001b[0m eta \u001b[36m0:00:00\u001b[0m\n",
            "\u001b[?25hDownloading pandas-2.0.3-cp311-cp311-manylinux_2_17_x86_64.manylinux2014_x86_64.whl (12.2 MB)\n",
            "\u001b[2K   \u001b[90m━━━━━━━━━━━━━━━━━━━━━━━━━━━━━━━━━━━━━━━━\u001b[0m \u001b[32m12.2/12.2 MB\u001b[0m \u001b[31m68.6 MB/s\u001b[0m eta \u001b[36m0:00:00\u001b[0m\n",
            "\u001b[?25hDownloading requests-2.31.0-py3-none-any.whl (62 kB)\n",
            "\u001b[2K   \u001b[90m━━━━━━━━━━━━━━━━━━━━━━━━━━━━━━━━━━━━━━━━\u001b[0m \u001b[32m62.6/62.6 kB\u001b[0m \u001b[31m4.8 MB/s\u001b[0m eta \u001b[36m0:00:00\u001b[0m\n",
            "\u001b[?25hDownloading scipy-1.10.1-cp311-cp311-manylinux_2_17_x86_64.manylinux2014_x86_64.whl (34.1 MB)\n",
            "\u001b[2K   \u001b[90m━━━━━━━━━━━━━━━━━━━━━━━━━━━━━━━━━━━━━━━━\u001b[0m \u001b[32m34.1/34.1 MB\u001b[0m \u001b[31m15.6 MB/s\u001b[0m eta \u001b[36m0:00:00\u001b[0m\n",
            "\u001b[?25hDownloading pyparsing-3.0.9-py3-none-any.whl (98 kB)\n",
            "\u001b[2K   \u001b[90m━━━━━━━━━━━━━━━━━━━━━━━━━━━━━━━━━━━━━━━━\u001b[0m \u001b[32m98.3/98.3 kB\u001b[0m \u001b[31m5.8 MB/s\u001b[0m eta \u001b[36m0:00:00\u001b[0m\n",
            "\u001b[?25hDownloading qtconsole-5.6.1-py3-none-any.whl (125 kB)\n",
            "\u001b[2K   \u001b[90m━━━━━━━━━━━━━━━━━━━━━━━━━━━━━━━━━━━━━━━━\u001b[0m \u001b[32m125.0/125.0 kB\u001b[0m \u001b[31m11.4 MB/s\u001b[0m eta \u001b[36m0:00:00\u001b[0m\n",
            "\u001b[?25hDownloading QtPy-2.4.3-py3-none-any.whl (95 kB)\n",
            "\u001b[2K   \u001b[90m━━━━━━━━━━━━━━━━━━━━━━━━━━━━━━━━━━━━━━━━\u001b[0m \u001b[32m95.0/95.0 kB\u001b[0m \u001b[31m8.1 MB/s\u001b[0m eta \u001b[36m0:00:00\u001b[0m\n",
            "\u001b[?25hDownloading jedi-0.19.2-py2.py3-none-any.whl (1.6 MB)\n",
            "\u001b[2K   \u001b[90m━━━━━━━━━━━━━━━━━━━━━━━━━━━━━━━━━━━━━━━━\u001b[0m \u001b[32m1.6/1.6 MB\u001b[0m \u001b[31m67.3 MB/s\u001b[0m eta \u001b[36m0:00:00\u001b[0m\n",
            "\u001b[?25hInstalling collected packages: requests, qtpy, pyparsing, numpy, matplotlib-inline, jedi, scipy, pandas, matplotlib, qtconsole, jupyter, d2l\n",
            "  Attempting uninstall: requests\n",
            "    Found existing installation: requests 2.32.3\n",
            "    Uninstalling requests-2.32.3:\n",
            "      Successfully uninstalled requests-2.32.3\n",
            "  Attempting uninstall: pyparsing\n",
            "    Found existing installation: pyparsing 3.2.1\n",
            "    Uninstalling pyparsing-3.2.1:\n",
            "      Successfully uninstalled pyparsing-3.2.1\n",
            "  Attempting uninstall: numpy\n",
            "    Found existing installation: numpy 1.26.4\n",
            "    Uninstalling numpy-1.26.4:\n",
            "      Successfully uninstalled numpy-1.26.4\n",
            "  Attempting uninstall: matplotlib-inline\n",
            "    Found existing installation: matplotlib-inline 0.1.7\n",
            "    Uninstalling matplotlib-inline-0.1.7:\n",
            "      Successfully uninstalled matplotlib-inline-0.1.7\n",
            "  Attempting uninstall: scipy\n",
            "    Found existing installation: scipy 1.13.1\n",
            "    Uninstalling scipy-1.13.1:\n",
            "      Successfully uninstalled scipy-1.13.1\n",
            "  Attempting uninstall: pandas\n",
            "    Found existing installation: pandas 2.2.2\n",
            "    Uninstalling pandas-2.2.2:\n",
            "      Successfully uninstalled pandas-2.2.2\n",
            "  Attempting uninstall: matplotlib\n",
            "    Found existing installation: matplotlib 3.10.0\n",
            "    Uninstalling matplotlib-3.10.0:\n",
            "      Successfully uninstalled matplotlib-3.10.0\n",
            "\u001b[31mERROR: pip's dependency resolver does not currently take into account all the packages that are installed. This behaviour is the source of the following dependency conflicts.\n",
            "google-colab 1.0.0 requires pandas==2.2.2, but you have pandas 2.0.3 which is incompatible.\n",
            "google-colab 1.0.0 requires requests==2.32.3, but you have requests 2.31.0 which is incompatible.\n",
            "imbalanced-learn 0.13.0 requires numpy<3,>=1.24.3, but you have numpy 1.23.5 which is incompatible.\n",
            "langchain 0.3.18 requires numpy<2,>=1.26.4; python_version < \"3.12\", but you have numpy 1.23.5 which is incompatible.\n",
            "albucore 0.0.23 requires numpy>=1.24.4, but you have numpy 1.23.5 which is incompatible.\n",
            "scikit-image 0.25.1 requires numpy>=1.24, but you have numpy 1.23.5 which is incompatible.\n",
            "scikit-image 0.25.1 requires scipy>=1.11.2, but you have scipy 1.10.1 which is incompatible.\n",
            "xarray 2025.1.2 requires numpy>=1.24, but you have numpy 1.23.5 which is incompatible.\n",
            "xarray 2025.1.2 requires pandas>=2.1, but you have pandas 2.0.3 which is incompatible.\n",
            "mizani 0.13.1 requires pandas>=2.2.0, but you have pandas 2.0.3 which is incompatible.\n",
            "tensorflow 2.18.0 requires numpy<2.1.0,>=1.26.0, but you have numpy 1.23.5 which is incompatible.\n",
            "treescope 0.1.8 requires numpy>=1.25.2, but you have numpy 1.23.5 which is incompatible.\n",
            "jax 0.4.33 requires numpy>=1.24, but you have numpy 1.23.5 which is incompatible.\n",
            "albumentations 2.0.4 requires numpy>=1.24.4, but you have numpy 1.23.5 which is incompatible.\n",
            "bigframes 1.36.0 requires numpy>=1.24.0, but you have numpy 1.23.5 which is incompatible.\n",
            "numba 0.61.0 requires numpy<2.2,>=1.24, but you have numpy 1.23.5 which is incompatible.\n",
            "chex 0.1.88 requires numpy>=1.24.1, but you have numpy 1.23.5 which is incompatible.\n",
            "jaxlib 0.4.33 requires numpy>=1.24, but you have numpy 1.23.5 which is incompatible.\n",
            "pymc 5.20.1 requires numpy>=1.25.0, but you have numpy 1.23.5 which is incompatible.\n",
            "plotnine 0.14.5 requires matplotlib>=3.8.0, but you have matplotlib 3.7.2 which is incompatible.\n",
            "plotnine 0.14.5 requires pandas>=2.2.0, but you have pandas 2.0.3 which is incompatible.\n",
            "blosc2 3.1.0 requires numpy>=1.25.0, but you have numpy 1.23.5 which is incompatible.\u001b[0m\u001b[31m\n",
            "\u001b[0mSuccessfully installed d2l-1.0.3 jedi-0.19.2 jupyter-1.0.0 matplotlib-3.7.2 matplotlib-inline-0.1.6 numpy-1.23.5 pandas-2.0.3 pyparsing-3.0.9 qtconsole-5.6.1 qtpy-2.4.3 requests-2.31.0 scipy-1.10.1\n"
          ]
        },
        {
          "output_type": "display_data",
          "data": {
            "application/vnd.colab-display-data+json": {
              "pip_warning": {
                "packages": [
                  "matplotlib",
                  "matplotlib_inline",
                  "mpl_toolkits",
                  "numpy"
                ]
              },
              "id": "38aac167744b449c928da674599b22a2"
            }
          },
          "metadata": {}
        }
      ],
      "source": [
        "!pip install d2l==1.0.3\n"
      ]
    },
    {
      "cell_type": "markdown",
      "id": "71e739d3",
      "metadata": {
        "origin_pos": 1,
        "id": "71e739d3"
      },
      "source": [
        "# Machine Translation and the Dataset\n",
        ":label:`sec_machine_translation`\n",
        "\n",
        "Among the major breakthroughs that prompted\n",
        "widespread interest in modern RNNs\n",
        "was a major advance in the applied field of\n",
        "statistical  *machine translation*.\n",
        "Here, the model is presented with a sentence in one language\n",
        "and must predict the corresponding sentence in another.\n",
        "Note that here the sentences may be of different lengths,\n",
        "and that corresponding words in the two sentences\n",
        "may not occur in the same order,\n",
        "owing to differences\n",
        "in the two language's grammatical structure.\n",
        "\n",
        "\n",
        "Many problems have this flavor of mapping\n",
        "between two such \"unaligned\" sequences.\n",
        "Examples include mapping\n",
        "from dialog prompts to replies\n",
        "or from questions to answers.\n",
        "Broadly, such problems are called\n",
        "*sequence-to-sequence* (seq2seq) problems\n",
        "and they are our focus for\n",
        "both the remainder of this chapter\n",
        "and much of :numref:`chap_attention-and-transformers`.\n",
        "\n",
        "In this section, we introduce the machine translation problem\n",
        "and an example dataset that we will use in the subsequent examples.\n",
        "For decades, statistical formulations of translation between languages\n",
        "had been popular :cite:`Brown.Cocke.Della-Pietra.ea.1988,Brown.Cocke.Della-Pietra.ea.1990`,\n",
        "even before researchers got neural network approaches working\n",
        "(methods were often lumped together under the term *neural machine translation*).\n",
        "\n",
        "\n",
        "First we will need some new code to process our data.\n",
        "Unlike the language modeling that we saw in :numref:`sec_language-model`,\n",
        "here each example consists of two separate text sequences,\n",
        "one in the source language and another (the translation) in the target language.\n",
        "The following code snippets will show how\n",
        "to load the preprocessed data into minibatches for training.\n"
      ]
    },
    {
      "cell_type": "code",
      "execution_count": 1,
      "id": "1af4809f",
      "metadata": {
        "attributes": {
          "classes": [],
          "id": "",
          "n": "3"
        },
        "execution": {
          "iopub.execute_input": "2023-08-18T19:25:35.594366Z",
          "iopub.status.busy": "2023-08-18T19:25:35.593736Z",
          "iopub.status.idle": "2023-08-18T19:25:38.332100Z",
          "shell.execute_reply": "2023-08-18T19:25:38.330551Z"
        },
        "origin_pos": 3,
        "tab": [
          "pytorch"
        ],
        "id": "1af4809f"
      },
      "outputs": [],
      "source": [
        "import os\n",
        "import torch\n",
        "from d2l import torch as d2l\n",
        "from torch import nn\n",
        "import collections\n",
        "import math\n",
        "from torch.nn import functional as F\n"
      ]
    },
    {
      "cell_type": "markdown",
      "id": "8c65b7f8",
      "metadata": {
        "origin_pos": 6,
        "id": "8c65b7f8"
      },
      "source": [
        "## [**Downloading and Preprocessing the Dataset**]\n",
        "\n",
        "To begin, we download an English--French dataset\n",
        "that consists of [bilingual sentence pairs from the Tatoeba Project](http://www.manythings.org/anki/).\n",
        "Each line in the dataset is a tab-delimited pair\n",
        "consisting of an English text sequence (the *source*)\n",
        "and the translated French text sequence (the *target*).\n",
        "Note that each text sequence\n",
        "can be just one sentence,\n",
        "or a paragraph of multiple sentences.\n"
      ]
    },
    {
      "cell_type": "code",
      "execution_count": 8,
      "id": "01ae73e6",
      "metadata": {
        "attributes": {
          "classes": [],
          "id": "",
          "n": "5"
        },
        "execution": {
          "iopub.execute_input": "2023-08-18T19:25:38.337163Z",
          "iopub.status.busy": "2023-08-18T19:25:38.336114Z",
          "iopub.status.idle": "2023-08-18T19:25:38.343873Z",
          "shell.execute_reply": "2023-08-18T19:25:38.342658Z"
        },
        "origin_pos": 7,
        "tab": [
          "pytorch"
        ],
        "id": "01ae73e6"
      },
      "outputs": [],
      "source": [
        "class MTFinEng(d2l.DataModule):\n",
        "    \"\"\"The English-French dataset.\"\"\"\n",
        "    def __init__(self, data_filepath, *args, **kwargs):\n",
        "        super().__init__(*args, **kwargs)\n",
        "        self.data_filepath = data_filepath\n",
        "\n",
        "    def _download(self):\n",
        "      with open(self.data_filepath, encoding='utf-8') as f:\n",
        "          return f.read()"
      ]
    },
    {
      "cell_type": "code",
      "execution_count": 10,
      "id": "0c27fc69",
      "metadata": {
        "execution": {
          "iopub.execute_input": "2023-08-18T19:25:38.347854Z",
          "iopub.status.busy": "2023-08-18T19:25:38.347146Z",
          "iopub.status.idle": "2023-08-18T19:25:38.705705Z",
          "shell.execute_reply": "2023-08-18T19:25:38.704813Z"
        },
        "origin_pos": 8,
        "tab": [
          "pytorch"
        ],
        "id": "0c27fc69",
        "outputId": "7f1e4143-7179-4784-8d3c-0e2944f4aedc",
        "colab": {
          "base_uri": "https://localhost:8080/",
          "height": 280
        }
      },
      "outputs": [
        {
          "output_type": "error",
          "ename": "FileNotFoundError",
          "evalue": "[Errno 2] No such file or directory: 'C:/MyTemp/fin-eng/fin.txt'",
          "traceback": [
            "\u001b[0;31m---------------------------------------------------------------------------\u001b[0m",
            "\u001b[0;31mFileNotFoundError\u001b[0m                         Traceback (most recent call last)",
            "\u001b[0;32m<ipython-input-10-81f611cb4327>\u001b[0m in \u001b[0;36m<cell line: 0>\u001b[0;34m()\u001b[0m\n\u001b[1;32m      1\u001b[0m \u001b[0mdata\u001b[0m \u001b[0;34m=\u001b[0m \u001b[0mMTFinEng\u001b[0m\u001b[0;34m(\u001b[0m\u001b[0mdata_filepath\u001b[0m\u001b[0;34m=\u001b[0m\u001b[0;34m'C:/MyTemp/fin-eng/fin.txt'\u001b[0m\u001b[0;34m)\u001b[0m\u001b[0;34m\u001b[0m\u001b[0;34m\u001b[0m\u001b[0m\n\u001b[0;32m----> 2\u001b[0;31m \u001b[0mraw_text\u001b[0m \u001b[0;34m=\u001b[0m \u001b[0mdata\u001b[0m\u001b[0;34m.\u001b[0m\u001b[0m_download\u001b[0m\u001b[0;34m(\u001b[0m\u001b[0;34m)\u001b[0m\u001b[0;34m\u001b[0m\u001b[0;34m\u001b[0m\u001b[0m\n\u001b[0m\u001b[1;32m      3\u001b[0m \u001b[0mprint\u001b[0m\u001b[0;34m(\u001b[0m\u001b[0mraw_text\u001b[0m\u001b[0;34m[\u001b[0m\u001b[0;34m:\u001b[0m\u001b[0;36m75\u001b[0m\u001b[0;34m]\u001b[0m\u001b[0;34m)\u001b[0m\u001b[0;34m\u001b[0m\u001b[0;34m\u001b[0m\u001b[0m\n",
            "\u001b[0;32m<ipython-input-8-6ce9de3c0e24>\u001b[0m in \u001b[0;36m_download\u001b[0;34m(self)\u001b[0m\n\u001b[1;32m      6\u001b[0m \u001b[0;34m\u001b[0m\u001b[0m\n\u001b[1;32m      7\u001b[0m     \u001b[0;32mdef\u001b[0m \u001b[0m_download\u001b[0m\u001b[0;34m(\u001b[0m\u001b[0mself\u001b[0m\u001b[0;34m)\u001b[0m\u001b[0;34m:\u001b[0m\u001b[0;34m\u001b[0m\u001b[0;34m\u001b[0m\u001b[0m\n\u001b[0;32m----> 8\u001b[0;31m       \u001b[0;32mwith\u001b[0m \u001b[0mopen\u001b[0m\u001b[0;34m(\u001b[0m\u001b[0mself\u001b[0m\u001b[0;34m.\u001b[0m\u001b[0mdata_filepath\u001b[0m\u001b[0;34m,\u001b[0m \u001b[0mencoding\u001b[0m\u001b[0;34m=\u001b[0m\u001b[0;34m'utf-8'\u001b[0m\u001b[0;34m)\u001b[0m \u001b[0;32mas\u001b[0m \u001b[0mf\u001b[0m\u001b[0;34m:\u001b[0m\u001b[0;34m\u001b[0m\u001b[0;34m\u001b[0m\u001b[0m\n\u001b[0m\u001b[1;32m      9\u001b[0m           \u001b[0;32mreturn\u001b[0m \u001b[0mf\u001b[0m\u001b[0;34m.\u001b[0m\u001b[0mread\u001b[0m\u001b[0;34m(\u001b[0m\u001b[0;34m)\u001b[0m\u001b[0;34m\u001b[0m\u001b[0;34m\u001b[0m\u001b[0m\n",
            "\u001b[0;31mFileNotFoundError\u001b[0m: [Errno 2] No such file or directory: 'C:/MyTemp/fin-eng/fin.txt'"
          ]
        }
      ],
      "source": [
        "data = MTFinEng(data_filepath='C:/MyTemp/fin-eng/fin.txt')\n",
        "raw_text = data._download()\n",
        "print(raw_text[:75])"
      ]
    },
    {
      "cell_type": "markdown",
      "id": "00f26cb9",
      "metadata": {
        "origin_pos": 9,
        "id": "00f26cb9"
      },
      "source": [
        "After downloading the dataset,\n",
        "we [**proceed with several preprocessing steps**]\n",
        "for the raw text data.\n",
        "For instance, we replace non-breaking space with space,\n",
        "convert uppercase letters to lowercase ones,\n",
        "and insert space between words and punctuation marks.\n"
      ]
    },
    {
      "cell_type": "code",
      "execution_count": null,
      "id": "6b6ad92e",
      "metadata": {
        "attributes": {
          "classes": [],
          "id": "",
          "n": "6"
        },
        "execution": {
          "iopub.execute_input": "2023-08-18T19:25:38.709698Z",
          "iopub.status.busy": "2023-08-18T19:25:38.709111Z",
          "iopub.status.idle": "2023-08-18T19:25:38.714600Z",
          "shell.execute_reply": "2023-08-18T19:25:38.713784Z"
        },
        "origin_pos": 10,
        "tab": [
          "pytorch"
        ],
        "id": "6b6ad92e"
      },
      "outputs": [],
      "source": [
        "@d2l.add_to_class(MTFraEng)\n",
        "def _preprocess(self, text):\n",
        "    # Replace non-breaking space with space\n",
        "    text = text.replace('\\u202f', ' ').replace('\\xa0', ' ')\n",
        "    # Insert space between words and punctuation marks\n",
        "    no_space = lambda char, prev_char: char in ',.!?' and prev_char != ' '\n",
        "    out = [' ' + char if i > 0 and no_space(char, text[i - 1]) else char\n",
        "           for i, char in enumerate(text.lower())]\n",
        "    return ''.join(out)"
      ]
    },
    {
      "cell_type": "code",
      "execution_count": null,
      "id": "4a3c36d4",
      "metadata": {
        "execution": {
          "iopub.execute_input": "2023-08-18T19:25:38.717999Z",
          "iopub.status.busy": "2023-08-18T19:25:38.717445Z",
          "iopub.status.idle": "2023-08-18T19:25:41.820750Z",
          "shell.execute_reply": "2023-08-18T19:25:41.819869Z"
        },
        "origin_pos": 11,
        "tab": [
          "pytorch"
        ],
        "id": "4a3c36d4",
        "outputId": "7ddd8487-edb9-4e62-f278-600cc204801c",
        "colab": {
          "base_uri": "https://localhost:8080/"
        }
      },
      "outputs": [
        {
          "output_type": "stream",
          "name": "stdout",
          "text": [
            "go .\tva !\n",
            "hi .\tsalut !\n",
            "run !\tcours !\n",
            "run !\tcourez !\n",
            "who ?\tqui ?\n",
            "wow !\tça alors !\n"
          ]
        }
      ],
      "source": [
        "text = data._preprocess(raw_text)\n",
        "print(text[:80])"
      ]
    },
    {
      "cell_type": "markdown",
      "id": "a0beee60",
      "metadata": {
        "origin_pos": 12,
        "id": "a0beee60"
      },
      "source": [
        "## [**Tokenization**]\n",
        "\n",
        "Unlike the character-level tokenization\n",
        "in :numref:`sec_language-model`,\n",
        "for machine translation\n",
        "we prefer word-level tokenization here\n",
        "(today's state-of-the-art models use\n",
        "more complex tokenization techniques).\n",
        "The following `_tokenize` method\n",
        "tokenizes the first `max_examples` text sequence pairs,\n",
        "where each token is either a word or a punctuation mark.\n",
        "We append the special “&lt;eos&gt;” token\n",
        "to the end of every sequence to indicate the\n",
        "end of the sequence.\n",
        "When a model is predicting\n",
        "by generating a sequence token after token,\n",
        "the generation of the “&lt;eos&gt;” token\n",
        "can suggest that the output sequence is complete.\n",
        "In the end, the method below returns\n",
        "two lists of token lists: `src` and `tgt`.\n",
        "Specifically, `src[i]` is a list of tokens from the\n",
        "$i^\\textrm{th}$ text sequence in the source language (English here)\n",
        "and `tgt[i]` is that in the target language (French here).\n"
      ]
    },
    {
      "cell_type": "code",
      "execution_count": null,
      "id": "c1fdeb00",
      "metadata": {
        "attributes": {
          "classes": [],
          "id": "",
          "n": "7"
        },
        "execution": {
          "iopub.execute_input": "2023-08-18T19:25:41.824359Z",
          "iopub.status.busy": "2023-08-18T19:25:41.823783Z",
          "iopub.status.idle": "2023-08-18T19:25:41.829538Z",
          "shell.execute_reply": "2023-08-18T19:25:41.828715Z"
        },
        "origin_pos": 13,
        "tab": [
          "pytorch"
        ],
        "id": "c1fdeb00"
      },
      "outputs": [],
      "source": [
        "@d2l.add_to_class(MTFraEng)\n",
        "def _tokenize(self, text, max_examples=None):\n",
        "    src, tgt = [], []\n",
        "    for i, line in enumerate(text.split('\\n')):\n",
        "        if max_examples and i > max_examples: break\n",
        "        parts = line.split('\\t')\n",
        "        if len(parts) == 2:\n",
        "            # Skip empty tokens\n",
        "            src.append([t for t in f'{parts[0]} <eos>'.split(' ') if t])\n",
        "            tgt.append([t for t in f'{parts[1]} <eos>'.split(' ') if t])\n",
        "    return src, tgt"
      ]
    },
    {
      "cell_type": "code",
      "execution_count": null,
      "id": "3bedb46e",
      "metadata": {
        "execution": {
          "iopub.execute_input": "2023-08-18T19:25:41.833010Z",
          "iopub.status.busy": "2023-08-18T19:25:41.832457Z",
          "iopub.status.idle": "2023-08-18T19:25:43.340916Z",
          "shell.execute_reply": "2023-08-18T19:25:43.340019Z"
        },
        "origin_pos": 14,
        "tab": [
          "pytorch"
        ],
        "id": "3bedb46e",
        "outputId": "fd971a1b-7275-4cfd-ca91-f56c44b5cfab",
        "colab": {
          "base_uri": "https://localhost:8080/"
        }
      },
      "outputs": [
        {
          "output_type": "execute_result",
          "data": {
            "text/plain": [
              "([['go', '.', '<eos>'],\n",
              "  ['hi', '.', '<eos>'],\n",
              "  ['run', '!', '<eos>'],\n",
              "  ['run', '!', '<eos>'],\n",
              "  ['who', '?', '<eos>'],\n",
              "  ['wow', '!', '<eos>']],\n",
              " [['va', '!', '<eos>'],\n",
              "  ['salut', '!', '<eos>'],\n",
              "  ['cours', '!', '<eos>'],\n",
              "  ['courez', '!', '<eos>'],\n",
              "  ['qui', '?', '<eos>'],\n",
              "  ['ça', 'alors', '!', '<eos>']])"
            ]
          },
          "metadata": {},
          "execution_count": 7
        }
      ],
      "source": [
        "src, tgt = data._tokenize(text)\n",
        "src[:6], tgt[:6]"
      ]
    },
    {
      "cell_type": "markdown",
      "id": "3c8ca2e4",
      "metadata": {
        "origin_pos": 15,
        "id": "3c8ca2e4"
      },
      "source": [
        "Let's [**plot the histogram of the number of tokens per text sequence.**]\n",
        "In this simple English--French dataset,\n",
        "most of the text sequences have fewer than 20 tokens.\n"
      ]
    },
    {
      "cell_type": "code",
      "execution_count": null,
      "id": "016131fa",
      "metadata": {
        "attributes": {
          "classes": [],
          "id": "",
          "n": "8"
        },
        "execution": {
          "iopub.execute_input": "2023-08-18T19:25:43.344999Z",
          "iopub.status.busy": "2023-08-18T19:25:43.344240Z",
          "iopub.status.idle": "2023-08-18T19:25:43.350038Z",
          "shell.execute_reply": "2023-08-18T19:25:43.349161Z"
        },
        "origin_pos": 16,
        "tab": [
          "pytorch"
        ],
        "id": "016131fa"
      },
      "outputs": [],
      "source": [
        "def show_list_len_pair_hist(legend, xlabel, ylabel, xlist, ylist):\n",
        "    \"\"\"Plot the histogram for list length pairs.\"\"\"\n",
        "    d2l.set_figsize()\n",
        "    _, _, patches = d2l.plt.hist(\n",
        "        [[len(l) for l in xlist], [len(l) for l in ylist]])\n",
        "    d2l.plt.xlabel(xlabel)\n",
        "    d2l.plt.ylabel(ylabel)\n",
        "    for patch in patches[1].patches:\n",
        "        patch.set_hatch('/')\n",
        "    d2l.plt.legend(legend)"
      ]
    },
    {
      "cell_type": "code",
      "execution_count": null,
      "id": "b8fa90b4",
      "metadata": {
        "execution": {
          "iopub.execute_input": "2023-08-18T19:25:43.353348Z",
          "iopub.status.busy": "2023-08-18T19:25:43.352783Z",
          "iopub.status.idle": "2023-08-18T19:25:43.722959Z",
          "shell.execute_reply": "2023-08-18T19:25:43.722055Z"
        },
        "origin_pos": 17,
        "tab": [
          "pytorch"
        ],
        "id": "b8fa90b4",
        "outputId": "1b631082-a864-477f-9f57-f4c6060723b7",
        "colab": {
          "base_uri": "https://localhost:8080/",
          "height": 266
        }
      },
      "outputs": [
        {
          "output_type": "display_data",
          "data": {
            "text/plain": [
              "<Figure size 350x250 with 1 Axes>"
            ],
            "image/svg+xml": "<?xml version=\"1.0\" encoding=\"utf-8\" standalone=\"no\"?>\n<!DOCTYPE svg PUBLIC \"-//W3C//DTD SVG 1.1//EN\"\n  \"http://www.w3.org/Graphics/SVG/1.1/DTD/svg11.dtd\">\n<svg xmlns:xlink=\"http://www.w3.org/1999/xlink\" width=\"271.085198pt\" height=\"183.35625pt\" viewBox=\"0 0 271.085198 183.35625\" xmlns=\"http://www.w3.org/2000/svg\" version=\"1.1\">\n <metadata>\n  <rdf:RDF xmlns:dc=\"http://purl.org/dc/elements/1.1/\" xmlns:cc=\"http://creativecommons.org/ns#\" xmlns:rdf=\"http://www.w3.org/1999/02/22-rdf-syntax-ns#\">\n   <cc:Work>\n    <dc:type rdf:resource=\"http://purl.org/dc/dcmitype/StillImage\"/>\n    <dc:date>2025-02-18T11:31:53.300854</dc:date>\n    <dc:format>image/svg+xml</dc:format>\n    <dc:creator>\n     <cc:Agent>\n      <dc:title>Matplotlib v3.7.2, https://matplotlib.org/</dc:title>\n     </cc:Agent>\n    </dc:creator>\n   </cc:Work>\n  </rdf:RDF>\n </metadata>\n <defs>\n  <style type=\"text/css\">*{stroke-linejoin: round; stroke-linecap: butt}</style>\n </defs>\n <g id=\"figure_1\">\n  <g id=\"patch_1\">\n   <path d=\"M 0 183.35625 \nL 271.085198 183.35625 \nL 271.085198 0 \nL 0 0 \nz\n\" style=\"fill: #ffffff\"/>\n  </g>\n  <g id=\"axes_1\">\n   <g id=\"patch_2\">\n    <path d=\"M 66.053125 145.8 \nL 261.353125 145.8 \nL 261.353125 7.2 \nL 66.053125 7.2 \nz\n\" style=\"fill: #ffffff\"/>\n   </g>\n   <g id=\"patch_3\">\n    <path d=\"M 74.930398 145.8 \nL 82.177151 145.8 \nL 82.177151 13.8 \nL 74.930398 13.8 \nz\n\" clip-path=\"url(#p51fd9eefcb)\" style=\"fill: #1f77b4\"/>\n   </g>\n   <g id=\"patch_4\">\n    <path d=\"M 93.047281 145.8 \nL 100.294034 145.8 \nL 100.294034 70.342894 \nL 93.047281 70.342894 \nz\n\" clip-path=\"url(#p51fd9eefcb)\" style=\"fill: #1f77b4\"/>\n   </g>\n   <g id=\"patch_5\">\n    <path d=\"M 111.164164 145.8 \nL 118.410917 145.8 \nL 118.410917 141.170363 \nL 111.164164 141.170363 \nz\n\" clip-path=\"url(#p51fd9eefcb)\" style=\"fill: #1f77b4\"/>\n   </g>\n   <g id=\"patch_6\">\n    <path d=\"M 129.281047 145.8 \nL 136.5278 145.8 \nL 136.5278 145.34327 \nL 129.281047 145.34327 \nz\n\" clip-path=\"url(#p51fd9eefcb)\" style=\"fill: #1f77b4\"/>\n   </g>\n   <g id=\"patch_7\">\n    <path d=\"M 147.39793 145.8 \nL 154.644683 145.8 \nL 154.644683 145.744022 \nL 147.39793 145.744022 \nz\n\" clip-path=\"url(#p51fd9eefcb)\" style=\"fill: #1f77b4\"/>\n   </g>\n   <g id=\"patch_8\">\n    <path d=\"M 165.514813 145.8 \nL 172.761567 145.8 \nL 172.761567 145.783461 \nL 165.514813 145.783461 \nz\n\" clip-path=\"url(#p51fd9eefcb)\" style=\"fill: #1f77b4\"/>\n   </g>\n   <g id=\"patch_9\">\n    <path d=\"M 183.631696 145.8 \nL 190.87845 145.8 \nL 190.87845 145.792367 \nL 183.631696 145.792367 \nz\n\" clip-path=\"url(#p51fd9eefcb)\" style=\"fill: #1f77b4\"/>\n   </g>\n   <g id=\"patch_10\">\n    <path d=\"M 201.74858 145.8 \nL 208.995333 145.8 \nL 208.995333 145.798728 \nL 201.74858 145.798728 \nz\n\" clip-path=\"url(#p51fd9eefcb)\" style=\"fill: #1f77b4\"/>\n   </g>\n   <g id=\"patch_11\">\n    <path d=\"M 219.865463 145.8 \nL 227.112216 145.8 \nL 227.112216 145.797456 \nL 219.865463 145.797456 \nz\n\" clip-path=\"url(#p51fd9eefcb)\" style=\"fill: #1f77b4\"/>\n   </g>\n   <g id=\"patch_12\">\n    <path d=\"M 237.982346 145.8 \nL 245.229099 145.8 \nL 245.229099 145.8 \nL 237.982346 145.8 \nz\n\" clip-path=\"url(#p51fd9eefcb)\" style=\"fill: #1f77b4\"/>\n   </g>\n   <g id=\"patch_13\">\n    <path d=\"M 82.177151 145.8 \nL 89.423904 145.8 \nL 89.423904 26.776724 \nL 82.177151 26.776724 \nz\n\" clip-path=\"url(#p51fd9eefcb)\" style=\"fill: url(#h2e9679c1c0)\"/>\n   </g>\n   <g id=\"patch_14\">\n    <path d=\"M 100.294034 145.8 \nL 107.540787 145.8 \nL 107.540787 60.494579 \nL 100.294034 60.494579 \nz\n\" clip-path=\"url(#p51fd9eefcb)\" style=\"fill: url(#h2e9679c1c0)\"/>\n   </g>\n   <g id=\"patch_15\">\n    <path d=\"M 118.410917 145.8 \nL 125.65767 145.8 \nL 125.65767 138.604279 \nL 118.410917 138.604279 \nz\n\" clip-path=\"url(#p51fd9eefcb)\" style=\"fill: url(#h2e9679c1c0)\"/>\n   </g>\n   <g id=\"patch_16\">\n    <path d=\"M 136.5278 145.8 \nL 143.774554 145.8 \nL 143.774554 144.858551 \nL 136.5278 144.858551 \nz\n\" clip-path=\"url(#p51fd9eefcb)\" style=\"fill: url(#h2e9679c1c0)\"/>\n   </g>\n   <g id=\"patch_17\">\n    <path d=\"M 154.644683 145.8 \nL 161.891437 145.8 \nL 161.891437 145.691861 \nL 154.644683 145.691861 \nz\n\" clip-path=\"url(#p51fd9eefcb)\" style=\"fill: url(#h2e9679c1c0)\"/>\n   </g>\n   <g id=\"patch_18\">\n    <path d=\"M 172.761567 145.8 \nL 180.00832 145.8 \nL 180.00832 145.758016 \nL 172.761567 145.758016 \nz\n\" clip-path=\"url(#p51fd9eefcb)\" style=\"fill: url(#h2e9679c1c0)\"/>\n   </g>\n   <g id=\"patch_19\">\n    <path d=\"M 190.87845 145.8 \nL 198.125203 145.8 \nL 198.125203 145.797456 \nL 190.87845 145.797456 \nz\n\" clip-path=\"url(#p51fd9eefcb)\" style=\"fill: url(#h2e9679c1c0)\"/>\n   </g>\n   <g id=\"patch_20\">\n    <path d=\"M 208.995333 145.8 \nL 216.242086 145.8 \nL 216.242086 145.797456 \nL 208.995333 145.797456 \nz\n\" clip-path=\"url(#p51fd9eefcb)\" style=\"fill: url(#h2e9679c1c0)\"/>\n   </g>\n   <g id=\"patch_21\">\n    <path d=\"M 227.112216 145.8 \nL 234.358969 145.8 \nL 234.358969 145.797456 \nL 227.112216 145.797456 \nz\n\" clip-path=\"url(#p51fd9eefcb)\" style=\"fill: url(#h2e9679c1c0)\"/>\n   </g>\n   <g id=\"patch_22\">\n    <path d=\"M 245.229099 145.8 \nL 252.475852 145.8 \nL 252.475852 145.796183 \nL 245.229099 145.796183 \nz\n\" clip-path=\"url(#p51fd9eefcb)\" style=\"fill: url(#h2e9679c1c0)\"/>\n   </g>\n   <g id=\"matplotlib.axis_1\">\n    <g id=\"xtick_1\">\n     <g id=\"line2d_1\">\n      <defs>\n       <path id=\"m5071349b38\" d=\"M 0 0 \nL 0 3.5 \n\" style=\"stroke: #000000; stroke-width: 0.8\"/>\n      </defs>\n      <g>\n       <use xlink:href=\"#m5071349b38\" x=\"128.11639\" y=\"145.8\" style=\"stroke: #000000; stroke-width: 0.8\"/>\n      </g>\n     </g>\n     <g id=\"text_1\">\n      <!-- 20 -->\n      <g transform=\"translate(121.75389 160.398438) scale(0.1 -0.1)\">\n       <defs>\n        <path id=\"DejaVuSans-32\" d=\"M 1228 531 \nL 3431 531 \nL 3431 0 \nL 469 0 \nL 469 531 \nQ 828 903 1448 1529 \nQ 2069 2156 2228 2338 \nQ 2531 2678 2651 2914 \nQ 2772 3150 2772 3378 \nQ 2772 3750 2511 3984 \nQ 2250 4219 1831 4219 \nQ 1534 4219 1204 4116 \nQ 875 4013 500 3803 \nL 500 4441 \nQ 881 4594 1212 4672 \nQ 1544 4750 1819 4750 \nQ 2544 4750 2975 4387 \nQ 3406 4025 3406 3419 \nQ 3406 3131 3298 2873 \nQ 3191 2616 2906 2266 \nQ 2828 2175 2409 1742 \nQ 1991 1309 1228 531 \nz\n\" transform=\"scale(0.015625)\"/>\n        <path id=\"DejaVuSans-30\" d=\"M 2034 4250 \nQ 1547 4250 1301 3770 \nQ 1056 3291 1056 2328 \nQ 1056 1369 1301 889 \nQ 1547 409 2034 409 \nQ 2525 409 2770 889 \nQ 3016 1369 3016 2328 \nQ 3016 3291 2770 3770 \nQ 2525 4250 2034 4250 \nz\nM 2034 4750 \nQ 2819 4750 3233 4129 \nQ 3647 3509 3647 2328 \nQ 3647 1150 3233 529 \nQ 2819 -91 2034 -91 \nQ 1250 -91 836 529 \nQ 422 1150 422 2328 \nQ 422 3509 836 4129 \nQ 1250 4750 2034 4750 \nz\n\" transform=\"scale(0.015625)\"/>\n       </defs>\n       <use xlink:href=\"#DejaVuSans-32\"/>\n       <use xlink:href=\"#DejaVuSans-30\" x=\"63.623047\"/>\n      </g>\n     </g>\n    </g>\n    <g id=\"xtick_2\">\n     <g id=\"line2d_2\">\n      <g>\n       <use xlink:href=\"#m5071349b38\" x=\"192.819544\" y=\"145.8\" style=\"stroke: #000000; stroke-width: 0.8\"/>\n      </g>\n     </g>\n     <g id=\"text_2\">\n      <!-- 40 -->\n      <g transform=\"translate(186.457044 160.398438) scale(0.1 -0.1)\">\n       <defs>\n        <path id=\"DejaVuSans-34\" d=\"M 2419 4116 \nL 825 1625 \nL 2419 1625 \nL 2419 4116 \nz\nM 2253 4666 \nL 3047 4666 \nL 3047 1625 \nL 3713 1625 \nL 3713 1100 \nL 3047 1100 \nL 3047 0 \nL 2419 0 \nL 2419 1100 \nL 313 1100 \nL 313 1709 \nL 2253 4666 \nz\n\" transform=\"scale(0.015625)\"/>\n       </defs>\n       <use xlink:href=\"#DejaVuSans-34\"/>\n       <use xlink:href=\"#DejaVuSans-30\" x=\"63.623047\"/>\n      </g>\n     </g>\n    </g>\n    <g id=\"xtick_3\">\n     <g id=\"line2d_3\">\n      <g>\n       <use xlink:href=\"#m5071349b38\" x=\"257.522698\" y=\"145.8\" style=\"stroke: #000000; stroke-width: 0.8\"/>\n      </g>\n     </g>\n     <g id=\"text_3\">\n      <!-- 60 -->\n      <g transform=\"translate(251.160198 160.398438) scale(0.1 -0.1)\">\n       <defs>\n        <path id=\"DejaVuSans-36\" d=\"M 2113 2584 \nQ 1688 2584 1439 2293 \nQ 1191 2003 1191 1497 \nQ 1191 994 1439 701 \nQ 1688 409 2113 409 \nQ 2538 409 2786 701 \nQ 3034 994 3034 1497 \nQ 3034 2003 2786 2293 \nQ 2538 2584 2113 2584 \nz\nM 3366 4563 \nL 3366 3988 \nQ 3128 4100 2886 4159 \nQ 2644 4219 2406 4219 \nQ 1781 4219 1451 3797 \nQ 1122 3375 1075 2522 \nQ 1259 2794 1537 2939 \nQ 1816 3084 2150 3084 \nQ 2853 3084 3261 2657 \nQ 3669 2231 3669 1497 \nQ 3669 778 3244 343 \nQ 2819 -91 2113 -91 \nQ 1303 -91 875 529 \nQ 447 1150 447 2328 \nQ 447 3434 972 4092 \nQ 1497 4750 2381 4750 \nQ 2619 4750 2861 4703 \nQ 3103 4656 3366 4563 \nz\n\" transform=\"scale(0.015625)\"/>\n       </defs>\n       <use xlink:href=\"#DejaVuSans-36\"/>\n       <use xlink:href=\"#DejaVuSans-30\" x=\"63.623047\"/>\n      </g>\n     </g>\n    </g>\n    <g id=\"text_4\">\n     <!-- # tokens per sequence -->\n     <g transform=\"translate(105.760937 174.076563) scale(0.1 -0.1)\">\n      <defs>\n       <path id=\"DejaVuSans-23\" d=\"M 3272 2816 \nL 2363 2816 \nL 2100 1772 \nL 3016 1772 \nL 3272 2816 \nz\nM 2803 4594 \nL 2478 3297 \nL 3391 3297 \nL 3719 4594 \nL 4219 4594 \nL 3897 3297 \nL 4872 3297 \nL 4872 2816 \nL 3775 2816 \nL 3519 1772 \nL 4513 1772 \nL 4513 1294 \nL 3397 1294 \nL 3072 0 \nL 2572 0 \nL 2894 1294 \nL 1978 1294 \nL 1656 0 \nL 1153 0 \nL 1478 1294 \nL 494 1294 \nL 494 1772 \nL 1594 1772 \nL 1856 2816 \nL 850 2816 \nL 850 3297 \nL 1978 3297 \nL 2297 4594 \nL 2803 4594 \nz\n\" transform=\"scale(0.015625)\"/>\n       <path id=\"DejaVuSans-20\" transform=\"scale(0.015625)\"/>\n       <path id=\"DejaVuSans-74\" d=\"M 1172 4494 \nL 1172 3500 \nL 2356 3500 \nL 2356 3053 \nL 1172 3053 \nL 1172 1153 \nQ 1172 725 1289 603 \nQ 1406 481 1766 481 \nL 2356 481 \nL 2356 0 \nL 1766 0 \nQ 1100 0 847 248 \nQ 594 497 594 1153 \nL 594 3053 \nL 172 3053 \nL 172 3500 \nL 594 3500 \nL 594 4494 \nL 1172 4494 \nz\n\" transform=\"scale(0.015625)\"/>\n       <path id=\"DejaVuSans-6f\" d=\"M 1959 3097 \nQ 1497 3097 1228 2736 \nQ 959 2375 959 1747 \nQ 959 1119 1226 758 \nQ 1494 397 1959 397 \nQ 2419 397 2687 759 \nQ 2956 1122 2956 1747 \nQ 2956 2369 2687 2733 \nQ 2419 3097 1959 3097 \nz\nM 1959 3584 \nQ 2709 3584 3137 3096 \nQ 3566 2609 3566 1747 \nQ 3566 888 3137 398 \nQ 2709 -91 1959 -91 \nQ 1206 -91 779 398 \nQ 353 888 353 1747 \nQ 353 2609 779 3096 \nQ 1206 3584 1959 3584 \nz\n\" transform=\"scale(0.015625)\"/>\n       <path id=\"DejaVuSans-6b\" d=\"M 581 4863 \nL 1159 4863 \nL 1159 1991 \nL 2875 3500 \nL 3609 3500 \nL 1753 1863 \nL 3688 0 \nL 2938 0 \nL 1159 1709 \nL 1159 0 \nL 581 0 \nL 581 4863 \nz\n\" transform=\"scale(0.015625)\"/>\n       <path id=\"DejaVuSans-65\" d=\"M 3597 1894 \nL 3597 1613 \nL 953 1613 \nQ 991 1019 1311 708 \nQ 1631 397 2203 397 \nQ 2534 397 2845 478 \nQ 3156 559 3463 722 \nL 3463 178 \nQ 3153 47 2828 -22 \nQ 2503 -91 2169 -91 \nQ 1331 -91 842 396 \nQ 353 884 353 1716 \nQ 353 2575 817 3079 \nQ 1281 3584 2069 3584 \nQ 2775 3584 3186 3129 \nQ 3597 2675 3597 1894 \nz\nM 3022 2063 \nQ 3016 2534 2758 2815 \nQ 2500 3097 2075 3097 \nQ 1594 3097 1305 2825 \nQ 1016 2553 972 2059 \nL 3022 2063 \nz\n\" transform=\"scale(0.015625)\"/>\n       <path id=\"DejaVuSans-6e\" d=\"M 3513 2113 \nL 3513 0 \nL 2938 0 \nL 2938 2094 \nQ 2938 2591 2744 2837 \nQ 2550 3084 2163 3084 \nQ 1697 3084 1428 2787 \nQ 1159 2491 1159 1978 \nL 1159 0 \nL 581 0 \nL 581 3500 \nL 1159 3500 \nL 1159 2956 \nQ 1366 3272 1645 3428 \nQ 1925 3584 2291 3584 \nQ 2894 3584 3203 3211 \nQ 3513 2838 3513 2113 \nz\n\" transform=\"scale(0.015625)\"/>\n       <path id=\"DejaVuSans-73\" d=\"M 2834 3397 \nL 2834 2853 \nQ 2591 2978 2328 3040 \nQ 2066 3103 1784 3103 \nQ 1356 3103 1142 2972 \nQ 928 2841 928 2578 \nQ 928 2378 1081 2264 \nQ 1234 2150 1697 2047 \nL 1894 2003 \nQ 2506 1872 2764 1633 \nQ 3022 1394 3022 966 \nQ 3022 478 2636 193 \nQ 2250 -91 1575 -91 \nQ 1294 -91 989 -36 \nQ 684 19 347 128 \nL 347 722 \nQ 666 556 975 473 \nQ 1284 391 1588 391 \nQ 1994 391 2212 530 \nQ 2431 669 2431 922 \nQ 2431 1156 2273 1281 \nQ 2116 1406 1581 1522 \nL 1381 1569 \nQ 847 1681 609 1914 \nQ 372 2147 372 2553 \nQ 372 3047 722 3315 \nQ 1072 3584 1716 3584 \nQ 2034 3584 2315 3537 \nQ 2597 3491 2834 3397 \nz\n\" transform=\"scale(0.015625)\"/>\n       <path id=\"DejaVuSans-70\" d=\"M 1159 525 \nL 1159 -1331 \nL 581 -1331 \nL 581 3500 \nL 1159 3500 \nL 1159 2969 \nQ 1341 3281 1617 3432 \nQ 1894 3584 2278 3584 \nQ 2916 3584 3314 3078 \nQ 3713 2572 3713 1747 \nQ 3713 922 3314 415 \nQ 2916 -91 2278 -91 \nQ 1894 -91 1617 61 \nQ 1341 213 1159 525 \nz\nM 3116 1747 \nQ 3116 2381 2855 2742 \nQ 2594 3103 2138 3103 \nQ 1681 3103 1420 2742 \nQ 1159 2381 1159 1747 \nQ 1159 1113 1420 752 \nQ 1681 391 2138 391 \nQ 2594 391 2855 752 \nQ 3116 1113 3116 1747 \nz\n\" transform=\"scale(0.015625)\"/>\n       <path id=\"DejaVuSans-72\" d=\"M 2631 2963 \nQ 2534 3019 2420 3045 \nQ 2306 3072 2169 3072 \nQ 1681 3072 1420 2755 \nQ 1159 2438 1159 1844 \nL 1159 0 \nL 581 0 \nL 581 3500 \nL 1159 3500 \nL 1159 2956 \nQ 1341 3275 1631 3429 \nQ 1922 3584 2338 3584 \nQ 2397 3584 2469 3576 \nQ 2541 3569 2628 3553 \nL 2631 2963 \nz\n\" transform=\"scale(0.015625)\"/>\n       <path id=\"DejaVuSans-71\" d=\"M 947 1747 \nQ 947 1113 1208 752 \nQ 1469 391 1925 391 \nQ 2381 391 2643 752 \nQ 2906 1113 2906 1747 \nQ 2906 2381 2643 2742 \nQ 2381 3103 1925 3103 \nQ 1469 3103 1208 2742 \nQ 947 2381 947 1747 \nz\nM 2906 525 \nQ 2725 213 2448 61 \nQ 2172 -91 1784 -91 \nQ 1150 -91 751 415 \nQ 353 922 353 1747 \nQ 353 2572 751 3078 \nQ 1150 3584 1784 3584 \nQ 2172 3584 2448 3432 \nQ 2725 3281 2906 2969 \nL 2906 3500 \nL 3481 3500 \nL 3481 -1331 \nL 2906 -1331 \nL 2906 525 \nz\n\" transform=\"scale(0.015625)\"/>\n       <path id=\"DejaVuSans-75\" d=\"M 544 1381 \nL 544 3500 \nL 1119 3500 \nL 1119 1403 \nQ 1119 906 1312 657 \nQ 1506 409 1894 409 \nQ 2359 409 2629 706 \nQ 2900 1003 2900 1516 \nL 2900 3500 \nL 3475 3500 \nL 3475 0 \nL 2900 0 \nL 2900 538 \nQ 2691 219 2414 64 \nQ 2138 -91 1772 -91 \nQ 1169 -91 856 284 \nQ 544 659 544 1381 \nz\nM 1991 3584 \nL 1991 3584 \nz\n\" transform=\"scale(0.015625)\"/>\n       <path id=\"DejaVuSans-63\" d=\"M 3122 3366 \nL 3122 2828 \nQ 2878 2963 2633 3030 \nQ 2388 3097 2138 3097 \nQ 1578 3097 1268 2742 \nQ 959 2388 959 1747 \nQ 959 1106 1268 751 \nQ 1578 397 2138 397 \nQ 2388 397 2633 464 \nQ 2878 531 3122 666 \nL 3122 134 \nQ 2881 22 2623 -34 \nQ 2366 -91 2075 -91 \nQ 1284 -91 818 406 \nQ 353 903 353 1747 \nQ 353 2603 823 3093 \nQ 1294 3584 2113 3584 \nQ 2378 3584 2631 3529 \nQ 2884 3475 3122 3366 \nz\n\" transform=\"scale(0.015625)\"/>\n      </defs>\n      <use xlink:href=\"#DejaVuSans-23\"/>\n      <use xlink:href=\"#DejaVuSans-20\" x=\"83.789062\"/>\n      <use xlink:href=\"#DejaVuSans-74\" x=\"115.576172\"/>\n      <use xlink:href=\"#DejaVuSans-6f\" x=\"154.785156\"/>\n      <use xlink:href=\"#DejaVuSans-6b\" x=\"215.966797\"/>\n      <use xlink:href=\"#DejaVuSans-65\" x=\"270.251953\"/>\n      <use xlink:href=\"#DejaVuSans-6e\" x=\"331.775391\"/>\n      <use xlink:href=\"#DejaVuSans-73\" x=\"395.154297\"/>\n      <use xlink:href=\"#DejaVuSans-20\" x=\"447.253906\"/>\n      <use xlink:href=\"#DejaVuSans-70\" x=\"479.041016\"/>\n      <use xlink:href=\"#DejaVuSans-65\" x=\"542.517578\"/>\n      <use xlink:href=\"#DejaVuSans-72\" x=\"604.041016\"/>\n      <use xlink:href=\"#DejaVuSans-20\" x=\"645.154297\"/>\n      <use xlink:href=\"#DejaVuSans-73\" x=\"676.941406\"/>\n      <use xlink:href=\"#DejaVuSans-65\" x=\"729.041016\"/>\n      <use xlink:href=\"#DejaVuSans-71\" x=\"790.564453\"/>\n      <use xlink:href=\"#DejaVuSans-75\" x=\"854.041016\"/>\n      <use xlink:href=\"#DejaVuSans-65\" x=\"917.419922\"/>\n      <use xlink:href=\"#DejaVuSans-6e\" x=\"978.943359\"/>\n      <use xlink:href=\"#DejaVuSans-63\" x=\"1042.322266\"/>\n      <use xlink:href=\"#DejaVuSans-65\" x=\"1097.302734\"/>\n     </g>\n    </g>\n   </g>\n   <g id=\"matplotlib.axis_2\">\n    <g id=\"ytick_1\">\n     <g id=\"line2d_4\">\n      <defs>\n       <path id=\"md83ee8897d\" d=\"M 0 0 \nL -3.5 0 \n\" style=\"stroke: #000000; stroke-width: 0.8\"/>\n      </defs>\n      <g>\n       <use xlink:href=\"#md83ee8897d\" x=\"66.053125\" y=\"145.8\" style=\"stroke: #000000; stroke-width: 0.8\"/>\n      </g>\n     </g>\n     <g id=\"text_5\">\n      <!-- 0 -->\n      <g transform=\"translate(52.690625 149.599219) scale(0.1 -0.1)\">\n       <use xlink:href=\"#DejaVuSans-30\"/>\n      </g>\n     </g>\n    </g>\n    <g id=\"ytick_2\">\n     <g id=\"line2d_5\">\n      <g>\n       <use xlink:href=\"#md83ee8897d\" x=\"66.053125\" y=\"120.355443\" style=\"stroke: #000000; stroke-width: 0.8\"/>\n      </g>\n     </g>\n     <g id=\"text_6\">\n      <!-- 20000 -->\n      <g transform=\"translate(27.240625 124.154662) scale(0.1 -0.1)\">\n       <use xlink:href=\"#DejaVuSans-32\"/>\n       <use xlink:href=\"#DejaVuSans-30\" x=\"63.623047\"/>\n       <use xlink:href=\"#DejaVuSans-30\" x=\"127.246094\"/>\n       <use xlink:href=\"#DejaVuSans-30\" x=\"190.869141\"/>\n       <use xlink:href=\"#DejaVuSans-30\" x=\"254.492188\"/>\n      </g>\n     </g>\n    </g>\n    <g id=\"ytick_3\">\n     <g id=\"line2d_6\">\n      <g>\n       <use xlink:href=\"#md83ee8897d\" x=\"66.053125\" y=\"94.910886\" style=\"stroke: #000000; stroke-width: 0.8\"/>\n      </g>\n     </g>\n     <g id=\"text_7\">\n      <!-- 40000 -->\n      <g transform=\"translate(27.240625 98.710105) scale(0.1 -0.1)\">\n       <use xlink:href=\"#DejaVuSans-34\"/>\n       <use xlink:href=\"#DejaVuSans-30\" x=\"63.623047\"/>\n       <use xlink:href=\"#DejaVuSans-30\" x=\"127.246094\"/>\n       <use xlink:href=\"#DejaVuSans-30\" x=\"190.869141\"/>\n       <use xlink:href=\"#DejaVuSans-30\" x=\"254.492188\"/>\n      </g>\n     </g>\n    </g>\n    <g id=\"ytick_4\">\n     <g id=\"line2d_7\">\n      <g>\n       <use xlink:href=\"#md83ee8897d\" x=\"66.053125\" y=\"69.466329\" style=\"stroke: #000000; stroke-width: 0.8\"/>\n      </g>\n     </g>\n     <g id=\"text_8\">\n      <!-- 60000 -->\n      <g transform=\"translate(27.240625 73.265548) scale(0.1 -0.1)\">\n       <use xlink:href=\"#DejaVuSans-36\"/>\n       <use xlink:href=\"#DejaVuSans-30\" x=\"63.623047\"/>\n       <use xlink:href=\"#DejaVuSans-30\" x=\"127.246094\"/>\n       <use xlink:href=\"#DejaVuSans-30\" x=\"190.869141\"/>\n       <use xlink:href=\"#DejaVuSans-30\" x=\"254.492188\"/>\n      </g>\n     </g>\n    </g>\n    <g id=\"ytick_5\">\n     <g id=\"line2d_8\">\n      <g>\n       <use xlink:href=\"#md83ee8897d\" x=\"66.053125\" y=\"44.021772\" style=\"stroke: #000000; stroke-width: 0.8\"/>\n      </g>\n     </g>\n     <g id=\"text_9\">\n      <!-- 80000 -->\n      <g transform=\"translate(27.240625 47.820991) scale(0.1 -0.1)\">\n       <defs>\n        <path id=\"DejaVuSans-38\" d=\"M 2034 2216 \nQ 1584 2216 1326 1975 \nQ 1069 1734 1069 1313 \nQ 1069 891 1326 650 \nQ 1584 409 2034 409 \nQ 2484 409 2743 651 \nQ 3003 894 3003 1313 \nQ 3003 1734 2745 1975 \nQ 2488 2216 2034 2216 \nz\nM 1403 2484 \nQ 997 2584 770 2862 \nQ 544 3141 544 3541 \nQ 544 4100 942 4425 \nQ 1341 4750 2034 4750 \nQ 2731 4750 3128 4425 \nQ 3525 4100 3525 3541 \nQ 3525 3141 3298 2862 \nQ 3072 2584 2669 2484 \nQ 3125 2378 3379 2068 \nQ 3634 1759 3634 1313 \nQ 3634 634 3220 271 \nQ 2806 -91 2034 -91 \nQ 1263 -91 848 271 \nQ 434 634 434 1313 \nQ 434 1759 690 2068 \nQ 947 2378 1403 2484 \nz\nM 1172 3481 \nQ 1172 3119 1398 2916 \nQ 1625 2713 2034 2713 \nQ 2441 2713 2670 2916 \nQ 2900 3119 2900 3481 \nQ 2900 3844 2670 4047 \nQ 2441 4250 2034 4250 \nQ 1625 4250 1398 4047 \nQ 1172 3844 1172 3481 \nz\n\" transform=\"scale(0.015625)\"/>\n       </defs>\n       <use xlink:href=\"#DejaVuSans-38\"/>\n       <use xlink:href=\"#DejaVuSans-30\" x=\"63.623047\"/>\n       <use xlink:href=\"#DejaVuSans-30\" x=\"127.246094\"/>\n       <use xlink:href=\"#DejaVuSans-30\" x=\"190.869141\"/>\n       <use xlink:href=\"#DejaVuSans-30\" x=\"254.492188\"/>\n      </g>\n     </g>\n    </g>\n    <g id=\"ytick_6\">\n     <g id=\"line2d_9\">\n      <g>\n       <use xlink:href=\"#md83ee8897d\" x=\"66.053125\" y=\"18.577216\" style=\"stroke: #000000; stroke-width: 0.8\"/>\n      </g>\n     </g>\n     <g id=\"text_10\">\n      <!-- 100000 -->\n      <g transform=\"translate(20.878125 22.376434) scale(0.1 -0.1)\">\n       <defs>\n        <path id=\"DejaVuSans-31\" d=\"M 794 531 \nL 1825 531 \nL 1825 4091 \nL 703 3866 \nL 703 4441 \nL 1819 4666 \nL 2450 4666 \nL 2450 531 \nL 3481 531 \nL 3481 0 \nL 794 0 \nL 794 531 \nz\n\" transform=\"scale(0.015625)\"/>\n       </defs>\n       <use xlink:href=\"#DejaVuSans-31\"/>\n       <use xlink:href=\"#DejaVuSans-30\" x=\"63.623047\"/>\n       <use xlink:href=\"#DejaVuSans-30\" x=\"127.246094\"/>\n       <use xlink:href=\"#DejaVuSans-30\" x=\"190.869141\"/>\n       <use xlink:href=\"#DejaVuSans-30\" x=\"254.492188\"/>\n       <use xlink:href=\"#DejaVuSans-30\" x=\"318.115234\"/>\n      </g>\n     </g>\n    </g>\n    <g id=\"text_11\">\n     <!-- count -->\n     <g transform=\"translate(14.798438 90.60625) rotate(-90) scale(0.1 -0.1)\">\n      <use xlink:href=\"#DejaVuSans-63\"/>\n      <use xlink:href=\"#DejaVuSans-6f\" x=\"54.980469\"/>\n      <use xlink:href=\"#DejaVuSans-75\" x=\"116.162109\"/>\n      <use xlink:href=\"#DejaVuSans-6e\" x=\"179.541016\"/>\n      <use xlink:href=\"#DejaVuSans-74\" x=\"242.919922\"/>\n     </g>\n    </g>\n   </g>\n   <g id=\"patch_23\">\n    <path d=\"M 66.053125 145.8 \nL 66.053125 7.2 \n\" style=\"fill: none; stroke: #000000; stroke-width: 0.8; stroke-linejoin: miter; stroke-linecap: square\"/>\n   </g>\n   <g id=\"patch_24\">\n    <path d=\"M 261.353125 145.8 \nL 261.353125 7.2 \n\" style=\"fill: none; stroke: #000000; stroke-width: 0.8; stroke-linejoin: miter; stroke-linecap: square\"/>\n   </g>\n   <g id=\"patch_25\">\n    <path d=\"M 66.053125 145.8 \nL 261.353125 145.8 \n\" style=\"fill: none; stroke: #000000; stroke-width: 0.8; stroke-linejoin: miter; stroke-linecap: square\"/>\n   </g>\n   <g id=\"patch_26\">\n    <path d=\"M 66.053125 7.2 \nL 261.353125 7.2 \n\" style=\"fill: none; stroke: #000000; stroke-width: 0.8; stroke-linejoin: miter; stroke-linecap: square\"/>\n   </g>\n   <g id=\"legend_1\">\n    <g id=\"patch_27\">\n     <path d=\"M 189.15 44.55625 \nL 254.353125 44.55625 \nQ 256.353125 44.55625 256.353125 42.55625 \nL 256.353125 14.2 \nQ 256.353125 12.2 254.353125 12.2 \nL 189.15 12.2 \nQ 187.15 12.2 187.15 14.2 \nL 187.15 42.55625 \nQ 187.15 44.55625 189.15 44.55625 \nz\n\" style=\"fill: #ffffff; opacity: 0.8; stroke: #cccccc; stroke-linejoin: miter\"/>\n    </g>\n    <g id=\"patch_28\">\n     <path d=\"M 191.15 23.798438 \nL 211.15 23.798438 \nL 211.15 16.798438 \nL 191.15 16.798438 \nz\n\" style=\"fill: #1f77b4\"/>\n    </g>\n    <g id=\"text_12\">\n     <!-- source -->\n     <g transform=\"translate(219.15 23.798438) scale(0.1 -0.1)\">\n      <use xlink:href=\"#DejaVuSans-73\"/>\n      <use xlink:href=\"#DejaVuSans-6f\" x=\"52.099609\"/>\n      <use xlink:href=\"#DejaVuSans-75\" x=\"113.28125\"/>\n      <use xlink:href=\"#DejaVuSans-72\" x=\"176.660156\"/>\n      <use xlink:href=\"#DejaVuSans-63\" x=\"215.523438\"/>\n      <use xlink:href=\"#DejaVuSans-65\" x=\"270.503906\"/>\n     </g>\n    </g>\n    <g id=\"patch_29\">\n     <path d=\"M 191.15 38.476562 \nL 211.15 38.476562 \nL 211.15 31.476562 \nL 191.15 31.476562 \nz\n\" style=\"fill: url(#h2e9679c1c0)\"/>\n    </g>\n    <g id=\"text_13\">\n     <!-- target -->\n     <g transform=\"translate(219.15 38.476562) scale(0.1 -0.1)\">\n      <defs>\n       <path id=\"DejaVuSans-61\" d=\"M 2194 1759 \nQ 1497 1759 1228 1600 \nQ 959 1441 959 1056 \nQ 959 750 1161 570 \nQ 1363 391 1709 391 \nQ 2188 391 2477 730 \nQ 2766 1069 2766 1631 \nL 2766 1759 \nL 2194 1759 \nz\nM 3341 1997 \nL 3341 0 \nL 2766 0 \nL 2766 531 \nQ 2569 213 2275 61 \nQ 1981 -91 1556 -91 \nQ 1019 -91 701 211 \nQ 384 513 384 1019 \nQ 384 1609 779 1909 \nQ 1175 2209 1959 2209 \nL 2766 2209 \nL 2766 2266 \nQ 2766 2663 2505 2880 \nQ 2244 3097 1772 3097 \nQ 1472 3097 1187 3025 \nQ 903 2953 641 2809 \nL 641 3341 \nQ 956 3463 1253 3523 \nQ 1550 3584 1831 3584 \nQ 2591 3584 2966 3190 \nQ 3341 2797 3341 1997 \nz\n\" transform=\"scale(0.015625)\"/>\n       <path id=\"DejaVuSans-67\" d=\"M 2906 1791 \nQ 2906 2416 2648 2759 \nQ 2391 3103 1925 3103 \nQ 1463 3103 1205 2759 \nQ 947 2416 947 1791 \nQ 947 1169 1205 825 \nQ 1463 481 1925 481 \nQ 2391 481 2648 825 \nQ 2906 1169 2906 1791 \nz\nM 3481 434 \nQ 3481 -459 3084 -895 \nQ 2688 -1331 1869 -1331 \nQ 1566 -1331 1297 -1286 \nQ 1028 -1241 775 -1147 \nL 775 -588 \nQ 1028 -725 1275 -790 \nQ 1522 -856 1778 -856 \nQ 2344 -856 2625 -561 \nQ 2906 -266 2906 331 \nL 2906 616 \nQ 2728 306 2450 153 \nQ 2172 0 1784 0 \nQ 1141 0 747 490 \nQ 353 981 353 1791 \nQ 353 2603 747 3093 \nQ 1141 3584 1784 3584 \nQ 2172 3584 2450 3431 \nQ 2728 3278 2906 2969 \nL 2906 3500 \nL 3481 3500 \nL 3481 434 \nz\n\" transform=\"scale(0.015625)\"/>\n      </defs>\n      <use xlink:href=\"#DejaVuSans-74\"/>\n      <use xlink:href=\"#DejaVuSans-61\" x=\"39.208984\"/>\n      <use xlink:href=\"#DejaVuSans-72\" x=\"100.488281\"/>\n      <use xlink:href=\"#DejaVuSans-67\" x=\"139.851562\"/>\n      <use xlink:href=\"#DejaVuSans-65\" x=\"203.328125\"/>\n      <use xlink:href=\"#DejaVuSans-74\" x=\"264.851562\"/>\n     </g>\n    </g>\n   </g>\n  </g>\n </g>\n <defs>\n  <clipPath id=\"p51fd9eefcb\">\n   <rect x=\"66.053125\" y=\"7.2\" width=\"195.3\" height=\"138.6\"/>\n  </clipPath>\n </defs>\n <defs>\n  <pattern id=\"h2e9679c1c0\" patternUnits=\"userSpaceOnUse\" x=\"0\" y=\"0\" width=\"72\" height=\"72\">\n   <rect x=\"0\" y=\"0\" width=\"73\" height=\"73\" fill=\"#ff7f0e\"/>\n   <path d=\"M -36 36 \nL 36 -36 \nM -24 48 \nL 48 -24 \nM -12 60 \nL 60 -12 \nM 0 72 \nL 72 0 \nM 12 84 \nL 84 12 \nM 24 96 \nL 96 24 \nM 36 108 \nL 108 36 \n\" style=\"fill: #000000; stroke: #000000; stroke-width: 1.0; stroke-linecap: butt; stroke-linejoin: miter\"/>\n  </pattern>\n </defs>\n</svg>\n"
          },
          "metadata": {}
        }
      ],
      "source": [
        "show_list_len_pair_hist(['source', 'target'], '# tokens per sequence',\n",
        "                        'count', src, tgt);"
      ]
    },
    {
      "cell_type": "markdown",
      "id": "470e58cd",
      "metadata": {
        "origin_pos": 18,
        "id": "470e58cd"
      },
      "source": [
        "## Loading Sequences of Fixed Length\n",
        ":label:`subsec_loading-seq-fixed-len`\n",
        "\n",
        "Recall that in language modeling\n",
        "[**each example sequence**],\n",
        "either a segment of one sentence\n",
        "or a span over multiple sentences,\n",
        "(**had a fixed length.**)\n",
        "This was specified by the `num_steps`\n",
        "(number of time steps or tokens) argument from :numref:`sec_language-model`.\n",
        "In machine translation, each example is\n",
        "a pair of source and target text sequences,\n",
        "where the two text sequences may have different lengths.\n",
        "\n",
        "For computational efficiency,\n",
        "we can still process a minibatch of text sequences\n",
        "at one time by *truncation* and *padding*.\n",
        "Suppose that every sequence in the same minibatch\n",
        "should have the same length `num_steps`.\n",
        "If a text sequence has fewer than `num_steps` tokens,\n",
        "we will keep appending the special \"&lt;pad&gt;\" token\n",
        "to its end until its length reaches `num_steps`.\n",
        "Otherwise, we will truncate the text sequence\n",
        "by only taking its first `num_steps` tokens\n",
        "and discarding the remaining.\n",
        "In this way, every text sequence\n",
        "will have the same length\n",
        "to be loaded in minibatches of the same shape.\n",
        "Furthermore, we also record length of the source sequence excluding padding tokens.\n",
        "This information will be needed by some models that we will cover later.\n",
        "\n",
        "\n",
        "Since the machine translation dataset\n",
        "consists of pairs of languages,\n",
        "we can build two vocabularies for\n",
        "both the source language and\n",
        "the target language separately.\n",
        "With word-level tokenization,\n",
        "the vocabulary size will be significantly larger\n",
        "than that using character-level tokenization.\n",
        "To alleviate this,\n",
        "here we treat infrequent tokens\n",
        "that appear less than twice\n",
        "as the same unknown (\"&lt;unk&gt;\") token.\n",
        "As we will explain later (:numref:`fig_seq2seq`),\n",
        "when training with target sequences,\n",
        "the decoder output (label tokens)\n",
        "can be the same decoder input (target tokens),\n",
        "shifted by one token;\n",
        "and the special beginning-of-sequence \"&lt;bos&gt;\" token\n",
        "will be used as the first input token\n",
        "for predicting the target sequence (:numref:`fig_seq2seq_predict`).\n"
      ]
    },
    {
      "cell_type": "code",
      "execution_count": null,
      "id": "499a8c37",
      "metadata": {
        "attributes": {
          "classes": [],
          "id": "",
          "n": "9"
        },
        "execution": {
          "iopub.execute_input": "2023-08-18T19:25:43.726907Z",
          "iopub.status.busy": "2023-08-18T19:25:43.726170Z",
          "iopub.status.idle": "2023-08-18T19:25:43.731267Z",
          "shell.execute_reply": "2023-08-18T19:25:43.730455Z"
        },
        "origin_pos": 19,
        "tab": [
          "pytorch"
        ],
        "id": "499a8c37"
      },
      "outputs": [],
      "source": [
        "@d2l.add_to_class(MTFraEng)\n",
        "def __init__(self, batch_size, num_steps=9, num_train=512, num_val=128):\n",
        "    super(MTFraEng, self).__init__()\n",
        "    self.save_hyperparameters()\n",
        "    self.arrays, self.src_vocab, self.tgt_vocab = self._build_arrays(\n",
        "        self._download())"
      ]
    },
    {
      "cell_type": "code",
      "execution_count": null,
      "id": "642915b2",
      "metadata": {
        "execution": {
          "iopub.execute_input": "2023-08-18T19:25:43.734774Z",
          "iopub.status.busy": "2023-08-18T19:25:43.734205Z",
          "iopub.status.idle": "2023-08-18T19:25:43.741936Z",
          "shell.execute_reply": "2023-08-18T19:25:43.741036Z"
        },
        "origin_pos": 20,
        "tab": [
          "pytorch"
        ],
        "id": "642915b2"
      },
      "outputs": [],
      "source": [
        "@d2l.add_to_class(MTFraEng)\n",
        "def _build_arrays(self, raw_text, src_vocab=None, tgt_vocab=None):\n",
        "    def _build_array(sentences, vocab, is_tgt=False):\n",
        "        pad_or_trim = lambda seq, t: (\n",
        "            seq[:t] if len(seq) > t else seq + ['<pad>'] * (t - len(seq)))\n",
        "        sentences = [pad_or_trim(s, self.num_steps) for s in sentences]\n",
        "        if is_tgt:\n",
        "            sentences = [['<bos>'] + s for s in sentences]\n",
        "        if vocab is None:\n",
        "            vocab = d2l.Vocab(sentences, min_freq=2)\n",
        "        array = torch.tensor([vocab[s] for s in sentences])\n",
        "        valid_len = (array != vocab['<pad>']).type(torch.int32).sum(1)\n",
        "        return array, vocab, valid_len\n",
        "    src, tgt = self._tokenize(self._preprocess(raw_text),\n",
        "                              self.num_train + self.num_val)\n",
        "    src_array, src_vocab, src_valid_len = _build_array(src, src_vocab)\n",
        "    tgt_array, tgt_vocab, _ = _build_array(tgt, tgt_vocab, True)\n",
        "    return ((src_array, tgt_array[:,:-1], src_valid_len, tgt_array[:,1:]),\n",
        "            src_vocab, tgt_vocab)"
      ]
    },
    {
      "cell_type": "markdown",
      "id": "1db3140e",
      "metadata": {
        "origin_pos": 21,
        "id": "1db3140e"
      },
      "source": [
        "## [**Reading the Dataset**]\n",
        "\n",
        "Finally, we define the `get_dataloader` method\n",
        "to return the data iterator.\n"
      ]
    },
    {
      "cell_type": "code",
      "execution_count": null,
      "id": "5eb64a4b",
      "metadata": {
        "attributes": {
          "classes": [],
          "id": "",
          "n": "10"
        },
        "execution": {
          "iopub.execute_input": "2023-08-18T19:25:43.745419Z",
          "iopub.status.busy": "2023-08-18T19:25:43.744866Z",
          "iopub.status.idle": "2023-08-18T19:25:43.749246Z",
          "shell.execute_reply": "2023-08-18T19:25:43.748444Z"
        },
        "origin_pos": 22,
        "tab": [
          "pytorch"
        ],
        "id": "5eb64a4b"
      },
      "outputs": [],
      "source": [
        "@d2l.add_to_class(MTFraEng)\n",
        "def get_dataloader(self, train):\n",
        "    idx = slice(0, self.num_train) if train else slice(self.num_train, None)\n",
        "    return self.get_tensorloader(self.arrays, train, idx)"
      ]
    },
    {
      "cell_type": "markdown",
      "id": "f7f295c6",
      "metadata": {
        "origin_pos": 23,
        "id": "f7f295c6"
      },
      "source": [
        "Let's [**read the first minibatch from the English--French dataset.**]\n"
      ]
    },
    {
      "cell_type": "code",
      "execution_count": null,
      "id": "ef39df99",
      "metadata": {
        "attributes": {
          "classes": [],
          "id": "",
          "n": "11"
        },
        "execution": {
          "iopub.execute_input": "2023-08-18T19:25:43.752740Z",
          "iopub.status.busy": "2023-08-18T19:25:43.752195Z",
          "iopub.status.idle": "2023-08-18T19:25:47.133736Z",
          "shell.execute_reply": "2023-08-18T19:25:47.132842Z"
        },
        "origin_pos": 24,
        "tab": [
          "pytorch"
        ],
        "id": "ef39df99",
        "outputId": "b5243e4f-4c81-48f6-a140-ac988c39399c",
        "colab": {
          "base_uri": "https://localhost:8080/"
        }
      },
      "outputs": [
        {
          "output_type": "stream",
          "name": "stdout",
          "text": [
            "source: tensor([[ 59, 147,   2,   3,   4,   4,   4,   4,   4],\n",
            "        [ 84,  45,   2,   3,   4,   4,   4,   4,   4],\n",
            "        [192, 111,   2,   3,   4,   4,   4,   4,   4]], dtype=torch.int32)\n",
            "decoder input: tensor([[  3, 201,  62,   0,   4,   5,   5,   5,   5],\n",
            "        [  3, 108, 183,   6,   2,   4,   5,   5,   5],\n",
            "        [  3,   6,   0,   4,   5,   5,   5,   5,   5]], dtype=torch.int32)\n",
            "source len excluding pad: tensor([4, 4, 4], dtype=torch.int32)\n",
            "label: tensor([[201,  62,   0,   4,   5,   5,   5,   5,   5],\n",
            "        [108, 183,   6,   2,   4,   5,   5,   5,   5],\n",
            "        [  6,   0,   4,   5,   5,   5,   5,   5,   5]], dtype=torch.int32)\n"
          ]
        }
      ],
      "source": [
        "data = MTFraEng(batch_size=3)\n",
        "src, tgt, src_valid_len, label = next(iter(data.train_dataloader()))\n",
        "print('source:', src.type(torch.int32))\n",
        "print('decoder input:', tgt.type(torch.int32))\n",
        "print('source len excluding pad:', src_valid_len.type(torch.int32))\n",
        "print('label:', label.type(torch.int32))"
      ]
    },
    {
      "cell_type": "markdown",
      "id": "1d0001a8",
      "metadata": {
        "origin_pos": 25,
        "id": "1d0001a8"
      },
      "source": [
        "We show a pair of source and target sequences\n",
        "processed by the above `_build_arrays` method\n",
        "(in the string format).\n"
      ]
    },
    {
      "cell_type": "code",
      "execution_count": null,
      "id": "e21903b8",
      "metadata": {
        "attributes": {
          "classes": [],
          "id": "",
          "n": "12"
        },
        "execution": {
          "iopub.execute_input": "2023-08-18T19:25:47.137535Z",
          "iopub.status.busy": "2023-08-18T19:25:47.136938Z",
          "iopub.status.idle": "2023-08-18T19:25:47.141831Z",
          "shell.execute_reply": "2023-08-18T19:25:47.141037Z"
        },
        "origin_pos": 26,
        "tab": [
          "pytorch"
        ],
        "id": "e21903b8"
      },
      "outputs": [],
      "source": [
        "@d2l.add_to_class(MTFraEng)\n",
        "def build(self, src_sentences, tgt_sentences):\n",
        "    raw_text = '\\n'.join([src + '\\t' + tgt for src, tgt in zip(\n",
        "        src_sentences, tgt_sentences)])\n",
        "    arrays, _, _ = self._build_arrays(\n",
        "        raw_text, self.src_vocab, self.tgt_vocab)\n",
        "    return arrays"
      ]
    },
    {
      "cell_type": "code",
      "execution_count": null,
      "id": "102aced4",
      "metadata": {
        "attributes": {
          "classes": [],
          "id": "",
          "n": "13"
        },
        "execution": {
          "iopub.execute_input": "2023-08-18T19:25:47.145332Z",
          "iopub.status.busy": "2023-08-18T19:25:47.144692Z",
          "iopub.status.idle": "2023-08-18T19:25:47.150415Z",
          "shell.execute_reply": "2023-08-18T19:25:47.149609Z"
        },
        "origin_pos": 27,
        "tab": [
          "pytorch"
        ],
        "id": "102aced4",
        "outputId": "c5dd775a-9153-4ca2-8905-2ba2e20c0789",
        "colab": {
          "base_uri": "https://localhost:8080/"
        }
      },
      "outputs": [
        {
          "output_type": "stream",
          "name": "stdout",
          "text": [
            "source: ['hi', '.', '<eos>', '<pad>', '<pad>', '<pad>', '<pad>', '<pad>', '<pad>']\n",
            "target: ['<bos>', 'salut', '.', '<eos>', '<pad>', '<pad>', '<pad>', '<pad>', '<pad>']\n"
          ]
        }
      ],
      "source": [
        "src, tgt, _,  _ = data.build(['hi .'], ['salut .'])\n",
        "print('source:', data.src_vocab.to_tokens(src[0].type(torch.int32)))\n",
        "print('target:', data.tgt_vocab.to_tokens(tgt[0].type(torch.int32)))"
      ]
    },
    {
      "cell_type": "markdown",
      "source": [
        "Encoder-decoder architectures can handle inputs and outputs that both consist of variable-length sequences and thus are suitable for sequence-to-sequence problems such as machine translation. The encoder takes a variable-length sequence as input and transforms it into a state with a fixed shape. The decoder maps the encoded state of a fixed shape to a variable-length sequence."
      ],
      "metadata": {
        "id": "U3pDIgO0Pngc"
      },
      "id": "U3pDIgO0Pngc"
    },
    {
      "cell_type": "code",
      "source": [
        "class Encoder(nn.Module):\n",
        "    \"\"\"The base encoder interface for the encoder--decoder architecture.\"\"\"\n",
        "    def __init__(self):\n",
        "        super().__init__()\n",
        "\n",
        "    # Later there can be additional arguments (e.g., length excluding padding)\n",
        "    def forward(self, X, *args):\n",
        "        raise NotImplementedError\n"
      ],
      "metadata": {
        "id": "AX6RB7OnPeVU"
      },
      "id": "AX6RB7OnPeVU",
      "execution_count": null,
      "outputs": []
    },
    {
      "cell_type": "code",
      "source": [
        "class Decoder(nn.Module):\n",
        "    \"\"\"The base decoder interface for the encoder--decoder architecture.\"\"\"\n",
        "    def __init__(self):\n",
        "        super().__init__()\n",
        "\n",
        "    # Later there can be additional arguments (e.g., length excluding padding)\n",
        "    def init_state(self, enc_all_outputs, *args):\n",
        "        raise NotImplementedError\n",
        "\n",
        "    def forward(self, X, state):\n",
        "        raise NotImplementedError\n"
      ],
      "metadata": {
        "id": "WVHmTGPiPf59"
      },
      "id": "WVHmTGPiPf59",
      "execution_count": null,
      "outputs": []
    },
    {
      "cell_type": "code",
      "source": [
        "class EncoderDecoder(d2l.Classifier):\n",
        "    \"\"\"The base class for the encoder--decoder architecture.\"\"\"\n",
        "    def __init__(self, encoder, decoder):\n",
        "        super().__init__()\n",
        "        self.encoder = encoder\n",
        "        self.decoder = decoder\n",
        "\n",
        "    def forward(self, enc_X, dec_X, *args):\n",
        "        enc_all_outputs = self.encoder(enc_X, *args)\n",
        "        dec_state = self.decoder.init_state(enc_all_outputs, *args)\n",
        "        # Return decoder output only\n",
        "        return self.decoder(dec_X, dec_state)[0]\n"
      ],
      "metadata": {
        "id": "OgC83f1-PhY3"
      },
      "id": "OgC83f1-PhY3",
      "execution_count": null,
      "outputs": []
    },
    {
      "cell_type": "code",
      "source": [
        "def init_seq2seq(module):\n",
        "    \"\"\"Initialize weights for sequence-to-sequence learning.\"\"\"\n",
        "    if type(module) == nn.Linear:\n",
        "         nn.init.xavier_uniform_(module.weight)\n",
        "    if type(module) == nn.GRU:\n",
        "        for param in module._flat_weights_names:\n",
        "            if \"weight\" in param:\n",
        "                nn.init.xavier_uniform_(module._parameters[param])\n",
        "\n",
        "class Seq2SeqEncoder(d2l.Encoder):\n",
        "    \"\"\"The RNN encoder for sequence-to-sequence learning.\"\"\"\n",
        "    def __init__(self, vocab_size, embed_size, num_hiddens, num_layers,\n",
        "                 dropout=0):\n",
        "        super().__init__()\n",
        "        self.embedding = nn.Embedding(vocab_size, embed_size)\n",
        "        self.rnn = d2l.GRU(embed_size, num_hiddens, num_layers, dropout)\n",
        "        self.apply(init_seq2seq)\n",
        "\n",
        "    def forward(self, X, *args):\n",
        "        # X shape: (batch_size, num_steps)\n",
        "        embs = self.embedding(X.t().type(torch.int64))\n",
        "        # embs shape: (num_steps, batch_size, embed_size)\n",
        "        outputs, state = self.rnn(embs)\n",
        "        # outputs shape: (num_steps, batch_size, num_hiddens)\n",
        "        # state shape: (num_layers, batch_size, num_hiddens)\n",
        "        return outputs, state\n"
      ],
      "metadata": {
        "id": "xulfmUmtnMkF"
      },
      "id": "xulfmUmtnMkF",
      "execution_count": null,
      "outputs": []
    },
    {
      "cell_type": "code",
      "source": [
        "vocab_size, embed_size, num_hiddens, num_layers = 10, 8, 16, 2\n",
        "batch_size, num_steps = 4, 9\n",
        "encoder = Seq2SeqEncoder(vocab_size, embed_size, num_hiddens, num_layers)\n",
        "X = torch.zeros((batch_size, num_steps))\n",
        "enc_outputs, enc_state = encoder(X)\n",
        "d2l.check_shape(enc_outputs, (num_steps, batch_size, num_hiddens))"
      ],
      "metadata": {
        "id": "RV9GhAZ7nhAG"
      },
      "id": "RV9GhAZ7nhAG",
      "execution_count": null,
      "outputs": []
    },
    {
      "cell_type": "code",
      "source": [
        "class Seq2SeqDecoder(d2l.Decoder):\n",
        "    \"\"\"The RNN decoder for sequence to sequence learning.\"\"\"\n",
        "    def __init__(self, vocab_size, embed_size, num_hiddens, num_layers,\n",
        "                 dropout=0):\n",
        "        super().__init__()\n",
        "        self.embedding = nn.Embedding(vocab_size, embed_size)\n",
        "        self.rnn = d2l.GRU(embed_size+num_hiddens, num_hiddens,\n",
        "                           num_layers, dropout)\n",
        "        self.dense = nn.LazyLinear(vocab_size)\n",
        "        self.apply(init_seq2seq)\n",
        "\n",
        "    def init_state(self, enc_all_outputs, *args):\n",
        "        return enc_all_outputs\n",
        "\n",
        "    def forward(self, X, state):\n",
        "        # X shape: (batch_size, num_steps)\n",
        "        # embs shape: (num_steps, batch_size, embed_size)\n",
        "        embs = self.embedding(X.t().type(torch.int32))\n",
        "        enc_output, hidden_state = state\n",
        "        # context shape: (batch_size, num_hiddens)\n",
        "        context = enc_output[-1]\n",
        "        # Broadcast context to (num_steps, batch_size, num_hiddens)\n",
        "        context = context.repeat(embs.shape[0], 1, 1)\n",
        "        # Concat at the feature dimension\n",
        "        embs_and_context = torch.cat((embs, context), -1)\n",
        "        outputs, hidden_state = self.rnn(embs_and_context, hidden_state)\n",
        "        outputs = self.dense(outputs).swapaxes(0, 1)\n",
        "        # outputs shape: (batch_size, num_steps, vocab_size)\n",
        "        # hidden_state shape: (num_layers, batch_size, num_hiddens)\n",
        "        return outputs, [enc_output, hidden_state]"
      ],
      "metadata": {
        "id": "SYOH6rcp21bR"
      },
      "id": "SYOH6rcp21bR",
      "execution_count": null,
      "outputs": []
    },
    {
      "cell_type": "code",
      "source": [
        "decoder = Seq2SeqDecoder(vocab_size, embed_size, num_hiddens, num_layers)\n",
        "state = decoder.init_state(encoder(X))\n",
        "dec_outputs, state = decoder(X, state)\n",
        "d2l.check_shape(dec_outputs, (batch_size, num_steps, vocab_size))\n",
        "d2l.check_shape(state[1], (num_layers, batch_size, num_hiddens))"
      ],
      "metadata": {
        "id": "h-tnrdkO2v9g"
      },
      "id": "h-tnrdkO2v9g",
      "execution_count": null,
      "outputs": []
    },
    {
      "cell_type": "code",
      "source": [
        "class Seq2Seq(d2l.EncoderDecoder):\n",
        "    \"\"\"The RNN encoder--decoder for sequence to sequence learning.\"\"\"\n",
        "    def __init__(self, encoder, decoder, tgt_pad, lr):\n",
        "        super().__init__(encoder, decoder)\n",
        "        self.save_hyperparameters()\n",
        "\n",
        "    def validation_step(self, batch):\n",
        "        Y_hat = self(*batch[:-1])\n",
        "        self.plot('loss', self.loss(Y_hat, batch[-1]), train=False)\n",
        "\n",
        "    def configure_optimizers(self):\n",
        "        # Adam optimizer is used here\n",
        "        return torch.optim.Adam(self.parameters(), lr=self.lr)"
      ],
      "metadata": {
        "id": "saEsuboN1IA6"
      },
      "id": "saEsuboN1IA6",
      "execution_count": null,
      "outputs": []
    },
    {
      "cell_type": "code",
      "source": [
        "@d2l.add_to_class(Seq2Seq)\n",
        "def loss(self, Y_hat, Y):\n",
        "    l = super(Seq2Seq, self).loss(Y_hat, Y, averaged=False)\n",
        "    mask = (Y.reshape(-1) != self.tgt_pad).type(torch.float32)\n",
        "    return (l * mask).sum() / mask.sum()"
      ],
      "metadata": {
        "id": "FQXQumTx2RnH"
      },
      "id": "FQXQumTx2RnH",
      "execution_count": null,
      "outputs": []
    },
    {
      "cell_type": "code",
      "source": [
        "data = d2l.MTFraEng(batch_size=128)\n",
        "embed_size, num_hiddens, num_layers, dropout = 256, 256, 2, 0.2\n",
        "encoder = Seq2SeqEncoder(\n",
        "    len(data.src_vocab), embed_size, num_hiddens, num_layers, dropout)\n",
        "decoder = Seq2SeqDecoder(\n",
        "    len(data.tgt_vocab), embed_size, num_hiddens, num_layers, dropout)\n",
        "model = Seq2Seq(encoder, decoder, tgt_pad=data.tgt_vocab['<pad>'],\n",
        "                lr=0.005)\n",
        "trainer = d2l.Trainer(max_epochs=30, gradient_clip_val=1, num_gpus=1)\n",
        "trainer.fit(model, data)\n"
      ],
      "metadata": {
        "id": "3AcLNbRS2qOF",
        "outputId": "69ed16ef-d53c-4a83-e304-134a08c5eb5a",
        "colab": {
          "base_uri": "https://localhost:8080/",
          "height": 270
        }
      },
      "id": "3AcLNbRS2qOF",
      "execution_count": null,
      "outputs": [
        {
          "output_type": "display_data",
          "data": {
            "text/plain": [
              "<Figure size 350x250 with 1 Axes>"
            ],
            "image/svg+xml": "<?xml version=\"1.0\" encoding=\"utf-8\" standalone=\"no\"?>\n<!DOCTYPE svg PUBLIC \"-//W3C//DTD SVG 1.1//EN\"\n  \"http://www.w3.org/Graphics/SVG/1.1/DTD/svg11.dtd\">\n<svg xmlns:xlink=\"http://www.w3.org/1999/xlink\" width=\"229.425pt\" height=\"186.844363pt\" viewBox=\"0 0 229.425 186.844363\" xmlns=\"http://www.w3.org/2000/svg\" version=\"1.1\">\n <metadata>\n  <rdf:RDF xmlns:dc=\"http://purl.org/dc/elements/1.1/\" xmlns:cc=\"http://creativecommons.org/ns#\" xmlns:rdf=\"http://www.w3.org/1999/02/22-rdf-syntax-ns#\">\n   <cc:Work>\n    <dc:type rdf:resource=\"http://purl.org/dc/dcmitype/StillImage\"/>\n    <dc:date>2025-02-18T11:41:09.612751</dc:date>\n    <dc:format>image/svg+xml</dc:format>\n    <dc:creator>\n     <cc:Agent>\n      <dc:title>Matplotlib v3.7.2, https://matplotlib.org/</dc:title>\n     </cc:Agent>\n    </dc:creator>\n   </cc:Work>\n  </rdf:RDF>\n </metadata>\n <defs>\n  <style type=\"text/css\">*{stroke-linejoin: round; stroke-linecap: butt}</style>\n </defs>\n <g id=\"figure_1\">\n  <g id=\"patch_1\">\n   <path d=\"M 0 186.844363 \nL 229.425 186.844363 \nL 229.425 0 \nL 0 0 \nz\n\" style=\"fill: #ffffff\"/>\n  </g>\n  <g id=\"axes_1\">\n   <g id=\"patch_2\">\n    <path d=\"M 20.5625 149.288113 \nL 215.8625 149.288113 \nL 215.8625 10.688113 \nL 20.5625 10.688113 \nz\n\" style=\"fill: #ffffff\"/>\n   </g>\n   <g id=\"matplotlib.axis_1\">\n    <g id=\"xtick_1\">\n     <g id=\"line2d_1\">\n      <defs>\n       <path id=\"m1a1124f9f4\" d=\"M 0 0 \nL 0 3.5 \n\" style=\"stroke: #000000; stroke-width: 0.8\"/>\n      </defs>\n      <g>\n       <use xlink:href=\"#m1a1124f9f4\" x=\"20.5625\" y=\"149.288113\" style=\"stroke: #000000; stroke-width: 0.8\"/>\n      </g>\n     </g>\n     <g id=\"text_1\">\n      <!-- 0 -->\n      <g transform=\"translate(17.38125 163.88655) scale(0.1 -0.1)\">\n       <defs>\n        <path id=\"DejaVuSans-30\" d=\"M 2034 4250 \nQ 1547 4250 1301 3770 \nQ 1056 3291 1056 2328 \nQ 1056 1369 1301 889 \nQ 1547 409 2034 409 \nQ 2525 409 2770 889 \nQ 3016 1369 3016 2328 \nQ 3016 3291 2770 3770 \nQ 2525 4250 2034 4250 \nz\nM 2034 4750 \nQ 2819 4750 3233 4129 \nQ 3647 3509 3647 2328 \nQ 3647 1150 3233 529 \nQ 2819 -91 2034 -91 \nQ 1250 -91 836 529 \nQ 422 1150 422 2328 \nQ 422 3509 836 4129 \nQ 1250 4750 2034 4750 \nz\n\" transform=\"scale(0.015625)\"/>\n       </defs>\n       <use xlink:href=\"#DejaVuSans-30\"/>\n      </g>\n     </g>\n    </g>\n    <g id=\"xtick_2\">\n     <g id=\"line2d_2\">\n      <g>\n       <use xlink:href=\"#m1a1124f9f4\" x=\"53.1125\" y=\"149.288113\" style=\"stroke: #000000; stroke-width: 0.8\"/>\n      </g>\n     </g>\n     <g id=\"text_2\">\n      <!-- 5 -->\n      <g transform=\"translate(49.93125 163.88655) scale(0.1 -0.1)\">\n       <defs>\n        <path id=\"DejaVuSans-35\" d=\"M 691 4666 \nL 3169 4666 \nL 3169 4134 \nL 1269 4134 \nL 1269 2991 \nQ 1406 3038 1543 3061 \nQ 1681 3084 1819 3084 \nQ 2600 3084 3056 2656 \nQ 3513 2228 3513 1497 \nQ 3513 744 3044 326 \nQ 2575 -91 1722 -91 \nQ 1428 -91 1123 -41 \nQ 819 9 494 109 \nL 494 744 \nQ 775 591 1075 516 \nQ 1375 441 1709 441 \nQ 2250 441 2565 725 \nQ 2881 1009 2881 1497 \nQ 2881 1984 2565 2268 \nQ 2250 2553 1709 2553 \nQ 1456 2553 1204 2497 \nQ 953 2441 691 2322 \nL 691 4666 \nz\n\" transform=\"scale(0.015625)\"/>\n       </defs>\n       <use xlink:href=\"#DejaVuSans-35\"/>\n      </g>\n     </g>\n    </g>\n    <g id=\"xtick_3\">\n     <g id=\"line2d_3\">\n      <g>\n       <use xlink:href=\"#m1a1124f9f4\" x=\"85.6625\" y=\"149.288113\" style=\"stroke: #000000; stroke-width: 0.8\"/>\n      </g>\n     </g>\n     <g id=\"text_3\">\n      <!-- 10 -->\n      <g transform=\"translate(79.3 163.88655) scale(0.1 -0.1)\">\n       <defs>\n        <path id=\"DejaVuSans-31\" d=\"M 794 531 \nL 1825 531 \nL 1825 4091 \nL 703 3866 \nL 703 4441 \nL 1819 4666 \nL 2450 4666 \nL 2450 531 \nL 3481 531 \nL 3481 0 \nL 794 0 \nL 794 531 \nz\n\" transform=\"scale(0.015625)\"/>\n       </defs>\n       <use xlink:href=\"#DejaVuSans-31\"/>\n       <use xlink:href=\"#DejaVuSans-30\" x=\"63.623047\"/>\n      </g>\n     </g>\n    </g>\n    <g id=\"xtick_4\">\n     <g id=\"line2d_4\">\n      <g>\n       <use xlink:href=\"#m1a1124f9f4\" x=\"118.2125\" y=\"149.288113\" style=\"stroke: #000000; stroke-width: 0.8\"/>\n      </g>\n     </g>\n     <g id=\"text_4\">\n      <!-- 15 -->\n      <g transform=\"translate(111.85 163.88655) scale(0.1 -0.1)\">\n       <use xlink:href=\"#DejaVuSans-31\"/>\n       <use xlink:href=\"#DejaVuSans-35\" x=\"63.623047\"/>\n      </g>\n     </g>\n    </g>\n    <g id=\"xtick_5\">\n     <g id=\"line2d_5\">\n      <g>\n       <use xlink:href=\"#m1a1124f9f4\" x=\"150.7625\" y=\"149.288113\" style=\"stroke: #000000; stroke-width: 0.8\"/>\n      </g>\n     </g>\n     <g id=\"text_5\">\n      <!-- 20 -->\n      <g transform=\"translate(144.4 163.88655) scale(0.1 -0.1)\">\n       <defs>\n        <path id=\"DejaVuSans-32\" d=\"M 1228 531 \nL 3431 531 \nL 3431 0 \nL 469 0 \nL 469 531 \nQ 828 903 1448 1529 \nQ 2069 2156 2228 2338 \nQ 2531 2678 2651 2914 \nQ 2772 3150 2772 3378 \nQ 2772 3750 2511 3984 \nQ 2250 4219 1831 4219 \nQ 1534 4219 1204 4116 \nQ 875 4013 500 3803 \nL 500 4441 \nQ 881 4594 1212 4672 \nQ 1544 4750 1819 4750 \nQ 2544 4750 2975 4387 \nQ 3406 4025 3406 3419 \nQ 3406 3131 3298 2873 \nQ 3191 2616 2906 2266 \nQ 2828 2175 2409 1742 \nQ 1991 1309 1228 531 \nz\n\" transform=\"scale(0.015625)\"/>\n       </defs>\n       <use xlink:href=\"#DejaVuSans-32\"/>\n       <use xlink:href=\"#DejaVuSans-30\" x=\"63.623047\"/>\n      </g>\n     </g>\n    </g>\n    <g id=\"xtick_6\">\n     <g id=\"line2d_6\">\n      <g>\n       <use xlink:href=\"#m1a1124f9f4\" x=\"183.3125\" y=\"149.288113\" style=\"stroke: #000000; stroke-width: 0.8\"/>\n      </g>\n     </g>\n     <g id=\"text_6\">\n      <!-- 25 -->\n      <g transform=\"translate(176.95 163.88655) scale(0.1 -0.1)\">\n       <use xlink:href=\"#DejaVuSans-32\"/>\n       <use xlink:href=\"#DejaVuSans-35\" x=\"63.623047\"/>\n      </g>\n     </g>\n    </g>\n    <g id=\"xtick_7\">\n     <g id=\"line2d_7\">\n      <g>\n       <use xlink:href=\"#m1a1124f9f4\" x=\"215.8625\" y=\"149.288113\" style=\"stroke: #000000; stroke-width: 0.8\"/>\n      </g>\n     </g>\n     <g id=\"text_7\">\n      <!-- 30 -->\n      <g transform=\"translate(209.5 163.88655) scale(0.1 -0.1)\">\n       <defs>\n        <path id=\"DejaVuSans-33\" d=\"M 2597 2516 \nQ 3050 2419 3304 2112 \nQ 3559 1806 3559 1356 \nQ 3559 666 3084 287 \nQ 2609 -91 1734 -91 \nQ 1441 -91 1130 -33 \nQ 819 25 488 141 \nL 488 750 \nQ 750 597 1062 519 \nQ 1375 441 1716 441 \nQ 2309 441 2620 675 \nQ 2931 909 2931 1356 \nQ 2931 1769 2642 2001 \nQ 2353 2234 1838 2234 \nL 1294 2234 \nL 1294 2753 \nL 1863 2753 \nQ 2328 2753 2575 2939 \nQ 2822 3125 2822 3475 \nQ 2822 3834 2567 4026 \nQ 2313 4219 1838 4219 \nQ 1578 4219 1281 4162 \nQ 984 4106 628 3988 \nL 628 4550 \nQ 988 4650 1302 4700 \nQ 1616 4750 1894 4750 \nQ 2613 4750 3031 4423 \nQ 3450 4097 3450 3541 \nQ 3450 3153 3228 2886 \nQ 3006 2619 2597 2516 \nz\n\" transform=\"scale(0.015625)\"/>\n       </defs>\n       <use xlink:href=\"#DejaVuSans-33\"/>\n       <use xlink:href=\"#DejaVuSans-30\" x=\"63.623047\"/>\n      </g>\n     </g>\n    </g>\n    <g id=\"text_8\">\n     <!-- epoch -->\n     <g transform=\"translate(102.984375 177.564675) scale(0.1 -0.1)\">\n      <defs>\n       <path id=\"DejaVuSans-65\" d=\"M 3597 1894 \nL 3597 1613 \nL 953 1613 \nQ 991 1019 1311 708 \nQ 1631 397 2203 397 \nQ 2534 397 2845 478 \nQ 3156 559 3463 722 \nL 3463 178 \nQ 3153 47 2828 -22 \nQ 2503 -91 2169 -91 \nQ 1331 -91 842 396 \nQ 353 884 353 1716 \nQ 353 2575 817 3079 \nQ 1281 3584 2069 3584 \nQ 2775 3584 3186 3129 \nQ 3597 2675 3597 1894 \nz\nM 3022 2063 \nQ 3016 2534 2758 2815 \nQ 2500 3097 2075 3097 \nQ 1594 3097 1305 2825 \nQ 1016 2553 972 2059 \nL 3022 2063 \nz\n\" transform=\"scale(0.015625)\"/>\n       <path id=\"DejaVuSans-70\" d=\"M 1159 525 \nL 1159 -1331 \nL 581 -1331 \nL 581 3500 \nL 1159 3500 \nL 1159 2969 \nQ 1341 3281 1617 3432 \nQ 1894 3584 2278 3584 \nQ 2916 3584 3314 3078 \nQ 3713 2572 3713 1747 \nQ 3713 922 3314 415 \nQ 2916 -91 2278 -91 \nQ 1894 -91 1617 61 \nQ 1341 213 1159 525 \nz\nM 3116 1747 \nQ 3116 2381 2855 2742 \nQ 2594 3103 2138 3103 \nQ 1681 3103 1420 2742 \nQ 1159 2381 1159 1747 \nQ 1159 1113 1420 752 \nQ 1681 391 2138 391 \nQ 2594 391 2855 752 \nQ 3116 1113 3116 1747 \nz\n\" transform=\"scale(0.015625)\"/>\n       <path id=\"DejaVuSans-6f\" d=\"M 1959 3097 \nQ 1497 3097 1228 2736 \nQ 959 2375 959 1747 \nQ 959 1119 1226 758 \nQ 1494 397 1959 397 \nQ 2419 397 2687 759 \nQ 2956 1122 2956 1747 \nQ 2956 2369 2687 2733 \nQ 2419 3097 1959 3097 \nz\nM 1959 3584 \nQ 2709 3584 3137 3096 \nQ 3566 2609 3566 1747 \nQ 3566 888 3137 398 \nQ 2709 -91 1959 -91 \nQ 1206 -91 779 398 \nQ 353 888 353 1747 \nQ 353 2609 779 3096 \nQ 1206 3584 1959 3584 \nz\n\" transform=\"scale(0.015625)\"/>\n       <path id=\"DejaVuSans-63\" d=\"M 3122 3366 \nL 3122 2828 \nQ 2878 2963 2633 3030 \nQ 2388 3097 2138 3097 \nQ 1578 3097 1268 2742 \nQ 959 2388 959 1747 \nQ 959 1106 1268 751 \nQ 1578 397 2138 397 \nQ 2388 397 2633 464 \nQ 2878 531 3122 666 \nL 3122 134 \nQ 2881 22 2623 -34 \nQ 2366 -91 2075 -91 \nQ 1284 -91 818 406 \nQ 353 903 353 1747 \nQ 353 2603 823 3093 \nQ 1294 3584 2113 3584 \nQ 2378 3584 2631 3529 \nQ 2884 3475 3122 3366 \nz\n\" transform=\"scale(0.015625)\"/>\n       <path id=\"DejaVuSans-68\" d=\"M 3513 2113 \nL 3513 0 \nL 2938 0 \nL 2938 2094 \nQ 2938 2591 2744 2837 \nQ 2550 3084 2163 3084 \nQ 1697 3084 1428 2787 \nQ 1159 2491 1159 1978 \nL 1159 0 \nL 581 0 \nL 581 4863 \nL 1159 4863 \nL 1159 2956 \nQ 1366 3272 1645 3428 \nQ 1925 3584 2291 3584 \nQ 2894 3584 3203 3211 \nQ 3513 2838 3513 2113 \nz\n\" transform=\"scale(0.015625)\"/>\n      </defs>\n      <use xlink:href=\"#DejaVuSans-65\"/>\n      <use xlink:href=\"#DejaVuSans-70\" x=\"61.523438\"/>\n      <use xlink:href=\"#DejaVuSans-6f\" x=\"125\"/>\n      <use xlink:href=\"#DejaVuSans-63\" x=\"186.181641\"/>\n      <use xlink:href=\"#DejaVuSans-68\" x=\"241.162109\"/>\n     </g>\n    </g>\n   </g>\n   <g id=\"matplotlib.axis_2\">\n    <g id=\"ytick_1\">\n     <g id=\"line2d_8\">\n      <defs>\n       <path id=\"me21981f514\" d=\"M 0 0 \nL -3.5 0 \n\" style=\"stroke: #000000; stroke-width: 0.8\"/>\n      </defs>\n      <g>\n       <use xlink:href=\"#me21981f514\" x=\"20.5625\" y=\"148.459485\" style=\"stroke: #000000; stroke-width: 0.8\"/>\n      </g>\n     </g>\n     <g id=\"text_9\">\n      <!-- 0 -->\n      <g transform=\"translate(7.2 152.258704) scale(0.1 -0.1)\">\n       <use xlink:href=\"#DejaVuSans-30\"/>\n      </g>\n     </g>\n    </g>\n    <g id=\"ytick_2\">\n     <g id=\"line2d_9\">\n      <g>\n       <use xlink:href=\"#me21981f514\" x=\"20.5625\" y=\"120.967432\" style=\"stroke: #000000; stroke-width: 0.8\"/>\n      </g>\n     </g>\n     <g id=\"text_10\">\n      <!-- 1 -->\n      <g transform=\"translate(7.2 124.766651) scale(0.1 -0.1)\">\n       <use xlink:href=\"#DejaVuSans-31\"/>\n      </g>\n     </g>\n    </g>\n    <g id=\"ytick_3\">\n     <g id=\"line2d_10\">\n      <g>\n       <use xlink:href=\"#me21981f514\" x=\"20.5625\" y=\"93.475379\" style=\"stroke: #000000; stroke-width: 0.8\"/>\n      </g>\n     </g>\n     <g id=\"text_11\">\n      <!-- 2 -->\n      <g transform=\"translate(7.2 97.274597) scale(0.1 -0.1)\">\n       <use xlink:href=\"#DejaVuSans-32\"/>\n      </g>\n     </g>\n    </g>\n    <g id=\"ytick_4\">\n     <g id=\"line2d_11\">\n      <g>\n       <use xlink:href=\"#me21981f514\" x=\"20.5625\" y=\"65.983325\" style=\"stroke: #000000; stroke-width: 0.8\"/>\n      </g>\n     </g>\n     <g id=\"text_12\">\n      <!-- 3 -->\n      <g transform=\"translate(7.2 69.782544) scale(0.1 -0.1)\">\n       <use xlink:href=\"#DejaVuSans-33\"/>\n      </g>\n     </g>\n    </g>\n    <g id=\"ytick_5\">\n     <g id=\"line2d_12\">\n      <g>\n       <use xlink:href=\"#me21981f514\" x=\"20.5625\" y=\"38.491272\" style=\"stroke: #000000; stroke-width: 0.8\"/>\n      </g>\n     </g>\n     <g id=\"text_13\">\n      <!-- 4 -->\n      <g transform=\"translate(7.2 42.290491) scale(0.1 -0.1)\">\n       <defs>\n        <path id=\"DejaVuSans-34\" d=\"M 2419 4116 \nL 825 1625 \nL 2419 1625 \nL 2419 4116 \nz\nM 2253 4666 \nL 3047 4666 \nL 3047 1625 \nL 3713 1625 \nL 3713 1100 \nL 3047 1100 \nL 3047 0 \nL 2419 0 \nL 2419 1100 \nL 313 1100 \nL 313 1709 \nL 2253 4666 \nz\n\" transform=\"scale(0.015625)\"/>\n       </defs>\n       <use xlink:href=\"#DejaVuSans-34\"/>\n      </g>\n     </g>\n    </g>\n    <g id=\"ytick_6\">\n     <g id=\"line2d_13\">\n      <g>\n       <use xlink:href=\"#me21981f514\" x=\"20.5625\" y=\"10.999219\" style=\"stroke: #000000; stroke-width: 0.8\"/>\n      </g>\n     </g>\n     <g id=\"text_14\">\n      <!-- 5 -->\n      <g transform=\"translate(7.2 14.798438) scale(0.1 -0.1)\">\n       <use xlink:href=\"#DejaVuSans-35\"/>\n      </g>\n     </g>\n    </g>\n   </g>\n   <g id=\"line2d_14\">\n    <path d=\"M 21.37625 16.988113 \n\" clip-path=\"url(#p17c5c5ac70)\" style=\"fill: none; stroke: #1f77b4; stroke-width: 1.5; stroke-linecap: square\"/>\n   </g>\n   <g id=\"line2d_15\">\n    <path d=\"M 21.37625 16.988113 \nL 24.63125 59.566179 \n\" clip-path=\"url(#p17c5c5ac70)\" style=\"fill: none; stroke: #1f77b4; stroke-width: 1.5; stroke-linecap: square\"/>\n   </g>\n   <g id=\"line2d_16\">\n    <path d=\"M 21.37625 16.988113 \nL 24.63125 59.566179 \n\" clip-path=\"url(#p17c5c5ac70)\" style=\"fill: none; stroke: #1f77b4; stroke-width: 1.5; stroke-linecap: square\"/>\n   </g>\n   <g id=\"line2d_17\">\n    <path d=\"M 27.0725 55.146873 \n\" clip-path=\"url(#p17c5c5ac70)\" style=\"fill: none; stroke-dasharray: 5.55,2.4; stroke-dashoffset: 0; stroke: #ff7f0e; stroke-width: 1.5\"/>\n   </g>\n   <g id=\"line2d_18\">\n    <path d=\"M 21.37625 16.988113 \nL 24.63125 59.566179 \nL 27.88625 68.348988 \n\" clip-path=\"url(#p17c5c5ac70)\" style=\"fill: none; stroke: #1f77b4; stroke-width: 1.5; stroke-linecap: square\"/>\n   </g>\n   <g id=\"line2d_19\">\n    <path d=\"M 27.0725 55.146873 \n\" clip-path=\"url(#p17c5c5ac70)\" style=\"fill: none; stroke-dasharray: 5.55,2.4; stroke-dashoffset: 0; stroke: #ff7f0e; stroke-width: 1.5\"/>\n   </g>\n   <g id=\"line2d_20\">\n    <path d=\"M 21.37625 16.988113 \nL 24.63125 59.566179 \nL 27.88625 68.348988 \nL 31.14125 76.544765 \n\" clip-path=\"url(#p17c5c5ac70)\" style=\"fill: none; stroke: #1f77b4; stroke-width: 1.5; stroke-linecap: square\"/>\n   </g>\n   <g id=\"line2d_21\">\n    <path d=\"M 27.0725 55.146873 \n\" clip-path=\"url(#p17c5c5ac70)\" style=\"fill: none; stroke-dasharray: 5.55,2.4; stroke-dashoffset: 0; stroke: #ff7f0e; stroke-width: 1.5\"/>\n   </g>\n   <g id=\"line2d_22\">\n    <path d=\"M 21.37625 16.988113 \nL 24.63125 59.566179 \nL 27.88625 68.348988 \nL 31.14125 76.544765 \n\" clip-path=\"url(#p17c5c5ac70)\" style=\"fill: none; stroke: #1f77b4; stroke-width: 1.5; stroke-linecap: square\"/>\n   </g>\n   <g id=\"line2d_23\">\n    <path d=\"M 27.0725 55.146873 \nL 33.5825 67.043158 \n\" clip-path=\"url(#p17c5c5ac70)\" style=\"fill: none; stroke-dasharray: 5.55,2.4; stroke-dashoffset: 0; stroke: #ff7f0e; stroke-width: 1.5\"/>\n   </g>\n   <g id=\"line2d_24\">\n    <path d=\"M 21.37625 16.988113 \nL 24.63125 59.566179 \nL 27.88625 68.348988 \nL 31.14125 76.544765 \nL 34.39625 82.824078 \n\" clip-path=\"url(#p17c5c5ac70)\" style=\"fill: none; stroke: #1f77b4; stroke-width: 1.5; stroke-linecap: square\"/>\n   </g>\n   <g id=\"line2d_25\">\n    <path d=\"M 27.0725 55.146873 \nL 33.5825 67.043158 \n\" clip-path=\"url(#p17c5c5ac70)\" style=\"fill: none; stroke-dasharray: 5.55,2.4; stroke-dashoffset: 0; stroke: #ff7f0e; stroke-width: 1.5\"/>\n   </g>\n   <g id=\"line2d_26\">\n    <path d=\"M 21.37625 16.988113 \nL 24.63125 59.566179 \nL 27.88625 68.348988 \nL 31.14125 76.544765 \nL 34.39625 82.824078 \nL 37.65125 86.524919 \n\" clip-path=\"url(#p17c5c5ac70)\" style=\"fill: none; stroke: #1f77b4; stroke-width: 1.5; stroke-linecap: square\"/>\n   </g>\n   <g id=\"line2d_27\">\n    <path d=\"M 27.0725 55.146873 \nL 33.5825 67.043158 \n\" clip-path=\"url(#p17c5c5ac70)\" style=\"fill: none; stroke-dasharray: 5.55,2.4; stroke-dashoffset: 0; stroke: #ff7f0e; stroke-width: 1.5\"/>\n   </g>\n   <g id=\"line2d_28\">\n    <path d=\"M 21.37625 16.988113 \nL 24.63125 59.566179 \nL 27.88625 68.348988 \nL 31.14125 76.544765 \nL 34.39625 82.824078 \nL 37.65125 86.524919 \n\" clip-path=\"url(#p17c5c5ac70)\" style=\"fill: none; stroke: #1f77b4; stroke-width: 1.5; stroke-linecap: square\"/>\n   </g>\n   <g id=\"line2d_29\">\n    <path d=\"M 27.0725 55.146873 \nL 33.5825 67.043158 \nL 40.0925 72.206344 \n\" clip-path=\"url(#p17c5c5ac70)\" style=\"fill: none; stroke-dasharray: 5.55,2.4; stroke-dashoffset: 0; stroke: #ff7f0e; stroke-width: 1.5\"/>\n   </g>\n   <g id=\"line2d_30\">\n    <path d=\"M 21.37625 16.988113 \nL 24.63125 59.566179 \nL 27.88625 68.348988 \nL 31.14125 76.544765 \nL 34.39625 82.824078 \nL 37.65125 86.524919 \nL 40.90625 94.449373 \n\" clip-path=\"url(#p17c5c5ac70)\" style=\"fill: none; stroke: #1f77b4; stroke-width: 1.5; stroke-linecap: square\"/>\n   </g>\n   <g id=\"line2d_31\">\n    <path d=\"M 27.0725 55.146873 \nL 33.5825 67.043158 \nL 40.0925 72.206344 \n\" clip-path=\"url(#p17c5c5ac70)\" style=\"fill: none; stroke-dasharray: 5.55,2.4; stroke-dashoffset: 0; stroke: #ff7f0e; stroke-width: 1.5\"/>\n   </g>\n   <g id=\"line2d_32\">\n    <path d=\"M 21.37625 16.988113 \nL 24.63125 59.566179 \nL 27.88625 68.348988 \nL 31.14125 76.544765 \nL 34.39625 82.824078 \nL 37.65125 86.524919 \nL 40.90625 94.449373 \nL 44.16125 91.309039 \n\" clip-path=\"url(#p17c5c5ac70)\" style=\"fill: none; stroke: #1f77b4; stroke-width: 1.5; stroke-linecap: square\"/>\n   </g>\n   <g id=\"line2d_33\">\n    <path d=\"M 27.0725 55.146873 \nL 33.5825 67.043158 \nL 40.0925 72.206344 \n\" clip-path=\"url(#p17c5c5ac70)\" style=\"fill: none; stroke-dasharray: 5.55,2.4; stroke-dashoffset: 0; stroke: #ff7f0e; stroke-width: 1.5\"/>\n   </g>\n   <g id=\"line2d_34\">\n    <path d=\"M 21.37625 16.988113 \nL 24.63125 59.566179 \nL 27.88625 68.348988 \nL 31.14125 76.544765 \nL 34.39625 82.824078 \nL 37.65125 86.524919 \nL 40.90625 94.449373 \nL 44.16125 91.309039 \n\" clip-path=\"url(#p17c5c5ac70)\" style=\"fill: none; stroke: #1f77b4; stroke-width: 1.5; stroke-linecap: square\"/>\n   </g>\n   <g id=\"line2d_35\">\n    <path d=\"M 27.0725 55.146873 \nL 33.5825 67.043158 \nL 40.0925 72.206344 \nL 46.6025 75.654013 \n\" clip-path=\"url(#p17c5c5ac70)\" style=\"fill: none; stroke-dasharray: 5.55,2.4; stroke-dashoffset: 0; stroke: #ff7f0e; stroke-width: 1.5\"/>\n   </g>\n   <g id=\"line2d_36\">\n    <path d=\"M 21.37625 16.988113 \nL 24.63125 59.566179 \nL 27.88625 68.348988 \nL 31.14125 76.544765 \nL 34.39625 82.824078 \nL 37.65125 86.524919 \nL 40.90625 94.449373 \nL 44.16125 91.309039 \nL 47.41625 98.764443 \n\" clip-path=\"url(#p17c5c5ac70)\" style=\"fill: none; stroke: #1f77b4; stroke-width: 1.5; stroke-linecap: square\"/>\n   </g>\n   <g id=\"line2d_37\">\n    <path d=\"M 27.0725 55.146873 \nL 33.5825 67.043158 \nL 40.0925 72.206344 \nL 46.6025 75.654013 \n\" clip-path=\"url(#p17c5c5ac70)\" style=\"fill: none; stroke-dasharray: 5.55,2.4; stroke-dashoffset: 0; stroke: #ff7f0e; stroke-width: 1.5\"/>\n   </g>\n   <g id=\"line2d_38\">\n    <path d=\"M 21.37625 16.988113 \nL 24.63125 59.566179 \nL 27.88625 68.348988 \nL 31.14125 76.544765 \nL 34.39625 82.824078 \nL 37.65125 86.524919 \nL 40.90625 94.449373 \nL 44.16125 91.309039 \nL 47.41625 98.764443 \nL 50.67125 100.210362 \n\" clip-path=\"url(#p17c5c5ac70)\" style=\"fill: none; stroke: #1f77b4; stroke-width: 1.5; stroke-linecap: square\"/>\n   </g>\n   <g id=\"line2d_39\">\n    <path d=\"M 27.0725 55.146873 \nL 33.5825 67.043158 \nL 40.0925 72.206344 \nL 46.6025 75.654013 \n\" clip-path=\"url(#p17c5c5ac70)\" style=\"fill: none; stroke-dasharray: 5.55,2.4; stroke-dashoffset: 0; stroke: #ff7f0e; stroke-width: 1.5\"/>\n   </g>\n   <g id=\"line2d_40\">\n    <path d=\"M 21.37625 16.988113 \nL 24.63125 59.566179 \nL 27.88625 68.348988 \nL 31.14125 76.544765 \nL 34.39625 82.824078 \nL 37.65125 86.524919 \nL 40.90625 94.449373 \nL 44.16125 91.309039 \nL 47.41625 98.764443 \nL 50.67125 100.210362 \n\" clip-path=\"url(#p17c5c5ac70)\" style=\"fill: none; stroke: #1f77b4; stroke-width: 1.5; stroke-linecap: square\"/>\n   </g>\n   <g id=\"line2d_41\">\n    <path d=\"M 27.0725 55.146873 \nL 33.5825 67.043158 \nL 40.0925 72.206344 \nL 46.6025 75.654013 \nL 53.1125 77.03997 \n\" clip-path=\"url(#p17c5c5ac70)\" style=\"fill: none; stroke-dasharray: 5.55,2.4; stroke-dashoffset: 0; stroke: #ff7f0e; stroke-width: 1.5\"/>\n   </g>\n   <g id=\"line2d_42\">\n    <path d=\"M 21.37625 16.988113 \nL 24.63125 59.566179 \nL 27.88625 68.348988 \nL 31.14125 76.544765 \nL 34.39625 82.824078 \nL 37.65125 86.524919 \nL 40.90625 94.449373 \nL 44.16125 91.309039 \nL 47.41625 98.764443 \nL 50.67125 100.210362 \nL 53.92625 105.464547 \n\" clip-path=\"url(#p17c5c5ac70)\" style=\"fill: none; stroke: #1f77b4; stroke-width: 1.5; stroke-linecap: square\"/>\n   </g>\n   <g id=\"line2d_43\">\n    <path d=\"M 27.0725 55.146873 \nL 33.5825 67.043158 \nL 40.0925 72.206344 \nL 46.6025 75.654013 \nL 53.1125 77.03997 \n\" clip-path=\"url(#p17c5c5ac70)\" style=\"fill: none; stroke-dasharray: 5.55,2.4; stroke-dashoffset: 0; stroke: #ff7f0e; stroke-width: 1.5\"/>\n   </g>\n   <g id=\"line2d_44\">\n    <path d=\"M 21.37625 16.988113 \nL 24.63125 59.566179 \nL 27.88625 68.348988 \nL 31.14125 76.544765 \nL 34.39625 82.824078 \nL 37.65125 86.524919 \nL 40.90625 94.449373 \nL 44.16125 91.309039 \nL 47.41625 98.764443 \nL 50.67125 100.210362 \nL 53.92625 105.464547 \nL 57.18125 105.426727 \n\" clip-path=\"url(#p17c5c5ac70)\" style=\"fill: none; stroke: #1f77b4; stroke-width: 1.5; stroke-linecap: square\"/>\n   </g>\n   <g id=\"line2d_45\">\n    <path d=\"M 27.0725 55.146873 \nL 33.5825 67.043158 \nL 40.0925 72.206344 \nL 46.6025 75.654013 \nL 53.1125 77.03997 \n\" clip-path=\"url(#p17c5c5ac70)\" style=\"fill: none; stroke-dasharray: 5.55,2.4; stroke-dashoffset: 0; stroke: #ff7f0e; stroke-width: 1.5\"/>\n   </g>\n   <g id=\"line2d_46\">\n    <path d=\"M 21.37625 16.988113 \nL 24.63125 59.566179 \nL 27.88625 68.348988 \nL 31.14125 76.544765 \nL 34.39625 82.824078 \nL 37.65125 86.524919 \nL 40.90625 94.449373 \nL 44.16125 91.309039 \nL 47.41625 98.764443 \nL 50.67125 100.210362 \nL 53.92625 105.464547 \nL 57.18125 105.426727 \n\" clip-path=\"url(#p17c5c5ac70)\" style=\"fill: none; stroke: #1f77b4; stroke-width: 1.5; stroke-linecap: square\"/>\n   </g>\n   <g id=\"line2d_47\">\n    <path d=\"M 27.0725 55.146873 \nL 33.5825 67.043158 \nL 40.0925 72.206344 \nL 46.6025 75.654013 \nL 53.1125 77.03997 \nL 59.6225 77.472463 \n\" clip-path=\"url(#p17c5c5ac70)\" style=\"fill: none; stroke-dasharray: 5.55,2.4; stroke-dashoffset: 0; stroke: #ff7f0e; stroke-width: 1.5\"/>\n   </g>\n   <g id=\"line2d_48\">\n    <path d=\"M 21.37625 16.988113 \nL 24.63125 59.566179 \nL 27.88625 68.348988 \nL 31.14125 76.544765 \nL 34.39625 82.824078 \nL 37.65125 86.524919 \nL 40.90625 94.449373 \nL 44.16125 91.309039 \nL 47.41625 98.764443 \nL 50.67125 100.210362 \nL 53.92625 105.464547 \nL 57.18125 105.426727 \nL 60.43625 110.114159 \n\" clip-path=\"url(#p17c5c5ac70)\" style=\"fill: none; stroke: #1f77b4; stroke-width: 1.5; stroke-linecap: square\"/>\n   </g>\n   <g id=\"line2d_49\">\n    <path d=\"M 27.0725 55.146873 \nL 33.5825 67.043158 \nL 40.0925 72.206344 \nL 46.6025 75.654013 \nL 53.1125 77.03997 \nL 59.6225 77.472463 \n\" clip-path=\"url(#p17c5c5ac70)\" style=\"fill: none; stroke-dasharray: 5.55,2.4; stroke-dashoffset: 0; stroke: #ff7f0e; stroke-width: 1.5\"/>\n   </g>\n   <g id=\"line2d_50\">\n    <path d=\"M 21.37625 16.988113 \nL 24.63125 59.566179 \nL 27.88625 68.348988 \nL 31.14125 76.544765 \nL 34.39625 82.824078 \nL 37.65125 86.524919 \nL 40.90625 94.449373 \nL 44.16125 91.309039 \nL 47.41625 98.764443 \nL 50.67125 100.210362 \nL 53.92625 105.464547 \nL 57.18125 105.426727 \nL 60.43625 110.114159 \nL 63.69125 111.510068 \n\" clip-path=\"url(#p17c5c5ac70)\" style=\"fill: none; stroke: #1f77b4; stroke-width: 1.5; stroke-linecap: square\"/>\n   </g>\n   <g id=\"line2d_51\">\n    <path d=\"M 27.0725 55.146873 \nL 33.5825 67.043158 \nL 40.0925 72.206344 \nL 46.6025 75.654013 \nL 53.1125 77.03997 \nL 59.6225 77.472463 \n\" clip-path=\"url(#p17c5c5ac70)\" style=\"fill: none; stroke-dasharray: 5.55,2.4; stroke-dashoffset: 0; stroke: #ff7f0e; stroke-width: 1.5\"/>\n   </g>\n   <g id=\"line2d_52\">\n    <path d=\"M 21.37625 16.988113 \nL 24.63125 59.566179 \nL 27.88625 68.348988 \nL 31.14125 76.544765 \nL 34.39625 82.824078 \nL 37.65125 86.524919 \nL 40.90625 94.449373 \nL 44.16125 91.309039 \nL 47.41625 98.764443 \nL 50.67125 100.210362 \nL 53.92625 105.464547 \nL 57.18125 105.426727 \nL 60.43625 110.114159 \nL 63.69125 111.510068 \n\" clip-path=\"url(#p17c5c5ac70)\" style=\"fill: none; stroke: #1f77b4; stroke-width: 1.5; stroke-linecap: square\"/>\n   </g>\n   <g id=\"line2d_53\">\n    <path d=\"M 27.0725 55.146873 \nL 33.5825 67.043158 \nL 40.0925 72.206344 \nL 46.6025 75.654013 \nL 53.1125 77.03997 \nL 59.6225 77.472463 \nL 66.1325 79.852972 \n\" clip-path=\"url(#p17c5c5ac70)\" style=\"fill: none; stroke-dasharray: 5.55,2.4; stroke-dashoffset: 0; stroke: #ff7f0e; stroke-width: 1.5\"/>\n   </g>\n   <g id=\"line2d_54\">\n    <path d=\"M 21.37625 16.988113 \nL 24.63125 59.566179 \nL 27.88625 68.348988 \nL 31.14125 76.544765 \nL 34.39625 82.824078 \nL 37.65125 86.524919 \nL 40.90625 94.449373 \nL 44.16125 91.309039 \nL 47.41625 98.764443 \nL 50.67125 100.210362 \nL 53.92625 105.464547 \nL 57.18125 105.426727 \nL 60.43625 110.114159 \nL 63.69125 111.510068 \nL 66.94625 116.25074 \n\" clip-path=\"url(#p17c5c5ac70)\" style=\"fill: none; stroke: #1f77b4; stroke-width: 1.5; stroke-linecap: square\"/>\n   </g>\n   <g id=\"line2d_55\">\n    <path d=\"M 27.0725 55.146873 \nL 33.5825 67.043158 \nL 40.0925 72.206344 \nL 46.6025 75.654013 \nL 53.1125 77.03997 \nL 59.6225 77.472463 \nL 66.1325 79.852972 \n\" clip-path=\"url(#p17c5c5ac70)\" style=\"fill: none; stroke-dasharray: 5.55,2.4; stroke-dashoffset: 0; stroke: #ff7f0e; stroke-width: 1.5\"/>\n   </g>\n   <g id=\"line2d_56\">\n    <path d=\"M 21.37625 16.988113 \nL 24.63125 59.566179 \nL 27.88625 68.348988 \nL 31.14125 76.544765 \nL 34.39625 82.824078 \nL 37.65125 86.524919 \nL 40.90625 94.449373 \nL 44.16125 91.309039 \nL 47.41625 98.764443 \nL 50.67125 100.210362 \nL 53.92625 105.464547 \nL 57.18125 105.426727 \nL 60.43625 110.114159 \nL 63.69125 111.510068 \nL 66.94625 116.25074 \nL 70.20125 115.141637 \n\" clip-path=\"url(#p17c5c5ac70)\" style=\"fill: none; stroke: #1f77b4; stroke-width: 1.5; stroke-linecap: square\"/>\n   </g>\n   <g id=\"line2d_57\">\n    <path d=\"M 27.0725 55.146873 \nL 33.5825 67.043158 \nL 40.0925 72.206344 \nL 46.6025 75.654013 \nL 53.1125 77.03997 \nL 59.6225 77.472463 \nL 66.1325 79.852972 \n\" clip-path=\"url(#p17c5c5ac70)\" style=\"fill: none; stroke-dasharray: 5.55,2.4; stroke-dashoffset: 0; stroke: #ff7f0e; stroke-width: 1.5\"/>\n   </g>\n   <g id=\"line2d_58\">\n    <path d=\"M 21.37625 16.988113 \nL 24.63125 59.566179 \nL 27.88625 68.348988 \nL 31.14125 76.544765 \nL 34.39625 82.824078 \nL 37.65125 86.524919 \nL 40.90625 94.449373 \nL 44.16125 91.309039 \nL 47.41625 98.764443 \nL 50.67125 100.210362 \nL 53.92625 105.464547 \nL 57.18125 105.426727 \nL 60.43625 110.114159 \nL 63.69125 111.510068 \nL 66.94625 116.25074 \nL 70.20125 115.141637 \n\" clip-path=\"url(#p17c5c5ac70)\" style=\"fill: none; stroke: #1f77b4; stroke-width: 1.5; stroke-linecap: square\"/>\n   </g>\n   <g id=\"line2d_59\">\n    <path d=\"M 27.0725 55.146873 \nL 33.5825 67.043158 \nL 40.0925 72.206344 \nL 46.6025 75.654013 \nL 53.1125 77.03997 \nL 59.6225 77.472463 \nL 66.1325 79.852972 \nL 72.6425 76.712233 \n\" clip-path=\"url(#p17c5c5ac70)\" style=\"fill: none; stroke-dasharray: 5.55,2.4; stroke-dashoffset: 0; stroke: #ff7f0e; stroke-width: 1.5\"/>\n   </g>\n   <g id=\"line2d_60\">\n    <path d=\"M 21.37625 16.988113 \nL 24.63125 59.566179 \nL 27.88625 68.348988 \nL 31.14125 76.544765 \nL 34.39625 82.824078 \nL 37.65125 86.524919 \nL 40.90625 94.449373 \nL 44.16125 91.309039 \nL 47.41625 98.764443 \nL 50.67125 100.210362 \nL 53.92625 105.464547 \nL 57.18125 105.426727 \nL 60.43625 110.114159 \nL 63.69125 111.510068 \nL 66.94625 116.25074 \nL 70.20125 115.141637 \nL 73.45625 120.889299 \n\" clip-path=\"url(#p17c5c5ac70)\" style=\"fill: none; stroke: #1f77b4; stroke-width: 1.5; stroke-linecap: square\"/>\n   </g>\n   <g id=\"line2d_61\">\n    <path d=\"M 27.0725 55.146873 \nL 33.5825 67.043158 \nL 40.0925 72.206344 \nL 46.6025 75.654013 \nL 53.1125 77.03997 \nL 59.6225 77.472463 \nL 66.1325 79.852972 \nL 72.6425 76.712233 \n\" clip-path=\"url(#p17c5c5ac70)\" style=\"fill: none; stroke-dasharray: 5.55,2.4; stroke-dashoffset: 0; stroke: #ff7f0e; stroke-width: 1.5\"/>\n   </g>\n   <g id=\"line2d_62\">\n    <path d=\"M 21.37625 16.988113 \nL 24.63125 59.566179 \nL 27.88625 68.348988 \nL 31.14125 76.544765 \nL 34.39625 82.824078 \nL 37.65125 86.524919 \nL 40.90625 94.449373 \nL 44.16125 91.309039 \nL 47.41625 98.764443 \nL 50.67125 100.210362 \nL 53.92625 105.464547 \nL 57.18125 105.426727 \nL 60.43625 110.114159 \nL 63.69125 111.510068 \nL 66.94625 116.25074 \nL 70.20125 115.141637 \nL 73.45625 120.889299 \nL 76.71125 118.726122 \n\" clip-path=\"url(#p17c5c5ac70)\" style=\"fill: none; stroke: #1f77b4; stroke-width: 1.5; stroke-linecap: square\"/>\n   </g>\n   <g id=\"line2d_63\">\n    <path d=\"M 27.0725 55.146873 \nL 33.5825 67.043158 \nL 40.0925 72.206344 \nL 46.6025 75.654013 \nL 53.1125 77.03997 \nL 59.6225 77.472463 \nL 66.1325 79.852972 \nL 72.6425 76.712233 \n\" clip-path=\"url(#p17c5c5ac70)\" style=\"fill: none; stroke-dasharray: 5.55,2.4; stroke-dashoffset: 0; stroke: #ff7f0e; stroke-width: 1.5\"/>\n   </g>\n   <g id=\"line2d_64\">\n    <path d=\"M 21.37625 16.988113 \nL 24.63125 59.566179 \nL 27.88625 68.348988 \nL 31.14125 76.544765 \nL 34.39625 82.824078 \nL 37.65125 86.524919 \nL 40.90625 94.449373 \nL 44.16125 91.309039 \nL 47.41625 98.764443 \nL 50.67125 100.210362 \nL 53.92625 105.464547 \nL 57.18125 105.426727 \nL 60.43625 110.114159 \nL 63.69125 111.510068 \nL 66.94625 116.25074 \nL 70.20125 115.141637 \nL 73.45625 120.889299 \nL 76.71125 118.726122 \n\" clip-path=\"url(#p17c5c5ac70)\" style=\"fill: none; stroke: #1f77b4; stroke-width: 1.5; stroke-linecap: square\"/>\n   </g>\n   <g id=\"line2d_65\">\n    <path d=\"M 27.0725 55.146873 \nL 33.5825 67.043158 \nL 40.0925 72.206344 \nL 46.6025 75.654013 \nL 53.1125 77.03997 \nL 59.6225 77.472463 \nL 66.1325 79.852972 \nL 72.6425 76.712233 \nL 79.1525 80.199634 \n\" clip-path=\"url(#p17c5c5ac70)\" style=\"fill: none; stroke-dasharray: 5.55,2.4; stroke-dashoffset: 0; stroke: #ff7f0e; stroke-width: 1.5\"/>\n   </g>\n   <g id=\"line2d_66\">\n    <path d=\"M 21.37625 16.988113 \nL 24.63125 59.566179 \nL 27.88625 68.348988 \nL 31.14125 76.544765 \nL 34.39625 82.824078 \nL 37.65125 86.524919 \nL 40.90625 94.449373 \nL 44.16125 91.309039 \nL 47.41625 98.764443 \nL 50.67125 100.210362 \nL 53.92625 105.464547 \nL 57.18125 105.426727 \nL 60.43625 110.114159 \nL 63.69125 111.510068 \nL 66.94625 116.25074 \nL 70.20125 115.141637 \nL 73.45625 120.889299 \nL 76.71125 118.726122 \nL 79.96625 124.178499 \n\" clip-path=\"url(#p17c5c5ac70)\" style=\"fill: none; stroke: #1f77b4; stroke-width: 1.5; stroke-linecap: square\"/>\n   </g>\n   <g id=\"line2d_67\">\n    <path d=\"M 27.0725 55.146873 \nL 33.5825 67.043158 \nL 40.0925 72.206344 \nL 46.6025 75.654013 \nL 53.1125 77.03997 \nL 59.6225 77.472463 \nL 66.1325 79.852972 \nL 72.6425 76.712233 \nL 79.1525 80.199634 \n\" clip-path=\"url(#p17c5c5ac70)\" style=\"fill: none; stroke-dasharray: 5.55,2.4; stroke-dashoffset: 0; stroke: #ff7f0e; stroke-width: 1.5\"/>\n   </g>\n   <g id=\"line2d_68\">\n    <path d=\"M 21.37625 16.988113 \nL 24.63125 59.566179 \nL 27.88625 68.348988 \nL 31.14125 76.544765 \nL 34.39625 82.824078 \nL 37.65125 86.524919 \nL 40.90625 94.449373 \nL 44.16125 91.309039 \nL 47.41625 98.764443 \nL 50.67125 100.210362 \nL 53.92625 105.464547 \nL 57.18125 105.426727 \nL 60.43625 110.114159 \nL 63.69125 111.510068 \nL 66.94625 116.25074 \nL 70.20125 115.141637 \nL 73.45625 120.889299 \nL 76.71125 118.726122 \nL 79.96625 124.178499 \nL 83.22125 122.829426 \n\" clip-path=\"url(#p17c5c5ac70)\" style=\"fill: none; stroke: #1f77b4; stroke-width: 1.5; stroke-linecap: square\"/>\n   </g>\n   <g id=\"line2d_69\">\n    <path d=\"M 27.0725 55.146873 \nL 33.5825 67.043158 \nL 40.0925 72.206344 \nL 46.6025 75.654013 \nL 53.1125 77.03997 \nL 59.6225 77.472463 \nL 66.1325 79.852972 \nL 72.6425 76.712233 \nL 79.1525 80.199634 \n\" clip-path=\"url(#p17c5c5ac70)\" style=\"fill: none; stroke-dasharray: 5.55,2.4; stroke-dashoffset: 0; stroke: #ff7f0e; stroke-width: 1.5\"/>\n   </g>\n   <g id=\"line2d_70\">\n    <path d=\"M 21.37625 16.988113 \nL 24.63125 59.566179 \nL 27.88625 68.348988 \nL 31.14125 76.544765 \nL 34.39625 82.824078 \nL 37.65125 86.524919 \nL 40.90625 94.449373 \nL 44.16125 91.309039 \nL 47.41625 98.764443 \nL 50.67125 100.210362 \nL 53.92625 105.464547 \nL 57.18125 105.426727 \nL 60.43625 110.114159 \nL 63.69125 111.510068 \nL 66.94625 116.25074 \nL 70.20125 115.141637 \nL 73.45625 120.889299 \nL 76.71125 118.726122 \nL 79.96625 124.178499 \nL 83.22125 122.829426 \n\" clip-path=\"url(#p17c5c5ac70)\" style=\"fill: none; stroke: #1f77b4; stroke-width: 1.5; stroke-linecap: square\"/>\n   </g>\n   <g id=\"line2d_71\">\n    <path d=\"M 27.0725 55.146873 \nL 33.5825 67.043158 \nL 40.0925 72.206344 \nL 46.6025 75.654013 \nL 53.1125 77.03997 \nL 59.6225 77.472463 \nL 66.1325 79.852972 \nL 72.6425 76.712233 \nL 79.1525 80.199634 \nL 85.6625 71.602883 \n\" clip-path=\"url(#p17c5c5ac70)\" style=\"fill: none; stroke-dasharray: 5.55,2.4; stroke-dashoffset: 0; stroke: #ff7f0e; stroke-width: 1.5\"/>\n   </g>\n   <g id=\"line2d_72\">\n    <path d=\"M 21.37625 16.988113 \nL 24.63125 59.566179 \nL 27.88625 68.348988 \nL 31.14125 76.544765 \nL 34.39625 82.824078 \nL 37.65125 86.524919 \nL 40.90625 94.449373 \nL 44.16125 91.309039 \nL 47.41625 98.764443 \nL 50.67125 100.210362 \nL 53.92625 105.464547 \nL 57.18125 105.426727 \nL 60.43625 110.114159 \nL 63.69125 111.510068 \nL 66.94625 116.25074 \nL 70.20125 115.141637 \nL 73.45625 120.889299 \nL 76.71125 118.726122 \nL 79.96625 124.178499 \nL 83.22125 122.829426 \nL 86.47625 125.838671 \n\" clip-path=\"url(#p17c5c5ac70)\" style=\"fill: none; stroke: #1f77b4; stroke-width: 1.5; stroke-linecap: square\"/>\n   </g>\n   <g id=\"line2d_73\">\n    <path d=\"M 27.0725 55.146873 \nL 33.5825 67.043158 \nL 40.0925 72.206344 \nL 46.6025 75.654013 \nL 53.1125 77.03997 \nL 59.6225 77.472463 \nL 66.1325 79.852972 \nL 72.6425 76.712233 \nL 79.1525 80.199634 \nL 85.6625 71.602883 \n\" clip-path=\"url(#p17c5c5ac70)\" style=\"fill: none; stroke-dasharray: 5.55,2.4; stroke-dashoffset: 0; stroke: #ff7f0e; stroke-width: 1.5\"/>\n   </g>\n   <g id=\"line2d_74\">\n    <path d=\"M 21.37625 16.988113 \nL 24.63125 59.566179 \nL 27.88625 68.348988 \nL 31.14125 76.544765 \nL 34.39625 82.824078 \nL 37.65125 86.524919 \nL 40.90625 94.449373 \nL 44.16125 91.309039 \nL 47.41625 98.764443 \nL 50.67125 100.210362 \nL 53.92625 105.464547 \nL 57.18125 105.426727 \nL 60.43625 110.114159 \nL 63.69125 111.510068 \nL 66.94625 116.25074 \nL 70.20125 115.141637 \nL 73.45625 120.889299 \nL 76.71125 118.726122 \nL 79.96625 124.178499 \nL 83.22125 122.829426 \nL 86.47625 125.838671 \nL 89.73125 126.965891 \n\" clip-path=\"url(#p17c5c5ac70)\" style=\"fill: none; stroke: #1f77b4; stroke-width: 1.5; stroke-linecap: square\"/>\n   </g>\n   <g id=\"line2d_75\">\n    <path d=\"M 27.0725 55.146873 \nL 33.5825 67.043158 \nL 40.0925 72.206344 \nL 46.6025 75.654013 \nL 53.1125 77.03997 \nL 59.6225 77.472463 \nL 66.1325 79.852972 \nL 72.6425 76.712233 \nL 79.1525 80.199634 \nL 85.6625 71.602883 \n\" clip-path=\"url(#p17c5c5ac70)\" style=\"fill: none; stroke-dasharray: 5.55,2.4; stroke-dashoffset: 0; stroke: #ff7f0e; stroke-width: 1.5\"/>\n   </g>\n   <g id=\"line2d_76\">\n    <path d=\"M 21.37625 16.988113 \nL 24.63125 59.566179 \nL 27.88625 68.348988 \nL 31.14125 76.544765 \nL 34.39625 82.824078 \nL 37.65125 86.524919 \nL 40.90625 94.449373 \nL 44.16125 91.309039 \nL 47.41625 98.764443 \nL 50.67125 100.210362 \nL 53.92625 105.464547 \nL 57.18125 105.426727 \nL 60.43625 110.114159 \nL 63.69125 111.510068 \nL 66.94625 116.25074 \nL 70.20125 115.141637 \nL 73.45625 120.889299 \nL 76.71125 118.726122 \nL 79.96625 124.178499 \nL 83.22125 122.829426 \nL 86.47625 125.838671 \nL 89.73125 126.965891 \n\" clip-path=\"url(#p17c5c5ac70)\" style=\"fill: none; stroke: #1f77b4; stroke-width: 1.5; stroke-linecap: square\"/>\n   </g>\n   <g id=\"line2d_77\">\n    <path d=\"M 27.0725 55.146873 \nL 33.5825 67.043158 \nL 40.0925 72.206344 \nL 46.6025 75.654013 \nL 53.1125 77.03997 \nL 59.6225 77.472463 \nL 66.1325 79.852972 \nL 72.6425 76.712233 \nL 79.1525 80.199634 \nL 85.6625 71.602883 \nL 92.1725 73.702238 \n\" clip-path=\"url(#p17c5c5ac70)\" style=\"fill: none; stroke-dasharray: 5.55,2.4; stroke-dashoffset: 0; stroke: #ff7f0e; stroke-width: 1.5\"/>\n   </g>\n   <g id=\"line2d_78\">\n    <path d=\"M 21.37625 16.988113 \nL 24.63125 59.566179 \nL 27.88625 68.348988 \nL 31.14125 76.544765 \nL 34.39625 82.824078 \nL 37.65125 86.524919 \nL 40.90625 94.449373 \nL 44.16125 91.309039 \nL 47.41625 98.764443 \nL 50.67125 100.210362 \nL 53.92625 105.464547 \nL 57.18125 105.426727 \nL 60.43625 110.114159 \nL 63.69125 111.510068 \nL 66.94625 116.25074 \nL 70.20125 115.141637 \nL 73.45625 120.889299 \nL 76.71125 118.726122 \nL 79.96625 124.178499 \nL 83.22125 122.829426 \nL 86.47625 125.838671 \nL 89.73125 126.965891 \nL 92.98625 129.44621 \n\" clip-path=\"url(#p17c5c5ac70)\" style=\"fill: none; stroke: #1f77b4; stroke-width: 1.5; stroke-linecap: square\"/>\n   </g>\n   <g id=\"line2d_79\">\n    <path d=\"M 27.0725 55.146873 \nL 33.5825 67.043158 \nL 40.0925 72.206344 \nL 46.6025 75.654013 \nL 53.1125 77.03997 \nL 59.6225 77.472463 \nL 66.1325 79.852972 \nL 72.6425 76.712233 \nL 79.1525 80.199634 \nL 85.6625 71.602883 \nL 92.1725 73.702238 \n\" clip-path=\"url(#p17c5c5ac70)\" style=\"fill: none; stroke-dasharray: 5.55,2.4; stroke-dashoffset: 0; stroke: #ff7f0e; stroke-width: 1.5\"/>\n   </g>\n   <g id=\"line2d_80\">\n    <path d=\"M 21.37625 16.988113 \nL 24.63125 59.566179 \nL 27.88625 68.348988 \nL 31.14125 76.544765 \nL 34.39625 82.824078 \nL 37.65125 86.524919 \nL 40.90625 94.449373 \nL 44.16125 91.309039 \nL 47.41625 98.764443 \nL 50.67125 100.210362 \nL 53.92625 105.464547 \nL 57.18125 105.426727 \nL 60.43625 110.114159 \nL 63.69125 111.510068 \nL 66.94625 116.25074 \nL 70.20125 115.141637 \nL 73.45625 120.889299 \nL 76.71125 118.726122 \nL 79.96625 124.178499 \nL 83.22125 122.829426 \nL 86.47625 125.838671 \nL 89.73125 126.965891 \nL 92.98625 129.44621 \nL 96.24125 129.280109 \n\" clip-path=\"url(#p17c5c5ac70)\" style=\"fill: none; stroke: #1f77b4; stroke-width: 1.5; stroke-linecap: square\"/>\n   </g>\n   <g id=\"line2d_81\">\n    <path d=\"M 27.0725 55.146873 \nL 33.5825 67.043158 \nL 40.0925 72.206344 \nL 46.6025 75.654013 \nL 53.1125 77.03997 \nL 59.6225 77.472463 \nL 66.1325 79.852972 \nL 72.6425 76.712233 \nL 79.1525 80.199634 \nL 85.6625 71.602883 \nL 92.1725 73.702238 \n\" clip-path=\"url(#p17c5c5ac70)\" style=\"fill: none; stroke-dasharray: 5.55,2.4; stroke-dashoffset: 0; stroke: #ff7f0e; stroke-width: 1.5\"/>\n   </g>\n   <g id=\"line2d_82\">\n    <path d=\"M 21.37625 16.988113 \nL 24.63125 59.566179 \nL 27.88625 68.348988 \nL 31.14125 76.544765 \nL 34.39625 82.824078 \nL 37.65125 86.524919 \nL 40.90625 94.449373 \nL 44.16125 91.309039 \nL 47.41625 98.764443 \nL 50.67125 100.210362 \nL 53.92625 105.464547 \nL 57.18125 105.426727 \nL 60.43625 110.114159 \nL 63.69125 111.510068 \nL 66.94625 116.25074 \nL 70.20125 115.141637 \nL 73.45625 120.889299 \nL 76.71125 118.726122 \nL 79.96625 124.178499 \nL 83.22125 122.829426 \nL 86.47625 125.838671 \nL 89.73125 126.965891 \nL 92.98625 129.44621 \nL 96.24125 129.280109 \n\" clip-path=\"url(#p17c5c5ac70)\" style=\"fill: none; stroke: #1f77b4; stroke-width: 1.5; stroke-linecap: square\"/>\n   </g>\n   <g id=\"line2d_83\">\n    <path d=\"M 27.0725 55.146873 \nL 33.5825 67.043158 \nL 40.0925 72.206344 \nL 46.6025 75.654013 \nL 53.1125 77.03997 \nL 59.6225 77.472463 \nL 66.1325 79.852972 \nL 72.6425 76.712233 \nL 79.1525 80.199634 \nL 85.6625 71.602883 \nL 92.1725 73.702238 \nL 98.6825 75.248216 \n\" clip-path=\"url(#p17c5c5ac70)\" style=\"fill: none; stroke-dasharray: 5.55,2.4; stroke-dashoffset: 0; stroke: #ff7f0e; stroke-width: 1.5\"/>\n   </g>\n   <g id=\"line2d_84\">\n    <path d=\"M 21.37625 16.988113 \nL 24.63125 59.566179 \nL 27.88625 68.348988 \nL 31.14125 76.544765 \nL 34.39625 82.824078 \nL 37.65125 86.524919 \nL 40.90625 94.449373 \nL 44.16125 91.309039 \nL 47.41625 98.764443 \nL 50.67125 100.210362 \nL 53.92625 105.464547 \nL 57.18125 105.426727 \nL 60.43625 110.114159 \nL 63.69125 111.510068 \nL 66.94625 116.25074 \nL 70.20125 115.141637 \nL 73.45625 120.889299 \nL 76.71125 118.726122 \nL 79.96625 124.178499 \nL 83.22125 122.829426 \nL 86.47625 125.838671 \nL 89.73125 126.965891 \nL 92.98625 129.44621 \nL 96.24125 129.280109 \nL 99.49625 131.233361 \n\" clip-path=\"url(#p17c5c5ac70)\" style=\"fill: none; stroke: #1f77b4; stroke-width: 1.5; stroke-linecap: square\"/>\n   </g>\n   <g id=\"line2d_85\">\n    <path d=\"M 27.0725 55.146873 \nL 33.5825 67.043158 \nL 40.0925 72.206344 \nL 46.6025 75.654013 \nL 53.1125 77.03997 \nL 59.6225 77.472463 \nL 66.1325 79.852972 \nL 72.6425 76.712233 \nL 79.1525 80.199634 \nL 85.6625 71.602883 \nL 92.1725 73.702238 \nL 98.6825 75.248216 \n\" clip-path=\"url(#p17c5c5ac70)\" style=\"fill: none; stroke-dasharray: 5.55,2.4; stroke-dashoffset: 0; stroke: #ff7f0e; stroke-width: 1.5\"/>\n   </g>\n   <g id=\"line2d_86\">\n    <path d=\"M 21.37625 16.988113 \nL 24.63125 59.566179 \nL 27.88625 68.348988 \nL 31.14125 76.544765 \nL 34.39625 82.824078 \nL 37.65125 86.524919 \nL 40.90625 94.449373 \nL 44.16125 91.309039 \nL 47.41625 98.764443 \nL 50.67125 100.210362 \nL 53.92625 105.464547 \nL 57.18125 105.426727 \nL 60.43625 110.114159 \nL 63.69125 111.510068 \nL 66.94625 116.25074 \nL 70.20125 115.141637 \nL 73.45625 120.889299 \nL 76.71125 118.726122 \nL 79.96625 124.178499 \nL 83.22125 122.829426 \nL 86.47625 125.838671 \nL 89.73125 126.965891 \nL 92.98625 129.44621 \nL 96.24125 129.280109 \nL 99.49625 131.233361 \nL 102.75125 132.356895 \n\" clip-path=\"url(#p17c5c5ac70)\" style=\"fill: none; stroke: #1f77b4; stroke-width: 1.5; stroke-linecap: square\"/>\n   </g>\n   <g id=\"line2d_87\">\n    <path d=\"M 27.0725 55.146873 \nL 33.5825 67.043158 \nL 40.0925 72.206344 \nL 46.6025 75.654013 \nL 53.1125 77.03997 \nL 59.6225 77.472463 \nL 66.1325 79.852972 \nL 72.6425 76.712233 \nL 79.1525 80.199634 \nL 85.6625 71.602883 \nL 92.1725 73.702238 \nL 98.6825 75.248216 \n\" clip-path=\"url(#p17c5c5ac70)\" style=\"fill: none; stroke-dasharray: 5.55,2.4; stroke-dashoffset: 0; stroke: #ff7f0e; stroke-width: 1.5\"/>\n   </g>\n   <g id=\"line2d_88\">\n    <path d=\"M 21.37625 16.988113 \nL 24.63125 59.566179 \nL 27.88625 68.348988 \nL 31.14125 76.544765 \nL 34.39625 82.824078 \nL 37.65125 86.524919 \nL 40.90625 94.449373 \nL 44.16125 91.309039 \nL 47.41625 98.764443 \nL 50.67125 100.210362 \nL 53.92625 105.464547 \nL 57.18125 105.426727 \nL 60.43625 110.114159 \nL 63.69125 111.510068 \nL 66.94625 116.25074 \nL 70.20125 115.141637 \nL 73.45625 120.889299 \nL 76.71125 118.726122 \nL 79.96625 124.178499 \nL 83.22125 122.829426 \nL 86.47625 125.838671 \nL 89.73125 126.965891 \nL 92.98625 129.44621 \nL 96.24125 129.280109 \nL 99.49625 131.233361 \nL 102.75125 132.356895 \n\" clip-path=\"url(#p17c5c5ac70)\" style=\"fill: none; stroke: #1f77b4; stroke-width: 1.5; stroke-linecap: square\"/>\n   </g>\n   <g id=\"line2d_89\">\n    <path d=\"M 27.0725 55.146873 \nL 33.5825 67.043158 \nL 40.0925 72.206344 \nL 46.6025 75.654013 \nL 53.1125 77.03997 \nL 59.6225 77.472463 \nL 66.1325 79.852972 \nL 72.6425 76.712233 \nL 79.1525 80.199634 \nL 85.6625 71.602883 \nL 92.1725 73.702238 \nL 98.6825 75.248216 \nL 105.1925 68.206196 \n\" clip-path=\"url(#p17c5c5ac70)\" style=\"fill: none; stroke-dasharray: 5.55,2.4; stroke-dashoffset: 0; stroke: #ff7f0e; stroke-width: 1.5\"/>\n   </g>\n   <g id=\"line2d_90\">\n    <path d=\"M 21.37625 16.988113 \nL 24.63125 59.566179 \nL 27.88625 68.348988 \nL 31.14125 76.544765 \nL 34.39625 82.824078 \nL 37.65125 86.524919 \nL 40.90625 94.449373 \nL 44.16125 91.309039 \nL 47.41625 98.764443 \nL 50.67125 100.210362 \nL 53.92625 105.464547 \nL 57.18125 105.426727 \nL 60.43625 110.114159 \nL 63.69125 111.510068 \nL 66.94625 116.25074 \nL 70.20125 115.141637 \nL 73.45625 120.889299 \nL 76.71125 118.726122 \nL 79.96625 124.178499 \nL 83.22125 122.829426 \nL 86.47625 125.838671 \nL 89.73125 126.965891 \nL 92.98625 129.44621 \nL 96.24125 129.280109 \nL 99.49625 131.233361 \nL 102.75125 132.356895 \nL 106.00625 134.150246 \n\" clip-path=\"url(#p17c5c5ac70)\" style=\"fill: none; stroke: #1f77b4; stroke-width: 1.5; stroke-linecap: square\"/>\n   </g>\n   <g id=\"line2d_91\">\n    <path d=\"M 27.0725 55.146873 \nL 33.5825 67.043158 \nL 40.0925 72.206344 \nL 46.6025 75.654013 \nL 53.1125 77.03997 \nL 59.6225 77.472463 \nL 66.1325 79.852972 \nL 72.6425 76.712233 \nL 79.1525 80.199634 \nL 85.6625 71.602883 \nL 92.1725 73.702238 \nL 98.6825 75.248216 \nL 105.1925 68.206196 \n\" clip-path=\"url(#p17c5c5ac70)\" style=\"fill: none; stroke-dasharray: 5.55,2.4; stroke-dashoffset: 0; stroke: #ff7f0e; stroke-width: 1.5\"/>\n   </g>\n   <g id=\"line2d_92\">\n    <path d=\"M 21.37625 16.988113 \nL 24.63125 59.566179 \nL 27.88625 68.348988 \nL 31.14125 76.544765 \nL 34.39625 82.824078 \nL 37.65125 86.524919 \nL 40.90625 94.449373 \nL 44.16125 91.309039 \nL 47.41625 98.764443 \nL 50.67125 100.210362 \nL 53.92625 105.464547 \nL 57.18125 105.426727 \nL 60.43625 110.114159 \nL 63.69125 111.510068 \nL 66.94625 116.25074 \nL 70.20125 115.141637 \nL 73.45625 120.889299 \nL 76.71125 118.726122 \nL 79.96625 124.178499 \nL 83.22125 122.829426 \nL 86.47625 125.838671 \nL 89.73125 126.965891 \nL 92.98625 129.44621 \nL 96.24125 129.280109 \nL 99.49625 131.233361 \nL 102.75125 132.356895 \nL 106.00625 134.150246 \nL 109.26125 133.904182 \n\" clip-path=\"url(#p17c5c5ac70)\" style=\"fill: none; stroke: #1f77b4; stroke-width: 1.5; stroke-linecap: square\"/>\n   </g>\n   <g id=\"line2d_93\">\n    <path d=\"M 27.0725 55.146873 \nL 33.5825 67.043158 \nL 40.0925 72.206344 \nL 46.6025 75.654013 \nL 53.1125 77.03997 \nL 59.6225 77.472463 \nL 66.1325 79.852972 \nL 72.6425 76.712233 \nL 79.1525 80.199634 \nL 85.6625 71.602883 \nL 92.1725 73.702238 \nL 98.6825 75.248216 \nL 105.1925 68.206196 \n\" clip-path=\"url(#p17c5c5ac70)\" style=\"fill: none; stroke-dasharray: 5.55,2.4; stroke-dashoffset: 0; stroke: #ff7f0e; stroke-width: 1.5\"/>\n   </g>\n   <g id=\"line2d_94\">\n    <path d=\"M 21.37625 16.988113 \nL 24.63125 59.566179 \nL 27.88625 68.348988 \nL 31.14125 76.544765 \nL 34.39625 82.824078 \nL 37.65125 86.524919 \nL 40.90625 94.449373 \nL 44.16125 91.309039 \nL 47.41625 98.764443 \nL 50.67125 100.210362 \nL 53.92625 105.464547 \nL 57.18125 105.426727 \nL 60.43625 110.114159 \nL 63.69125 111.510068 \nL 66.94625 116.25074 \nL 70.20125 115.141637 \nL 73.45625 120.889299 \nL 76.71125 118.726122 \nL 79.96625 124.178499 \nL 83.22125 122.829426 \nL 86.47625 125.838671 \nL 89.73125 126.965891 \nL 92.98625 129.44621 \nL 96.24125 129.280109 \nL 99.49625 131.233361 \nL 102.75125 132.356895 \nL 106.00625 134.150246 \nL 109.26125 133.904182 \n\" clip-path=\"url(#p17c5c5ac70)\" style=\"fill: none; stroke: #1f77b4; stroke-width: 1.5; stroke-linecap: square\"/>\n   </g>\n   <g id=\"line2d_95\">\n    <path d=\"M 27.0725 55.146873 \nL 33.5825 67.043158 \nL 40.0925 72.206344 \nL 46.6025 75.654013 \nL 53.1125 77.03997 \nL 59.6225 77.472463 \nL 66.1325 79.852972 \nL 72.6425 76.712233 \nL 79.1525 80.199634 \nL 85.6625 71.602883 \nL 92.1725 73.702238 \nL 98.6825 75.248216 \nL 105.1925 68.206196 \nL 111.7025 72.975105 \n\" clip-path=\"url(#p17c5c5ac70)\" style=\"fill: none; stroke-dasharray: 5.55,2.4; stroke-dashoffset: 0; stroke: #ff7f0e; stroke-width: 1.5\"/>\n   </g>\n   <g id=\"line2d_96\">\n    <path d=\"M 21.37625 16.988113 \nL 24.63125 59.566179 \nL 27.88625 68.348988 \nL 31.14125 76.544765 \nL 34.39625 82.824078 \nL 37.65125 86.524919 \nL 40.90625 94.449373 \nL 44.16125 91.309039 \nL 47.41625 98.764443 \nL 50.67125 100.210362 \nL 53.92625 105.464547 \nL 57.18125 105.426727 \nL 60.43625 110.114159 \nL 63.69125 111.510068 \nL 66.94625 116.25074 \nL 70.20125 115.141637 \nL 73.45625 120.889299 \nL 76.71125 118.726122 \nL 79.96625 124.178499 \nL 83.22125 122.829426 \nL 86.47625 125.838671 \nL 89.73125 126.965891 \nL 92.98625 129.44621 \nL 96.24125 129.280109 \nL 99.49625 131.233361 \nL 102.75125 132.356895 \nL 106.00625 134.150246 \nL 109.26125 133.904182 \nL 112.51625 136.223286 \n\" clip-path=\"url(#p17c5c5ac70)\" style=\"fill: none; stroke: #1f77b4; stroke-width: 1.5; stroke-linecap: square\"/>\n   </g>\n   <g id=\"line2d_97\">\n    <path d=\"M 27.0725 55.146873 \nL 33.5825 67.043158 \nL 40.0925 72.206344 \nL 46.6025 75.654013 \nL 53.1125 77.03997 \nL 59.6225 77.472463 \nL 66.1325 79.852972 \nL 72.6425 76.712233 \nL 79.1525 80.199634 \nL 85.6625 71.602883 \nL 92.1725 73.702238 \nL 98.6825 75.248216 \nL 105.1925 68.206196 \nL 111.7025 72.975105 \n\" clip-path=\"url(#p17c5c5ac70)\" style=\"fill: none; stroke-dasharray: 5.55,2.4; stroke-dashoffset: 0; stroke: #ff7f0e; stroke-width: 1.5\"/>\n   </g>\n   <g id=\"line2d_98\">\n    <path d=\"M 21.37625 16.988113 \nL 24.63125 59.566179 \nL 27.88625 68.348988 \nL 31.14125 76.544765 \nL 34.39625 82.824078 \nL 37.65125 86.524919 \nL 40.90625 94.449373 \nL 44.16125 91.309039 \nL 47.41625 98.764443 \nL 50.67125 100.210362 \nL 53.92625 105.464547 \nL 57.18125 105.426727 \nL 60.43625 110.114159 \nL 63.69125 111.510068 \nL 66.94625 116.25074 \nL 70.20125 115.141637 \nL 73.45625 120.889299 \nL 76.71125 118.726122 \nL 79.96625 124.178499 \nL 83.22125 122.829426 \nL 86.47625 125.838671 \nL 89.73125 126.965891 \nL 92.98625 129.44621 \nL 96.24125 129.280109 \nL 99.49625 131.233361 \nL 102.75125 132.356895 \nL 106.00625 134.150246 \nL 109.26125 133.904182 \nL 112.51625 136.223286 \nL 115.77125 134.855475 \n\" clip-path=\"url(#p17c5c5ac70)\" style=\"fill: none; stroke: #1f77b4; stroke-width: 1.5; stroke-linecap: square\"/>\n   </g>\n   <g id=\"line2d_99\">\n    <path d=\"M 27.0725 55.146873 \nL 33.5825 67.043158 \nL 40.0925 72.206344 \nL 46.6025 75.654013 \nL 53.1125 77.03997 \nL 59.6225 77.472463 \nL 66.1325 79.852972 \nL 72.6425 76.712233 \nL 79.1525 80.199634 \nL 85.6625 71.602883 \nL 92.1725 73.702238 \nL 98.6825 75.248216 \nL 105.1925 68.206196 \nL 111.7025 72.975105 \n\" clip-path=\"url(#p17c5c5ac70)\" style=\"fill: none; stroke-dasharray: 5.55,2.4; stroke-dashoffset: 0; stroke: #ff7f0e; stroke-width: 1.5\"/>\n   </g>\n   <g id=\"line2d_100\">\n    <path d=\"M 21.37625 16.988113 \nL 24.63125 59.566179 \nL 27.88625 68.348988 \nL 31.14125 76.544765 \nL 34.39625 82.824078 \nL 37.65125 86.524919 \nL 40.90625 94.449373 \nL 44.16125 91.309039 \nL 47.41625 98.764443 \nL 50.67125 100.210362 \nL 53.92625 105.464547 \nL 57.18125 105.426727 \nL 60.43625 110.114159 \nL 63.69125 111.510068 \nL 66.94625 116.25074 \nL 70.20125 115.141637 \nL 73.45625 120.889299 \nL 76.71125 118.726122 \nL 79.96625 124.178499 \nL 83.22125 122.829426 \nL 86.47625 125.838671 \nL 89.73125 126.965891 \nL 92.98625 129.44621 \nL 96.24125 129.280109 \nL 99.49625 131.233361 \nL 102.75125 132.356895 \nL 106.00625 134.150246 \nL 109.26125 133.904182 \nL 112.51625 136.223286 \nL 115.77125 134.855475 \n\" clip-path=\"url(#p17c5c5ac70)\" style=\"fill: none; stroke: #1f77b4; stroke-width: 1.5; stroke-linecap: square\"/>\n   </g>\n   <g id=\"line2d_101\">\n    <path d=\"M 27.0725 55.146873 \nL 33.5825 67.043158 \nL 40.0925 72.206344 \nL 46.6025 75.654013 \nL 53.1125 77.03997 \nL 59.6225 77.472463 \nL 66.1325 79.852972 \nL 72.6425 76.712233 \nL 79.1525 80.199634 \nL 85.6625 71.602883 \nL 92.1725 73.702238 \nL 98.6825 75.248216 \nL 105.1925 68.206196 \nL 111.7025 72.975105 \nL 118.2125 68.095777 \n\" clip-path=\"url(#p17c5c5ac70)\" style=\"fill: none; stroke-dasharray: 5.55,2.4; stroke-dashoffset: 0; stroke: #ff7f0e; stroke-width: 1.5\"/>\n   </g>\n   <g id=\"line2d_102\">\n    <path d=\"M 21.37625 16.988113 \nL 24.63125 59.566179 \nL 27.88625 68.348988 \nL 31.14125 76.544765 \nL 34.39625 82.824078 \nL 37.65125 86.524919 \nL 40.90625 94.449373 \nL 44.16125 91.309039 \nL 47.41625 98.764443 \nL 50.67125 100.210362 \nL 53.92625 105.464547 \nL 57.18125 105.426727 \nL 60.43625 110.114159 \nL 63.69125 111.510068 \nL 66.94625 116.25074 \nL 70.20125 115.141637 \nL 73.45625 120.889299 \nL 76.71125 118.726122 \nL 79.96625 124.178499 \nL 83.22125 122.829426 \nL 86.47625 125.838671 \nL 89.73125 126.965891 \nL 92.98625 129.44621 \nL 96.24125 129.280109 \nL 99.49625 131.233361 \nL 102.75125 132.356895 \nL 106.00625 134.150246 \nL 109.26125 133.904182 \nL 112.51625 136.223286 \nL 115.77125 134.855475 \nL 119.02625 136.730134 \n\" clip-path=\"url(#p17c5c5ac70)\" style=\"fill: none; stroke: #1f77b4; stroke-width: 1.5; stroke-linecap: square\"/>\n   </g>\n   <g id=\"line2d_103\">\n    <path d=\"M 27.0725 55.146873 \nL 33.5825 67.043158 \nL 40.0925 72.206344 \nL 46.6025 75.654013 \nL 53.1125 77.03997 \nL 59.6225 77.472463 \nL 66.1325 79.852972 \nL 72.6425 76.712233 \nL 79.1525 80.199634 \nL 85.6625 71.602883 \nL 92.1725 73.702238 \nL 98.6825 75.248216 \nL 105.1925 68.206196 \nL 111.7025 72.975105 \nL 118.2125 68.095777 \n\" clip-path=\"url(#p17c5c5ac70)\" style=\"fill: none; stroke-dasharray: 5.55,2.4; stroke-dashoffset: 0; stroke: #ff7f0e; stroke-width: 1.5\"/>\n   </g>\n   <g id=\"line2d_104\">\n    <path d=\"M 21.37625 16.988113 \nL 24.63125 59.566179 \nL 27.88625 68.348988 \nL 31.14125 76.544765 \nL 34.39625 82.824078 \nL 37.65125 86.524919 \nL 40.90625 94.449373 \nL 44.16125 91.309039 \nL 47.41625 98.764443 \nL 50.67125 100.210362 \nL 53.92625 105.464547 \nL 57.18125 105.426727 \nL 60.43625 110.114159 \nL 63.69125 111.510068 \nL 66.94625 116.25074 \nL 70.20125 115.141637 \nL 73.45625 120.889299 \nL 76.71125 118.726122 \nL 79.96625 124.178499 \nL 83.22125 122.829426 \nL 86.47625 125.838671 \nL 89.73125 126.965891 \nL 92.98625 129.44621 \nL 96.24125 129.280109 \nL 99.49625 131.233361 \nL 102.75125 132.356895 \nL 106.00625 134.150246 \nL 109.26125 133.904182 \nL 112.51625 136.223286 \nL 115.77125 134.855475 \nL 119.02625 136.730134 \nL 122.28125 137.112091 \n\" clip-path=\"url(#p17c5c5ac70)\" style=\"fill: none; stroke: #1f77b4; stroke-width: 1.5; stroke-linecap: square\"/>\n   </g>\n   <g id=\"line2d_105\">\n    <path d=\"M 27.0725 55.146873 \nL 33.5825 67.043158 \nL 40.0925 72.206344 \nL 46.6025 75.654013 \nL 53.1125 77.03997 \nL 59.6225 77.472463 \nL 66.1325 79.852972 \nL 72.6425 76.712233 \nL 79.1525 80.199634 \nL 85.6625 71.602883 \nL 92.1725 73.702238 \nL 98.6825 75.248216 \nL 105.1925 68.206196 \nL 111.7025 72.975105 \nL 118.2125 68.095777 \n\" clip-path=\"url(#p17c5c5ac70)\" style=\"fill: none; stroke-dasharray: 5.55,2.4; stroke-dashoffset: 0; stroke: #ff7f0e; stroke-width: 1.5\"/>\n   </g>\n   <g id=\"line2d_106\">\n    <path d=\"M 21.37625 16.988113 \nL 24.63125 59.566179 \nL 27.88625 68.348988 \nL 31.14125 76.544765 \nL 34.39625 82.824078 \nL 37.65125 86.524919 \nL 40.90625 94.449373 \nL 44.16125 91.309039 \nL 47.41625 98.764443 \nL 50.67125 100.210362 \nL 53.92625 105.464547 \nL 57.18125 105.426727 \nL 60.43625 110.114159 \nL 63.69125 111.510068 \nL 66.94625 116.25074 \nL 70.20125 115.141637 \nL 73.45625 120.889299 \nL 76.71125 118.726122 \nL 79.96625 124.178499 \nL 83.22125 122.829426 \nL 86.47625 125.838671 \nL 89.73125 126.965891 \nL 92.98625 129.44621 \nL 96.24125 129.280109 \nL 99.49625 131.233361 \nL 102.75125 132.356895 \nL 106.00625 134.150246 \nL 109.26125 133.904182 \nL 112.51625 136.223286 \nL 115.77125 134.855475 \nL 119.02625 136.730134 \nL 122.28125 137.112091 \n\" clip-path=\"url(#p17c5c5ac70)\" style=\"fill: none; stroke: #1f77b4; stroke-width: 1.5; stroke-linecap: square\"/>\n   </g>\n   <g id=\"line2d_107\">\n    <path d=\"M 27.0725 55.146873 \nL 33.5825 67.043158 \nL 40.0925 72.206344 \nL 46.6025 75.654013 \nL 53.1125 77.03997 \nL 59.6225 77.472463 \nL 66.1325 79.852972 \nL 72.6425 76.712233 \nL 79.1525 80.199634 \nL 85.6625 71.602883 \nL 92.1725 73.702238 \nL 98.6825 75.248216 \nL 105.1925 68.206196 \nL 111.7025 72.975105 \nL 118.2125 68.095777 \nL 124.7225 68.783608 \n\" clip-path=\"url(#p17c5c5ac70)\" style=\"fill: none; stroke-dasharray: 5.55,2.4; stroke-dashoffset: 0; stroke: #ff7f0e; stroke-width: 1.5\"/>\n   </g>\n   <g id=\"line2d_108\">\n    <path d=\"M 21.37625 16.988113 \nL 24.63125 59.566179 \nL 27.88625 68.348988 \nL 31.14125 76.544765 \nL 34.39625 82.824078 \nL 37.65125 86.524919 \nL 40.90625 94.449373 \nL 44.16125 91.309039 \nL 47.41625 98.764443 \nL 50.67125 100.210362 \nL 53.92625 105.464547 \nL 57.18125 105.426727 \nL 60.43625 110.114159 \nL 63.69125 111.510068 \nL 66.94625 116.25074 \nL 70.20125 115.141637 \nL 73.45625 120.889299 \nL 76.71125 118.726122 \nL 79.96625 124.178499 \nL 83.22125 122.829426 \nL 86.47625 125.838671 \nL 89.73125 126.965891 \nL 92.98625 129.44621 \nL 96.24125 129.280109 \nL 99.49625 131.233361 \nL 102.75125 132.356895 \nL 106.00625 134.150246 \nL 109.26125 133.904182 \nL 112.51625 136.223286 \nL 115.77125 134.855475 \nL 119.02625 136.730134 \nL 122.28125 137.112091 \nL 125.53625 137.854928 \n\" clip-path=\"url(#p17c5c5ac70)\" style=\"fill: none; stroke: #1f77b4; stroke-width: 1.5; stroke-linecap: square\"/>\n   </g>\n   <g id=\"line2d_109\">\n    <path d=\"M 27.0725 55.146873 \nL 33.5825 67.043158 \nL 40.0925 72.206344 \nL 46.6025 75.654013 \nL 53.1125 77.03997 \nL 59.6225 77.472463 \nL 66.1325 79.852972 \nL 72.6425 76.712233 \nL 79.1525 80.199634 \nL 85.6625 71.602883 \nL 92.1725 73.702238 \nL 98.6825 75.248216 \nL 105.1925 68.206196 \nL 111.7025 72.975105 \nL 118.2125 68.095777 \nL 124.7225 68.783608 \n\" clip-path=\"url(#p17c5c5ac70)\" style=\"fill: none; stroke-dasharray: 5.55,2.4; stroke-dashoffset: 0; stroke: #ff7f0e; stroke-width: 1.5\"/>\n   </g>\n   <g id=\"line2d_110\">\n    <path d=\"M 21.37625 16.988113 \nL 24.63125 59.566179 \nL 27.88625 68.348988 \nL 31.14125 76.544765 \nL 34.39625 82.824078 \nL 37.65125 86.524919 \nL 40.90625 94.449373 \nL 44.16125 91.309039 \nL 47.41625 98.764443 \nL 50.67125 100.210362 \nL 53.92625 105.464547 \nL 57.18125 105.426727 \nL 60.43625 110.114159 \nL 63.69125 111.510068 \nL 66.94625 116.25074 \nL 70.20125 115.141637 \nL 73.45625 120.889299 \nL 76.71125 118.726122 \nL 79.96625 124.178499 \nL 83.22125 122.829426 \nL 86.47625 125.838671 \nL 89.73125 126.965891 \nL 92.98625 129.44621 \nL 96.24125 129.280109 \nL 99.49625 131.233361 \nL 102.75125 132.356895 \nL 106.00625 134.150246 \nL 109.26125 133.904182 \nL 112.51625 136.223286 \nL 115.77125 134.855475 \nL 119.02625 136.730134 \nL 122.28125 137.112091 \nL 125.53625 137.854928 \nL 128.79125 138.301444 \n\" clip-path=\"url(#p17c5c5ac70)\" style=\"fill: none; stroke: #1f77b4; stroke-width: 1.5; stroke-linecap: square\"/>\n   </g>\n   <g id=\"line2d_111\">\n    <path d=\"M 27.0725 55.146873 \nL 33.5825 67.043158 \nL 40.0925 72.206344 \nL 46.6025 75.654013 \nL 53.1125 77.03997 \nL 59.6225 77.472463 \nL 66.1325 79.852972 \nL 72.6425 76.712233 \nL 79.1525 80.199634 \nL 85.6625 71.602883 \nL 92.1725 73.702238 \nL 98.6825 75.248216 \nL 105.1925 68.206196 \nL 111.7025 72.975105 \nL 118.2125 68.095777 \nL 124.7225 68.783608 \n\" clip-path=\"url(#p17c5c5ac70)\" style=\"fill: none; stroke-dasharray: 5.55,2.4; stroke-dashoffset: 0; stroke: #ff7f0e; stroke-width: 1.5\"/>\n   </g>\n   <g id=\"line2d_112\">\n    <path d=\"M 21.37625 16.988113 \nL 24.63125 59.566179 \nL 27.88625 68.348988 \nL 31.14125 76.544765 \nL 34.39625 82.824078 \nL 37.65125 86.524919 \nL 40.90625 94.449373 \nL 44.16125 91.309039 \nL 47.41625 98.764443 \nL 50.67125 100.210362 \nL 53.92625 105.464547 \nL 57.18125 105.426727 \nL 60.43625 110.114159 \nL 63.69125 111.510068 \nL 66.94625 116.25074 \nL 70.20125 115.141637 \nL 73.45625 120.889299 \nL 76.71125 118.726122 \nL 79.96625 124.178499 \nL 83.22125 122.829426 \nL 86.47625 125.838671 \nL 89.73125 126.965891 \nL 92.98625 129.44621 \nL 96.24125 129.280109 \nL 99.49625 131.233361 \nL 102.75125 132.356895 \nL 106.00625 134.150246 \nL 109.26125 133.904182 \nL 112.51625 136.223286 \nL 115.77125 134.855475 \nL 119.02625 136.730134 \nL 122.28125 137.112091 \nL 125.53625 137.854928 \nL 128.79125 138.301444 \n\" clip-path=\"url(#p17c5c5ac70)\" style=\"fill: none; stroke: #1f77b4; stroke-width: 1.5; stroke-linecap: square\"/>\n   </g>\n   <g id=\"line2d_113\">\n    <path d=\"M 27.0725 55.146873 \nL 33.5825 67.043158 \nL 40.0925 72.206344 \nL 46.6025 75.654013 \nL 53.1125 77.03997 \nL 59.6225 77.472463 \nL 66.1325 79.852972 \nL 72.6425 76.712233 \nL 79.1525 80.199634 \nL 85.6625 71.602883 \nL 92.1725 73.702238 \nL 98.6825 75.248216 \nL 105.1925 68.206196 \nL 111.7025 72.975105 \nL 118.2125 68.095777 \nL 124.7225 68.783608 \nL 131.2325 68.744664 \n\" clip-path=\"url(#p17c5c5ac70)\" style=\"fill: none; stroke-dasharray: 5.55,2.4; stroke-dashoffset: 0; stroke: #ff7f0e; stroke-width: 1.5\"/>\n   </g>\n   <g id=\"line2d_114\">\n    <path d=\"M 21.37625 16.988113 \nL 24.63125 59.566179 \nL 27.88625 68.348988 \nL 31.14125 76.544765 \nL 34.39625 82.824078 \nL 37.65125 86.524919 \nL 40.90625 94.449373 \nL 44.16125 91.309039 \nL 47.41625 98.764443 \nL 50.67125 100.210362 \nL 53.92625 105.464547 \nL 57.18125 105.426727 \nL 60.43625 110.114159 \nL 63.69125 111.510068 \nL 66.94625 116.25074 \nL 70.20125 115.141637 \nL 73.45625 120.889299 \nL 76.71125 118.726122 \nL 79.96625 124.178499 \nL 83.22125 122.829426 \nL 86.47625 125.838671 \nL 89.73125 126.965891 \nL 92.98625 129.44621 \nL 96.24125 129.280109 \nL 99.49625 131.233361 \nL 102.75125 132.356895 \nL 106.00625 134.150246 \nL 109.26125 133.904182 \nL 112.51625 136.223286 \nL 115.77125 134.855475 \nL 119.02625 136.730134 \nL 122.28125 137.112091 \nL 125.53625 137.854928 \nL 128.79125 138.301444 \nL 132.04625 139.135594 \n\" clip-path=\"url(#p17c5c5ac70)\" style=\"fill: none; stroke: #1f77b4; stroke-width: 1.5; stroke-linecap: square\"/>\n   </g>\n   <g id=\"line2d_115\">\n    <path d=\"M 27.0725 55.146873 \nL 33.5825 67.043158 \nL 40.0925 72.206344 \nL 46.6025 75.654013 \nL 53.1125 77.03997 \nL 59.6225 77.472463 \nL 66.1325 79.852972 \nL 72.6425 76.712233 \nL 79.1525 80.199634 \nL 85.6625 71.602883 \nL 92.1725 73.702238 \nL 98.6825 75.248216 \nL 105.1925 68.206196 \nL 111.7025 72.975105 \nL 118.2125 68.095777 \nL 124.7225 68.783608 \nL 131.2325 68.744664 \n\" clip-path=\"url(#p17c5c5ac70)\" style=\"fill: none; stroke-dasharray: 5.55,2.4; stroke-dashoffset: 0; stroke: #ff7f0e; stroke-width: 1.5\"/>\n   </g>\n   <g id=\"line2d_116\">\n    <path d=\"M 21.37625 16.988113 \nL 24.63125 59.566179 \nL 27.88625 68.348988 \nL 31.14125 76.544765 \nL 34.39625 82.824078 \nL 37.65125 86.524919 \nL 40.90625 94.449373 \nL 44.16125 91.309039 \nL 47.41625 98.764443 \nL 50.67125 100.210362 \nL 53.92625 105.464547 \nL 57.18125 105.426727 \nL 60.43625 110.114159 \nL 63.69125 111.510068 \nL 66.94625 116.25074 \nL 70.20125 115.141637 \nL 73.45625 120.889299 \nL 76.71125 118.726122 \nL 79.96625 124.178499 \nL 83.22125 122.829426 \nL 86.47625 125.838671 \nL 89.73125 126.965891 \nL 92.98625 129.44621 \nL 96.24125 129.280109 \nL 99.49625 131.233361 \nL 102.75125 132.356895 \nL 106.00625 134.150246 \nL 109.26125 133.904182 \nL 112.51625 136.223286 \nL 115.77125 134.855475 \nL 119.02625 136.730134 \nL 122.28125 137.112091 \nL 125.53625 137.854928 \nL 128.79125 138.301444 \nL 132.04625 139.135594 \nL 135.30125 138.875236 \n\" clip-path=\"url(#p17c5c5ac70)\" style=\"fill: none; stroke: #1f77b4; stroke-width: 1.5; stroke-linecap: square\"/>\n   </g>\n   <g id=\"line2d_117\">\n    <path d=\"M 27.0725 55.146873 \nL 33.5825 67.043158 \nL 40.0925 72.206344 \nL 46.6025 75.654013 \nL 53.1125 77.03997 \nL 59.6225 77.472463 \nL 66.1325 79.852972 \nL 72.6425 76.712233 \nL 79.1525 80.199634 \nL 85.6625 71.602883 \nL 92.1725 73.702238 \nL 98.6825 75.248216 \nL 105.1925 68.206196 \nL 111.7025 72.975105 \nL 118.2125 68.095777 \nL 124.7225 68.783608 \nL 131.2325 68.744664 \n\" clip-path=\"url(#p17c5c5ac70)\" style=\"fill: none; stroke-dasharray: 5.55,2.4; stroke-dashoffset: 0; stroke: #ff7f0e; stroke-width: 1.5\"/>\n   </g>\n   <g id=\"line2d_118\">\n    <path d=\"M 21.37625 16.988113 \nL 24.63125 59.566179 \nL 27.88625 68.348988 \nL 31.14125 76.544765 \nL 34.39625 82.824078 \nL 37.65125 86.524919 \nL 40.90625 94.449373 \nL 44.16125 91.309039 \nL 47.41625 98.764443 \nL 50.67125 100.210362 \nL 53.92625 105.464547 \nL 57.18125 105.426727 \nL 60.43625 110.114159 \nL 63.69125 111.510068 \nL 66.94625 116.25074 \nL 70.20125 115.141637 \nL 73.45625 120.889299 \nL 76.71125 118.726122 \nL 79.96625 124.178499 \nL 83.22125 122.829426 \nL 86.47625 125.838671 \nL 89.73125 126.965891 \nL 92.98625 129.44621 \nL 96.24125 129.280109 \nL 99.49625 131.233361 \nL 102.75125 132.356895 \nL 106.00625 134.150246 \nL 109.26125 133.904182 \nL 112.51625 136.223286 \nL 115.77125 134.855475 \nL 119.02625 136.730134 \nL 122.28125 137.112091 \nL 125.53625 137.854928 \nL 128.79125 138.301444 \nL 132.04625 139.135594 \nL 135.30125 138.875236 \n\" clip-path=\"url(#p17c5c5ac70)\" style=\"fill: none; stroke: #1f77b4; stroke-width: 1.5; stroke-linecap: square\"/>\n   </g>\n   <g id=\"line2d_119\">\n    <path d=\"M 27.0725 55.146873 \nL 33.5825 67.043158 \nL 40.0925 72.206344 \nL 46.6025 75.654013 \nL 53.1125 77.03997 \nL 59.6225 77.472463 \nL 66.1325 79.852972 \nL 72.6425 76.712233 \nL 79.1525 80.199634 \nL 85.6625 71.602883 \nL 92.1725 73.702238 \nL 98.6825 75.248216 \nL 105.1925 68.206196 \nL 111.7025 72.975105 \nL 118.2125 68.095777 \nL 124.7225 68.783608 \nL 131.2325 68.744664 \nL 137.7425 65.802015 \n\" clip-path=\"url(#p17c5c5ac70)\" style=\"fill: none; stroke-dasharray: 5.55,2.4; stroke-dashoffset: 0; stroke: #ff7f0e; stroke-width: 1.5\"/>\n   </g>\n   <g id=\"line2d_120\">\n    <path d=\"M 21.37625 16.988113 \nL 24.63125 59.566179 \nL 27.88625 68.348988 \nL 31.14125 76.544765 \nL 34.39625 82.824078 \nL 37.65125 86.524919 \nL 40.90625 94.449373 \nL 44.16125 91.309039 \nL 47.41625 98.764443 \nL 50.67125 100.210362 \nL 53.92625 105.464547 \nL 57.18125 105.426727 \nL 60.43625 110.114159 \nL 63.69125 111.510068 \nL 66.94625 116.25074 \nL 70.20125 115.141637 \nL 73.45625 120.889299 \nL 76.71125 118.726122 \nL 79.96625 124.178499 \nL 83.22125 122.829426 \nL 86.47625 125.838671 \nL 89.73125 126.965891 \nL 92.98625 129.44621 \nL 96.24125 129.280109 \nL 99.49625 131.233361 \nL 102.75125 132.356895 \nL 106.00625 134.150246 \nL 109.26125 133.904182 \nL 112.51625 136.223286 \nL 115.77125 134.855475 \nL 119.02625 136.730134 \nL 122.28125 137.112091 \nL 125.53625 137.854928 \nL 128.79125 138.301444 \nL 132.04625 139.135594 \nL 135.30125 138.875236 \nL 138.55625 139.412457 \n\" clip-path=\"url(#p17c5c5ac70)\" style=\"fill: none; stroke: #1f77b4; stroke-width: 1.5; stroke-linecap: square\"/>\n   </g>\n   <g id=\"line2d_121\">\n    <path d=\"M 27.0725 55.146873 \nL 33.5825 67.043158 \nL 40.0925 72.206344 \nL 46.6025 75.654013 \nL 53.1125 77.03997 \nL 59.6225 77.472463 \nL 66.1325 79.852972 \nL 72.6425 76.712233 \nL 79.1525 80.199634 \nL 85.6625 71.602883 \nL 92.1725 73.702238 \nL 98.6825 75.248216 \nL 105.1925 68.206196 \nL 111.7025 72.975105 \nL 118.2125 68.095777 \nL 124.7225 68.783608 \nL 131.2325 68.744664 \nL 137.7425 65.802015 \n\" clip-path=\"url(#p17c5c5ac70)\" style=\"fill: none; stroke-dasharray: 5.55,2.4; stroke-dashoffset: 0; stroke: #ff7f0e; stroke-width: 1.5\"/>\n   </g>\n   <g id=\"line2d_122\">\n    <path d=\"M 21.37625 16.988113 \nL 24.63125 59.566179 \nL 27.88625 68.348988 \nL 31.14125 76.544765 \nL 34.39625 82.824078 \nL 37.65125 86.524919 \nL 40.90625 94.449373 \nL 44.16125 91.309039 \nL 47.41625 98.764443 \nL 50.67125 100.210362 \nL 53.92625 105.464547 \nL 57.18125 105.426727 \nL 60.43625 110.114159 \nL 63.69125 111.510068 \nL 66.94625 116.25074 \nL 70.20125 115.141637 \nL 73.45625 120.889299 \nL 76.71125 118.726122 \nL 79.96625 124.178499 \nL 83.22125 122.829426 \nL 86.47625 125.838671 \nL 89.73125 126.965891 \nL 92.98625 129.44621 \nL 96.24125 129.280109 \nL 99.49625 131.233361 \nL 102.75125 132.356895 \nL 106.00625 134.150246 \nL 109.26125 133.904182 \nL 112.51625 136.223286 \nL 115.77125 134.855475 \nL 119.02625 136.730134 \nL 122.28125 137.112091 \nL 125.53625 137.854928 \nL 128.79125 138.301444 \nL 132.04625 139.135594 \nL 135.30125 138.875236 \nL 138.55625 139.412457 \nL 141.81125 139.985089 \n\" clip-path=\"url(#p17c5c5ac70)\" style=\"fill: none; stroke: #1f77b4; stroke-width: 1.5; stroke-linecap: square\"/>\n   </g>\n   <g id=\"line2d_123\">\n    <path d=\"M 27.0725 55.146873 \nL 33.5825 67.043158 \nL 40.0925 72.206344 \nL 46.6025 75.654013 \nL 53.1125 77.03997 \nL 59.6225 77.472463 \nL 66.1325 79.852972 \nL 72.6425 76.712233 \nL 79.1525 80.199634 \nL 85.6625 71.602883 \nL 92.1725 73.702238 \nL 98.6825 75.248216 \nL 105.1925 68.206196 \nL 111.7025 72.975105 \nL 118.2125 68.095777 \nL 124.7225 68.783608 \nL 131.2325 68.744664 \nL 137.7425 65.802015 \n\" clip-path=\"url(#p17c5c5ac70)\" style=\"fill: none; stroke-dasharray: 5.55,2.4; stroke-dashoffset: 0; stroke: #ff7f0e; stroke-width: 1.5\"/>\n   </g>\n   <g id=\"line2d_124\">\n    <path d=\"M 21.37625 16.988113 \nL 24.63125 59.566179 \nL 27.88625 68.348988 \nL 31.14125 76.544765 \nL 34.39625 82.824078 \nL 37.65125 86.524919 \nL 40.90625 94.449373 \nL 44.16125 91.309039 \nL 47.41625 98.764443 \nL 50.67125 100.210362 \nL 53.92625 105.464547 \nL 57.18125 105.426727 \nL 60.43625 110.114159 \nL 63.69125 111.510068 \nL 66.94625 116.25074 \nL 70.20125 115.141637 \nL 73.45625 120.889299 \nL 76.71125 118.726122 \nL 79.96625 124.178499 \nL 83.22125 122.829426 \nL 86.47625 125.838671 \nL 89.73125 126.965891 \nL 92.98625 129.44621 \nL 96.24125 129.280109 \nL 99.49625 131.233361 \nL 102.75125 132.356895 \nL 106.00625 134.150246 \nL 109.26125 133.904182 \nL 112.51625 136.223286 \nL 115.77125 134.855475 \nL 119.02625 136.730134 \nL 122.28125 137.112091 \nL 125.53625 137.854928 \nL 128.79125 138.301444 \nL 132.04625 139.135594 \nL 135.30125 138.875236 \nL 138.55625 139.412457 \nL 141.81125 139.985089 \n\" clip-path=\"url(#p17c5c5ac70)\" style=\"fill: none; stroke: #1f77b4; stroke-width: 1.5; stroke-linecap: square\"/>\n   </g>\n   <g id=\"line2d_125\">\n    <path d=\"M 27.0725 55.146873 \nL 33.5825 67.043158 \nL 40.0925 72.206344 \nL 46.6025 75.654013 \nL 53.1125 77.03997 \nL 59.6225 77.472463 \nL 66.1325 79.852972 \nL 72.6425 76.712233 \nL 79.1525 80.199634 \nL 85.6625 71.602883 \nL 92.1725 73.702238 \nL 98.6825 75.248216 \nL 105.1925 68.206196 \nL 111.7025 72.975105 \nL 118.2125 68.095777 \nL 124.7225 68.783608 \nL 131.2325 68.744664 \nL 137.7425 65.802015 \nL 144.2525 65.418075 \n\" clip-path=\"url(#p17c5c5ac70)\" style=\"fill: none; stroke-dasharray: 5.55,2.4; stroke-dashoffset: 0; stroke: #ff7f0e; stroke-width: 1.5\"/>\n   </g>\n   <g id=\"line2d_126\">\n    <path d=\"M 21.37625 16.988113 \nL 24.63125 59.566179 \nL 27.88625 68.348988 \nL 31.14125 76.544765 \nL 34.39625 82.824078 \nL 37.65125 86.524919 \nL 40.90625 94.449373 \nL 44.16125 91.309039 \nL 47.41625 98.764443 \nL 50.67125 100.210362 \nL 53.92625 105.464547 \nL 57.18125 105.426727 \nL 60.43625 110.114159 \nL 63.69125 111.510068 \nL 66.94625 116.25074 \nL 70.20125 115.141637 \nL 73.45625 120.889299 \nL 76.71125 118.726122 \nL 79.96625 124.178499 \nL 83.22125 122.829426 \nL 86.47625 125.838671 \nL 89.73125 126.965891 \nL 92.98625 129.44621 \nL 96.24125 129.280109 \nL 99.49625 131.233361 \nL 102.75125 132.356895 \nL 106.00625 134.150246 \nL 109.26125 133.904182 \nL 112.51625 136.223286 \nL 115.77125 134.855475 \nL 119.02625 136.730134 \nL 122.28125 137.112091 \nL 125.53625 137.854928 \nL 128.79125 138.301444 \nL 132.04625 139.135594 \nL 135.30125 138.875236 \nL 138.55625 139.412457 \nL 141.81125 139.985089 \nL 145.06625 140.569597 \n\" clip-path=\"url(#p17c5c5ac70)\" style=\"fill: none; stroke: #1f77b4; stroke-width: 1.5; stroke-linecap: square\"/>\n   </g>\n   <g id=\"line2d_127\">\n    <path d=\"M 27.0725 55.146873 \nL 33.5825 67.043158 \nL 40.0925 72.206344 \nL 46.6025 75.654013 \nL 53.1125 77.03997 \nL 59.6225 77.472463 \nL 66.1325 79.852972 \nL 72.6425 76.712233 \nL 79.1525 80.199634 \nL 85.6625 71.602883 \nL 92.1725 73.702238 \nL 98.6825 75.248216 \nL 105.1925 68.206196 \nL 111.7025 72.975105 \nL 118.2125 68.095777 \nL 124.7225 68.783608 \nL 131.2325 68.744664 \nL 137.7425 65.802015 \nL 144.2525 65.418075 \n\" clip-path=\"url(#p17c5c5ac70)\" style=\"fill: none; stroke-dasharray: 5.55,2.4; stroke-dashoffset: 0; stroke: #ff7f0e; stroke-width: 1.5\"/>\n   </g>\n   <g id=\"line2d_128\">\n    <path d=\"M 21.37625 16.988113 \nL 24.63125 59.566179 \nL 27.88625 68.348988 \nL 31.14125 76.544765 \nL 34.39625 82.824078 \nL 37.65125 86.524919 \nL 40.90625 94.449373 \nL 44.16125 91.309039 \nL 47.41625 98.764443 \nL 50.67125 100.210362 \nL 53.92625 105.464547 \nL 57.18125 105.426727 \nL 60.43625 110.114159 \nL 63.69125 111.510068 \nL 66.94625 116.25074 \nL 70.20125 115.141637 \nL 73.45625 120.889299 \nL 76.71125 118.726122 \nL 79.96625 124.178499 \nL 83.22125 122.829426 \nL 86.47625 125.838671 \nL 89.73125 126.965891 \nL 92.98625 129.44621 \nL 96.24125 129.280109 \nL 99.49625 131.233361 \nL 102.75125 132.356895 \nL 106.00625 134.150246 \nL 109.26125 133.904182 \nL 112.51625 136.223286 \nL 115.77125 134.855475 \nL 119.02625 136.730134 \nL 122.28125 137.112091 \nL 125.53625 137.854928 \nL 128.79125 138.301444 \nL 132.04625 139.135594 \nL 135.30125 138.875236 \nL 138.55625 139.412457 \nL 141.81125 139.985089 \nL 145.06625 140.569597 \nL 148.32125 139.753333 \n\" clip-path=\"url(#p17c5c5ac70)\" style=\"fill: none; stroke: #1f77b4; stroke-width: 1.5; stroke-linecap: square\"/>\n   </g>\n   <g id=\"line2d_129\">\n    <path d=\"M 27.0725 55.146873 \nL 33.5825 67.043158 \nL 40.0925 72.206344 \nL 46.6025 75.654013 \nL 53.1125 77.03997 \nL 59.6225 77.472463 \nL 66.1325 79.852972 \nL 72.6425 76.712233 \nL 79.1525 80.199634 \nL 85.6625 71.602883 \nL 92.1725 73.702238 \nL 98.6825 75.248216 \nL 105.1925 68.206196 \nL 111.7025 72.975105 \nL 118.2125 68.095777 \nL 124.7225 68.783608 \nL 131.2325 68.744664 \nL 137.7425 65.802015 \nL 144.2525 65.418075 \n\" clip-path=\"url(#p17c5c5ac70)\" style=\"fill: none; stroke-dasharray: 5.55,2.4; stroke-dashoffset: 0; stroke: #ff7f0e; stroke-width: 1.5\"/>\n   </g>\n   <g id=\"line2d_130\">\n    <path d=\"M 21.37625 16.988113 \nL 24.63125 59.566179 \nL 27.88625 68.348988 \nL 31.14125 76.544765 \nL 34.39625 82.824078 \nL 37.65125 86.524919 \nL 40.90625 94.449373 \nL 44.16125 91.309039 \nL 47.41625 98.764443 \nL 50.67125 100.210362 \nL 53.92625 105.464547 \nL 57.18125 105.426727 \nL 60.43625 110.114159 \nL 63.69125 111.510068 \nL 66.94625 116.25074 \nL 70.20125 115.141637 \nL 73.45625 120.889299 \nL 76.71125 118.726122 \nL 79.96625 124.178499 \nL 83.22125 122.829426 \nL 86.47625 125.838671 \nL 89.73125 126.965891 \nL 92.98625 129.44621 \nL 96.24125 129.280109 \nL 99.49625 131.233361 \nL 102.75125 132.356895 \nL 106.00625 134.150246 \nL 109.26125 133.904182 \nL 112.51625 136.223286 \nL 115.77125 134.855475 \nL 119.02625 136.730134 \nL 122.28125 137.112091 \nL 125.53625 137.854928 \nL 128.79125 138.301444 \nL 132.04625 139.135594 \nL 135.30125 138.875236 \nL 138.55625 139.412457 \nL 141.81125 139.985089 \nL 145.06625 140.569597 \nL 148.32125 139.753333 \n\" clip-path=\"url(#p17c5c5ac70)\" style=\"fill: none; stroke: #1f77b4; stroke-width: 1.5; stroke-linecap: square\"/>\n   </g>\n   <g id=\"line2d_131\">\n    <path d=\"M 27.0725 55.146873 \nL 33.5825 67.043158 \nL 40.0925 72.206344 \nL 46.6025 75.654013 \nL 53.1125 77.03997 \nL 59.6225 77.472463 \nL 66.1325 79.852972 \nL 72.6425 76.712233 \nL 79.1525 80.199634 \nL 85.6625 71.602883 \nL 92.1725 73.702238 \nL 98.6825 75.248216 \nL 105.1925 68.206196 \nL 111.7025 72.975105 \nL 118.2125 68.095777 \nL 124.7225 68.783608 \nL 131.2325 68.744664 \nL 137.7425 65.802015 \nL 144.2525 65.418075 \nL 150.7625 65.48641 \n\" clip-path=\"url(#p17c5c5ac70)\" style=\"fill: none; stroke-dasharray: 5.55,2.4; stroke-dashoffset: 0; stroke: #ff7f0e; stroke-width: 1.5\"/>\n   </g>\n   <g id=\"line2d_132\">\n    <path d=\"M 21.37625 16.988113 \nL 24.63125 59.566179 \nL 27.88625 68.348988 \nL 31.14125 76.544765 \nL 34.39625 82.824078 \nL 37.65125 86.524919 \nL 40.90625 94.449373 \nL 44.16125 91.309039 \nL 47.41625 98.764443 \nL 50.67125 100.210362 \nL 53.92625 105.464547 \nL 57.18125 105.426727 \nL 60.43625 110.114159 \nL 63.69125 111.510068 \nL 66.94625 116.25074 \nL 70.20125 115.141637 \nL 73.45625 120.889299 \nL 76.71125 118.726122 \nL 79.96625 124.178499 \nL 83.22125 122.829426 \nL 86.47625 125.838671 \nL 89.73125 126.965891 \nL 92.98625 129.44621 \nL 96.24125 129.280109 \nL 99.49625 131.233361 \nL 102.75125 132.356895 \nL 106.00625 134.150246 \nL 109.26125 133.904182 \nL 112.51625 136.223286 \nL 115.77125 134.855475 \nL 119.02625 136.730134 \nL 122.28125 137.112091 \nL 125.53625 137.854928 \nL 128.79125 138.301444 \nL 132.04625 139.135594 \nL 135.30125 138.875236 \nL 138.55625 139.412457 \nL 141.81125 139.985089 \nL 145.06625 140.569597 \nL 148.32125 139.753333 \nL 151.57625 141.316869 \n\" clip-path=\"url(#p17c5c5ac70)\" style=\"fill: none; stroke: #1f77b4; stroke-width: 1.5; stroke-linecap: square\"/>\n   </g>\n   <g id=\"line2d_133\">\n    <path d=\"M 27.0725 55.146873 \nL 33.5825 67.043158 \nL 40.0925 72.206344 \nL 46.6025 75.654013 \nL 53.1125 77.03997 \nL 59.6225 77.472463 \nL 66.1325 79.852972 \nL 72.6425 76.712233 \nL 79.1525 80.199634 \nL 85.6625 71.602883 \nL 92.1725 73.702238 \nL 98.6825 75.248216 \nL 105.1925 68.206196 \nL 111.7025 72.975105 \nL 118.2125 68.095777 \nL 124.7225 68.783608 \nL 131.2325 68.744664 \nL 137.7425 65.802015 \nL 144.2525 65.418075 \nL 150.7625 65.48641 \n\" clip-path=\"url(#p17c5c5ac70)\" style=\"fill: none; stroke-dasharray: 5.55,2.4; stroke-dashoffset: 0; stroke: #ff7f0e; stroke-width: 1.5\"/>\n   </g>\n   <g id=\"line2d_134\">\n    <path d=\"M 21.37625 16.988113 \nL 24.63125 59.566179 \nL 27.88625 68.348988 \nL 31.14125 76.544765 \nL 34.39625 82.824078 \nL 37.65125 86.524919 \nL 40.90625 94.449373 \nL 44.16125 91.309039 \nL 47.41625 98.764443 \nL 50.67125 100.210362 \nL 53.92625 105.464547 \nL 57.18125 105.426727 \nL 60.43625 110.114159 \nL 63.69125 111.510068 \nL 66.94625 116.25074 \nL 70.20125 115.141637 \nL 73.45625 120.889299 \nL 76.71125 118.726122 \nL 79.96625 124.178499 \nL 83.22125 122.829426 \nL 86.47625 125.838671 \nL 89.73125 126.965891 \nL 92.98625 129.44621 \nL 96.24125 129.280109 \nL 99.49625 131.233361 \nL 102.75125 132.356895 \nL 106.00625 134.150246 \nL 109.26125 133.904182 \nL 112.51625 136.223286 \nL 115.77125 134.855475 \nL 119.02625 136.730134 \nL 122.28125 137.112091 \nL 125.53625 137.854928 \nL 128.79125 138.301444 \nL 132.04625 139.135594 \nL 135.30125 138.875236 \nL 138.55625 139.412457 \nL 141.81125 139.985089 \nL 145.06625 140.569597 \nL 148.32125 139.753333 \nL 151.57625 141.316869 \nL 154.83125 140.368701 \n\" clip-path=\"url(#p17c5c5ac70)\" style=\"fill: none; stroke: #1f77b4; stroke-width: 1.5; stroke-linecap: square\"/>\n   </g>\n   <g id=\"line2d_135\">\n    <path d=\"M 27.0725 55.146873 \nL 33.5825 67.043158 \nL 40.0925 72.206344 \nL 46.6025 75.654013 \nL 53.1125 77.03997 \nL 59.6225 77.472463 \nL 66.1325 79.852972 \nL 72.6425 76.712233 \nL 79.1525 80.199634 \nL 85.6625 71.602883 \nL 92.1725 73.702238 \nL 98.6825 75.248216 \nL 105.1925 68.206196 \nL 111.7025 72.975105 \nL 118.2125 68.095777 \nL 124.7225 68.783608 \nL 131.2325 68.744664 \nL 137.7425 65.802015 \nL 144.2525 65.418075 \nL 150.7625 65.48641 \n\" clip-path=\"url(#p17c5c5ac70)\" style=\"fill: none; stroke-dasharray: 5.55,2.4; stroke-dashoffset: 0; stroke: #ff7f0e; stroke-width: 1.5\"/>\n   </g>\n   <g id=\"line2d_136\">\n    <path d=\"M 21.37625 16.988113 \nL 24.63125 59.566179 \nL 27.88625 68.348988 \nL 31.14125 76.544765 \nL 34.39625 82.824078 \nL 37.65125 86.524919 \nL 40.90625 94.449373 \nL 44.16125 91.309039 \nL 47.41625 98.764443 \nL 50.67125 100.210362 \nL 53.92625 105.464547 \nL 57.18125 105.426727 \nL 60.43625 110.114159 \nL 63.69125 111.510068 \nL 66.94625 116.25074 \nL 70.20125 115.141637 \nL 73.45625 120.889299 \nL 76.71125 118.726122 \nL 79.96625 124.178499 \nL 83.22125 122.829426 \nL 86.47625 125.838671 \nL 89.73125 126.965891 \nL 92.98625 129.44621 \nL 96.24125 129.280109 \nL 99.49625 131.233361 \nL 102.75125 132.356895 \nL 106.00625 134.150246 \nL 109.26125 133.904182 \nL 112.51625 136.223286 \nL 115.77125 134.855475 \nL 119.02625 136.730134 \nL 122.28125 137.112091 \nL 125.53625 137.854928 \nL 128.79125 138.301444 \nL 132.04625 139.135594 \nL 135.30125 138.875236 \nL 138.55625 139.412457 \nL 141.81125 139.985089 \nL 145.06625 140.569597 \nL 148.32125 139.753333 \nL 151.57625 141.316869 \nL 154.83125 140.368701 \n\" clip-path=\"url(#p17c5c5ac70)\" style=\"fill: none; stroke: #1f77b4; stroke-width: 1.5; stroke-linecap: square\"/>\n   </g>\n   <g id=\"line2d_137\">\n    <path d=\"M 27.0725 55.146873 \nL 33.5825 67.043158 \nL 40.0925 72.206344 \nL 46.6025 75.654013 \nL 53.1125 77.03997 \nL 59.6225 77.472463 \nL 66.1325 79.852972 \nL 72.6425 76.712233 \nL 79.1525 80.199634 \nL 85.6625 71.602883 \nL 92.1725 73.702238 \nL 98.6825 75.248216 \nL 105.1925 68.206196 \nL 111.7025 72.975105 \nL 118.2125 68.095777 \nL 124.7225 68.783608 \nL 131.2325 68.744664 \nL 137.7425 65.802015 \nL 144.2525 65.418075 \nL 150.7625 65.48641 \nL 157.2725 65.432603 \n\" clip-path=\"url(#p17c5c5ac70)\" style=\"fill: none; stroke-dasharray: 5.55,2.4; stroke-dashoffset: 0; stroke: #ff7f0e; stroke-width: 1.5\"/>\n   </g>\n   <g id=\"line2d_138\">\n    <path d=\"M 21.37625 16.988113 \nL 24.63125 59.566179 \nL 27.88625 68.348988 \nL 31.14125 76.544765 \nL 34.39625 82.824078 \nL 37.65125 86.524919 \nL 40.90625 94.449373 \nL 44.16125 91.309039 \nL 47.41625 98.764443 \nL 50.67125 100.210362 \nL 53.92625 105.464547 \nL 57.18125 105.426727 \nL 60.43625 110.114159 \nL 63.69125 111.510068 \nL 66.94625 116.25074 \nL 70.20125 115.141637 \nL 73.45625 120.889299 \nL 76.71125 118.726122 \nL 79.96625 124.178499 \nL 83.22125 122.829426 \nL 86.47625 125.838671 \nL 89.73125 126.965891 \nL 92.98625 129.44621 \nL 96.24125 129.280109 \nL 99.49625 131.233361 \nL 102.75125 132.356895 \nL 106.00625 134.150246 \nL 109.26125 133.904182 \nL 112.51625 136.223286 \nL 115.77125 134.855475 \nL 119.02625 136.730134 \nL 122.28125 137.112091 \nL 125.53625 137.854928 \nL 128.79125 138.301444 \nL 132.04625 139.135594 \nL 135.30125 138.875236 \nL 138.55625 139.412457 \nL 141.81125 139.985089 \nL 145.06625 140.569597 \nL 148.32125 139.753333 \nL 151.57625 141.316869 \nL 154.83125 140.368701 \nL 158.08625 141.220248 \n\" clip-path=\"url(#p17c5c5ac70)\" style=\"fill: none; stroke: #1f77b4; stroke-width: 1.5; stroke-linecap: square\"/>\n   </g>\n   <g id=\"line2d_139\">\n    <path d=\"M 27.0725 55.146873 \nL 33.5825 67.043158 \nL 40.0925 72.206344 \nL 46.6025 75.654013 \nL 53.1125 77.03997 \nL 59.6225 77.472463 \nL 66.1325 79.852972 \nL 72.6425 76.712233 \nL 79.1525 80.199634 \nL 85.6625 71.602883 \nL 92.1725 73.702238 \nL 98.6825 75.248216 \nL 105.1925 68.206196 \nL 111.7025 72.975105 \nL 118.2125 68.095777 \nL 124.7225 68.783608 \nL 131.2325 68.744664 \nL 137.7425 65.802015 \nL 144.2525 65.418075 \nL 150.7625 65.48641 \nL 157.2725 65.432603 \n\" clip-path=\"url(#p17c5c5ac70)\" style=\"fill: none; stroke-dasharray: 5.55,2.4; stroke-dashoffset: 0; stroke: #ff7f0e; stroke-width: 1.5\"/>\n   </g>\n   <g id=\"line2d_140\">\n    <path d=\"M 21.37625 16.988113 \nL 24.63125 59.566179 \nL 27.88625 68.348988 \nL 31.14125 76.544765 \nL 34.39625 82.824078 \nL 37.65125 86.524919 \nL 40.90625 94.449373 \nL 44.16125 91.309039 \nL 47.41625 98.764443 \nL 50.67125 100.210362 \nL 53.92625 105.464547 \nL 57.18125 105.426727 \nL 60.43625 110.114159 \nL 63.69125 111.510068 \nL 66.94625 116.25074 \nL 70.20125 115.141637 \nL 73.45625 120.889299 \nL 76.71125 118.726122 \nL 79.96625 124.178499 \nL 83.22125 122.829426 \nL 86.47625 125.838671 \nL 89.73125 126.965891 \nL 92.98625 129.44621 \nL 96.24125 129.280109 \nL 99.49625 131.233361 \nL 102.75125 132.356895 \nL 106.00625 134.150246 \nL 109.26125 133.904182 \nL 112.51625 136.223286 \nL 115.77125 134.855475 \nL 119.02625 136.730134 \nL 122.28125 137.112091 \nL 125.53625 137.854928 \nL 128.79125 138.301444 \nL 132.04625 139.135594 \nL 135.30125 138.875236 \nL 138.55625 139.412457 \nL 141.81125 139.985089 \nL 145.06625 140.569597 \nL 148.32125 139.753333 \nL 151.57625 141.316869 \nL 154.83125 140.368701 \nL 158.08625 141.220248 \nL 161.34125 141.023571 \n\" clip-path=\"url(#p17c5c5ac70)\" style=\"fill: none; stroke: #1f77b4; stroke-width: 1.5; stroke-linecap: square\"/>\n   </g>\n   <g id=\"line2d_141\">\n    <path d=\"M 27.0725 55.146873 \nL 33.5825 67.043158 \nL 40.0925 72.206344 \nL 46.6025 75.654013 \nL 53.1125 77.03997 \nL 59.6225 77.472463 \nL 66.1325 79.852972 \nL 72.6425 76.712233 \nL 79.1525 80.199634 \nL 85.6625 71.602883 \nL 92.1725 73.702238 \nL 98.6825 75.248216 \nL 105.1925 68.206196 \nL 111.7025 72.975105 \nL 118.2125 68.095777 \nL 124.7225 68.783608 \nL 131.2325 68.744664 \nL 137.7425 65.802015 \nL 144.2525 65.418075 \nL 150.7625 65.48641 \nL 157.2725 65.432603 \n\" clip-path=\"url(#p17c5c5ac70)\" style=\"fill: none; stroke-dasharray: 5.55,2.4; stroke-dashoffset: 0; stroke: #ff7f0e; stroke-width: 1.5\"/>\n   </g>\n   <g id=\"line2d_142\">\n    <path d=\"M 21.37625 16.988113 \nL 24.63125 59.566179 \nL 27.88625 68.348988 \nL 31.14125 76.544765 \nL 34.39625 82.824078 \nL 37.65125 86.524919 \nL 40.90625 94.449373 \nL 44.16125 91.309039 \nL 47.41625 98.764443 \nL 50.67125 100.210362 \nL 53.92625 105.464547 \nL 57.18125 105.426727 \nL 60.43625 110.114159 \nL 63.69125 111.510068 \nL 66.94625 116.25074 \nL 70.20125 115.141637 \nL 73.45625 120.889299 \nL 76.71125 118.726122 \nL 79.96625 124.178499 \nL 83.22125 122.829426 \nL 86.47625 125.838671 \nL 89.73125 126.965891 \nL 92.98625 129.44621 \nL 96.24125 129.280109 \nL 99.49625 131.233361 \nL 102.75125 132.356895 \nL 106.00625 134.150246 \nL 109.26125 133.904182 \nL 112.51625 136.223286 \nL 115.77125 134.855475 \nL 119.02625 136.730134 \nL 122.28125 137.112091 \nL 125.53625 137.854928 \nL 128.79125 138.301444 \nL 132.04625 139.135594 \nL 135.30125 138.875236 \nL 138.55625 139.412457 \nL 141.81125 139.985089 \nL 145.06625 140.569597 \nL 148.32125 139.753333 \nL 151.57625 141.316869 \nL 154.83125 140.368701 \nL 158.08625 141.220248 \nL 161.34125 141.023571 \n\" clip-path=\"url(#p17c5c5ac70)\" style=\"fill: none; stroke: #1f77b4; stroke-width: 1.5; stroke-linecap: square\"/>\n   </g>\n   <g id=\"line2d_143\">\n    <path d=\"M 27.0725 55.146873 \nL 33.5825 67.043158 \nL 40.0925 72.206344 \nL 46.6025 75.654013 \nL 53.1125 77.03997 \nL 59.6225 77.472463 \nL 66.1325 79.852972 \nL 72.6425 76.712233 \nL 79.1525 80.199634 \nL 85.6625 71.602883 \nL 92.1725 73.702238 \nL 98.6825 75.248216 \nL 105.1925 68.206196 \nL 111.7025 72.975105 \nL 118.2125 68.095777 \nL 124.7225 68.783608 \nL 131.2325 68.744664 \nL 137.7425 65.802015 \nL 144.2525 65.418075 \nL 150.7625 65.48641 \nL 157.2725 65.432603 \nL 163.7825 61.656489 \n\" clip-path=\"url(#p17c5c5ac70)\" style=\"fill: none; stroke-dasharray: 5.55,2.4; stroke-dashoffset: 0; stroke: #ff7f0e; stroke-width: 1.5\"/>\n   </g>\n   <g id=\"line2d_144\">\n    <path d=\"M 21.37625 16.988113 \nL 24.63125 59.566179 \nL 27.88625 68.348988 \nL 31.14125 76.544765 \nL 34.39625 82.824078 \nL 37.65125 86.524919 \nL 40.90625 94.449373 \nL 44.16125 91.309039 \nL 47.41625 98.764443 \nL 50.67125 100.210362 \nL 53.92625 105.464547 \nL 57.18125 105.426727 \nL 60.43625 110.114159 \nL 63.69125 111.510068 \nL 66.94625 116.25074 \nL 70.20125 115.141637 \nL 73.45625 120.889299 \nL 76.71125 118.726122 \nL 79.96625 124.178499 \nL 83.22125 122.829426 \nL 86.47625 125.838671 \nL 89.73125 126.965891 \nL 92.98625 129.44621 \nL 96.24125 129.280109 \nL 99.49625 131.233361 \nL 102.75125 132.356895 \nL 106.00625 134.150246 \nL 109.26125 133.904182 \nL 112.51625 136.223286 \nL 115.77125 134.855475 \nL 119.02625 136.730134 \nL 122.28125 137.112091 \nL 125.53625 137.854928 \nL 128.79125 138.301444 \nL 132.04625 139.135594 \nL 135.30125 138.875236 \nL 138.55625 139.412457 \nL 141.81125 139.985089 \nL 145.06625 140.569597 \nL 148.32125 139.753333 \nL 151.57625 141.316869 \nL 154.83125 140.368701 \nL 158.08625 141.220248 \nL 161.34125 141.023571 \nL 164.59625 141.886883 \n\" clip-path=\"url(#p17c5c5ac70)\" style=\"fill: none; stroke: #1f77b4; stroke-width: 1.5; stroke-linecap: square\"/>\n   </g>\n   <g id=\"line2d_145\">\n    <path d=\"M 27.0725 55.146873 \nL 33.5825 67.043158 \nL 40.0925 72.206344 \nL 46.6025 75.654013 \nL 53.1125 77.03997 \nL 59.6225 77.472463 \nL 66.1325 79.852972 \nL 72.6425 76.712233 \nL 79.1525 80.199634 \nL 85.6625 71.602883 \nL 92.1725 73.702238 \nL 98.6825 75.248216 \nL 105.1925 68.206196 \nL 111.7025 72.975105 \nL 118.2125 68.095777 \nL 124.7225 68.783608 \nL 131.2325 68.744664 \nL 137.7425 65.802015 \nL 144.2525 65.418075 \nL 150.7625 65.48641 \nL 157.2725 65.432603 \nL 163.7825 61.656489 \n\" clip-path=\"url(#p17c5c5ac70)\" style=\"fill: none; stroke-dasharray: 5.55,2.4; stroke-dashoffset: 0; stroke: #ff7f0e; stroke-width: 1.5\"/>\n   </g>\n   <g id=\"line2d_146\">\n    <path d=\"M 21.37625 16.988113 \nL 24.63125 59.566179 \nL 27.88625 68.348988 \nL 31.14125 76.544765 \nL 34.39625 82.824078 \nL 37.65125 86.524919 \nL 40.90625 94.449373 \nL 44.16125 91.309039 \nL 47.41625 98.764443 \nL 50.67125 100.210362 \nL 53.92625 105.464547 \nL 57.18125 105.426727 \nL 60.43625 110.114159 \nL 63.69125 111.510068 \nL 66.94625 116.25074 \nL 70.20125 115.141637 \nL 73.45625 120.889299 \nL 76.71125 118.726122 \nL 79.96625 124.178499 \nL 83.22125 122.829426 \nL 86.47625 125.838671 \nL 89.73125 126.965891 \nL 92.98625 129.44621 \nL 96.24125 129.280109 \nL 99.49625 131.233361 \nL 102.75125 132.356895 \nL 106.00625 134.150246 \nL 109.26125 133.904182 \nL 112.51625 136.223286 \nL 115.77125 134.855475 \nL 119.02625 136.730134 \nL 122.28125 137.112091 \nL 125.53625 137.854928 \nL 128.79125 138.301444 \nL 132.04625 139.135594 \nL 135.30125 138.875236 \nL 138.55625 139.412457 \nL 141.81125 139.985089 \nL 145.06625 140.569597 \nL 148.32125 139.753333 \nL 151.57625 141.316869 \nL 154.83125 140.368701 \nL 158.08625 141.220248 \nL 161.34125 141.023571 \nL 164.59625 141.886883 \nL 167.85125 140.916885 \n\" clip-path=\"url(#p17c5c5ac70)\" style=\"fill: none; stroke: #1f77b4; stroke-width: 1.5; stroke-linecap: square\"/>\n   </g>\n   <g id=\"line2d_147\">\n    <path d=\"M 27.0725 55.146873 \nL 33.5825 67.043158 \nL 40.0925 72.206344 \nL 46.6025 75.654013 \nL 53.1125 77.03997 \nL 59.6225 77.472463 \nL 66.1325 79.852972 \nL 72.6425 76.712233 \nL 79.1525 80.199634 \nL 85.6625 71.602883 \nL 92.1725 73.702238 \nL 98.6825 75.248216 \nL 105.1925 68.206196 \nL 111.7025 72.975105 \nL 118.2125 68.095777 \nL 124.7225 68.783608 \nL 131.2325 68.744664 \nL 137.7425 65.802015 \nL 144.2525 65.418075 \nL 150.7625 65.48641 \nL 157.2725 65.432603 \nL 163.7825 61.656489 \n\" clip-path=\"url(#p17c5c5ac70)\" style=\"fill: none; stroke-dasharray: 5.55,2.4; stroke-dashoffset: 0; stroke: #ff7f0e; stroke-width: 1.5\"/>\n   </g>\n   <g id=\"line2d_148\">\n    <path d=\"M 21.37625 16.988113 \nL 24.63125 59.566179 \nL 27.88625 68.348988 \nL 31.14125 76.544765 \nL 34.39625 82.824078 \nL 37.65125 86.524919 \nL 40.90625 94.449373 \nL 44.16125 91.309039 \nL 47.41625 98.764443 \nL 50.67125 100.210362 \nL 53.92625 105.464547 \nL 57.18125 105.426727 \nL 60.43625 110.114159 \nL 63.69125 111.510068 \nL 66.94625 116.25074 \nL 70.20125 115.141637 \nL 73.45625 120.889299 \nL 76.71125 118.726122 \nL 79.96625 124.178499 \nL 83.22125 122.829426 \nL 86.47625 125.838671 \nL 89.73125 126.965891 \nL 92.98625 129.44621 \nL 96.24125 129.280109 \nL 99.49625 131.233361 \nL 102.75125 132.356895 \nL 106.00625 134.150246 \nL 109.26125 133.904182 \nL 112.51625 136.223286 \nL 115.77125 134.855475 \nL 119.02625 136.730134 \nL 122.28125 137.112091 \nL 125.53625 137.854928 \nL 128.79125 138.301444 \nL 132.04625 139.135594 \nL 135.30125 138.875236 \nL 138.55625 139.412457 \nL 141.81125 139.985089 \nL 145.06625 140.569597 \nL 148.32125 139.753333 \nL 151.57625 141.316869 \nL 154.83125 140.368701 \nL 158.08625 141.220248 \nL 161.34125 141.023571 \nL 164.59625 141.886883 \nL 167.85125 140.916885 \n\" clip-path=\"url(#p17c5c5ac70)\" style=\"fill: none; stroke: #1f77b4; stroke-width: 1.5; stroke-linecap: square\"/>\n   </g>\n   <g id=\"line2d_149\">\n    <path d=\"M 27.0725 55.146873 \nL 33.5825 67.043158 \nL 40.0925 72.206344 \nL 46.6025 75.654013 \nL 53.1125 77.03997 \nL 59.6225 77.472463 \nL 66.1325 79.852972 \nL 72.6425 76.712233 \nL 79.1525 80.199634 \nL 85.6625 71.602883 \nL 92.1725 73.702238 \nL 98.6825 75.248216 \nL 105.1925 68.206196 \nL 111.7025 72.975105 \nL 118.2125 68.095777 \nL 124.7225 68.783608 \nL 131.2325 68.744664 \nL 137.7425 65.802015 \nL 144.2525 65.418075 \nL 150.7625 65.48641 \nL 157.2725 65.432603 \nL 163.7825 61.656489 \nL 170.2925 63.360328 \n\" clip-path=\"url(#p17c5c5ac70)\" style=\"fill: none; stroke-dasharray: 5.55,2.4; stroke-dashoffset: 0; stroke: #ff7f0e; stroke-width: 1.5\"/>\n   </g>\n   <g id=\"line2d_150\">\n    <path d=\"M 21.37625 16.988113 \nL 24.63125 59.566179 \nL 27.88625 68.348988 \nL 31.14125 76.544765 \nL 34.39625 82.824078 \nL 37.65125 86.524919 \nL 40.90625 94.449373 \nL 44.16125 91.309039 \nL 47.41625 98.764443 \nL 50.67125 100.210362 \nL 53.92625 105.464547 \nL 57.18125 105.426727 \nL 60.43625 110.114159 \nL 63.69125 111.510068 \nL 66.94625 116.25074 \nL 70.20125 115.141637 \nL 73.45625 120.889299 \nL 76.71125 118.726122 \nL 79.96625 124.178499 \nL 83.22125 122.829426 \nL 86.47625 125.838671 \nL 89.73125 126.965891 \nL 92.98625 129.44621 \nL 96.24125 129.280109 \nL 99.49625 131.233361 \nL 102.75125 132.356895 \nL 106.00625 134.150246 \nL 109.26125 133.904182 \nL 112.51625 136.223286 \nL 115.77125 134.855475 \nL 119.02625 136.730134 \nL 122.28125 137.112091 \nL 125.53625 137.854928 \nL 128.79125 138.301444 \nL 132.04625 139.135594 \nL 135.30125 138.875236 \nL 138.55625 139.412457 \nL 141.81125 139.985089 \nL 145.06625 140.569597 \nL 148.32125 139.753333 \nL 151.57625 141.316869 \nL 154.83125 140.368701 \nL 158.08625 141.220248 \nL 161.34125 141.023571 \nL 164.59625 141.886883 \nL 167.85125 140.916885 \nL 171.10625 142.268504 \n\" clip-path=\"url(#p17c5c5ac70)\" style=\"fill: none; stroke: #1f77b4; stroke-width: 1.5; stroke-linecap: square\"/>\n   </g>\n   <g id=\"line2d_151\">\n    <path d=\"M 27.0725 55.146873 \nL 33.5825 67.043158 \nL 40.0925 72.206344 \nL 46.6025 75.654013 \nL 53.1125 77.03997 \nL 59.6225 77.472463 \nL 66.1325 79.852972 \nL 72.6425 76.712233 \nL 79.1525 80.199634 \nL 85.6625 71.602883 \nL 92.1725 73.702238 \nL 98.6825 75.248216 \nL 105.1925 68.206196 \nL 111.7025 72.975105 \nL 118.2125 68.095777 \nL 124.7225 68.783608 \nL 131.2325 68.744664 \nL 137.7425 65.802015 \nL 144.2525 65.418075 \nL 150.7625 65.48641 \nL 157.2725 65.432603 \nL 163.7825 61.656489 \nL 170.2925 63.360328 \n\" clip-path=\"url(#p17c5c5ac70)\" style=\"fill: none; stroke-dasharray: 5.55,2.4; stroke-dashoffset: 0; stroke: #ff7f0e; stroke-width: 1.5\"/>\n   </g>\n   <g id=\"line2d_152\">\n    <path d=\"M 21.37625 16.988113 \nL 24.63125 59.566179 \nL 27.88625 68.348988 \nL 31.14125 76.544765 \nL 34.39625 82.824078 \nL 37.65125 86.524919 \nL 40.90625 94.449373 \nL 44.16125 91.309039 \nL 47.41625 98.764443 \nL 50.67125 100.210362 \nL 53.92625 105.464547 \nL 57.18125 105.426727 \nL 60.43625 110.114159 \nL 63.69125 111.510068 \nL 66.94625 116.25074 \nL 70.20125 115.141637 \nL 73.45625 120.889299 \nL 76.71125 118.726122 \nL 79.96625 124.178499 \nL 83.22125 122.829426 \nL 86.47625 125.838671 \nL 89.73125 126.965891 \nL 92.98625 129.44621 \nL 96.24125 129.280109 \nL 99.49625 131.233361 \nL 102.75125 132.356895 \nL 106.00625 134.150246 \nL 109.26125 133.904182 \nL 112.51625 136.223286 \nL 115.77125 134.855475 \nL 119.02625 136.730134 \nL 122.28125 137.112091 \nL 125.53625 137.854928 \nL 128.79125 138.301444 \nL 132.04625 139.135594 \nL 135.30125 138.875236 \nL 138.55625 139.412457 \nL 141.81125 139.985089 \nL 145.06625 140.569597 \nL 148.32125 139.753333 \nL 151.57625 141.316869 \nL 154.83125 140.368701 \nL 158.08625 141.220248 \nL 161.34125 141.023571 \nL 164.59625 141.886883 \nL 167.85125 140.916885 \nL 171.10625 142.268504 \nL 174.36125 141.370538 \n\" clip-path=\"url(#p17c5c5ac70)\" style=\"fill: none; stroke: #1f77b4; stroke-width: 1.5; stroke-linecap: square\"/>\n   </g>\n   <g id=\"line2d_153\">\n    <path d=\"M 27.0725 55.146873 \nL 33.5825 67.043158 \nL 40.0925 72.206344 \nL 46.6025 75.654013 \nL 53.1125 77.03997 \nL 59.6225 77.472463 \nL 66.1325 79.852972 \nL 72.6425 76.712233 \nL 79.1525 80.199634 \nL 85.6625 71.602883 \nL 92.1725 73.702238 \nL 98.6825 75.248216 \nL 105.1925 68.206196 \nL 111.7025 72.975105 \nL 118.2125 68.095777 \nL 124.7225 68.783608 \nL 131.2325 68.744664 \nL 137.7425 65.802015 \nL 144.2525 65.418075 \nL 150.7625 65.48641 \nL 157.2725 65.432603 \nL 163.7825 61.656489 \nL 170.2925 63.360328 \n\" clip-path=\"url(#p17c5c5ac70)\" style=\"fill: none; stroke-dasharray: 5.55,2.4; stroke-dashoffset: 0; stroke: #ff7f0e; stroke-width: 1.5\"/>\n   </g>\n   <g id=\"line2d_154\">\n    <path d=\"M 21.37625 16.988113 \nL 24.63125 59.566179 \nL 27.88625 68.348988 \nL 31.14125 76.544765 \nL 34.39625 82.824078 \nL 37.65125 86.524919 \nL 40.90625 94.449373 \nL 44.16125 91.309039 \nL 47.41625 98.764443 \nL 50.67125 100.210362 \nL 53.92625 105.464547 \nL 57.18125 105.426727 \nL 60.43625 110.114159 \nL 63.69125 111.510068 \nL 66.94625 116.25074 \nL 70.20125 115.141637 \nL 73.45625 120.889299 \nL 76.71125 118.726122 \nL 79.96625 124.178499 \nL 83.22125 122.829426 \nL 86.47625 125.838671 \nL 89.73125 126.965891 \nL 92.98625 129.44621 \nL 96.24125 129.280109 \nL 99.49625 131.233361 \nL 102.75125 132.356895 \nL 106.00625 134.150246 \nL 109.26125 133.904182 \nL 112.51625 136.223286 \nL 115.77125 134.855475 \nL 119.02625 136.730134 \nL 122.28125 137.112091 \nL 125.53625 137.854928 \nL 128.79125 138.301444 \nL 132.04625 139.135594 \nL 135.30125 138.875236 \nL 138.55625 139.412457 \nL 141.81125 139.985089 \nL 145.06625 140.569597 \nL 148.32125 139.753333 \nL 151.57625 141.316869 \nL 154.83125 140.368701 \nL 158.08625 141.220248 \nL 161.34125 141.023571 \nL 164.59625 141.886883 \nL 167.85125 140.916885 \nL 171.10625 142.268504 \nL 174.36125 141.370538 \n\" clip-path=\"url(#p17c5c5ac70)\" style=\"fill: none; stroke: #1f77b4; stroke-width: 1.5; stroke-linecap: square\"/>\n   </g>\n   <g id=\"line2d_155\">\n    <path d=\"M 27.0725 55.146873 \nL 33.5825 67.043158 \nL 40.0925 72.206344 \nL 46.6025 75.654013 \nL 53.1125 77.03997 \nL 59.6225 77.472463 \nL 66.1325 79.852972 \nL 72.6425 76.712233 \nL 79.1525 80.199634 \nL 85.6625 71.602883 \nL 92.1725 73.702238 \nL 98.6825 75.248216 \nL 105.1925 68.206196 \nL 111.7025 72.975105 \nL 118.2125 68.095777 \nL 124.7225 68.783608 \nL 131.2325 68.744664 \nL 137.7425 65.802015 \nL 144.2525 65.418075 \nL 150.7625 65.48641 \nL 157.2725 65.432603 \nL 163.7825 61.656489 \nL 170.2925 63.360328 \nL 176.8025 55.898956 \n\" clip-path=\"url(#p17c5c5ac70)\" style=\"fill: none; stroke-dasharray: 5.55,2.4; stroke-dashoffset: 0; stroke: #ff7f0e; stroke-width: 1.5\"/>\n   </g>\n   <g id=\"line2d_156\">\n    <path d=\"M 21.37625 16.988113 \nL 24.63125 59.566179 \nL 27.88625 68.348988 \nL 31.14125 76.544765 \nL 34.39625 82.824078 \nL 37.65125 86.524919 \nL 40.90625 94.449373 \nL 44.16125 91.309039 \nL 47.41625 98.764443 \nL 50.67125 100.210362 \nL 53.92625 105.464547 \nL 57.18125 105.426727 \nL 60.43625 110.114159 \nL 63.69125 111.510068 \nL 66.94625 116.25074 \nL 70.20125 115.141637 \nL 73.45625 120.889299 \nL 76.71125 118.726122 \nL 79.96625 124.178499 \nL 83.22125 122.829426 \nL 86.47625 125.838671 \nL 89.73125 126.965891 \nL 92.98625 129.44621 \nL 96.24125 129.280109 \nL 99.49625 131.233361 \nL 102.75125 132.356895 \nL 106.00625 134.150246 \nL 109.26125 133.904182 \nL 112.51625 136.223286 \nL 115.77125 134.855475 \nL 119.02625 136.730134 \nL 122.28125 137.112091 \nL 125.53625 137.854928 \nL 128.79125 138.301444 \nL 132.04625 139.135594 \nL 135.30125 138.875236 \nL 138.55625 139.412457 \nL 141.81125 139.985089 \nL 145.06625 140.569597 \nL 148.32125 139.753333 \nL 151.57625 141.316869 \nL 154.83125 140.368701 \nL 158.08625 141.220248 \nL 161.34125 141.023571 \nL 164.59625 141.886883 \nL 167.85125 140.916885 \nL 171.10625 142.268504 \nL 174.36125 141.370538 \nL 177.61625 142.29128 \n\" clip-path=\"url(#p17c5c5ac70)\" style=\"fill: none; stroke: #1f77b4; stroke-width: 1.5; stroke-linecap: square\"/>\n   </g>\n   <g id=\"line2d_157\">\n    <path d=\"M 27.0725 55.146873 \nL 33.5825 67.043158 \nL 40.0925 72.206344 \nL 46.6025 75.654013 \nL 53.1125 77.03997 \nL 59.6225 77.472463 \nL 66.1325 79.852972 \nL 72.6425 76.712233 \nL 79.1525 80.199634 \nL 85.6625 71.602883 \nL 92.1725 73.702238 \nL 98.6825 75.248216 \nL 105.1925 68.206196 \nL 111.7025 72.975105 \nL 118.2125 68.095777 \nL 124.7225 68.783608 \nL 131.2325 68.744664 \nL 137.7425 65.802015 \nL 144.2525 65.418075 \nL 150.7625 65.48641 \nL 157.2725 65.432603 \nL 163.7825 61.656489 \nL 170.2925 63.360328 \nL 176.8025 55.898956 \n\" clip-path=\"url(#p17c5c5ac70)\" style=\"fill: none; stroke-dasharray: 5.55,2.4; stroke-dashoffset: 0; stroke: #ff7f0e; stroke-width: 1.5\"/>\n   </g>\n   <g id=\"line2d_158\">\n    <path d=\"M 21.37625 16.988113 \nL 24.63125 59.566179 \nL 27.88625 68.348988 \nL 31.14125 76.544765 \nL 34.39625 82.824078 \nL 37.65125 86.524919 \nL 40.90625 94.449373 \nL 44.16125 91.309039 \nL 47.41625 98.764443 \nL 50.67125 100.210362 \nL 53.92625 105.464547 \nL 57.18125 105.426727 \nL 60.43625 110.114159 \nL 63.69125 111.510068 \nL 66.94625 116.25074 \nL 70.20125 115.141637 \nL 73.45625 120.889299 \nL 76.71125 118.726122 \nL 79.96625 124.178499 \nL 83.22125 122.829426 \nL 86.47625 125.838671 \nL 89.73125 126.965891 \nL 92.98625 129.44621 \nL 96.24125 129.280109 \nL 99.49625 131.233361 \nL 102.75125 132.356895 \nL 106.00625 134.150246 \nL 109.26125 133.904182 \nL 112.51625 136.223286 \nL 115.77125 134.855475 \nL 119.02625 136.730134 \nL 122.28125 137.112091 \nL 125.53625 137.854928 \nL 128.79125 138.301444 \nL 132.04625 139.135594 \nL 135.30125 138.875236 \nL 138.55625 139.412457 \nL 141.81125 139.985089 \nL 145.06625 140.569597 \nL 148.32125 139.753333 \nL 151.57625 141.316869 \nL 154.83125 140.368701 \nL 158.08625 141.220248 \nL 161.34125 141.023571 \nL 164.59625 141.886883 \nL 167.85125 140.916885 \nL 171.10625 142.268504 \nL 174.36125 141.370538 \nL 177.61625 142.29128 \nL 180.87125 141.725748 \n\" clip-path=\"url(#p17c5c5ac70)\" style=\"fill: none; stroke: #1f77b4; stroke-width: 1.5; stroke-linecap: square\"/>\n   </g>\n   <g id=\"line2d_159\">\n    <path d=\"M 27.0725 55.146873 \nL 33.5825 67.043158 \nL 40.0925 72.206344 \nL 46.6025 75.654013 \nL 53.1125 77.03997 \nL 59.6225 77.472463 \nL 66.1325 79.852972 \nL 72.6425 76.712233 \nL 79.1525 80.199634 \nL 85.6625 71.602883 \nL 92.1725 73.702238 \nL 98.6825 75.248216 \nL 105.1925 68.206196 \nL 111.7025 72.975105 \nL 118.2125 68.095777 \nL 124.7225 68.783608 \nL 131.2325 68.744664 \nL 137.7425 65.802015 \nL 144.2525 65.418075 \nL 150.7625 65.48641 \nL 157.2725 65.432603 \nL 163.7825 61.656489 \nL 170.2925 63.360328 \nL 176.8025 55.898956 \n\" clip-path=\"url(#p17c5c5ac70)\" style=\"fill: none; stroke-dasharray: 5.55,2.4; stroke-dashoffset: 0; stroke: #ff7f0e; stroke-width: 1.5\"/>\n   </g>\n   <g id=\"line2d_160\">\n    <path d=\"M 21.37625 16.988113 \nL 24.63125 59.566179 \nL 27.88625 68.348988 \nL 31.14125 76.544765 \nL 34.39625 82.824078 \nL 37.65125 86.524919 \nL 40.90625 94.449373 \nL 44.16125 91.309039 \nL 47.41625 98.764443 \nL 50.67125 100.210362 \nL 53.92625 105.464547 \nL 57.18125 105.426727 \nL 60.43625 110.114159 \nL 63.69125 111.510068 \nL 66.94625 116.25074 \nL 70.20125 115.141637 \nL 73.45625 120.889299 \nL 76.71125 118.726122 \nL 79.96625 124.178499 \nL 83.22125 122.829426 \nL 86.47625 125.838671 \nL 89.73125 126.965891 \nL 92.98625 129.44621 \nL 96.24125 129.280109 \nL 99.49625 131.233361 \nL 102.75125 132.356895 \nL 106.00625 134.150246 \nL 109.26125 133.904182 \nL 112.51625 136.223286 \nL 115.77125 134.855475 \nL 119.02625 136.730134 \nL 122.28125 137.112091 \nL 125.53625 137.854928 \nL 128.79125 138.301444 \nL 132.04625 139.135594 \nL 135.30125 138.875236 \nL 138.55625 139.412457 \nL 141.81125 139.985089 \nL 145.06625 140.569597 \nL 148.32125 139.753333 \nL 151.57625 141.316869 \nL 154.83125 140.368701 \nL 158.08625 141.220248 \nL 161.34125 141.023571 \nL 164.59625 141.886883 \nL 167.85125 140.916885 \nL 171.10625 142.268504 \nL 174.36125 141.370538 \nL 177.61625 142.29128 \nL 180.87125 141.725748 \n\" clip-path=\"url(#p17c5c5ac70)\" style=\"fill: none; stroke: #1f77b4; stroke-width: 1.5; stroke-linecap: square\"/>\n   </g>\n   <g id=\"line2d_161\">\n    <path d=\"M 27.0725 55.146873 \nL 33.5825 67.043158 \nL 40.0925 72.206344 \nL 46.6025 75.654013 \nL 53.1125 77.03997 \nL 59.6225 77.472463 \nL 66.1325 79.852972 \nL 72.6425 76.712233 \nL 79.1525 80.199634 \nL 85.6625 71.602883 \nL 92.1725 73.702238 \nL 98.6825 75.248216 \nL 105.1925 68.206196 \nL 111.7025 72.975105 \nL 118.2125 68.095777 \nL 124.7225 68.783608 \nL 131.2325 68.744664 \nL 137.7425 65.802015 \nL 144.2525 65.418075 \nL 150.7625 65.48641 \nL 157.2725 65.432603 \nL 163.7825 61.656489 \nL 170.2925 63.360328 \nL 176.8025 55.898956 \nL 183.3125 59.782832 \n\" clip-path=\"url(#p17c5c5ac70)\" style=\"fill: none; stroke-dasharray: 5.55,2.4; stroke-dashoffset: 0; stroke: #ff7f0e; stroke-width: 1.5\"/>\n   </g>\n   <g id=\"line2d_162\">\n    <path d=\"M 21.37625 16.988113 \nL 24.63125 59.566179 \nL 27.88625 68.348988 \nL 31.14125 76.544765 \nL 34.39625 82.824078 \nL 37.65125 86.524919 \nL 40.90625 94.449373 \nL 44.16125 91.309039 \nL 47.41625 98.764443 \nL 50.67125 100.210362 \nL 53.92625 105.464547 \nL 57.18125 105.426727 \nL 60.43625 110.114159 \nL 63.69125 111.510068 \nL 66.94625 116.25074 \nL 70.20125 115.141637 \nL 73.45625 120.889299 \nL 76.71125 118.726122 \nL 79.96625 124.178499 \nL 83.22125 122.829426 \nL 86.47625 125.838671 \nL 89.73125 126.965891 \nL 92.98625 129.44621 \nL 96.24125 129.280109 \nL 99.49625 131.233361 \nL 102.75125 132.356895 \nL 106.00625 134.150246 \nL 109.26125 133.904182 \nL 112.51625 136.223286 \nL 115.77125 134.855475 \nL 119.02625 136.730134 \nL 122.28125 137.112091 \nL 125.53625 137.854928 \nL 128.79125 138.301444 \nL 132.04625 139.135594 \nL 135.30125 138.875236 \nL 138.55625 139.412457 \nL 141.81125 139.985089 \nL 145.06625 140.569597 \nL 148.32125 139.753333 \nL 151.57625 141.316869 \nL 154.83125 140.368701 \nL 158.08625 141.220248 \nL 161.34125 141.023571 \nL 164.59625 141.886883 \nL 167.85125 140.916885 \nL 171.10625 142.268504 \nL 174.36125 141.370538 \nL 177.61625 142.29128 \nL 180.87125 141.725748 \nL 184.12625 142.709071 \n\" clip-path=\"url(#p17c5c5ac70)\" style=\"fill: none; stroke: #1f77b4; stroke-width: 1.5; stroke-linecap: square\"/>\n   </g>\n   <g id=\"line2d_163\">\n    <path d=\"M 27.0725 55.146873 \nL 33.5825 67.043158 \nL 40.0925 72.206344 \nL 46.6025 75.654013 \nL 53.1125 77.03997 \nL 59.6225 77.472463 \nL 66.1325 79.852972 \nL 72.6425 76.712233 \nL 79.1525 80.199634 \nL 85.6625 71.602883 \nL 92.1725 73.702238 \nL 98.6825 75.248216 \nL 105.1925 68.206196 \nL 111.7025 72.975105 \nL 118.2125 68.095777 \nL 124.7225 68.783608 \nL 131.2325 68.744664 \nL 137.7425 65.802015 \nL 144.2525 65.418075 \nL 150.7625 65.48641 \nL 157.2725 65.432603 \nL 163.7825 61.656489 \nL 170.2925 63.360328 \nL 176.8025 55.898956 \nL 183.3125 59.782832 \n\" clip-path=\"url(#p17c5c5ac70)\" style=\"fill: none; stroke-dasharray: 5.55,2.4; stroke-dashoffset: 0; stroke: #ff7f0e; stroke-width: 1.5\"/>\n   </g>\n   <g id=\"line2d_164\">\n    <path d=\"M 21.37625 16.988113 \nL 24.63125 59.566179 \nL 27.88625 68.348988 \nL 31.14125 76.544765 \nL 34.39625 82.824078 \nL 37.65125 86.524919 \nL 40.90625 94.449373 \nL 44.16125 91.309039 \nL 47.41625 98.764443 \nL 50.67125 100.210362 \nL 53.92625 105.464547 \nL 57.18125 105.426727 \nL 60.43625 110.114159 \nL 63.69125 111.510068 \nL 66.94625 116.25074 \nL 70.20125 115.141637 \nL 73.45625 120.889299 \nL 76.71125 118.726122 \nL 79.96625 124.178499 \nL 83.22125 122.829426 \nL 86.47625 125.838671 \nL 89.73125 126.965891 \nL 92.98625 129.44621 \nL 96.24125 129.280109 \nL 99.49625 131.233361 \nL 102.75125 132.356895 \nL 106.00625 134.150246 \nL 109.26125 133.904182 \nL 112.51625 136.223286 \nL 115.77125 134.855475 \nL 119.02625 136.730134 \nL 122.28125 137.112091 \nL 125.53625 137.854928 \nL 128.79125 138.301444 \nL 132.04625 139.135594 \nL 135.30125 138.875236 \nL 138.55625 139.412457 \nL 141.81125 139.985089 \nL 145.06625 140.569597 \nL 148.32125 139.753333 \nL 151.57625 141.316869 \nL 154.83125 140.368701 \nL 158.08625 141.220248 \nL 161.34125 141.023571 \nL 164.59625 141.886883 \nL 167.85125 140.916885 \nL 171.10625 142.268504 \nL 174.36125 141.370538 \nL 177.61625 142.29128 \nL 180.87125 141.725748 \nL 184.12625 142.709071 \nL 187.38125 141.62323 \n\" clip-path=\"url(#p17c5c5ac70)\" style=\"fill: none; stroke: #1f77b4; stroke-width: 1.5; stroke-linecap: square\"/>\n   </g>\n   <g id=\"line2d_165\">\n    <path d=\"M 27.0725 55.146873 \nL 33.5825 67.043158 \nL 40.0925 72.206344 \nL 46.6025 75.654013 \nL 53.1125 77.03997 \nL 59.6225 77.472463 \nL 66.1325 79.852972 \nL 72.6425 76.712233 \nL 79.1525 80.199634 \nL 85.6625 71.602883 \nL 92.1725 73.702238 \nL 98.6825 75.248216 \nL 105.1925 68.206196 \nL 111.7025 72.975105 \nL 118.2125 68.095777 \nL 124.7225 68.783608 \nL 131.2325 68.744664 \nL 137.7425 65.802015 \nL 144.2525 65.418075 \nL 150.7625 65.48641 \nL 157.2725 65.432603 \nL 163.7825 61.656489 \nL 170.2925 63.360328 \nL 176.8025 55.898956 \nL 183.3125 59.782832 \n\" clip-path=\"url(#p17c5c5ac70)\" style=\"fill: none; stroke-dasharray: 5.55,2.4; stroke-dashoffset: 0; stroke: #ff7f0e; stroke-width: 1.5\"/>\n   </g>\n   <g id=\"line2d_166\">\n    <path d=\"M 21.37625 16.988113 \nL 24.63125 59.566179 \nL 27.88625 68.348988 \nL 31.14125 76.544765 \nL 34.39625 82.824078 \nL 37.65125 86.524919 \nL 40.90625 94.449373 \nL 44.16125 91.309039 \nL 47.41625 98.764443 \nL 50.67125 100.210362 \nL 53.92625 105.464547 \nL 57.18125 105.426727 \nL 60.43625 110.114159 \nL 63.69125 111.510068 \nL 66.94625 116.25074 \nL 70.20125 115.141637 \nL 73.45625 120.889299 \nL 76.71125 118.726122 \nL 79.96625 124.178499 \nL 83.22125 122.829426 \nL 86.47625 125.838671 \nL 89.73125 126.965891 \nL 92.98625 129.44621 \nL 96.24125 129.280109 \nL 99.49625 131.233361 \nL 102.75125 132.356895 \nL 106.00625 134.150246 \nL 109.26125 133.904182 \nL 112.51625 136.223286 \nL 115.77125 134.855475 \nL 119.02625 136.730134 \nL 122.28125 137.112091 \nL 125.53625 137.854928 \nL 128.79125 138.301444 \nL 132.04625 139.135594 \nL 135.30125 138.875236 \nL 138.55625 139.412457 \nL 141.81125 139.985089 \nL 145.06625 140.569597 \nL 148.32125 139.753333 \nL 151.57625 141.316869 \nL 154.83125 140.368701 \nL 158.08625 141.220248 \nL 161.34125 141.023571 \nL 164.59625 141.886883 \nL 167.85125 140.916885 \nL 171.10625 142.268504 \nL 174.36125 141.370538 \nL 177.61625 142.29128 \nL 180.87125 141.725748 \nL 184.12625 142.709071 \nL 187.38125 141.62323 \n\" clip-path=\"url(#p17c5c5ac70)\" style=\"fill: none; stroke: #1f77b4; stroke-width: 1.5; stroke-linecap: square\"/>\n   </g>\n   <g id=\"line2d_167\">\n    <path d=\"M 27.0725 55.146873 \nL 33.5825 67.043158 \nL 40.0925 72.206344 \nL 46.6025 75.654013 \nL 53.1125 77.03997 \nL 59.6225 77.472463 \nL 66.1325 79.852972 \nL 72.6425 76.712233 \nL 79.1525 80.199634 \nL 85.6625 71.602883 \nL 92.1725 73.702238 \nL 98.6825 75.248216 \nL 105.1925 68.206196 \nL 111.7025 72.975105 \nL 118.2125 68.095777 \nL 124.7225 68.783608 \nL 131.2325 68.744664 \nL 137.7425 65.802015 \nL 144.2525 65.418075 \nL 150.7625 65.48641 \nL 157.2725 65.432603 \nL 163.7825 61.656489 \nL 170.2925 63.360328 \nL 176.8025 55.898956 \nL 183.3125 59.782832 \nL 189.8225 55.661391 \n\" clip-path=\"url(#p17c5c5ac70)\" style=\"fill: none; stroke-dasharray: 5.55,2.4; stroke-dashoffset: 0; stroke: #ff7f0e; stroke-width: 1.5\"/>\n   </g>\n   <g id=\"line2d_168\">\n    <path d=\"M 21.37625 16.988113 \nL 24.63125 59.566179 \nL 27.88625 68.348988 \nL 31.14125 76.544765 \nL 34.39625 82.824078 \nL 37.65125 86.524919 \nL 40.90625 94.449373 \nL 44.16125 91.309039 \nL 47.41625 98.764443 \nL 50.67125 100.210362 \nL 53.92625 105.464547 \nL 57.18125 105.426727 \nL 60.43625 110.114159 \nL 63.69125 111.510068 \nL 66.94625 116.25074 \nL 70.20125 115.141637 \nL 73.45625 120.889299 \nL 76.71125 118.726122 \nL 79.96625 124.178499 \nL 83.22125 122.829426 \nL 86.47625 125.838671 \nL 89.73125 126.965891 \nL 92.98625 129.44621 \nL 96.24125 129.280109 \nL 99.49625 131.233361 \nL 102.75125 132.356895 \nL 106.00625 134.150246 \nL 109.26125 133.904182 \nL 112.51625 136.223286 \nL 115.77125 134.855475 \nL 119.02625 136.730134 \nL 122.28125 137.112091 \nL 125.53625 137.854928 \nL 128.79125 138.301444 \nL 132.04625 139.135594 \nL 135.30125 138.875236 \nL 138.55625 139.412457 \nL 141.81125 139.985089 \nL 145.06625 140.569597 \nL 148.32125 139.753333 \nL 151.57625 141.316869 \nL 154.83125 140.368701 \nL 158.08625 141.220248 \nL 161.34125 141.023571 \nL 164.59625 141.886883 \nL 167.85125 140.916885 \nL 171.10625 142.268504 \nL 174.36125 141.370538 \nL 177.61625 142.29128 \nL 180.87125 141.725748 \nL 184.12625 142.709071 \nL 187.38125 141.62323 \nL 190.63625 142.587081 \n\" clip-path=\"url(#p17c5c5ac70)\" style=\"fill: none; stroke: #1f77b4; stroke-width: 1.5; stroke-linecap: square\"/>\n   </g>\n   <g id=\"line2d_169\">\n    <path d=\"M 27.0725 55.146873 \nL 33.5825 67.043158 \nL 40.0925 72.206344 \nL 46.6025 75.654013 \nL 53.1125 77.03997 \nL 59.6225 77.472463 \nL 66.1325 79.852972 \nL 72.6425 76.712233 \nL 79.1525 80.199634 \nL 85.6625 71.602883 \nL 92.1725 73.702238 \nL 98.6825 75.248216 \nL 105.1925 68.206196 \nL 111.7025 72.975105 \nL 118.2125 68.095777 \nL 124.7225 68.783608 \nL 131.2325 68.744664 \nL 137.7425 65.802015 \nL 144.2525 65.418075 \nL 150.7625 65.48641 \nL 157.2725 65.432603 \nL 163.7825 61.656489 \nL 170.2925 63.360328 \nL 176.8025 55.898956 \nL 183.3125 59.782832 \nL 189.8225 55.661391 \n\" clip-path=\"url(#p17c5c5ac70)\" style=\"fill: none; stroke-dasharray: 5.55,2.4; stroke-dashoffset: 0; stroke: #ff7f0e; stroke-width: 1.5\"/>\n   </g>\n   <g id=\"line2d_170\">\n    <path d=\"M 21.37625 16.988113 \nL 24.63125 59.566179 \nL 27.88625 68.348988 \nL 31.14125 76.544765 \nL 34.39625 82.824078 \nL 37.65125 86.524919 \nL 40.90625 94.449373 \nL 44.16125 91.309039 \nL 47.41625 98.764443 \nL 50.67125 100.210362 \nL 53.92625 105.464547 \nL 57.18125 105.426727 \nL 60.43625 110.114159 \nL 63.69125 111.510068 \nL 66.94625 116.25074 \nL 70.20125 115.141637 \nL 73.45625 120.889299 \nL 76.71125 118.726122 \nL 79.96625 124.178499 \nL 83.22125 122.829426 \nL 86.47625 125.838671 \nL 89.73125 126.965891 \nL 92.98625 129.44621 \nL 96.24125 129.280109 \nL 99.49625 131.233361 \nL 102.75125 132.356895 \nL 106.00625 134.150246 \nL 109.26125 133.904182 \nL 112.51625 136.223286 \nL 115.77125 134.855475 \nL 119.02625 136.730134 \nL 122.28125 137.112091 \nL 125.53625 137.854928 \nL 128.79125 138.301444 \nL 132.04625 139.135594 \nL 135.30125 138.875236 \nL 138.55625 139.412457 \nL 141.81125 139.985089 \nL 145.06625 140.569597 \nL 148.32125 139.753333 \nL 151.57625 141.316869 \nL 154.83125 140.368701 \nL 158.08625 141.220248 \nL 161.34125 141.023571 \nL 164.59625 141.886883 \nL 167.85125 140.916885 \nL 171.10625 142.268504 \nL 174.36125 141.370538 \nL 177.61625 142.29128 \nL 180.87125 141.725748 \nL 184.12625 142.709071 \nL 187.38125 141.62323 \nL 190.63625 142.587081 \nL 193.89125 141.703051 \n\" clip-path=\"url(#p17c5c5ac70)\" style=\"fill: none; stroke: #1f77b4; stroke-width: 1.5; stroke-linecap: square\"/>\n   </g>\n   <g id=\"line2d_171\">\n    <path d=\"M 27.0725 55.146873 \nL 33.5825 67.043158 \nL 40.0925 72.206344 \nL 46.6025 75.654013 \nL 53.1125 77.03997 \nL 59.6225 77.472463 \nL 66.1325 79.852972 \nL 72.6425 76.712233 \nL 79.1525 80.199634 \nL 85.6625 71.602883 \nL 92.1725 73.702238 \nL 98.6825 75.248216 \nL 105.1925 68.206196 \nL 111.7025 72.975105 \nL 118.2125 68.095777 \nL 124.7225 68.783608 \nL 131.2325 68.744664 \nL 137.7425 65.802015 \nL 144.2525 65.418075 \nL 150.7625 65.48641 \nL 157.2725 65.432603 \nL 163.7825 61.656489 \nL 170.2925 63.360328 \nL 176.8025 55.898956 \nL 183.3125 59.782832 \nL 189.8225 55.661391 \n\" clip-path=\"url(#p17c5c5ac70)\" style=\"fill: none; stroke-dasharray: 5.55,2.4; stroke-dashoffset: 0; stroke: #ff7f0e; stroke-width: 1.5\"/>\n   </g>\n   <g id=\"line2d_172\">\n    <path d=\"M 21.37625 16.988113 \nL 24.63125 59.566179 \nL 27.88625 68.348988 \nL 31.14125 76.544765 \nL 34.39625 82.824078 \nL 37.65125 86.524919 \nL 40.90625 94.449373 \nL 44.16125 91.309039 \nL 47.41625 98.764443 \nL 50.67125 100.210362 \nL 53.92625 105.464547 \nL 57.18125 105.426727 \nL 60.43625 110.114159 \nL 63.69125 111.510068 \nL 66.94625 116.25074 \nL 70.20125 115.141637 \nL 73.45625 120.889299 \nL 76.71125 118.726122 \nL 79.96625 124.178499 \nL 83.22125 122.829426 \nL 86.47625 125.838671 \nL 89.73125 126.965891 \nL 92.98625 129.44621 \nL 96.24125 129.280109 \nL 99.49625 131.233361 \nL 102.75125 132.356895 \nL 106.00625 134.150246 \nL 109.26125 133.904182 \nL 112.51625 136.223286 \nL 115.77125 134.855475 \nL 119.02625 136.730134 \nL 122.28125 137.112091 \nL 125.53625 137.854928 \nL 128.79125 138.301444 \nL 132.04625 139.135594 \nL 135.30125 138.875236 \nL 138.55625 139.412457 \nL 141.81125 139.985089 \nL 145.06625 140.569597 \nL 148.32125 139.753333 \nL 151.57625 141.316869 \nL 154.83125 140.368701 \nL 158.08625 141.220248 \nL 161.34125 141.023571 \nL 164.59625 141.886883 \nL 167.85125 140.916885 \nL 171.10625 142.268504 \nL 174.36125 141.370538 \nL 177.61625 142.29128 \nL 180.87125 141.725748 \nL 184.12625 142.709071 \nL 187.38125 141.62323 \nL 190.63625 142.587081 \nL 193.89125 141.703051 \n\" clip-path=\"url(#p17c5c5ac70)\" style=\"fill: none; stroke: #1f77b4; stroke-width: 1.5; stroke-linecap: square\"/>\n   </g>\n   <g id=\"line2d_173\">\n    <path d=\"M 27.0725 55.146873 \nL 33.5825 67.043158 \nL 40.0925 72.206344 \nL 46.6025 75.654013 \nL 53.1125 77.03997 \nL 59.6225 77.472463 \nL 66.1325 79.852972 \nL 72.6425 76.712233 \nL 79.1525 80.199634 \nL 85.6625 71.602883 \nL 92.1725 73.702238 \nL 98.6825 75.248216 \nL 105.1925 68.206196 \nL 111.7025 72.975105 \nL 118.2125 68.095777 \nL 124.7225 68.783608 \nL 131.2325 68.744664 \nL 137.7425 65.802015 \nL 144.2525 65.418075 \nL 150.7625 65.48641 \nL 157.2725 65.432603 \nL 163.7825 61.656489 \nL 170.2925 63.360328 \nL 176.8025 55.898956 \nL 183.3125 59.782832 \nL 189.8225 55.661391 \nL 196.3325 56.853581 \n\" clip-path=\"url(#p17c5c5ac70)\" style=\"fill: none; stroke-dasharray: 5.55,2.4; stroke-dashoffset: 0; stroke: #ff7f0e; stroke-width: 1.5\"/>\n   </g>\n   <g id=\"line2d_174\">\n    <path d=\"M 21.37625 16.988113 \nL 24.63125 59.566179 \nL 27.88625 68.348988 \nL 31.14125 76.544765 \nL 34.39625 82.824078 \nL 37.65125 86.524919 \nL 40.90625 94.449373 \nL 44.16125 91.309039 \nL 47.41625 98.764443 \nL 50.67125 100.210362 \nL 53.92625 105.464547 \nL 57.18125 105.426727 \nL 60.43625 110.114159 \nL 63.69125 111.510068 \nL 66.94625 116.25074 \nL 70.20125 115.141637 \nL 73.45625 120.889299 \nL 76.71125 118.726122 \nL 79.96625 124.178499 \nL 83.22125 122.829426 \nL 86.47625 125.838671 \nL 89.73125 126.965891 \nL 92.98625 129.44621 \nL 96.24125 129.280109 \nL 99.49625 131.233361 \nL 102.75125 132.356895 \nL 106.00625 134.150246 \nL 109.26125 133.904182 \nL 112.51625 136.223286 \nL 115.77125 134.855475 \nL 119.02625 136.730134 \nL 122.28125 137.112091 \nL 125.53625 137.854928 \nL 128.79125 138.301444 \nL 132.04625 139.135594 \nL 135.30125 138.875236 \nL 138.55625 139.412457 \nL 141.81125 139.985089 \nL 145.06625 140.569597 \nL 148.32125 139.753333 \nL 151.57625 141.316869 \nL 154.83125 140.368701 \nL 158.08625 141.220248 \nL 161.34125 141.023571 \nL 164.59625 141.886883 \nL 167.85125 140.916885 \nL 171.10625 142.268504 \nL 174.36125 141.370538 \nL 177.61625 142.29128 \nL 180.87125 141.725748 \nL 184.12625 142.709071 \nL 187.38125 141.62323 \nL 190.63625 142.587081 \nL 193.89125 141.703051 \nL 197.14625 142.720135 \n\" clip-path=\"url(#p17c5c5ac70)\" style=\"fill: none; stroke: #1f77b4; stroke-width: 1.5; stroke-linecap: square\"/>\n   </g>\n   <g id=\"line2d_175\">\n    <path d=\"M 27.0725 55.146873 \nL 33.5825 67.043158 \nL 40.0925 72.206344 \nL 46.6025 75.654013 \nL 53.1125 77.03997 \nL 59.6225 77.472463 \nL 66.1325 79.852972 \nL 72.6425 76.712233 \nL 79.1525 80.199634 \nL 85.6625 71.602883 \nL 92.1725 73.702238 \nL 98.6825 75.248216 \nL 105.1925 68.206196 \nL 111.7025 72.975105 \nL 118.2125 68.095777 \nL 124.7225 68.783608 \nL 131.2325 68.744664 \nL 137.7425 65.802015 \nL 144.2525 65.418075 \nL 150.7625 65.48641 \nL 157.2725 65.432603 \nL 163.7825 61.656489 \nL 170.2925 63.360328 \nL 176.8025 55.898956 \nL 183.3125 59.782832 \nL 189.8225 55.661391 \nL 196.3325 56.853581 \n\" clip-path=\"url(#p17c5c5ac70)\" style=\"fill: none; stroke-dasharray: 5.55,2.4; stroke-dashoffset: 0; stroke: #ff7f0e; stroke-width: 1.5\"/>\n   </g>\n   <g id=\"line2d_176\">\n    <path d=\"M 21.37625 16.988113 \nL 24.63125 59.566179 \nL 27.88625 68.348988 \nL 31.14125 76.544765 \nL 34.39625 82.824078 \nL 37.65125 86.524919 \nL 40.90625 94.449373 \nL 44.16125 91.309039 \nL 47.41625 98.764443 \nL 50.67125 100.210362 \nL 53.92625 105.464547 \nL 57.18125 105.426727 \nL 60.43625 110.114159 \nL 63.69125 111.510068 \nL 66.94625 116.25074 \nL 70.20125 115.141637 \nL 73.45625 120.889299 \nL 76.71125 118.726122 \nL 79.96625 124.178499 \nL 83.22125 122.829426 \nL 86.47625 125.838671 \nL 89.73125 126.965891 \nL 92.98625 129.44621 \nL 96.24125 129.280109 \nL 99.49625 131.233361 \nL 102.75125 132.356895 \nL 106.00625 134.150246 \nL 109.26125 133.904182 \nL 112.51625 136.223286 \nL 115.77125 134.855475 \nL 119.02625 136.730134 \nL 122.28125 137.112091 \nL 125.53625 137.854928 \nL 128.79125 138.301444 \nL 132.04625 139.135594 \nL 135.30125 138.875236 \nL 138.55625 139.412457 \nL 141.81125 139.985089 \nL 145.06625 140.569597 \nL 148.32125 139.753333 \nL 151.57625 141.316869 \nL 154.83125 140.368701 \nL 158.08625 141.220248 \nL 161.34125 141.023571 \nL 164.59625 141.886883 \nL 167.85125 140.916885 \nL 171.10625 142.268504 \nL 174.36125 141.370538 \nL 177.61625 142.29128 \nL 180.87125 141.725748 \nL 184.12625 142.709071 \nL 187.38125 141.62323 \nL 190.63625 142.587081 \nL 193.89125 141.703051 \nL 197.14625 142.720135 \nL 200.40125 142.168431 \n\" clip-path=\"url(#p17c5c5ac70)\" style=\"fill: none; stroke: #1f77b4; stroke-width: 1.5; stroke-linecap: square\"/>\n   </g>\n   <g id=\"line2d_177\">\n    <path d=\"M 27.0725 55.146873 \nL 33.5825 67.043158 \nL 40.0925 72.206344 \nL 46.6025 75.654013 \nL 53.1125 77.03997 \nL 59.6225 77.472463 \nL 66.1325 79.852972 \nL 72.6425 76.712233 \nL 79.1525 80.199634 \nL 85.6625 71.602883 \nL 92.1725 73.702238 \nL 98.6825 75.248216 \nL 105.1925 68.206196 \nL 111.7025 72.975105 \nL 118.2125 68.095777 \nL 124.7225 68.783608 \nL 131.2325 68.744664 \nL 137.7425 65.802015 \nL 144.2525 65.418075 \nL 150.7625 65.48641 \nL 157.2725 65.432603 \nL 163.7825 61.656489 \nL 170.2925 63.360328 \nL 176.8025 55.898956 \nL 183.3125 59.782832 \nL 189.8225 55.661391 \nL 196.3325 56.853581 \n\" clip-path=\"url(#p17c5c5ac70)\" style=\"fill: none; stroke-dasharray: 5.55,2.4; stroke-dashoffset: 0; stroke: #ff7f0e; stroke-width: 1.5\"/>\n   </g>\n   <g id=\"line2d_178\">\n    <path d=\"M 21.37625 16.988113 \nL 24.63125 59.566179 \nL 27.88625 68.348988 \nL 31.14125 76.544765 \nL 34.39625 82.824078 \nL 37.65125 86.524919 \nL 40.90625 94.449373 \nL 44.16125 91.309039 \nL 47.41625 98.764443 \nL 50.67125 100.210362 \nL 53.92625 105.464547 \nL 57.18125 105.426727 \nL 60.43625 110.114159 \nL 63.69125 111.510068 \nL 66.94625 116.25074 \nL 70.20125 115.141637 \nL 73.45625 120.889299 \nL 76.71125 118.726122 \nL 79.96625 124.178499 \nL 83.22125 122.829426 \nL 86.47625 125.838671 \nL 89.73125 126.965891 \nL 92.98625 129.44621 \nL 96.24125 129.280109 \nL 99.49625 131.233361 \nL 102.75125 132.356895 \nL 106.00625 134.150246 \nL 109.26125 133.904182 \nL 112.51625 136.223286 \nL 115.77125 134.855475 \nL 119.02625 136.730134 \nL 122.28125 137.112091 \nL 125.53625 137.854928 \nL 128.79125 138.301444 \nL 132.04625 139.135594 \nL 135.30125 138.875236 \nL 138.55625 139.412457 \nL 141.81125 139.985089 \nL 145.06625 140.569597 \nL 148.32125 139.753333 \nL 151.57625 141.316869 \nL 154.83125 140.368701 \nL 158.08625 141.220248 \nL 161.34125 141.023571 \nL 164.59625 141.886883 \nL 167.85125 140.916885 \nL 171.10625 142.268504 \nL 174.36125 141.370538 \nL 177.61625 142.29128 \nL 180.87125 141.725748 \nL 184.12625 142.709071 \nL 187.38125 141.62323 \nL 190.63625 142.587081 \nL 193.89125 141.703051 \nL 197.14625 142.720135 \nL 200.40125 142.168431 \n\" clip-path=\"url(#p17c5c5ac70)\" style=\"fill: none; stroke: #1f77b4; stroke-width: 1.5; stroke-linecap: square\"/>\n   </g>\n   <g id=\"line2d_179\">\n    <path d=\"M 27.0725 55.146873 \nL 33.5825 67.043158 \nL 40.0925 72.206344 \nL 46.6025 75.654013 \nL 53.1125 77.03997 \nL 59.6225 77.472463 \nL 66.1325 79.852972 \nL 72.6425 76.712233 \nL 79.1525 80.199634 \nL 85.6625 71.602883 \nL 92.1725 73.702238 \nL 98.6825 75.248216 \nL 105.1925 68.206196 \nL 111.7025 72.975105 \nL 118.2125 68.095777 \nL 124.7225 68.783608 \nL 131.2325 68.744664 \nL 137.7425 65.802015 \nL 144.2525 65.418075 \nL 150.7625 65.48641 \nL 157.2725 65.432603 \nL 163.7825 61.656489 \nL 170.2925 63.360328 \nL 176.8025 55.898956 \nL 183.3125 59.782832 \nL 189.8225 55.661391 \nL 196.3325 56.853581 \nL 202.8425 54.701169 \n\" clip-path=\"url(#p17c5c5ac70)\" style=\"fill: none; stroke-dasharray: 5.55,2.4; stroke-dashoffset: 0; stroke: #ff7f0e; stroke-width: 1.5\"/>\n   </g>\n   <g id=\"line2d_180\">\n    <path d=\"M 21.37625 16.988113 \nL 24.63125 59.566179 \nL 27.88625 68.348988 \nL 31.14125 76.544765 \nL 34.39625 82.824078 \nL 37.65125 86.524919 \nL 40.90625 94.449373 \nL 44.16125 91.309039 \nL 47.41625 98.764443 \nL 50.67125 100.210362 \nL 53.92625 105.464547 \nL 57.18125 105.426727 \nL 60.43625 110.114159 \nL 63.69125 111.510068 \nL 66.94625 116.25074 \nL 70.20125 115.141637 \nL 73.45625 120.889299 \nL 76.71125 118.726122 \nL 79.96625 124.178499 \nL 83.22125 122.829426 \nL 86.47625 125.838671 \nL 89.73125 126.965891 \nL 92.98625 129.44621 \nL 96.24125 129.280109 \nL 99.49625 131.233361 \nL 102.75125 132.356895 \nL 106.00625 134.150246 \nL 109.26125 133.904182 \nL 112.51625 136.223286 \nL 115.77125 134.855475 \nL 119.02625 136.730134 \nL 122.28125 137.112091 \nL 125.53625 137.854928 \nL 128.79125 138.301444 \nL 132.04625 139.135594 \nL 135.30125 138.875236 \nL 138.55625 139.412457 \nL 141.81125 139.985089 \nL 145.06625 140.569597 \nL 148.32125 139.753333 \nL 151.57625 141.316869 \nL 154.83125 140.368701 \nL 158.08625 141.220248 \nL 161.34125 141.023571 \nL 164.59625 141.886883 \nL 167.85125 140.916885 \nL 171.10625 142.268504 \nL 174.36125 141.370538 \nL 177.61625 142.29128 \nL 180.87125 141.725748 \nL 184.12625 142.709071 \nL 187.38125 141.62323 \nL 190.63625 142.587081 \nL 193.89125 141.703051 \nL 197.14625 142.720135 \nL 200.40125 142.168431 \nL 203.65625 142.44424 \n\" clip-path=\"url(#p17c5c5ac70)\" style=\"fill: none; stroke: #1f77b4; stroke-width: 1.5; stroke-linecap: square\"/>\n   </g>\n   <g id=\"line2d_181\">\n    <path d=\"M 27.0725 55.146873 \nL 33.5825 67.043158 \nL 40.0925 72.206344 \nL 46.6025 75.654013 \nL 53.1125 77.03997 \nL 59.6225 77.472463 \nL 66.1325 79.852972 \nL 72.6425 76.712233 \nL 79.1525 80.199634 \nL 85.6625 71.602883 \nL 92.1725 73.702238 \nL 98.6825 75.248216 \nL 105.1925 68.206196 \nL 111.7025 72.975105 \nL 118.2125 68.095777 \nL 124.7225 68.783608 \nL 131.2325 68.744664 \nL 137.7425 65.802015 \nL 144.2525 65.418075 \nL 150.7625 65.48641 \nL 157.2725 65.432603 \nL 163.7825 61.656489 \nL 170.2925 63.360328 \nL 176.8025 55.898956 \nL 183.3125 59.782832 \nL 189.8225 55.661391 \nL 196.3325 56.853581 \nL 202.8425 54.701169 \n\" clip-path=\"url(#p17c5c5ac70)\" style=\"fill: none; stroke-dasharray: 5.55,2.4; stroke-dashoffset: 0; stroke: #ff7f0e; stroke-width: 1.5\"/>\n   </g>\n   <g id=\"line2d_182\">\n    <path d=\"M 21.37625 16.988113 \nL 24.63125 59.566179 \nL 27.88625 68.348988 \nL 31.14125 76.544765 \nL 34.39625 82.824078 \nL 37.65125 86.524919 \nL 40.90625 94.449373 \nL 44.16125 91.309039 \nL 47.41625 98.764443 \nL 50.67125 100.210362 \nL 53.92625 105.464547 \nL 57.18125 105.426727 \nL 60.43625 110.114159 \nL 63.69125 111.510068 \nL 66.94625 116.25074 \nL 70.20125 115.141637 \nL 73.45625 120.889299 \nL 76.71125 118.726122 \nL 79.96625 124.178499 \nL 83.22125 122.829426 \nL 86.47625 125.838671 \nL 89.73125 126.965891 \nL 92.98625 129.44621 \nL 96.24125 129.280109 \nL 99.49625 131.233361 \nL 102.75125 132.356895 \nL 106.00625 134.150246 \nL 109.26125 133.904182 \nL 112.51625 136.223286 \nL 115.77125 134.855475 \nL 119.02625 136.730134 \nL 122.28125 137.112091 \nL 125.53625 137.854928 \nL 128.79125 138.301444 \nL 132.04625 139.135594 \nL 135.30125 138.875236 \nL 138.55625 139.412457 \nL 141.81125 139.985089 \nL 145.06625 140.569597 \nL 148.32125 139.753333 \nL 151.57625 141.316869 \nL 154.83125 140.368701 \nL 158.08625 141.220248 \nL 161.34125 141.023571 \nL 164.59625 141.886883 \nL 167.85125 140.916885 \nL 171.10625 142.268504 \nL 174.36125 141.370538 \nL 177.61625 142.29128 \nL 180.87125 141.725748 \nL 184.12625 142.709071 \nL 187.38125 141.62323 \nL 190.63625 142.587081 \nL 193.89125 141.703051 \nL 197.14625 142.720135 \nL 200.40125 142.168431 \nL 203.65625 142.44424 \nL 206.91125 142.627504 \n\" clip-path=\"url(#p17c5c5ac70)\" style=\"fill: none; stroke: #1f77b4; stroke-width: 1.5; stroke-linecap: square\"/>\n   </g>\n   <g id=\"line2d_183\">\n    <path d=\"M 27.0725 55.146873 \nL 33.5825 67.043158 \nL 40.0925 72.206344 \nL 46.6025 75.654013 \nL 53.1125 77.03997 \nL 59.6225 77.472463 \nL 66.1325 79.852972 \nL 72.6425 76.712233 \nL 79.1525 80.199634 \nL 85.6625 71.602883 \nL 92.1725 73.702238 \nL 98.6825 75.248216 \nL 105.1925 68.206196 \nL 111.7025 72.975105 \nL 118.2125 68.095777 \nL 124.7225 68.783608 \nL 131.2325 68.744664 \nL 137.7425 65.802015 \nL 144.2525 65.418075 \nL 150.7625 65.48641 \nL 157.2725 65.432603 \nL 163.7825 61.656489 \nL 170.2925 63.360328 \nL 176.8025 55.898956 \nL 183.3125 59.782832 \nL 189.8225 55.661391 \nL 196.3325 56.853581 \nL 202.8425 54.701169 \n\" clip-path=\"url(#p17c5c5ac70)\" style=\"fill: none; stroke-dasharray: 5.55,2.4; stroke-dashoffset: 0; stroke: #ff7f0e; stroke-width: 1.5\"/>\n   </g>\n   <g id=\"line2d_184\">\n    <path d=\"M 21.37625 16.988113 \nL 24.63125 59.566179 \nL 27.88625 68.348988 \nL 31.14125 76.544765 \nL 34.39625 82.824078 \nL 37.65125 86.524919 \nL 40.90625 94.449373 \nL 44.16125 91.309039 \nL 47.41625 98.764443 \nL 50.67125 100.210362 \nL 53.92625 105.464547 \nL 57.18125 105.426727 \nL 60.43625 110.114159 \nL 63.69125 111.510068 \nL 66.94625 116.25074 \nL 70.20125 115.141637 \nL 73.45625 120.889299 \nL 76.71125 118.726122 \nL 79.96625 124.178499 \nL 83.22125 122.829426 \nL 86.47625 125.838671 \nL 89.73125 126.965891 \nL 92.98625 129.44621 \nL 96.24125 129.280109 \nL 99.49625 131.233361 \nL 102.75125 132.356895 \nL 106.00625 134.150246 \nL 109.26125 133.904182 \nL 112.51625 136.223286 \nL 115.77125 134.855475 \nL 119.02625 136.730134 \nL 122.28125 137.112091 \nL 125.53625 137.854928 \nL 128.79125 138.301444 \nL 132.04625 139.135594 \nL 135.30125 138.875236 \nL 138.55625 139.412457 \nL 141.81125 139.985089 \nL 145.06625 140.569597 \nL 148.32125 139.753333 \nL 151.57625 141.316869 \nL 154.83125 140.368701 \nL 158.08625 141.220248 \nL 161.34125 141.023571 \nL 164.59625 141.886883 \nL 167.85125 140.916885 \nL 171.10625 142.268504 \nL 174.36125 141.370538 \nL 177.61625 142.29128 \nL 180.87125 141.725748 \nL 184.12625 142.709071 \nL 187.38125 141.62323 \nL 190.63625 142.587081 \nL 193.89125 141.703051 \nL 197.14625 142.720135 \nL 200.40125 142.168431 \nL 203.65625 142.44424 \nL 206.91125 142.627504 \n\" clip-path=\"url(#p17c5c5ac70)\" style=\"fill: none; stroke: #1f77b4; stroke-width: 1.5; stroke-linecap: square\"/>\n   </g>\n   <g id=\"line2d_185\">\n    <path d=\"M 27.0725 55.146873 \nL 33.5825 67.043158 \nL 40.0925 72.206344 \nL 46.6025 75.654013 \nL 53.1125 77.03997 \nL 59.6225 77.472463 \nL 66.1325 79.852972 \nL 72.6425 76.712233 \nL 79.1525 80.199634 \nL 85.6625 71.602883 \nL 92.1725 73.702238 \nL 98.6825 75.248216 \nL 105.1925 68.206196 \nL 111.7025 72.975105 \nL 118.2125 68.095777 \nL 124.7225 68.783608 \nL 131.2325 68.744664 \nL 137.7425 65.802015 \nL 144.2525 65.418075 \nL 150.7625 65.48641 \nL 157.2725 65.432603 \nL 163.7825 61.656489 \nL 170.2925 63.360328 \nL 176.8025 55.898956 \nL 183.3125 59.782832 \nL 189.8225 55.661391 \nL 196.3325 56.853581 \nL 202.8425 54.701169 \nL 209.3525 57.589988 \n\" clip-path=\"url(#p17c5c5ac70)\" style=\"fill: none; stroke-dasharray: 5.55,2.4; stroke-dashoffset: 0; stroke: #ff7f0e; stroke-width: 1.5\"/>\n   </g>\n   <g id=\"line2d_186\">\n    <path d=\"M 21.37625 16.988113 \nL 24.63125 59.566179 \nL 27.88625 68.348988 \nL 31.14125 76.544765 \nL 34.39625 82.824078 \nL 37.65125 86.524919 \nL 40.90625 94.449373 \nL 44.16125 91.309039 \nL 47.41625 98.764443 \nL 50.67125 100.210362 \nL 53.92625 105.464547 \nL 57.18125 105.426727 \nL 60.43625 110.114159 \nL 63.69125 111.510068 \nL 66.94625 116.25074 \nL 70.20125 115.141637 \nL 73.45625 120.889299 \nL 76.71125 118.726122 \nL 79.96625 124.178499 \nL 83.22125 122.829426 \nL 86.47625 125.838671 \nL 89.73125 126.965891 \nL 92.98625 129.44621 \nL 96.24125 129.280109 \nL 99.49625 131.233361 \nL 102.75125 132.356895 \nL 106.00625 134.150246 \nL 109.26125 133.904182 \nL 112.51625 136.223286 \nL 115.77125 134.855475 \nL 119.02625 136.730134 \nL 122.28125 137.112091 \nL 125.53625 137.854928 \nL 128.79125 138.301444 \nL 132.04625 139.135594 \nL 135.30125 138.875236 \nL 138.55625 139.412457 \nL 141.81125 139.985089 \nL 145.06625 140.569597 \nL 148.32125 139.753333 \nL 151.57625 141.316869 \nL 154.83125 140.368701 \nL 158.08625 141.220248 \nL 161.34125 141.023571 \nL 164.59625 141.886883 \nL 167.85125 140.916885 \nL 171.10625 142.268504 \nL 174.36125 141.370538 \nL 177.61625 142.29128 \nL 180.87125 141.725748 \nL 184.12625 142.709071 \nL 187.38125 141.62323 \nL 190.63625 142.587081 \nL 193.89125 141.703051 \nL 197.14625 142.720135 \nL 200.40125 142.168431 \nL 203.65625 142.44424 \nL 206.91125 142.627504 \nL 210.16625 142.988113 \n\" clip-path=\"url(#p17c5c5ac70)\" style=\"fill: none; stroke: #1f77b4; stroke-width: 1.5; stroke-linecap: square\"/>\n   </g>\n   <g id=\"line2d_187\">\n    <path d=\"M 27.0725 55.146873 \nL 33.5825 67.043158 \nL 40.0925 72.206344 \nL 46.6025 75.654013 \nL 53.1125 77.03997 \nL 59.6225 77.472463 \nL 66.1325 79.852972 \nL 72.6425 76.712233 \nL 79.1525 80.199634 \nL 85.6625 71.602883 \nL 92.1725 73.702238 \nL 98.6825 75.248216 \nL 105.1925 68.206196 \nL 111.7025 72.975105 \nL 118.2125 68.095777 \nL 124.7225 68.783608 \nL 131.2325 68.744664 \nL 137.7425 65.802015 \nL 144.2525 65.418075 \nL 150.7625 65.48641 \nL 157.2725 65.432603 \nL 163.7825 61.656489 \nL 170.2925 63.360328 \nL 176.8025 55.898956 \nL 183.3125 59.782832 \nL 189.8225 55.661391 \nL 196.3325 56.853581 \nL 202.8425 54.701169 \nL 209.3525 57.589988 \n\" clip-path=\"url(#p17c5c5ac70)\" style=\"fill: none; stroke-dasharray: 5.55,2.4; stroke-dashoffset: 0; stroke: #ff7f0e; stroke-width: 1.5\"/>\n   </g>\n   <g id=\"line2d_188\">\n    <path d=\"M 21.37625 16.988113 \nL 24.63125 59.566179 \nL 27.88625 68.348988 \nL 31.14125 76.544765 \nL 34.39625 82.824078 \nL 37.65125 86.524919 \nL 40.90625 94.449373 \nL 44.16125 91.309039 \nL 47.41625 98.764443 \nL 50.67125 100.210362 \nL 53.92625 105.464547 \nL 57.18125 105.426727 \nL 60.43625 110.114159 \nL 63.69125 111.510068 \nL 66.94625 116.25074 \nL 70.20125 115.141637 \nL 73.45625 120.889299 \nL 76.71125 118.726122 \nL 79.96625 124.178499 \nL 83.22125 122.829426 \nL 86.47625 125.838671 \nL 89.73125 126.965891 \nL 92.98625 129.44621 \nL 96.24125 129.280109 \nL 99.49625 131.233361 \nL 102.75125 132.356895 \nL 106.00625 134.150246 \nL 109.26125 133.904182 \nL 112.51625 136.223286 \nL 115.77125 134.855475 \nL 119.02625 136.730134 \nL 122.28125 137.112091 \nL 125.53625 137.854928 \nL 128.79125 138.301444 \nL 132.04625 139.135594 \nL 135.30125 138.875236 \nL 138.55625 139.412457 \nL 141.81125 139.985089 \nL 145.06625 140.569597 \nL 148.32125 139.753333 \nL 151.57625 141.316869 \nL 154.83125 140.368701 \nL 158.08625 141.220248 \nL 161.34125 141.023571 \nL 164.59625 141.886883 \nL 167.85125 140.916885 \nL 171.10625 142.268504 \nL 174.36125 141.370538 \nL 177.61625 142.29128 \nL 180.87125 141.725748 \nL 184.12625 142.709071 \nL 187.38125 141.62323 \nL 190.63625 142.587081 \nL 193.89125 141.703051 \nL 197.14625 142.720135 \nL 200.40125 142.168431 \nL 203.65625 142.44424 \nL 206.91125 142.627504 \nL 210.16625 142.988113 \nL 213.42125 142.091528 \n\" clip-path=\"url(#p17c5c5ac70)\" style=\"fill: none; stroke: #1f77b4; stroke-width: 1.5; stroke-linecap: square\"/>\n   </g>\n   <g id=\"line2d_189\">\n    <path d=\"M 27.0725 55.146873 \nL 33.5825 67.043158 \nL 40.0925 72.206344 \nL 46.6025 75.654013 \nL 53.1125 77.03997 \nL 59.6225 77.472463 \nL 66.1325 79.852972 \nL 72.6425 76.712233 \nL 79.1525 80.199634 \nL 85.6625 71.602883 \nL 92.1725 73.702238 \nL 98.6825 75.248216 \nL 105.1925 68.206196 \nL 111.7025 72.975105 \nL 118.2125 68.095777 \nL 124.7225 68.783608 \nL 131.2325 68.744664 \nL 137.7425 65.802015 \nL 144.2525 65.418075 \nL 150.7625 65.48641 \nL 157.2725 65.432603 \nL 163.7825 61.656489 \nL 170.2925 63.360328 \nL 176.8025 55.898956 \nL 183.3125 59.782832 \nL 189.8225 55.661391 \nL 196.3325 56.853581 \nL 202.8425 54.701169 \nL 209.3525 57.589988 \n\" clip-path=\"url(#p17c5c5ac70)\" style=\"fill: none; stroke-dasharray: 5.55,2.4; stroke-dashoffset: 0; stroke: #ff7f0e; stroke-width: 1.5\"/>\n   </g>\n   <g id=\"line2d_190\">\n    <path d=\"M 21.37625 16.988113 \nL 24.63125 59.566179 \nL 27.88625 68.348988 \nL 31.14125 76.544765 \nL 34.39625 82.824078 \nL 37.65125 86.524919 \nL 40.90625 94.449373 \nL 44.16125 91.309039 \nL 47.41625 98.764443 \nL 50.67125 100.210362 \nL 53.92625 105.464547 \nL 57.18125 105.426727 \nL 60.43625 110.114159 \nL 63.69125 111.510068 \nL 66.94625 116.25074 \nL 70.20125 115.141637 \nL 73.45625 120.889299 \nL 76.71125 118.726122 \nL 79.96625 124.178499 \nL 83.22125 122.829426 \nL 86.47625 125.838671 \nL 89.73125 126.965891 \nL 92.98625 129.44621 \nL 96.24125 129.280109 \nL 99.49625 131.233361 \nL 102.75125 132.356895 \nL 106.00625 134.150246 \nL 109.26125 133.904182 \nL 112.51625 136.223286 \nL 115.77125 134.855475 \nL 119.02625 136.730134 \nL 122.28125 137.112091 \nL 125.53625 137.854928 \nL 128.79125 138.301444 \nL 132.04625 139.135594 \nL 135.30125 138.875236 \nL 138.55625 139.412457 \nL 141.81125 139.985089 \nL 145.06625 140.569597 \nL 148.32125 139.753333 \nL 151.57625 141.316869 \nL 154.83125 140.368701 \nL 158.08625 141.220248 \nL 161.34125 141.023571 \nL 164.59625 141.886883 \nL 167.85125 140.916885 \nL 171.10625 142.268504 \nL 174.36125 141.370538 \nL 177.61625 142.29128 \nL 180.87125 141.725748 \nL 184.12625 142.709071 \nL 187.38125 141.62323 \nL 190.63625 142.587081 \nL 193.89125 141.703051 \nL 197.14625 142.720135 \nL 200.40125 142.168431 \nL 203.65625 142.44424 \nL 206.91125 142.627504 \nL 210.16625 142.988113 \nL 213.42125 142.091528 \n\" clip-path=\"url(#p17c5c5ac70)\" style=\"fill: none; stroke: #1f77b4; stroke-width: 1.5; stroke-linecap: square\"/>\n   </g>\n   <g id=\"line2d_191\">\n    <path d=\"M 27.0725 55.146873 \nL 33.5825 67.043158 \nL 40.0925 72.206344 \nL 46.6025 75.654013 \nL 53.1125 77.03997 \nL 59.6225 77.472463 \nL 66.1325 79.852972 \nL 72.6425 76.712233 \nL 79.1525 80.199634 \nL 85.6625 71.602883 \nL 92.1725 73.702238 \nL 98.6825 75.248216 \nL 105.1925 68.206196 \nL 111.7025 72.975105 \nL 118.2125 68.095777 \nL 124.7225 68.783608 \nL 131.2325 68.744664 \nL 137.7425 65.802015 \nL 144.2525 65.418075 \nL 150.7625 65.48641 \nL 157.2725 65.432603 \nL 163.7825 61.656489 \nL 170.2925 63.360328 \nL 176.8025 55.898956 \nL 183.3125 59.782832 \nL 189.8225 55.661391 \nL 196.3325 56.853581 \nL 202.8425 54.701169 \nL 209.3525 57.589988 \nL 215.8625 54.397412 \n\" clip-path=\"url(#p17c5c5ac70)\" style=\"fill: none; stroke-dasharray: 5.55,2.4; stroke-dashoffset: 0; stroke: #ff7f0e; stroke-width: 1.5\"/>\n   </g>\n   <g id=\"patch_3\">\n    <path d=\"M 20.5625 149.288113 \nL 20.5625 10.688113 \n\" style=\"fill: none; stroke: #000000; stroke-width: 0.8; stroke-linejoin: miter; stroke-linecap: square\"/>\n   </g>\n   <g id=\"patch_4\">\n    <path d=\"M 215.8625 149.288113 \nL 215.8625 10.688113 \n\" style=\"fill: none; stroke: #000000; stroke-width: 0.8; stroke-linejoin: miter; stroke-linecap: square\"/>\n   </g>\n   <g id=\"patch_5\">\n    <path d=\"M 20.5625 149.288113 \nL 215.8625 149.288113 \n\" style=\"fill: none; stroke: #000000; stroke-width: 0.8; stroke-linejoin: miter; stroke-linecap: square\"/>\n   </g>\n   <g id=\"patch_6\">\n    <path d=\"M 20.5625 10.688113 \nL 215.8625 10.688113 \n\" style=\"fill: none; stroke: #000000; stroke-width: 0.8; stroke-linejoin: miter; stroke-linecap: square\"/>\n   </g>\n   <g id=\"legend_1\">\n    <g id=\"patch_7\">\n     <path d=\"M 129.271875 48.600613 \nL 208.8625 48.600613 \nQ 210.8625 48.600613 210.8625 46.600613 \nL 210.8625 17.688113 \nQ 210.8625 15.688113 208.8625 15.688113 \nL 129.271875 15.688113 \nQ 127.271875 15.688113 127.271875 17.688113 \nL 127.271875 46.600613 \nQ 127.271875 48.600613 129.271875 48.600613 \nz\n\" style=\"fill: #ffffff; opacity: 0.8; stroke: #cccccc; stroke-linejoin: miter\"/>\n    </g>\n    <g id=\"line2d_192\">\n     <path d=\"M 131.271875 23.78655 \nL 141.271875 23.78655 \nL 151.271875 23.78655 \n\" style=\"fill: none; stroke: #1f77b4; stroke-width: 1.5; stroke-linecap: square\"/>\n    </g>\n    <g id=\"text_15\">\n     <!-- train_loss -->\n     <g transform=\"translate(159.271875 27.28655) scale(0.1 -0.1)\">\n      <defs>\n       <path id=\"DejaVuSans-74\" d=\"M 1172 4494 \nL 1172 3500 \nL 2356 3500 \nL 2356 3053 \nL 1172 3053 \nL 1172 1153 \nQ 1172 725 1289 603 \nQ 1406 481 1766 481 \nL 2356 481 \nL 2356 0 \nL 1766 0 \nQ 1100 0 847 248 \nQ 594 497 594 1153 \nL 594 3053 \nL 172 3053 \nL 172 3500 \nL 594 3500 \nL 594 4494 \nL 1172 4494 \nz\n\" transform=\"scale(0.015625)\"/>\n       <path id=\"DejaVuSans-72\" d=\"M 2631 2963 \nQ 2534 3019 2420 3045 \nQ 2306 3072 2169 3072 \nQ 1681 3072 1420 2755 \nQ 1159 2438 1159 1844 \nL 1159 0 \nL 581 0 \nL 581 3500 \nL 1159 3500 \nL 1159 2956 \nQ 1341 3275 1631 3429 \nQ 1922 3584 2338 3584 \nQ 2397 3584 2469 3576 \nQ 2541 3569 2628 3553 \nL 2631 2963 \nz\n\" transform=\"scale(0.015625)\"/>\n       <path id=\"DejaVuSans-61\" d=\"M 2194 1759 \nQ 1497 1759 1228 1600 \nQ 959 1441 959 1056 \nQ 959 750 1161 570 \nQ 1363 391 1709 391 \nQ 2188 391 2477 730 \nQ 2766 1069 2766 1631 \nL 2766 1759 \nL 2194 1759 \nz\nM 3341 1997 \nL 3341 0 \nL 2766 0 \nL 2766 531 \nQ 2569 213 2275 61 \nQ 1981 -91 1556 -91 \nQ 1019 -91 701 211 \nQ 384 513 384 1019 \nQ 384 1609 779 1909 \nQ 1175 2209 1959 2209 \nL 2766 2209 \nL 2766 2266 \nQ 2766 2663 2505 2880 \nQ 2244 3097 1772 3097 \nQ 1472 3097 1187 3025 \nQ 903 2953 641 2809 \nL 641 3341 \nQ 956 3463 1253 3523 \nQ 1550 3584 1831 3584 \nQ 2591 3584 2966 3190 \nQ 3341 2797 3341 1997 \nz\n\" transform=\"scale(0.015625)\"/>\n       <path id=\"DejaVuSans-69\" d=\"M 603 3500 \nL 1178 3500 \nL 1178 0 \nL 603 0 \nL 603 3500 \nz\nM 603 4863 \nL 1178 4863 \nL 1178 4134 \nL 603 4134 \nL 603 4863 \nz\n\" transform=\"scale(0.015625)\"/>\n       <path id=\"DejaVuSans-6e\" d=\"M 3513 2113 \nL 3513 0 \nL 2938 0 \nL 2938 2094 \nQ 2938 2591 2744 2837 \nQ 2550 3084 2163 3084 \nQ 1697 3084 1428 2787 \nQ 1159 2491 1159 1978 \nL 1159 0 \nL 581 0 \nL 581 3500 \nL 1159 3500 \nL 1159 2956 \nQ 1366 3272 1645 3428 \nQ 1925 3584 2291 3584 \nQ 2894 3584 3203 3211 \nQ 3513 2838 3513 2113 \nz\n\" transform=\"scale(0.015625)\"/>\n       <path id=\"DejaVuSans-5f\" d=\"M 3263 -1063 \nL 3263 -1509 \nL -63 -1509 \nL -63 -1063 \nL 3263 -1063 \nz\n\" transform=\"scale(0.015625)\"/>\n       <path id=\"DejaVuSans-6c\" d=\"M 603 4863 \nL 1178 4863 \nL 1178 0 \nL 603 0 \nL 603 4863 \nz\n\" transform=\"scale(0.015625)\"/>\n       <path id=\"DejaVuSans-73\" d=\"M 2834 3397 \nL 2834 2853 \nQ 2591 2978 2328 3040 \nQ 2066 3103 1784 3103 \nQ 1356 3103 1142 2972 \nQ 928 2841 928 2578 \nQ 928 2378 1081 2264 \nQ 1234 2150 1697 2047 \nL 1894 2003 \nQ 2506 1872 2764 1633 \nQ 3022 1394 3022 966 \nQ 3022 478 2636 193 \nQ 2250 -91 1575 -91 \nQ 1294 -91 989 -36 \nQ 684 19 347 128 \nL 347 722 \nQ 666 556 975 473 \nQ 1284 391 1588 391 \nQ 1994 391 2212 530 \nQ 2431 669 2431 922 \nQ 2431 1156 2273 1281 \nQ 2116 1406 1581 1522 \nL 1381 1569 \nQ 847 1681 609 1914 \nQ 372 2147 372 2553 \nQ 372 3047 722 3315 \nQ 1072 3584 1716 3584 \nQ 2034 3584 2315 3537 \nQ 2597 3491 2834 3397 \nz\n\" transform=\"scale(0.015625)\"/>\n      </defs>\n      <use xlink:href=\"#DejaVuSans-74\"/>\n      <use xlink:href=\"#DejaVuSans-72\" x=\"39.208984\"/>\n      <use xlink:href=\"#DejaVuSans-61\" x=\"80.322266\"/>\n      <use xlink:href=\"#DejaVuSans-69\" x=\"141.601562\"/>\n      <use xlink:href=\"#DejaVuSans-6e\" x=\"169.384766\"/>\n      <use xlink:href=\"#DejaVuSans-5f\" x=\"232.763672\"/>\n      <use xlink:href=\"#DejaVuSans-6c\" x=\"282.763672\"/>\n      <use xlink:href=\"#DejaVuSans-6f\" x=\"310.546875\"/>\n      <use xlink:href=\"#DejaVuSans-73\" x=\"371.728516\"/>\n      <use xlink:href=\"#DejaVuSans-73\" x=\"423.828125\"/>\n     </g>\n    </g>\n    <g id=\"line2d_193\">\n     <path d=\"M 131.271875 38.7428 \nL 141.271875 38.7428 \nL 151.271875 38.7428 \n\" style=\"fill: none; stroke-dasharray: 5.55,2.4; stroke-dashoffset: 0; stroke: #ff7f0e; stroke-width: 1.5\"/>\n    </g>\n    <g id=\"text_16\">\n     <!-- val_loss -->\n     <g transform=\"translate(159.271875 42.2428) scale(0.1 -0.1)\">\n      <defs>\n       <path id=\"DejaVuSans-76\" d=\"M 191 3500 \nL 800 3500 \nL 1894 563 \nL 2988 3500 \nL 3597 3500 \nL 2284 0 \nL 1503 0 \nL 191 3500 \nz\n\" transform=\"scale(0.015625)\"/>\n      </defs>\n      <use xlink:href=\"#DejaVuSans-76\"/>\n      <use xlink:href=\"#DejaVuSans-61\" x=\"59.179688\"/>\n      <use xlink:href=\"#DejaVuSans-6c\" x=\"120.458984\"/>\n      <use xlink:href=\"#DejaVuSans-5f\" x=\"148.242188\"/>\n      <use xlink:href=\"#DejaVuSans-6c\" x=\"198.242188\"/>\n      <use xlink:href=\"#DejaVuSans-6f\" x=\"226.025391\"/>\n      <use xlink:href=\"#DejaVuSans-73\" x=\"287.207031\"/>\n      <use xlink:href=\"#DejaVuSans-73\" x=\"339.306641\"/>\n     </g>\n    </g>\n   </g>\n  </g>\n </g>\n <defs>\n  <clipPath id=\"p17c5c5ac70\">\n   <rect x=\"20.5625\" y=\"10.688113\" width=\"195.3\" height=\"138.6\"/>\n  </clipPath>\n </defs>\n</svg>\n"
          },
          "metadata": {}
        }
      ]
    },
    {
      "cell_type": "code",
      "source": [
        "@d2l.add_to_class(d2l.EncoderDecoder)\n",
        "def predict_step(self, batch, device, num_steps,\n",
        "                 save_attention_weights=False):\n",
        "    batch = [a.to(device) for a in batch]\n",
        "    src, tgt, src_valid_len, _ = batch\n",
        "    enc_all_outputs = self.encoder(src, src_valid_len)\n",
        "    dec_state = self.decoder.init_state(enc_all_outputs, src_valid_len)\n",
        "    outputs, attention_weights = [tgt[:, (0)].unsqueeze(1), ], []\n",
        "    for _ in range(num_steps):\n",
        "        Y, dec_state = self.decoder(outputs[-1], dec_state)\n",
        "        outputs.append(Y.argmax(2))\n",
        "        # Save attention weights (to be covered later)\n",
        "        if save_attention_weights:\n",
        "            attention_weights.append(self.decoder.attention_weights)\n",
        "    return torch.cat(outputs[1:], 1), attention_weights\n"
      ],
      "metadata": {
        "id": "VgBQBmAN3wKI"
      },
      "id": "VgBQBmAN3wKI",
      "execution_count": null,
      "outputs": []
    },
    {
      "cell_type": "code",
      "source": [
        "def bleu(pred_seq, label_seq, k):\n",
        "    \"\"\"Compute the BLEU.\"\"\"\n",
        "    pred_tokens, label_tokens = pred_seq.split(' '), label_seq.split(' ')\n",
        "    len_pred, len_label = len(pred_tokens), len(label_tokens)\n",
        "    score = math.exp(min(0, 1 - len_label / len_pred))\n",
        "    for n in range(1, min(k, len_pred) + 1):\n",
        "        num_matches, label_subs = 0, collections.defaultdict(int)\n",
        "        for i in range(len_label - n + 1):\n",
        "            label_subs[' '.join(label_tokens[i: i + n])] += 1\n",
        "        for i in range(len_pred - n + 1):\n",
        "            if label_subs[' '.join(pred_tokens[i: i + n])] > 0:\n",
        "                num_matches += 1\n",
        "                label_subs[' '.join(pred_tokens[i: i + n])] -= 1\n",
        "        score *= math.pow(num_matches / (len_pred - n + 1), math.pow(0.5, n))\n",
        "    return score\n"
      ],
      "metadata": {
        "id": "Btvqb3S632sF"
      },
      "id": "Btvqb3S632sF",
      "execution_count": null,
      "outputs": []
    },
    {
      "cell_type": "code",
      "source": [
        "engs = ['go .', 'i lost .', 'he\\'s calm .', 'i\\'m home .']\n",
        "fras = ['va !', 'j\\'ai perdu .', 'il est calme .', 'je suis chez moi .']\n",
        "preds, _ = model.predict_step(\n",
        "    data.build(engs, fras), d2l.try_gpu(), data.num_steps)\n",
        "for en, fr, p in zip(engs, fras, preds):\n",
        "    translation = []\n",
        "    for token in data.tgt_vocab.to_tokens(p):\n",
        "        if token == '<eos>':\n",
        "            break\n",
        "        translation.append(token)\n",
        "    print(f'{en} => {translation}, bleu,'\n",
        "          f'{bleu(\" \".join(translation), fr, k=2):.3f}')\n"
      ],
      "metadata": {
        "id": "lNZ1bWzC36RG",
        "outputId": "319a8d4b-87c5-4162-f774-42cd95a7e553",
        "colab": {
          "base_uri": "https://localhost:8080/"
        }
      },
      "id": "lNZ1bWzC36RG",
      "execution_count": null,
      "outputs": [
        {
          "output_type": "stream",
          "name": "stdout",
          "text": [
            "go . => ['va', '!'], bleu,1.000\n",
            "i lost . => [\"j'ai\", 'perdu', '.'], bleu,1.000\n",
            "he's calm . => ['il', 'est', 'mouillé', '.'], bleu,0.658\n",
            "i'm home . => ['je', 'suis', 'chez', 'moi', '.'], bleu,1.000\n"
          ]
        }
      ]
    }
  ],
  "metadata": {
    "kernelspec": {
      "display_name": "Python 3",
      "name": "python3"
    },
    "language_info": {
      "name": "python"
    },
    "required_libs": [],
    "colab": {
      "provenance": [],
      "gpuType": "T4"
    },
    "accelerator": "GPU"
  },
  "nbformat": 4,
  "nbformat_minor": 5
}