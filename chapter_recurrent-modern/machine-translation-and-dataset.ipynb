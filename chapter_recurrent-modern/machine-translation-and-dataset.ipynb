{
  "cells": [
    {
      "cell_type": "markdown",
      "id": "cd23eb28",
      "metadata": {
        "id": "cd23eb28"
      },
      "source": [
        "The following additional libraries are needed to run this\n",
        "notebook. Note that running on Colab is experimental, please report a Github\n",
        "issue if you have any problem."
      ]
    },
    {
      "cell_type": "code",
      "execution_count": 2,
      "id": "f08d6219",
      "metadata": {
        "id": "f08d6219",
        "outputId": "37adeb8e-51dd-4f09-babe-6628d524bfa9",
        "colab": {
          "base_uri": "https://localhost:8080/",
          "height": 1000
        }
      },
      "outputs": [
        {
          "output_type": "stream",
          "name": "stdout",
          "text": [
            "Collecting d2l==1.0.3\n",
            "  Downloading d2l-1.0.3-py3-none-any.whl.metadata (556 bytes)\n",
            "Collecting jupyter==1.0.0 (from d2l==1.0.3)\n",
            "  Downloading jupyter-1.0.0-py2.py3-none-any.whl.metadata (995 bytes)\n",
            "Collecting numpy==1.23.5 (from d2l==1.0.3)\n",
            "  Downloading numpy-1.23.5-cp311-cp311-manylinux_2_17_x86_64.manylinux2014_x86_64.whl.metadata (2.3 kB)\n",
            "Collecting matplotlib==3.7.2 (from d2l==1.0.3)\n",
            "  Downloading matplotlib-3.7.2-cp311-cp311-manylinux_2_17_x86_64.manylinux2014_x86_64.whl.metadata (5.6 kB)\n",
            "Collecting matplotlib-inline==0.1.6 (from d2l==1.0.3)\n",
            "  Downloading matplotlib_inline-0.1.6-py3-none-any.whl.metadata (2.8 kB)\n",
            "Collecting requests==2.31.0 (from d2l==1.0.3)\n",
            "  Downloading requests-2.31.0-py3-none-any.whl.metadata (4.6 kB)\n",
            "Collecting pandas==2.0.3 (from d2l==1.0.3)\n",
            "  Downloading pandas-2.0.3-cp311-cp311-manylinux_2_17_x86_64.manylinux2014_x86_64.whl.metadata (18 kB)\n",
            "Collecting scipy==1.10.1 (from d2l==1.0.3)\n",
            "  Downloading scipy-1.10.1-cp311-cp311-manylinux_2_17_x86_64.manylinux2014_x86_64.whl.metadata (58 kB)\n",
            "\u001b[2K     \u001b[90m━━━━━━━━━━━━━━━━━━━━━━━━━━━━━━━━━━━━━━━━\u001b[0m \u001b[32m58.9/58.9 kB\u001b[0m \u001b[31m1.4 MB/s\u001b[0m eta \u001b[36m0:00:00\u001b[0m\n",
            "\u001b[?25hRequirement already satisfied: notebook in /usr/local/lib/python3.11/dist-packages (from jupyter==1.0.0->d2l==1.0.3) (6.5.5)\n",
            "Collecting qtconsole (from jupyter==1.0.0->d2l==1.0.3)\n",
            "  Downloading qtconsole-5.6.1-py3-none-any.whl.metadata (5.0 kB)\n",
            "Requirement already satisfied: jupyter-console in /usr/local/lib/python3.11/dist-packages (from jupyter==1.0.0->d2l==1.0.3) (6.1.0)\n",
            "Requirement already satisfied: nbconvert in /usr/local/lib/python3.11/dist-packages (from jupyter==1.0.0->d2l==1.0.3) (7.16.5)\n",
            "Requirement already satisfied: ipykernel in /usr/local/lib/python3.11/dist-packages (from jupyter==1.0.0->d2l==1.0.3) (5.5.6)\n",
            "Requirement already satisfied: ipywidgets in /usr/local/lib/python3.11/dist-packages (from jupyter==1.0.0->d2l==1.0.3) (7.7.1)\n",
            "Requirement already satisfied: contourpy>=1.0.1 in /usr/local/lib/python3.11/dist-packages (from matplotlib==3.7.2->d2l==1.0.3) (1.3.1)\n",
            "Requirement already satisfied: cycler>=0.10 in /usr/local/lib/python3.11/dist-packages (from matplotlib==3.7.2->d2l==1.0.3) (0.12.1)\n",
            "Requirement already satisfied: fonttools>=4.22.0 in /usr/local/lib/python3.11/dist-packages (from matplotlib==3.7.2->d2l==1.0.3) (4.55.6)\n",
            "Requirement already satisfied: kiwisolver>=1.0.1 in /usr/local/lib/python3.11/dist-packages (from matplotlib==3.7.2->d2l==1.0.3) (1.4.8)\n",
            "Requirement already satisfied: packaging>=20.0 in /usr/local/lib/python3.11/dist-packages (from matplotlib==3.7.2->d2l==1.0.3) (24.2)\n",
            "Requirement already satisfied: pillow>=6.2.0 in /usr/local/lib/python3.11/dist-packages (from matplotlib==3.7.2->d2l==1.0.3) (11.1.0)\n",
            "Collecting pyparsing<3.1,>=2.3.1 (from matplotlib==3.7.2->d2l==1.0.3)\n",
            "  Downloading pyparsing-3.0.9-py3-none-any.whl.metadata (4.2 kB)\n",
            "Requirement already satisfied: python-dateutil>=2.7 in /usr/local/lib/python3.11/dist-packages (from matplotlib==3.7.2->d2l==1.0.3) (2.8.2)\n",
            "Requirement already satisfied: traitlets in /usr/local/lib/python3.11/dist-packages (from matplotlib-inline==0.1.6->d2l==1.0.3) (5.7.1)\n",
            "Requirement already satisfied: pytz>=2020.1 in /usr/local/lib/python3.11/dist-packages (from pandas==2.0.3->d2l==1.0.3) (2024.2)\n",
            "Requirement already satisfied: tzdata>=2022.1 in /usr/local/lib/python3.11/dist-packages (from pandas==2.0.3->d2l==1.0.3) (2025.1)\n",
            "Requirement already satisfied: charset-normalizer<4,>=2 in /usr/local/lib/python3.11/dist-packages (from requests==2.31.0->d2l==1.0.3) (3.4.1)\n",
            "Requirement already satisfied: idna<4,>=2.5 in /usr/local/lib/python3.11/dist-packages (from requests==2.31.0->d2l==1.0.3) (3.10)\n",
            "Requirement already satisfied: urllib3<3,>=1.21.1 in /usr/local/lib/python3.11/dist-packages (from requests==2.31.0->d2l==1.0.3) (2.3.0)\n",
            "Requirement already satisfied: certifi>=2017.4.17 in /usr/local/lib/python3.11/dist-packages (from requests==2.31.0->d2l==1.0.3) (2024.12.14)\n",
            "Requirement already satisfied: six>=1.5 in /usr/local/lib/python3.11/dist-packages (from python-dateutil>=2.7->matplotlib==3.7.2->d2l==1.0.3) (1.17.0)\n",
            "Requirement already satisfied: ipython-genutils in /usr/local/lib/python3.11/dist-packages (from ipykernel->jupyter==1.0.0->d2l==1.0.3) (0.2.0)\n",
            "Requirement already satisfied: ipython>=5.0.0 in /usr/local/lib/python3.11/dist-packages (from ipykernel->jupyter==1.0.0->d2l==1.0.3) (7.34.0)\n",
            "Requirement already satisfied: jupyter-client in /usr/local/lib/python3.11/dist-packages (from ipykernel->jupyter==1.0.0->d2l==1.0.3) (6.1.12)\n",
            "Requirement already satisfied: tornado>=4.2 in /usr/local/lib/python3.11/dist-packages (from ipykernel->jupyter==1.0.0->d2l==1.0.3) (6.3.3)\n",
            "Requirement already satisfied: widgetsnbextension~=3.6.0 in /usr/local/lib/python3.11/dist-packages (from ipywidgets->jupyter==1.0.0->d2l==1.0.3) (3.6.10)\n",
            "Requirement already satisfied: jupyterlab-widgets>=1.0.0 in /usr/local/lib/python3.11/dist-packages (from ipywidgets->jupyter==1.0.0->d2l==1.0.3) (3.0.13)\n",
            "Requirement already satisfied: prompt-toolkit!=3.0.0,!=3.0.1,<3.1.0,>=2.0.0 in /usr/local/lib/python3.11/dist-packages (from jupyter-console->jupyter==1.0.0->d2l==1.0.3) (3.0.50)\n",
            "Requirement already satisfied: pygments in /usr/local/lib/python3.11/dist-packages (from jupyter-console->jupyter==1.0.0->d2l==1.0.3) (2.18.0)\n",
            "Requirement already satisfied: beautifulsoup4 in /usr/local/lib/python3.11/dist-packages (from nbconvert->jupyter==1.0.0->d2l==1.0.3) (4.12.3)\n",
            "Requirement already satisfied: bleach!=5.0.0 in /usr/local/lib/python3.11/dist-packages (from bleach[css]!=5.0.0->nbconvert->jupyter==1.0.0->d2l==1.0.3) (6.2.0)\n",
            "Requirement already satisfied: defusedxml in /usr/local/lib/python3.11/dist-packages (from nbconvert->jupyter==1.0.0->d2l==1.0.3) (0.7.1)\n",
            "Requirement already satisfied: jinja2>=3.0 in /usr/local/lib/python3.11/dist-packages (from nbconvert->jupyter==1.0.0->d2l==1.0.3) (3.1.5)\n",
            "Requirement already satisfied: jupyter-core>=4.7 in /usr/local/lib/python3.11/dist-packages (from nbconvert->jupyter==1.0.0->d2l==1.0.3) (5.7.2)\n",
            "Requirement already satisfied: jupyterlab-pygments in /usr/local/lib/python3.11/dist-packages (from nbconvert->jupyter==1.0.0->d2l==1.0.3) (0.3.0)\n",
            "Requirement already satisfied: markupsafe>=2.0 in /usr/local/lib/python3.11/dist-packages (from nbconvert->jupyter==1.0.0->d2l==1.0.3) (3.0.2)\n",
            "Requirement already satisfied: mistune<4,>=2.0.3 in /usr/local/lib/python3.11/dist-packages (from nbconvert->jupyter==1.0.0->d2l==1.0.3) (3.1.0)\n",
            "Requirement already satisfied: nbclient>=0.5.0 in /usr/local/lib/python3.11/dist-packages (from nbconvert->jupyter==1.0.0->d2l==1.0.3) (0.10.2)\n",
            "Requirement already satisfied: nbformat>=5.7 in /usr/local/lib/python3.11/dist-packages (from nbconvert->jupyter==1.0.0->d2l==1.0.3) (5.10.4)\n",
            "Requirement already satisfied: pandocfilters>=1.4.1 in /usr/local/lib/python3.11/dist-packages (from nbconvert->jupyter==1.0.0->d2l==1.0.3) (1.5.1)\n",
            "Requirement already satisfied: pyzmq<25,>=17 in /usr/local/lib/python3.11/dist-packages (from notebook->jupyter==1.0.0->d2l==1.0.3) (24.0.1)\n",
            "Requirement already satisfied: argon2-cffi in /usr/local/lib/python3.11/dist-packages (from notebook->jupyter==1.0.0->d2l==1.0.3) (23.1.0)\n",
            "Requirement already satisfied: nest-asyncio>=1.5 in /usr/local/lib/python3.11/dist-packages (from notebook->jupyter==1.0.0->d2l==1.0.3) (1.6.0)\n",
            "Requirement already satisfied: Send2Trash>=1.8.0 in /usr/local/lib/python3.11/dist-packages (from notebook->jupyter==1.0.0->d2l==1.0.3) (1.8.3)\n",
            "Requirement already satisfied: terminado>=0.8.3 in /usr/local/lib/python3.11/dist-packages (from notebook->jupyter==1.0.0->d2l==1.0.3) (0.18.1)\n",
            "Requirement already satisfied: prometheus-client in /usr/local/lib/python3.11/dist-packages (from notebook->jupyter==1.0.0->d2l==1.0.3) (0.21.1)\n",
            "Requirement already satisfied: nbclassic>=0.4.7 in /usr/local/lib/python3.11/dist-packages (from notebook->jupyter==1.0.0->d2l==1.0.3) (1.2.0)\n",
            "Collecting qtpy>=2.4.0 (from qtconsole->jupyter==1.0.0->d2l==1.0.3)\n",
            "  Downloading QtPy-2.4.3-py3-none-any.whl.metadata (12 kB)\n",
            "Requirement already satisfied: webencodings in /usr/local/lib/python3.11/dist-packages (from bleach!=5.0.0->bleach[css]!=5.0.0->nbconvert->jupyter==1.0.0->d2l==1.0.3) (0.5.1)\n",
            "Requirement already satisfied: tinycss2<1.5,>=1.1.0 in /usr/local/lib/python3.11/dist-packages (from bleach[css]!=5.0.0->nbconvert->jupyter==1.0.0->d2l==1.0.3) (1.4.0)\n",
            "Requirement already satisfied: setuptools>=18.5 in /usr/local/lib/python3.11/dist-packages (from ipython>=5.0.0->ipykernel->jupyter==1.0.0->d2l==1.0.3) (75.1.0)\n",
            "Collecting jedi>=0.16 (from ipython>=5.0.0->ipykernel->jupyter==1.0.0->d2l==1.0.3)\n",
            "  Downloading jedi-0.19.2-py2.py3-none-any.whl.metadata (22 kB)\n",
            "Requirement already satisfied: decorator in /usr/local/lib/python3.11/dist-packages (from ipython>=5.0.0->ipykernel->jupyter==1.0.0->d2l==1.0.3) (4.4.2)\n",
            "Requirement already satisfied: pickleshare in /usr/local/lib/python3.11/dist-packages (from ipython>=5.0.0->ipykernel->jupyter==1.0.0->d2l==1.0.3) (0.7.5)\n",
            "Requirement already satisfied: backcall in /usr/local/lib/python3.11/dist-packages (from ipython>=5.0.0->ipykernel->jupyter==1.0.0->d2l==1.0.3) (0.2.0)\n",
            "Requirement already satisfied: pexpect>4.3 in /usr/local/lib/python3.11/dist-packages (from ipython>=5.0.0->ipykernel->jupyter==1.0.0->d2l==1.0.3) (4.9.0)\n",
            "Requirement already satisfied: platformdirs>=2.5 in /usr/local/lib/python3.11/dist-packages (from jupyter-core>=4.7->nbconvert->jupyter==1.0.0->d2l==1.0.3) (4.3.6)\n",
            "Requirement already satisfied: notebook-shim>=0.2.3 in /usr/local/lib/python3.11/dist-packages (from nbclassic>=0.4.7->notebook->jupyter==1.0.0->d2l==1.0.3) (0.2.4)\n",
            "Requirement already satisfied: fastjsonschema>=2.15 in /usr/local/lib/python3.11/dist-packages (from nbformat>=5.7->nbconvert->jupyter==1.0.0->d2l==1.0.3) (2.21.1)\n",
            "Requirement already satisfied: jsonschema>=2.6 in /usr/local/lib/python3.11/dist-packages (from nbformat>=5.7->nbconvert->jupyter==1.0.0->d2l==1.0.3) (4.23.0)\n",
            "Requirement already satisfied: wcwidth in /usr/local/lib/python3.11/dist-packages (from prompt-toolkit!=3.0.0,!=3.0.1,<3.1.0,>=2.0.0->jupyter-console->jupyter==1.0.0->d2l==1.0.3) (0.2.13)\n",
            "Requirement already satisfied: ptyprocess in /usr/local/lib/python3.11/dist-packages (from terminado>=0.8.3->notebook->jupyter==1.0.0->d2l==1.0.3) (0.7.0)\n",
            "Requirement already satisfied: argon2-cffi-bindings in /usr/local/lib/python3.11/dist-packages (from argon2-cffi->notebook->jupyter==1.0.0->d2l==1.0.3) (21.2.0)\n",
            "Requirement already satisfied: soupsieve>1.2 in /usr/local/lib/python3.11/dist-packages (from beautifulsoup4->nbconvert->jupyter==1.0.0->d2l==1.0.3) (2.6)\n",
            "Requirement already satisfied: parso<0.9.0,>=0.8.4 in /usr/local/lib/python3.11/dist-packages (from jedi>=0.16->ipython>=5.0.0->ipykernel->jupyter==1.0.0->d2l==1.0.3) (0.8.4)\n",
            "Requirement already satisfied: attrs>=22.2.0 in /usr/local/lib/python3.11/dist-packages (from jsonschema>=2.6->nbformat>=5.7->nbconvert->jupyter==1.0.0->d2l==1.0.3) (24.3.0)\n",
            "Requirement already satisfied: jsonschema-specifications>=2023.03.6 in /usr/local/lib/python3.11/dist-packages (from jsonschema>=2.6->nbformat>=5.7->nbconvert->jupyter==1.0.0->d2l==1.0.3) (2024.10.1)\n",
            "Requirement already satisfied: referencing>=0.28.4 in /usr/local/lib/python3.11/dist-packages (from jsonschema>=2.6->nbformat>=5.7->nbconvert->jupyter==1.0.0->d2l==1.0.3) (0.36.1)\n",
            "Requirement already satisfied: rpds-py>=0.7.1 in /usr/local/lib/python3.11/dist-packages (from jsonschema>=2.6->nbformat>=5.7->nbconvert->jupyter==1.0.0->d2l==1.0.3) (0.22.3)\n",
            "Requirement already satisfied: jupyter-server<3,>=1.8 in /usr/local/lib/python3.11/dist-packages (from notebook-shim>=0.2.3->nbclassic>=0.4.7->notebook->jupyter==1.0.0->d2l==1.0.3) (1.24.0)\n",
            "Requirement already satisfied: cffi>=1.0.1 in /usr/local/lib/python3.11/dist-packages (from argon2-cffi-bindings->argon2-cffi->notebook->jupyter==1.0.0->d2l==1.0.3) (1.17.1)\n",
            "Requirement already satisfied: pycparser in /usr/local/lib/python3.11/dist-packages (from cffi>=1.0.1->argon2-cffi-bindings->argon2-cffi->notebook->jupyter==1.0.0->d2l==1.0.3) (2.22)\n",
            "Requirement already satisfied: anyio<4,>=3.1.0 in /usr/local/lib/python3.11/dist-packages (from jupyter-server<3,>=1.8->notebook-shim>=0.2.3->nbclassic>=0.4.7->notebook->jupyter==1.0.0->d2l==1.0.3) (3.7.1)\n",
            "Requirement already satisfied: websocket-client in /usr/local/lib/python3.11/dist-packages (from jupyter-server<3,>=1.8->notebook-shim>=0.2.3->nbclassic>=0.4.7->notebook->jupyter==1.0.0->d2l==1.0.3) (1.8.0)\n",
            "Requirement already satisfied: typing-extensions>=4.4.0 in /usr/local/lib/python3.11/dist-packages (from referencing>=0.28.4->jsonschema>=2.6->nbformat>=5.7->nbconvert->jupyter==1.0.0->d2l==1.0.3) (4.12.2)\n",
            "Requirement already satisfied: sniffio>=1.1 in /usr/local/lib/python3.11/dist-packages (from anyio<4,>=3.1.0->jupyter-server<3,>=1.8->notebook-shim>=0.2.3->nbclassic>=0.4.7->notebook->jupyter==1.0.0->d2l==1.0.3) (1.3.1)\n",
            "Downloading d2l-1.0.3-py3-none-any.whl (111 kB)\n",
            "\u001b[2K   \u001b[90m━━━━━━━━━━━━━━━━━━━━━━━━━━━━━━━━━━━━━━━━\u001b[0m \u001b[32m111.7/111.7 kB\u001b[0m \u001b[31m3.3 MB/s\u001b[0m eta \u001b[36m0:00:00\u001b[0m\n",
            "\u001b[?25hDownloading jupyter-1.0.0-py2.py3-none-any.whl (2.7 kB)\n",
            "Downloading matplotlib-3.7.2-cp311-cp311-manylinux_2_17_x86_64.manylinux2014_x86_64.whl (11.6 MB)\n",
            "\u001b[2K   \u001b[90m━━━━━━━━━━━━━━━━━━━━━━━━━━━━━━━━━━━━━━━━\u001b[0m \u001b[32m11.6/11.6 MB\u001b[0m \u001b[31m51.3 MB/s\u001b[0m eta \u001b[36m0:00:00\u001b[0m\n",
            "\u001b[?25hDownloading matplotlib_inline-0.1.6-py3-none-any.whl (9.4 kB)\n",
            "Downloading numpy-1.23.5-cp311-cp311-manylinux_2_17_x86_64.manylinux2014_x86_64.whl (17.1 MB)\n",
            "\u001b[2K   \u001b[90m━━━━━━━━━━━━━━━━━━━━━━━━━━━━━━━━━━━━━━━━\u001b[0m \u001b[32m17.1/17.1 MB\u001b[0m \u001b[31m43.6 MB/s\u001b[0m eta \u001b[36m0:00:00\u001b[0m\n",
            "\u001b[?25hDownloading pandas-2.0.3-cp311-cp311-manylinux_2_17_x86_64.manylinux2014_x86_64.whl (12.2 MB)\n",
            "\u001b[2K   \u001b[90m━━━━━━━━━━━━━━━━━━━━━━━━━━━━━━━━━━━━━━━━\u001b[0m \u001b[32m12.2/12.2 MB\u001b[0m \u001b[31m45.5 MB/s\u001b[0m eta \u001b[36m0:00:00\u001b[0m\n",
            "\u001b[?25hDownloading requests-2.31.0-py3-none-any.whl (62 kB)\n",
            "\u001b[2K   \u001b[90m━━━━━━━━━━━━━━━━━━━━━━━━━━━━━━━━━━━━━━━━\u001b[0m \u001b[32m62.6/62.6 kB\u001b[0m \u001b[31m3.0 MB/s\u001b[0m eta \u001b[36m0:00:00\u001b[0m\n",
            "\u001b[?25hDownloading scipy-1.10.1-cp311-cp311-manylinux_2_17_x86_64.manylinux2014_x86_64.whl (34.1 MB)\n",
            "\u001b[2K   \u001b[90m━━━━━━━━━━━━━━━━━━━━━━━━━━━━━━━━━━━━━━━━\u001b[0m \u001b[32m34.1/34.1 MB\u001b[0m \u001b[31m16.5 MB/s\u001b[0m eta \u001b[36m0:00:00\u001b[0m\n",
            "\u001b[?25hDownloading pyparsing-3.0.9-py3-none-any.whl (98 kB)\n",
            "\u001b[2K   \u001b[90m━━━━━━━━━━━━━━━━━━━━━━━━━━━━━━━━━━━━━━━━\u001b[0m \u001b[32m98.3/98.3 kB\u001b[0m \u001b[31m6.6 MB/s\u001b[0m eta \u001b[36m0:00:00\u001b[0m\n",
            "\u001b[?25hDownloading qtconsole-5.6.1-py3-none-any.whl (125 kB)\n",
            "\u001b[2K   \u001b[90m━━━━━━━━━━━━━━━━━━━━━━━━━━━━━━━━━━━━━━━━\u001b[0m \u001b[32m125.0/125.0 kB\u001b[0m \u001b[31m7.8 MB/s\u001b[0m eta \u001b[36m0:00:00\u001b[0m\n",
            "\u001b[?25hDownloading QtPy-2.4.3-py3-none-any.whl (95 kB)\n",
            "\u001b[2K   \u001b[90m━━━━━━━━━━━━━━━━━━━━━━━━━━━━━━━━━━━━━━━━\u001b[0m \u001b[32m95.0/95.0 kB\u001b[0m \u001b[31m6.5 MB/s\u001b[0m eta \u001b[36m0:00:00\u001b[0m\n",
            "\u001b[?25hDownloading jedi-0.19.2-py2.py3-none-any.whl (1.6 MB)\n",
            "\u001b[2K   \u001b[90m━━━━━━━━━━━━━━━━━━━━━━━━━━━━━━━━━━━━━━━━\u001b[0m \u001b[32m1.6/1.6 MB\u001b[0m \u001b[31m42.8 MB/s\u001b[0m eta \u001b[36m0:00:00\u001b[0m\n",
            "\u001b[?25hInstalling collected packages: requests, qtpy, pyparsing, numpy, matplotlib-inline, jedi, scipy, pandas, matplotlib, qtconsole, jupyter, d2l\n",
            "  Attempting uninstall: requests\n",
            "    Found existing installation: requests 2.32.3\n",
            "    Uninstalling requests-2.32.3:\n",
            "      Successfully uninstalled requests-2.32.3\n",
            "  Attempting uninstall: pyparsing\n",
            "    Found existing installation: pyparsing 3.2.1\n",
            "    Uninstalling pyparsing-3.2.1:\n",
            "      Successfully uninstalled pyparsing-3.2.1\n",
            "  Attempting uninstall: numpy\n",
            "    Found existing installation: numpy 1.26.4\n",
            "    Uninstalling numpy-1.26.4:\n",
            "      Successfully uninstalled numpy-1.26.4\n",
            "  Attempting uninstall: matplotlib-inline\n",
            "    Found existing installation: matplotlib-inline 0.1.7\n",
            "    Uninstalling matplotlib-inline-0.1.7:\n",
            "      Successfully uninstalled matplotlib-inline-0.1.7\n",
            "  Attempting uninstall: scipy\n",
            "    Found existing installation: scipy 1.13.1\n",
            "    Uninstalling scipy-1.13.1:\n",
            "      Successfully uninstalled scipy-1.13.1\n",
            "  Attempting uninstall: pandas\n",
            "    Found existing installation: pandas 2.2.2\n",
            "    Uninstalling pandas-2.2.2:\n",
            "      Successfully uninstalled pandas-2.2.2\n",
            "  Attempting uninstall: matplotlib\n",
            "    Found existing installation: matplotlib 3.10.0\n",
            "    Uninstalling matplotlib-3.10.0:\n",
            "      Successfully uninstalled matplotlib-3.10.0\n",
            "\u001b[31mERROR: pip's dependency resolver does not currently take into account all the packages that are installed. This behaviour is the source of the following dependency conflicts.\n",
            "google-colab 1.0.0 requires pandas==2.2.2, but you have pandas 2.0.3 which is incompatible.\n",
            "google-colab 1.0.0 requires requests==2.32.3, but you have requests 2.31.0 which is incompatible.\n",
            "jax 0.4.33 requires numpy>=1.24, but you have numpy 1.23.5 which is incompatible.\n",
            "jaxlib 0.4.33 requires numpy>=1.24, but you have numpy 1.23.5 which is incompatible.\n",
            "blosc2 3.0.0 requires numpy>=1.25.0, but you have numpy 1.23.5 which is incompatible.\n",
            "albumentations 1.4.20 requires numpy>=1.24.4, but you have numpy 1.23.5 which is incompatible.\n",
            "xarray 2025.1.1 requires numpy>=1.24, but you have numpy 1.23.5 which is incompatible.\n",
            "xarray 2025.1.1 requires pandas>=2.1, but you have pandas 2.0.3 which is incompatible.\n",
            "pymc 5.19.1 requires numpy>=1.25.0, but you have numpy 1.23.5 which is incompatible.\n",
            "scikit-image 0.25.0 requires numpy>=1.24, but you have numpy 1.23.5 which is incompatible.\n",
            "scikit-image 0.25.0 requires scipy>=1.11.2, but you have scipy 1.10.1 which is incompatible.\n",
            "albucore 0.0.19 requires numpy>=1.24.4, but you have numpy 1.23.5 which is incompatible.\n",
            "bigframes 1.33.0 requires numpy>=1.24.0, but you have numpy 1.23.5 which is incompatible.\n",
            "plotnine 0.14.5 requires matplotlib>=3.8.0, but you have matplotlib 3.7.2 which is incompatible.\n",
            "plotnine 0.14.5 requires pandas>=2.2.0, but you have pandas 2.0.3 which is incompatible.\n",
            "chex 0.1.88 requires numpy>=1.24.1, but you have numpy 1.23.5 which is incompatible.\n",
            "mizani 0.13.1 requires pandas>=2.2.0, but you have pandas 2.0.3 which is incompatible.\n",
            "imbalanced-learn 0.13.0 requires numpy<3,>=1.24.3, but you have numpy 1.23.5 which is incompatible.\u001b[0m\u001b[31m\n",
            "\u001b[0mSuccessfully installed d2l-1.0.3 jedi-0.19.2 jupyter-1.0.0 matplotlib-3.7.2 matplotlib-inline-0.1.6 numpy-1.23.5 pandas-2.0.3 pyparsing-3.0.9 qtconsole-5.6.1 qtpy-2.4.3 requests-2.31.0 scipy-1.10.1\n"
          ]
        },
        {
          "output_type": "display_data",
          "data": {
            "application/vnd.colab-display-data+json": {
              "pip_warning": {
                "packages": [
                  "matplotlib",
                  "matplotlib_inline",
                  "mpl_toolkits",
                  "numpy"
                ]
              },
              "id": "866e492205fd4f4b827bb2937b506c37"
            }
          },
          "metadata": {}
        }
      ],
      "source": [
        "!pip install d2l==1.0.3\n"
      ]
    },
    {
      "cell_type": "markdown",
      "id": "71e739d3",
      "metadata": {
        "origin_pos": 1,
        "id": "71e739d3"
      },
      "source": [
        "# Machine Translation and the Dataset\n",
        ":label:`sec_machine_translation`\n",
        "\n",
        "Among the major breakthroughs that prompted\n",
        "widespread interest in modern RNNs\n",
        "was a major advance in the applied field of\n",
        "statistical  *machine translation*.\n",
        "Here, the model is presented with a sentence in one language\n",
        "and must predict the corresponding sentence in another.\n",
        "Note that here the sentences may be of different lengths,\n",
        "and that corresponding words in the two sentences\n",
        "may not occur in the same order,\n",
        "owing to differences\n",
        "in the two language's grammatical structure.\n",
        "\n",
        "\n",
        "Many problems have this flavor of mapping\n",
        "between two such \"unaligned\" sequences.\n",
        "Examples include mapping\n",
        "from dialog prompts to replies\n",
        "or from questions to answers.\n",
        "Broadly, such problems are called\n",
        "*sequence-to-sequence* (seq2seq) problems\n",
        "and they are our focus for\n",
        "both the remainder of this chapter\n",
        "and much of :numref:`chap_attention-and-transformers`.\n",
        "\n",
        "In this section, we introduce the machine translation problem\n",
        "and an example dataset that we will use in the subsequent examples.\n",
        "For decades, statistical formulations of translation between languages\n",
        "had been popular :cite:`Brown.Cocke.Della-Pietra.ea.1988,Brown.Cocke.Della-Pietra.ea.1990`,\n",
        "even before researchers got neural network approaches working\n",
        "(methods were often lumped together under the term *neural machine translation*).\n",
        "\n",
        "\n",
        "First we will need some new code to process our data.\n",
        "Unlike the language modeling that we saw in :numref:`sec_language-model`,\n",
        "here each example consists of two separate text sequences,\n",
        "one in the source language and another (the translation) in the target language.\n",
        "The following code snippets will show how\n",
        "to load the preprocessed data into minibatches for training.\n"
      ]
    },
    {
      "cell_type": "code",
      "execution_count": 1,
      "id": "1af4809f",
      "metadata": {
        "attributes": {
          "classes": [],
          "id": "",
          "n": "3"
        },
        "execution": {
          "iopub.execute_input": "2023-08-18T19:25:35.594366Z",
          "iopub.status.busy": "2023-08-18T19:25:35.593736Z",
          "iopub.status.idle": "2023-08-18T19:25:38.332100Z",
          "shell.execute_reply": "2023-08-18T19:25:38.330551Z"
        },
        "origin_pos": 3,
        "tab": [
          "pytorch"
        ],
        "id": "1af4809f"
      },
      "outputs": [],
      "source": [
        "import os\n",
        "import torch\n",
        "from d2l import torch as d2l\n",
        "from torch import nn\n",
        "import collections\n",
        "import math\n",
        "from torch.nn import functional as F\n"
      ]
    },
    {
      "cell_type": "markdown",
      "id": "8c65b7f8",
      "metadata": {
        "origin_pos": 6,
        "id": "8c65b7f8"
      },
      "source": [
        "## [**Downloading and Preprocessing the Dataset**]\n",
        "\n",
        "To begin, we download an English--French dataset\n",
        "that consists of [bilingual sentence pairs from the Tatoeba Project](http://www.manythings.org/anki/).\n",
        "Each line in the dataset is a tab-delimited pair\n",
        "consisting of an English text sequence (the *source*)\n",
        "and the translated French text sequence (the *target*).\n",
        "Note that each text sequence\n",
        "can be just one sentence,\n",
        "or a paragraph of multiple sentences.\n"
      ]
    },
    {
      "cell_type": "code",
      "source": [
        "class MTFraEng(d2l.DataModule):\n",
        "    \"\"\"The English-French dataset.\"\"\"\n",
        "    def _download(self):\n",
        "        d2l.extract(d2l.download(\n",
        "            d2l.DATA_URL+'fra-eng.zip', self.root,\n",
        "            '94646ad1522d915e7b0f9296181140edcf86a4f5'))\n",
        "        with open(self.root + '/fra-eng/fra.txt', encoding='utf-8') as f:\n",
        "            return f.read()\n",
        "\n",
        "data = MTFraEng()\n",
        "raw_text = data._download()\n",
        "print(raw_text[:75])\n"
      ],
      "metadata": {
        "id": "LjXOcrfIVvQZ",
        "outputId": "68f4af54-5932-406a-e764-d1c0ea659c89",
        "colab": {
          "base_uri": "https://localhost:8080/"
        }
      },
      "id": "LjXOcrfIVvQZ",
      "execution_count": 2,
      "outputs": [
        {
          "output_type": "stream",
          "name": "stdout",
          "text": [
            "Downloading ../data/fra-eng.zip from http://d2l-data.s3-accelerate.amazonaws.com/fra-eng.zip...\n",
            "Go.\tVa !\n",
            "Hi.\tSalut !\n",
            "Run!\tCours !\n",
            "Run!\tCourez !\n",
            "Who?\tQui ?\n",
            "Wow!\tÇa alors !\n",
            "\n"
          ]
        }
      ]
    },
    {
      "cell_type": "code",
      "execution_count": 19,
      "id": "01ae73e6",
      "metadata": {
        "attributes": {
          "classes": [],
          "id": "",
          "n": "5"
        },
        "execution": {
          "iopub.execute_input": "2023-08-18T19:25:38.337163Z",
          "iopub.status.busy": "2023-08-18T19:25:38.336114Z",
          "iopub.status.idle": "2023-08-18T19:25:38.343873Z",
          "shell.execute_reply": "2023-08-18T19:25:38.342658Z"
        },
        "origin_pos": 7,
        "tab": [
          "pytorch"
        ],
        "id": "01ae73e6"
      },
      "outputs": [],
      "source": [
        "class MTFinEng(d2l.DataModule):\n",
        "    \"\"\"The English-French dataset.\"\"\"\n",
        "    def __init__(self, *args, **kwargs):\n",
        "        super().__init__(*args, **kwargs)\n",
        "\n",
        "    def _download(self):\n",
        "      with open('/data/fin.txt', encoding='utf-8') as f:\n",
        "          return f.read()"
      ]
    },
    {
      "cell_type": "code",
      "source": [],
      "metadata": {
        "id": "XAX4alpOmo1b"
      },
      "id": "XAX4alpOmo1b",
      "execution_count": null,
      "outputs": []
    },
    {
      "cell_type": "code",
      "execution_count": 20,
      "id": "0c27fc69",
      "metadata": {
        "execution": {
          "iopub.execute_input": "2023-08-18T19:25:38.347854Z",
          "iopub.status.busy": "2023-08-18T19:25:38.347146Z",
          "iopub.status.idle": "2023-08-18T19:25:38.705705Z",
          "shell.execute_reply": "2023-08-18T19:25:38.704813Z"
        },
        "origin_pos": 8,
        "tab": [
          "pytorch"
        ],
        "id": "0c27fc69",
        "outputId": "7676d1c7-721c-4496-8e71-7df13f95e802",
        "colab": {
          "base_uri": "https://localhost:8080/"
        }
      },
      "outputs": [
        {
          "output_type": "stream",
          "name": "stdout",
          "text": [
            "Go.\tMene.\tCC-BY 2.0 (France) Attribution: tatoeba.org #2877272 (CM) & #5729\n"
          ]
        }
      ],
      "source": [
        "#from google.colab import drive\n",
        "#drive.mount('/content/drive')\n",
        "\n",
        "data = MTFinEng()\n",
        "raw_text = data._download()\n",
        "print(raw_text[:75])"
      ]
    },
    {
      "cell_type": "markdown",
      "id": "00f26cb9",
      "metadata": {
        "origin_pos": 9,
        "id": "00f26cb9"
      },
      "source": [
        "After downloading the dataset,\n",
        "we [**proceed with several preprocessing steps**]\n",
        "for the raw text data.\n",
        "For instance, we replace non-breaking space with space,\n",
        "convert uppercase letters to lowercase ones,\n",
        "and insert space between words and punctuation marks.\n"
      ]
    },
    {
      "cell_type": "code",
      "source": [
        "text = \"Go.\tMene.\tCC-BY 2.0 (France) Attribution: tatoeba.org #2877272 (CM) & #5729273 (awrynai)\"\n",
        "\n",
        "text.replace(\"\\CC-BY.*\", \"\")"
      ],
      "metadata": {
        "id": "wlc_rdXXBxLj",
        "outputId": "4a0123da-c7f3-4556-bdd5-2873b5cf8c7d",
        "colab": {
          "base_uri": "https://localhost:8080/",
          "height": 35
        }
      },
      "id": "wlc_rdXXBxLj",
      "execution_count": 21,
      "outputs": [
        {
          "output_type": "execute_result",
          "data": {
            "text/plain": [
              "'Go.\\tMene.\\tCC-BY 2.0 (France) Attribution: tatoeba.org #2877272 (CM) & #5729273 (awrynai)'"
            ],
            "application/vnd.google.colaboratory.intrinsic+json": {
              "type": "string"
            }
          },
          "metadata": {},
          "execution_count": 21
        }
      ]
    },
    {
      "cell_type": "code",
      "execution_count": 22,
      "id": "6b6ad92e",
      "metadata": {
        "attributes": {
          "classes": [],
          "id": "",
          "n": "6"
        },
        "execution": {
          "iopub.execute_input": "2023-08-18T19:25:38.709698Z",
          "iopub.status.busy": "2023-08-18T19:25:38.709111Z",
          "iopub.status.idle": "2023-08-18T19:25:38.714600Z",
          "shell.execute_reply": "2023-08-18T19:25:38.713784Z"
        },
        "origin_pos": 10,
        "tab": [
          "pytorch"
        ],
        "id": "6b6ad92e"
      },
      "outputs": [],
      "source": [
        "import re\n",
        "\n",
        "@d2l.add_to_class(MTFinEng)\n",
        "def _preprocess(self, text):\n",
        "    # Replace non-breaking space with space\n",
        "    text = text.replace('\\u202f', ' ').replace('\\xa0', ' ')\n",
        "    text = re.sub(r'CC-BY.*', '', text).strip()\n",
        "    # Insert space between words and punctuation marks\n",
        "    no_space = lambda char, prev_char: char in ',.!?' and prev_char != ' '\n",
        "    out = [' ' + char if i > 0 and no_space(char, text[i - 1]) else char\n",
        "           for i, char in enumerate(text.lower())]\n",
        "    return ''.join(out)"
      ]
    },
    {
      "cell_type": "code",
      "execution_count": 23,
      "id": "4a3c36d4",
      "metadata": {
        "execution": {
          "iopub.execute_input": "2023-08-18T19:25:38.717999Z",
          "iopub.status.busy": "2023-08-18T19:25:38.717445Z",
          "iopub.status.idle": "2023-08-18T19:25:41.820750Z",
          "shell.execute_reply": "2023-08-18T19:25:41.819869Z"
        },
        "origin_pos": 11,
        "tab": [
          "pytorch"
        ],
        "id": "4a3c36d4",
        "outputId": "a8545bb2-22bb-48fd-d4cd-0d6d4a83458d",
        "colab": {
          "base_uri": "https://localhost:8080/"
        }
      },
      "outputs": [
        {
          "output_type": "stream",
          "name": "stdout",
          "text": [
            "go .\tmene .\t\n",
            "hi .\tmoro !\t\n",
            "hi .\tterve .\t\n",
            "run !\tjuokse !\t\n",
            "run !\tjuoskaa !\t\n",
            "run .\tjuokse\n"
          ]
        }
      ],
      "source": [
        "text = data._preprocess(raw_text)\n",
        "print(text[:85])"
      ]
    },
    {
      "cell_type": "markdown",
      "id": "a0beee60",
      "metadata": {
        "origin_pos": 12,
        "id": "a0beee60"
      },
      "source": [
        "## [**Tokenization**]\n",
        "\n",
        "Unlike the character-level tokenization\n",
        "in :numref:`sec_language-model`,\n",
        "for machine translation\n",
        "we prefer word-level tokenization here\n",
        "(today's state-of-the-art models use\n",
        "more complex tokenization techniques).\n",
        "The following `_tokenize` method\n",
        "tokenizes the first `max_examples` text sequence pairs,\n",
        "where each token is either a word or a punctuation mark.\n",
        "We append the special “&lt;eos&gt;” token\n",
        "to the end of every sequence to indicate the\n",
        "end of the sequence.\n",
        "When a model is predicting\n",
        "by generating a sequence token after token,\n",
        "the generation of the “&lt;eos&gt;” token\n",
        "can suggest that the output sequence is complete.\n",
        "In the end, the method below returns\n",
        "two lists of token lists: `src` and `tgt`.\n",
        "Specifically, `src[i]` is a list of tokens from the\n",
        "$i^\\textrm{th}$ text sequence in the source language (English here)\n",
        "and `tgt[i]` is that in the target language (French here).\n"
      ]
    },
    {
      "cell_type": "code",
      "execution_count": 24,
      "id": "c1fdeb00",
      "metadata": {
        "attributes": {
          "classes": [],
          "id": "",
          "n": "7"
        },
        "execution": {
          "iopub.execute_input": "2023-08-18T19:25:41.824359Z",
          "iopub.status.busy": "2023-08-18T19:25:41.823783Z",
          "iopub.status.idle": "2023-08-18T19:25:41.829538Z",
          "shell.execute_reply": "2023-08-18T19:25:41.828715Z"
        },
        "origin_pos": 13,
        "tab": [
          "pytorch"
        ],
        "id": "c1fdeb00"
      },
      "outputs": [],
      "source": [
        "@d2l.add_to_class(MTFinEng)\n",
        "def _tokenize(self, text, max_examples=None):\n",
        "    src, tgt = [], []\n",
        "    for i, line in enumerate(text.split('\\n')):\n",
        "        if max_examples and i > max_examples: break\n",
        "        parts = line.split('\\t')\n",
        "        if len(parts) == 2:\n",
        "            # Skip empty tokens\n",
        "            src.append([t for t in f'{parts[0]} <eos>'.split(' ') if t])\n",
        "            tgt.append([t for t in f'{parts[1]} <eos>'.split(' ') if t])\n",
        "    return src, tgt"
      ]
    },
    {
      "cell_type": "code",
      "execution_count": 25,
      "id": "3bedb46e",
      "metadata": {
        "execution": {
          "iopub.execute_input": "2023-08-18T19:25:41.833010Z",
          "iopub.status.busy": "2023-08-18T19:25:41.832457Z",
          "iopub.status.idle": "2023-08-18T19:25:43.340916Z",
          "shell.execute_reply": "2023-08-18T19:25:43.340019Z"
        },
        "origin_pos": 14,
        "tab": [
          "pytorch"
        ],
        "id": "3bedb46e",
        "outputId": "75a7cf79-754f-43e3-8f8f-c5b748fa8814",
        "colab": {
          "base_uri": "https://localhost:8080/"
        }
      },
      "outputs": [
        {
          "output_type": "execute_result",
          "data": {
            "text/plain": [
              "([['i',\n",
              "   'know',\n",
              "   'that',\n",
              "   'adding',\n",
              "   'sentences',\n",
              "   'only',\n",
              "   'in',\n",
              "   'your',\n",
              "   'native',\n",
              "   'or',\n",
              "   'strongest',\n",
              "   'language',\n",
              "   'is',\n",
              "   'probably',\n",
              "   'not',\n",
              "   'as',\n",
              "   'much',\n",
              "   'fun',\n",
              "   'as',\n",
              "   'practicing',\n",
              "   'writing',\n",
              "   'foreign',\n",
              "   'languages',\n",
              "   ',',\n",
              "   'but',\n",
              "   'please',\n",
              "   \"don't\",\n",
              "   'add',\n",
              "   'sentences',\n",
              "   'to',\n",
              "   'the',\n",
              "   'tatoeba',\n",
              "   'corpus',\n",
              "   'if',\n",
              "   'you',\n",
              "   'are',\n",
              "   'not',\n",
              "   'absolutely',\n",
              "   'sure',\n",
              "   'they',\n",
              "   'are',\n",
              "   'correct',\n",
              "   '.',\n",
              "   'if',\n",
              "   'you',\n",
              "   'want',\n",
              "   'to',\n",
              "   'practice',\n",
              "   'languages',\n",
              "   'that',\n",
              "   'you',\n",
              "   'are',\n",
              "   'studying',\n",
              "   ',',\n",
              "   'please',\n",
              "   'do',\n",
              "   'so',\n",
              "   'by',\n",
              "   'using',\n",
              "   'a',\n",
              "   'website',\n",
              "   'designed',\n",
              "   'for',\n",
              "   'that',\n",
              "   'purpose',\n",
              "   'such',\n",
              "   'as',\n",
              "   'www',\n",
              "   '.lang-8',\n",
              "   '.com',\n",
              "   '.',\n",
              "   '<eos>']],\n",
              " [['tiedän',\n",
              "   ',',\n",
              "   'että',\n",
              "   'lauseiden',\n",
              "   'lisääminen',\n",
              "   'vain',\n",
              "   'äidinkielelläsi',\n",
              "   'tai',\n",
              "   'vahvimmalla',\n",
              "   'kielelläsi',\n",
              "   'ei',\n",
              "   'ole',\n",
              "   'varmaankaan',\n",
              "   'yhtä',\n",
              "   'hauskaa',\n",
              "   'kuin',\n",
              "   'vieraiden',\n",
              "   'kielten',\n",
              "   'kirjoittamisen',\n",
              "   'harjoittelu',\n",
              "   ',',\n",
              "   'mutta',\n",
              "   'ethän',\n",
              "   'lisää',\n",
              "   'lauseita',\n",
              "   'tatoeba-korpukseen',\n",
              "   ',',\n",
              "   'jos',\n",
              "   'et',\n",
              "   'ole',\n",
              "   'aivan',\n",
              "   'varma',\n",
              "   ',',\n",
              "   'että',\n",
              "   'ne',\n",
              "   'ovat',\n",
              "   'oikein',\n",
              "   '.',\n",
              "   'jos',\n",
              "   'haluat',\n",
              "   'harjoitella',\n",
              "   'opiskelemiasi',\n",
              "   'kieliä',\n",
              "   ',',\n",
              "   'teethän',\n",
              "   'sen',\n",
              "   'verkkosivulla',\n",
              "   ',',\n",
              "   'joka',\n",
              "   'on',\n",
              "   'suunniteltu',\n",
              "   'kielten',\n",
              "   'harjoittelemista',\n",
              "   'varten',\n",
              "   ',',\n",
              "   'kuten',\n",
              "   'www',\n",
              "   '.lang-8',\n",
              "   '.com',\n",
              "   '.',\n",
              "   '<eos>']])"
            ]
          },
          "metadata": {},
          "execution_count": 25
        }
      ],
      "source": [
        "src, tgt = data._tokenize(text)\n",
        "src[:6], tgt[:6]"
      ]
    },
    {
      "cell_type": "markdown",
      "id": "3c8ca2e4",
      "metadata": {
        "origin_pos": 15,
        "id": "3c8ca2e4"
      },
      "source": [
        "Let's [**plot the histogram of the number of tokens per text sequence.**]\n",
        "In this simple English--French dataset,\n",
        "most of the text sequences have fewer than 20 tokens.\n"
      ]
    },
    {
      "cell_type": "code",
      "execution_count": 26,
      "id": "016131fa",
      "metadata": {
        "attributes": {
          "classes": [],
          "id": "",
          "n": "8"
        },
        "execution": {
          "iopub.execute_input": "2023-08-18T19:25:43.344999Z",
          "iopub.status.busy": "2023-08-18T19:25:43.344240Z",
          "iopub.status.idle": "2023-08-18T19:25:43.350038Z",
          "shell.execute_reply": "2023-08-18T19:25:43.349161Z"
        },
        "origin_pos": 16,
        "tab": [
          "pytorch"
        ],
        "id": "016131fa"
      },
      "outputs": [],
      "source": [
        "def show_list_len_pair_hist(legend, xlabel, ylabel, xlist, ylist):\n",
        "    \"\"\"Plot the histogram for list length pairs.\"\"\"\n",
        "    d2l.set_figsize()\n",
        "    _, _, patches = d2l.plt.hist(\n",
        "        [[len(l) for l in xlist], [len(l) for l in ylist]])\n",
        "    d2l.plt.xlabel(xlabel)\n",
        "    d2l.plt.ylabel(ylabel)\n",
        "    for patch in patches[1].patches:\n",
        "        patch.set_hatch('/')\n",
        "    d2l.plt.legend(legend)"
      ]
    },
    {
      "cell_type": "code",
      "execution_count": 27,
      "id": "b8fa90b4",
      "metadata": {
        "execution": {
          "iopub.execute_input": "2023-08-18T19:25:43.353348Z",
          "iopub.status.busy": "2023-08-18T19:25:43.352783Z",
          "iopub.status.idle": "2023-08-18T19:25:43.722959Z",
          "shell.execute_reply": "2023-08-18T19:25:43.722055Z"
        },
        "origin_pos": 17,
        "tab": [
          "pytorch"
        ],
        "id": "b8fa90b4",
        "outputId": "2d8f11ae-34d2-4ea3-bf0a-7486ffeea475",
        "colab": {
          "base_uri": "https://localhost:8080/",
          "height": 265
        }
      },
      "outputs": [
        {
          "output_type": "display_data",
          "data": {
            "text/plain": [
              "<Figure size 350x250 with 1 Axes>"
            ],
            "image/svg+xml": "<?xml version=\"1.0\" encoding=\"utf-8\" standalone=\"no\"?>\n<!DOCTYPE svg PUBLIC \"-//W3C//DTD SVG 1.1//EN\"\n  \"http://www.w3.org/Graphics/SVG/1.1/DTD/svg11.dtd\">\n<svg xmlns:xlink=\"http://www.w3.org/1999/xlink\" width=\"246.28125pt\" height=\"183.35625pt\" viewBox=\"0 0 246.28125 183.35625\" xmlns=\"http://www.w3.org/2000/svg\" version=\"1.1\">\n <metadata>\n  <rdf:RDF xmlns:dc=\"http://purl.org/dc/elements/1.1/\" xmlns:cc=\"http://creativecommons.org/ns#\" xmlns:rdf=\"http://www.w3.org/1999/02/22-rdf-syntax-ns#\">\n   <cc:Work>\n    <dc:type rdf:resource=\"http://purl.org/dc/dcmitype/StillImage\"/>\n    <dc:date>2025-02-19T09:48:06.084122</dc:date>\n    <dc:format>image/svg+xml</dc:format>\n    <dc:creator>\n     <cc:Agent>\n      <dc:title>Matplotlib v3.7.2, https://matplotlib.org/</dc:title>\n     </cc:Agent>\n    </dc:creator>\n   </cc:Work>\n  </rdf:RDF>\n </metadata>\n <defs>\n  <style type=\"text/css\">*{stroke-linejoin: round; stroke-linecap: butt}</style>\n </defs>\n <g id=\"figure_1\">\n  <g id=\"patch_1\">\n   <path d=\"M 0 183.35625 \nL 246.28125 183.35625 \nL 246.28125 0 \nL 0 0 \nz\n\" style=\"fill: #ffffff\"/>\n  </g>\n  <g id=\"axes_1\">\n   <g id=\"patch_2\">\n    <path d=\"M 43.78125 145.8 \nL 239.08125 145.8 \nL 239.08125 7.2 \nL 43.78125 7.2 \nz\n\" style=\"fill: #ffffff\"/>\n   </g>\n   <g id=\"patch_3\">\n    <path d=\"M 52.658523 145.8 \nL 59.905276 145.8 \nL 59.905276 145.8 \nL 52.658523 145.8 \nz\n\" clip-path=\"url(#pafb990c477)\" style=\"fill: #1f77b4\"/>\n   </g>\n   <g id=\"patch_4\">\n    <path d=\"M 70.775406 145.8 \nL 78.022159 145.8 \nL 78.022159 145.8 \nL 70.775406 145.8 \nz\n\" clip-path=\"url(#pafb990c477)\" style=\"fill: #1f77b4\"/>\n   </g>\n   <g id=\"patch_5\">\n    <path d=\"M 88.892289 145.8 \nL 96.139042 145.8 \nL 96.139042 145.8 \nL 88.892289 145.8 \nz\n\" clip-path=\"url(#pafb990c477)\" style=\"fill: #1f77b4\"/>\n   </g>\n   <g id=\"patch_6\">\n    <path d=\"M 107.009172 145.8 \nL 114.255925 145.8 \nL 114.255925 145.8 \nL 107.009172 145.8 \nz\n\" clip-path=\"url(#pafb990c477)\" style=\"fill: #1f77b4\"/>\n   </g>\n   <g id=\"patch_7\">\n    <path d=\"M 125.126055 145.8 \nL 132.372808 145.8 \nL 132.372808 145.8 \nL 125.126055 145.8 \nz\n\" clip-path=\"url(#pafb990c477)\" style=\"fill: #1f77b4\"/>\n   </g>\n   <g id=\"patch_8\">\n    <path d=\"M 143.242938 145.8 \nL 150.489692 145.8 \nL 150.489692 145.8 \nL 143.242938 145.8 \nz\n\" clip-path=\"url(#pafb990c477)\" style=\"fill: #1f77b4\"/>\n   </g>\n   <g id=\"patch_9\">\n    <path d=\"M 161.359821 145.8 \nL 168.606575 145.8 \nL 168.606575 145.8 \nL 161.359821 145.8 \nz\n\" clip-path=\"url(#pafb990c477)\" style=\"fill: #1f77b4\"/>\n   </g>\n   <g id=\"patch_10\">\n    <path d=\"M 179.476705 145.8 \nL 186.723458 145.8 \nL 186.723458 145.8 \nL 179.476705 145.8 \nz\n\" clip-path=\"url(#pafb990c477)\" style=\"fill: #1f77b4\"/>\n   </g>\n   <g id=\"patch_11\">\n    <path d=\"M 197.593588 145.8 \nL 204.840341 145.8 \nL 204.840341 145.8 \nL 197.593588 145.8 \nz\n\" clip-path=\"url(#pafb990c477)\" style=\"fill: #1f77b4\"/>\n   </g>\n   <g id=\"patch_12\">\n    <path d=\"M 215.710471 145.8 \nL 222.957224 145.8 \nL 222.957224 13.8 \nL 215.710471 13.8 \nz\n\" clip-path=\"url(#pafb990c477)\" style=\"fill: #1f77b4\"/>\n   </g>\n   <g id=\"patch_13\">\n    <path d=\"M 59.905276 145.8 \nL 67.152029 145.8 \nL 67.152029 13.8 \nL 59.905276 13.8 \nz\n\" clip-path=\"url(#pafb990c477)\" style=\"fill: url(#h6b96ae9e09)\"/>\n   </g>\n   <g id=\"patch_14\">\n    <path d=\"M 78.022159 145.8 \nL 85.268912 145.8 \nL 85.268912 145.8 \nL 78.022159 145.8 \nz\n\" clip-path=\"url(#pafb990c477)\" style=\"fill: url(#h6b96ae9e09)\"/>\n   </g>\n   <g id=\"patch_15\">\n    <path d=\"M 96.139042 145.8 \nL 103.385795 145.8 \nL 103.385795 145.8 \nL 96.139042 145.8 \nz\n\" clip-path=\"url(#pafb990c477)\" style=\"fill: url(#h6b96ae9e09)\"/>\n   </g>\n   <g id=\"patch_16\">\n    <path d=\"M 114.255925 145.8 \nL 121.502679 145.8 \nL 121.502679 145.8 \nL 114.255925 145.8 \nz\n\" clip-path=\"url(#pafb990c477)\" style=\"fill: url(#h6b96ae9e09)\"/>\n   </g>\n   <g id=\"patch_17\">\n    <path d=\"M 132.372808 145.8 \nL 139.619562 145.8 \nL 139.619562 145.8 \nL 132.372808 145.8 \nz\n\" clip-path=\"url(#pafb990c477)\" style=\"fill: url(#h6b96ae9e09)\"/>\n   </g>\n   <g id=\"patch_18\">\n    <path d=\"M 150.489692 145.8 \nL 157.736445 145.8 \nL 157.736445 145.8 \nL 150.489692 145.8 \nz\n\" clip-path=\"url(#pafb990c477)\" style=\"fill: url(#h6b96ae9e09)\"/>\n   </g>\n   <g id=\"patch_19\">\n    <path d=\"M 168.606575 145.8 \nL 175.853328 145.8 \nL 175.853328 145.8 \nL 168.606575 145.8 \nz\n\" clip-path=\"url(#pafb990c477)\" style=\"fill: url(#h6b96ae9e09)\"/>\n   </g>\n   <g id=\"patch_20\">\n    <path d=\"M 186.723458 145.8 \nL 193.970211 145.8 \nL 193.970211 145.8 \nL 186.723458 145.8 \nz\n\" clip-path=\"url(#pafb990c477)\" style=\"fill: url(#h6b96ae9e09)\"/>\n   </g>\n   <g id=\"patch_21\">\n    <path d=\"M 204.840341 145.8 \nL 212.087094 145.8 \nL 212.087094 145.8 \nL 204.840341 145.8 \nz\n\" clip-path=\"url(#pafb990c477)\" style=\"fill: url(#h6b96ae9e09)\"/>\n   </g>\n   <g id=\"patch_22\">\n    <path d=\"M 222.957224 145.8 \nL 230.203977 145.8 \nL 230.203977 145.8 \nL 222.957224 145.8 \nz\n\" clip-path=\"url(#pafb990c477)\" style=\"fill: url(#h6b96ae9e09)\"/>\n   </g>\n   <g id=\"matplotlib.axis_1\">\n    <g id=\"xtick_1\">\n     <g id=\"line2d_1\">\n      <defs>\n       <path id=\"m2e77ffd3de\" d=\"M 0 0 \nL 0 3.5 \n\" style=\"stroke: #000000; stroke-width: 0.8\"/>\n      </defs>\n      <g>\n       <use xlink:href=\"#m2e77ffd3de\" x=\"67.316728\" y=\"145.8\" style=\"stroke: #000000; stroke-width: 0.8\"/>\n      </g>\n     </g>\n     <g id=\"text_1\">\n      <!-- 62 -->\n      <g transform=\"translate(60.954228 160.398438) scale(0.1 -0.1)\">\n       <defs>\n        <path id=\"DejaVuSans-36\" d=\"M 2113 2584 \nQ 1688 2584 1439 2293 \nQ 1191 2003 1191 1497 \nQ 1191 994 1439 701 \nQ 1688 409 2113 409 \nQ 2538 409 2786 701 \nQ 3034 994 3034 1497 \nQ 3034 2003 2786 2293 \nQ 2538 2584 2113 2584 \nz\nM 3366 4563 \nL 3366 3988 \nQ 3128 4100 2886 4159 \nQ 2644 4219 2406 4219 \nQ 1781 4219 1451 3797 \nQ 1122 3375 1075 2522 \nQ 1259 2794 1537 2939 \nQ 1816 3084 2150 3084 \nQ 2853 3084 3261 2657 \nQ 3669 2231 3669 1497 \nQ 3669 778 3244 343 \nQ 2819 -91 2113 -91 \nQ 1303 -91 875 529 \nQ 447 1150 447 2328 \nQ 447 3434 972 4092 \nQ 1497 4750 2381 4750 \nQ 2619 4750 2861 4703 \nQ 3103 4656 3366 4563 \nz\n\" transform=\"scale(0.015625)\"/>\n        <path id=\"DejaVuSans-32\" d=\"M 1228 531 \nL 3431 531 \nL 3431 0 \nL 469 0 \nL 469 531 \nQ 828 903 1448 1529 \nQ 2069 2156 2228 2338 \nQ 2531 2678 2651 2914 \nQ 2772 3150 2772 3378 \nQ 2772 3750 2511 3984 \nQ 2250 4219 1831 4219 \nQ 1534 4219 1204 4116 \nQ 875 4013 500 3803 \nL 500 4441 \nQ 881 4594 1212 4672 \nQ 1544 4750 1819 4750 \nQ 2544 4750 2975 4387 \nQ 3406 4025 3406 3419 \nQ 3406 3131 3298 2873 \nQ 3191 2616 2906 2266 \nQ 2828 2175 2409 1742 \nQ 1991 1309 1228 531 \nz\n\" transform=\"scale(0.015625)\"/>\n       </defs>\n       <use xlink:href=\"#DejaVuSans-36\"/>\n       <use xlink:href=\"#DejaVuSans-32\" x=\"63.623047\"/>\n      </g>\n     </g>\n    </g>\n    <g id=\"xtick_2\">\n     <g id=\"line2d_2\">\n      <g>\n       <use xlink:href=\"#m2e77ffd3de\" x=\"100.256516\" y=\"145.8\" style=\"stroke: #000000; stroke-width: 0.8\"/>\n      </g>\n     </g>\n     <g id=\"text_2\">\n      <!-- 64 -->\n      <g transform=\"translate(93.894016 160.398438) scale(0.1 -0.1)\">\n       <defs>\n        <path id=\"DejaVuSans-34\" d=\"M 2419 4116 \nL 825 1625 \nL 2419 1625 \nL 2419 4116 \nz\nM 2253 4666 \nL 3047 4666 \nL 3047 1625 \nL 3713 1625 \nL 3713 1100 \nL 3047 1100 \nL 3047 0 \nL 2419 0 \nL 2419 1100 \nL 313 1100 \nL 313 1709 \nL 2253 4666 \nz\n\" transform=\"scale(0.015625)\"/>\n       </defs>\n       <use xlink:href=\"#DejaVuSans-36\"/>\n       <use xlink:href=\"#DejaVuSans-34\" x=\"63.623047\"/>\n      </g>\n     </g>\n    </g>\n    <g id=\"xtick_3\">\n     <g id=\"line2d_3\">\n      <g>\n       <use xlink:href=\"#m2e77ffd3de\" x=\"133.196303\" y=\"145.8\" style=\"stroke: #000000; stroke-width: 0.8\"/>\n      </g>\n     </g>\n     <g id=\"text_3\">\n      <!-- 66 -->\n      <g transform=\"translate(126.833803 160.398438) scale(0.1 -0.1)\">\n       <use xlink:href=\"#DejaVuSans-36\"/>\n       <use xlink:href=\"#DejaVuSans-36\" x=\"63.623047\"/>\n      </g>\n     </g>\n    </g>\n    <g id=\"xtick_4\">\n     <g id=\"line2d_4\">\n      <g>\n       <use xlink:href=\"#m2e77ffd3de\" x=\"166.136091\" y=\"145.8\" style=\"stroke: #000000; stroke-width: 0.8\"/>\n      </g>\n     </g>\n     <g id=\"text_4\">\n      <!-- 68 -->\n      <g transform=\"translate(159.773591 160.398438) scale(0.1 -0.1)\">\n       <defs>\n        <path id=\"DejaVuSans-38\" d=\"M 2034 2216 \nQ 1584 2216 1326 1975 \nQ 1069 1734 1069 1313 \nQ 1069 891 1326 650 \nQ 1584 409 2034 409 \nQ 2484 409 2743 651 \nQ 3003 894 3003 1313 \nQ 3003 1734 2745 1975 \nQ 2488 2216 2034 2216 \nz\nM 1403 2484 \nQ 997 2584 770 2862 \nQ 544 3141 544 3541 \nQ 544 4100 942 4425 \nQ 1341 4750 2034 4750 \nQ 2731 4750 3128 4425 \nQ 3525 4100 3525 3541 \nQ 3525 3141 3298 2862 \nQ 3072 2584 2669 2484 \nQ 3125 2378 3379 2068 \nQ 3634 1759 3634 1313 \nQ 3634 634 3220 271 \nQ 2806 -91 2034 -91 \nQ 1263 -91 848 271 \nQ 434 634 434 1313 \nQ 434 1759 690 2068 \nQ 947 2378 1403 2484 \nz\nM 1172 3481 \nQ 1172 3119 1398 2916 \nQ 1625 2713 2034 2713 \nQ 2441 2713 2670 2916 \nQ 2900 3119 2900 3481 \nQ 2900 3844 2670 4047 \nQ 2441 4250 2034 4250 \nQ 1625 4250 1398 4047 \nQ 1172 3844 1172 3481 \nz\n\" transform=\"scale(0.015625)\"/>\n       </defs>\n       <use xlink:href=\"#DejaVuSans-36\"/>\n       <use xlink:href=\"#DejaVuSans-38\" x=\"63.623047\"/>\n      </g>\n     </g>\n    </g>\n    <g id=\"xtick_5\">\n     <g id=\"line2d_5\">\n      <g>\n       <use xlink:href=\"#m2e77ffd3de\" x=\"199.075878\" y=\"145.8\" style=\"stroke: #000000; stroke-width: 0.8\"/>\n      </g>\n     </g>\n     <g id=\"text_5\">\n      <!-- 70 -->\n      <g transform=\"translate(192.713378 160.398438) scale(0.1 -0.1)\">\n       <defs>\n        <path id=\"DejaVuSans-37\" d=\"M 525 4666 \nL 3525 4666 \nL 3525 4397 \nL 1831 0 \nL 1172 0 \nL 2766 4134 \nL 525 4134 \nL 525 4666 \nz\n\" transform=\"scale(0.015625)\"/>\n        <path id=\"DejaVuSans-30\" d=\"M 2034 4250 \nQ 1547 4250 1301 3770 \nQ 1056 3291 1056 2328 \nQ 1056 1369 1301 889 \nQ 1547 409 2034 409 \nQ 2525 409 2770 889 \nQ 3016 1369 3016 2328 \nQ 3016 3291 2770 3770 \nQ 2525 4250 2034 4250 \nz\nM 2034 4750 \nQ 2819 4750 3233 4129 \nQ 3647 3509 3647 2328 \nQ 3647 1150 3233 529 \nQ 2819 -91 2034 -91 \nQ 1250 -91 836 529 \nQ 422 1150 422 2328 \nQ 422 3509 836 4129 \nQ 1250 4750 2034 4750 \nz\n\" transform=\"scale(0.015625)\"/>\n       </defs>\n       <use xlink:href=\"#DejaVuSans-37\"/>\n       <use xlink:href=\"#DejaVuSans-30\" x=\"63.623047\"/>\n      </g>\n     </g>\n    </g>\n    <g id=\"xtick_6\">\n     <g id=\"line2d_6\">\n      <g>\n       <use xlink:href=\"#m2e77ffd3de\" x=\"232.015666\" y=\"145.8\" style=\"stroke: #000000; stroke-width: 0.8\"/>\n      </g>\n     </g>\n     <g id=\"text_6\">\n      <!-- 72 -->\n      <g transform=\"translate(225.653166 160.398438) scale(0.1 -0.1)\">\n       <use xlink:href=\"#DejaVuSans-37\"/>\n       <use xlink:href=\"#DejaVuSans-32\" x=\"63.623047\"/>\n      </g>\n     </g>\n    </g>\n    <g id=\"text_7\">\n     <!-- # tokens per sequence -->\n     <g transform=\"translate(83.489063 174.076563) scale(0.1 -0.1)\">\n      <defs>\n       <path id=\"DejaVuSans-23\" d=\"M 3272 2816 \nL 2363 2816 \nL 2100 1772 \nL 3016 1772 \nL 3272 2816 \nz\nM 2803 4594 \nL 2478 3297 \nL 3391 3297 \nL 3719 4594 \nL 4219 4594 \nL 3897 3297 \nL 4872 3297 \nL 4872 2816 \nL 3775 2816 \nL 3519 1772 \nL 4513 1772 \nL 4513 1294 \nL 3397 1294 \nL 3072 0 \nL 2572 0 \nL 2894 1294 \nL 1978 1294 \nL 1656 0 \nL 1153 0 \nL 1478 1294 \nL 494 1294 \nL 494 1772 \nL 1594 1772 \nL 1856 2816 \nL 850 2816 \nL 850 3297 \nL 1978 3297 \nL 2297 4594 \nL 2803 4594 \nz\n\" transform=\"scale(0.015625)\"/>\n       <path id=\"DejaVuSans-20\" transform=\"scale(0.015625)\"/>\n       <path id=\"DejaVuSans-74\" d=\"M 1172 4494 \nL 1172 3500 \nL 2356 3500 \nL 2356 3053 \nL 1172 3053 \nL 1172 1153 \nQ 1172 725 1289 603 \nQ 1406 481 1766 481 \nL 2356 481 \nL 2356 0 \nL 1766 0 \nQ 1100 0 847 248 \nQ 594 497 594 1153 \nL 594 3053 \nL 172 3053 \nL 172 3500 \nL 594 3500 \nL 594 4494 \nL 1172 4494 \nz\n\" transform=\"scale(0.015625)\"/>\n       <path id=\"DejaVuSans-6f\" d=\"M 1959 3097 \nQ 1497 3097 1228 2736 \nQ 959 2375 959 1747 \nQ 959 1119 1226 758 \nQ 1494 397 1959 397 \nQ 2419 397 2687 759 \nQ 2956 1122 2956 1747 \nQ 2956 2369 2687 2733 \nQ 2419 3097 1959 3097 \nz\nM 1959 3584 \nQ 2709 3584 3137 3096 \nQ 3566 2609 3566 1747 \nQ 3566 888 3137 398 \nQ 2709 -91 1959 -91 \nQ 1206 -91 779 398 \nQ 353 888 353 1747 \nQ 353 2609 779 3096 \nQ 1206 3584 1959 3584 \nz\n\" transform=\"scale(0.015625)\"/>\n       <path id=\"DejaVuSans-6b\" d=\"M 581 4863 \nL 1159 4863 \nL 1159 1991 \nL 2875 3500 \nL 3609 3500 \nL 1753 1863 \nL 3688 0 \nL 2938 0 \nL 1159 1709 \nL 1159 0 \nL 581 0 \nL 581 4863 \nz\n\" transform=\"scale(0.015625)\"/>\n       <path id=\"DejaVuSans-65\" d=\"M 3597 1894 \nL 3597 1613 \nL 953 1613 \nQ 991 1019 1311 708 \nQ 1631 397 2203 397 \nQ 2534 397 2845 478 \nQ 3156 559 3463 722 \nL 3463 178 \nQ 3153 47 2828 -22 \nQ 2503 -91 2169 -91 \nQ 1331 -91 842 396 \nQ 353 884 353 1716 \nQ 353 2575 817 3079 \nQ 1281 3584 2069 3584 \nQ 2775 3584 3186 3129 \nQ 3597 2675 3597 1894 \nz\nM 3022 2063 \nQ 3016 2534 2758 2815 \nQ 2500 3097 2075 3097 \nQ 1594 3097 1305 2825 \nQ 1016 2553 972 2059 \nL 3022 2063 \nz\n\" transform=\"scale(0.015625)\"/>\n       <path id=\"DejaVuSans-6e\" d=\"M 3513 2113 \nL 3513 0 \nL 2938 0 \nL 2938 2094 \nQ 2938 2591 2744 2837 \nQ 2550 3084 2163 3084 \nQ 1697 3084 1428 2787 \nQ 1159 2491 1159 1978 \nL 1159 0 \nL 581 0 \nL 581 3500 \nL 1159 3500 \nL 1159 2956 \nQ 1366 3272 1645 3428 \nQ 1925 3584 2291 3584 \nQ 2894 3584 3203 3211 \nQ 3513 2838 3513 2113 \nz\n\" transform=\"scale(0.015625)\"/>\n       <path id=\"DejaVuSans-73\" d=\"M 2834 3397 \nL 2834 2853 \nQ 2591 2978 2328 3040 \nQ 2066 3103 1784 3103 \nQ 1356 3103 1142 2972 \nQ 928 2841 928 2578 \nQ 928 2378 1081 2264 \nQ 1234 2150 1697 2047 \nL 1894 2003 \nQ 2506 1872 2764 1633 \nQ 3022 1394 3022 966 \nQ 3022 478 2636 193 \nQ 2250 -91 1575 -91 \nQ 1294 -91 989 -36 \nQ 684 19 347 128 \nL 347 722 \nQ 666 556 975 473 \nQ 1284 391 1588 391 \nQ 1994 391 2212 530 \nQ 2431 669 2431 922 \nQ 2431 1156 2273 1281 \nQ 2116 1406 1581 1522 \nL 1381 1569 \nQ 847 1681 609 1914 \nQ 372 2147 372 2553 \nQ 372 3047 722 3315 \nQ 1072 3584 1716 3584 \nQ 2034 3584 2315 3537 \nQ 2597 3491 2834 3397 \nz\n\" transform=\"scale(0.015625)\"/>\n       <path id=\"DejaVuSans-70\" d=\"M 1159 525 \nL 1159 -1331 \nL 581 -1331 \nL 581 3500 \nL 1159 3500 \nL 1159 2969 \nQ 1341 3281 1617 3432 \nQ 1894 3584 2278 3584 \nQ 2916 3584 3314 3078 \nQ 3713 2572 3713 1747 \nQ 3713 922 3314 415 \nQ 2916 -91 2278 -91 \nQ 1894 -91 1617 61 \nQ 1341 213 1159 525 \nz\nM 3116 1747 \nQ 3116 2381 2855 2742 \nQ 2594 3103 2138 3103 \nQ 1681 3103 1420 2742 \nQ 1159 2381 1159 1747 \nQ 1159 1113 1420 752 \nQ 1681 391 2138 391 \nQ 2594 391 2855 752 \nQ 3116 1113 3116 1747 \nz\n\" transform=\"scale(0.015625)\"/>\n       <path id=\"DejaVuSans-72\" d=\"M 2631 2963 \nQ 2534 3019 2420 3045 \nQ 2306 3072 2169 3072 \nQ 1681 3072 1420 2755 \nQ 1159 2438 1159 1844 \nL 1159 0 \nL 581 0 \nL 581 3500 \nL 1159 3500 \nL 1159 2956 \nQ 1341 3275 1631 3429 \nQ 1922 3584 2338 3584 \nQ 2397 3584 2469 3576 \nQ 2541 3569 2628 3553 \nL 2631 2963 \nz\n\" transform=\"scale(0.015625)\"/>\n       <path id=\"DejaVuSans-71\" d=\"M 947 1747 \nQ 947 1113 1208 752 \nQ 1469 391 1925 391 \nQ 2381 391 2643 752 \nQ 2906 1113 2906 1747 \nQ 2906 2381 2643 2742 \nQ 2381 3103 1925 3103 \nQ 1469 3103 1208 2742 \nQ 947 2381 947 1747 \nz\nM 2906 525 \nQ 2725 213 2448 61 \nQ 2172 -91 1784 -91 \nQ 1150 -91 751 415 \nQ 353 922 353 1747 \nQ 353 2572 751 3078 \nQ 1150 3584 1784 3584 \nQ 2172 3584 2448 3432 \nQ 2725 3281 2906 2969 \nL 2906 3500 \nL 3481 3500 \nL 3481 -1331 \nL 2906 -1331 \nL 2906 525 \nz\n\" transform=\"scale(0.015625)\"/>\n       <path id=\"DejaVuSans-75\" d=\"M 544 1381 \nL 544 3500 \nL 1119 3500 \nL 1119 1403 \nQ 1119 906 1312 657 \nQ 1506 409 1894 409 \nQ 2359 409 2629 706 \nQ 2900 1003 2900 1516 \nL 2900 3500 \nL 3475 3500 \nL 3475 0 \nL 2900 0 \nL 2900 538 \nQ 2691 219 2414 64 \nQ 2138 -91 1772 -91 \nQ 1169 -91 856 284 \nQ 544 659 544 1381 \nz\nM 1991 3584 \nL 1991 3584 \nz\n\" transform=\"scale(0.015625)\"/>\n       <path id=\"DejaVuSans-63\" d=\"M 3122 3366 \nL 3122 2828 \nQ 2878 2963 2633 3030 \nQ 2388 3097 2138 3097 \nQ 1578 3097 1268 2742 \nQ 959 2388 959 1747 \nQ 959 1106 1268 751 \nQ 1578 397 2138 397 \nQ 2388 397 2633 464 \nQ 2878 531 3122 666 \nL 3122 134 \nQ 2881 22 2623 -34 \nQ 2366 -91 2075 -91 \nQ 1284 -91 818 406 \nQ 353 903 353 1747 \nQ 353 2603 823 3093 \nQ 1294 3584 2113 3584 \nQ 2378 3584 2631 3529 \nQ 2884 3475 3122 3366 \nz\n\" transform=\"scale(0.015625)\"/>\n      </defs>\n      <use xlink:href=\"#DejaVuSans-23\"/>\n      <use xlink:href=\"#DejaVuSans-20\" x=\"83.789062\"/>\n      <use xlink:href=\"#DejaVuSans-74\" x=\"115.576172\"/>\n      <use xlink:href=\"#DejaVuSans-6f\" x=\"154.785156\"/>\n      <use xlink:href=\"#DejaVuSans-6b\" x=\"215.966797\"/>\n      <use xlink:href=\"#DejaVuSans-65\" x=\"270.251953\"/>\n      <use xlink:href=\"#DejaVuSans-6e\" x=\"331.775391\"/>\n      <use xlink:href=\"#DejaVuSans-73\" x=\"395.154297\"/>\n      <use xlink:href=\"#DejaVuSans-20\" x=\"447.253906\"/>\n      <use xlink:href=\"#DejaVuSans-70\" x=\"479.041016\"/>\n      <use xlink:href=\"#DejaVuSans-65\" x=\"542.517578\"/>\n      <use xlink:href=\"#DejaVuSans-72\" x=\"604.041016\"/>\n      <use xlink:href=\"#DejaVuSans-20\" x=\"645.154297\"/>\n      <use xlink:href=\"#DejaVuSans-73\" x=\"676.941406\"/>\n      <use xlink:href=\"#DejaVuSans-65\" x=\"729.041016\"/>\n      <use xlink:href=\"#DejaVuSans-71\" x=\"790.564453\"/>\n      <use xlink:href=\"#DejaVuSans-75\" x=\"854.041016\"/>\n      <use xlink:href=\"#DejaVuSans-65\" x=\"917.419922\"/>\n      <use xlink:href=\"#DejaVuSans-6e\" x=\"978.943359\"/>\n      <use xlink:href=\"#DejaVuSans-63\" x=\"1042.322266\"/>\n      <use xlink:href=\"#DejaVuSans-65\" x=\"1097.302734\"/>\n     </g>\n    </g>\n   </g>\n   <g id=\"matplotlib.axis_2\">\n    <g id=\"ytick_1\">\n     <g id=\"line2d_7\">\n      <defs>\n       <path id=\"md8cd126a85\" d=\"M 0 0 \nL -3.5 0 \n\" style=\"stroke: #000000; stroke-width: 0.8\"/>\n      </defs>\n      <g>\n       <use xlink:href=\"#md8cd126a85\" x=\"43.78125\" y=\"145.8\" style=\"stroke: #000000; stroke-width: 0.8\"/>\n      </g>\n     </g>\n     <g id=\"text_8\">\n      <!-- 0.0 -->\n      <g transform=\"translate(20.878125 149.599219) scale(0.1 -0.1)\">\n       <defs>\n        <path id=\"DejaVuSans-2e\" d=\"M 684 794 \nL 1344 794 \nL 1344 0 \nL 684 0 \nL 684 794 \nz\n\" transform=\"scale(0.015625)\"/>\n       </defs>\n       <use xlink:href=\"#DejaVuSans-30\"/>\n       <use xlink:href=\"#DejaVuSans-2e\" x=\"63.623047\"/>\n       <use xlink:href=\"#DejaVuSans-30\" x=\"95.410156\"/>\n      </g>\n     </g>\n    </g>\n    <g id=\"ytick_2\">\n     <g id=\"line2d_8\">\n      <g>\n       <use xlink:href=\"#md8cd126a85\" x=\"43.78125\" y=\"119.4\" style=\"stroke: #000000; stroke-width: 0.8\"/>\n      </g>\n     </g>\n     <g id=\"text_9\">\n      <!-- 0.2 -->\n      <g transform=\"translate(20.878125 123.199219) scale(0.1 -0.1)\">\n       <use xlink:href=\"#DejaVuSans-30\"/>\n       <use xlink:href=\"#DejaVuSans-2e\" x=\"63.623047\"/>\n       <use xlink:href=\"#DejaVuSans-32\" x=\"95.410156\"/>\n      </g>\n     </g>\n    </g>\n    <g id=\"ytick_3\">\n     <g id=\"line2d_9\">\n      <g>\n       <use xlink:href=\"#md8cd126a85\" x=\"43.78125\" y=\"93\" style=\"stroke: #000000; stroke-width: 0.8\"/>\n      </g>\n     </g>\n     <g id=\"text_10\">\n      <!-- 0.4 -->\n      <g transform=\"translate(20.878125 96.799219) scale(0.1 -0.1)\">\n       <use xlink:href=\"#DejaVuSans-30\"/>\n       <use xlink:href=\"#DejaVuSans-2e\" x=\"63.623047\"/>\n       <use xlink:href=\"#DejaVuSans-34\" x=\"95.410156\"/>\n      </g>\n     </g>\n    </g>\n    <g id=\"ytick_4\">\n     <g id=\"line2d_10\">\n      <g>\n       <use xlink:href=\"#md8cd126a85\" x=\"43.78125\" y=\"66.6\" style=\"stroke: #000000; stroke-width: 0.8\"/>\n      </g>\n     </g>\n     <g id=\"text_11\">\n      <!-- 0.6 -->\n      <g transform=\"translate(20.878125 70.399219) scale(0.1 -0.1)\">\n       <use xlink:href=\"#DejaVuSans-30\"/>\n       <use xlink:href=\"#DejaVuSans-2e\" x=\"63.623047\"/>\n       <use xlink:href=\"#DejaVuSans-36\" x=\"95.410156\"/>\n      </g>\n     </g>\n    </g>\n    <g id=\"ytick_5\">\n     <g id=\"line2d_11\">\n      <g>\n       <use xlink:href=\"#md8cd126a85\" x=\"43.78125\" y=\"40.2\" style=\"stroke: #000000; stroke-width: 0.8\"/>\n      </g>\n     </g>\n     <g id=\"text_12\">\n      <!-- 0.8 -->\n      <g transform=\"translate(20.878125 43.999219) scale(0.1 -0.1)\">\n       <use xlink:href=\"#DejaVuSans-30\"/>\n       <use xlink:href=\"#DejaVuSans-2e\" x=\"63.623047\"/>\n       <use xlink:href=\"#DejaVuSans-38\" x=\"95.410156\"/>\n      </g>\n     </g>\n    </g>\n    <g id=\"ytick_6\">\n     <g id=\"line2d_12\">\n      <g>\n       <use xlink:href=\"#md8cd126a85\" x=\"43.78125\" y=\"13.8\" style=\"stroke: #000000; stroke-width: 0.8\"/>\n      </g>\n     </g>\n     <g id=\"text_13\">\n      <!-- 1.0 -->\n      <g transform=\"translate(20.878125 17.599219) scale(0.1 -0.1)\">\n       <defs>\n        <path id=\"DejaVuSans-31\" d=\"M 794 531 \nL 1825 531 \nL 1825 4091 \nL 703 3866 \nL 703 4441 \nL 1819 4666 \nL 2450 4666 \nL 2450 531 \nL 3481 531 \nL 3481 0 \nL 794 0 \nL 794 531 \nz\n\" transform=\"scale(0.015625)\"/>\n       </defs>\n       <use xlink:href=\"#DejaVuSans-31\"/>\n       <use xlink:href=\"#DejaVuSans-2e\" x=\"63.623047\"/>\n       <use xlink:href=\"#DejaVuSans-30\" x=\"95.410156\"/>\n      </g>\n     </g>\n    </g>\n    <g id=\"text_14\">\n     <!-- count -->\n     <g transform=\"translate(14.798437 90.60625) rotate(-90) scale(0.1 -0.1)\">\n      <use xlink:href=\"#DejaVuSans-63\"/>\n      <use xlink:href=\"#DejaVuSans-6f\" x=\"54.980469\"/>\n      <use xlink:href=\"#DejaVuSans-75\" x=\"116.162109\"/>\n      <use xlink:href=\"#DejaVuSans-6e\" x=\"179.541016\"/>\n      <use xlink:href=\"#DejaVuSans-74\" x=\"242.919922\"/>\n     </g>\n    </g>\n   </g>\n   <g id=\"patch_23\">\n    <path d=\"M 43.78125 145.8 \nL 43.78125 7.2 \n\" style=\"fill: none; stroke: #000000; stroke-width: 0.8; stroke-linejoin: miter; stroke-linecap: square\"/>\n   </g>\n   <g id=\"patch_24\">\n    <path d=\"M 239.08125 145.8 \nL 239.08125 7.2 \n\" style=\"fill: none; stroke: #000000; stroke-width: 0.8; stroke-linejoin: miter; stroke-linecap: square\"/>\n   </g>\n   <g id=\"patch_25\">\n    <path d=\"M 43.78125 145.8 \nL 239.08125 145.8 \n\" style=\"fill: none; stroke: #000000; stroke-width: 0.8; stroke-linejoin: miter; stroke-linecap: square\"/>\n   </g>\n   <g id=\"patch_26\">\n    <path d=\"M 43.78125 7.2 \nL 239.08125 7.2 \n\" style=\"fill: none; stroke: #000000; stroke-width: 0.8; stroke-linejoin: miter; stroke-linecap: square\"/>\n   </g>\n   <g id=\"legend_1\">\n    <g id=\"patch_27\">\n     <path d=\"M 108.829688 140.8 \nL 174.032813 140.8 \nQ 176.032813 140.8 176.032813 138.8 \nL 176.032813 110.44375 \nQ 176.032813 108.44375 174.032813 108.44375 \nL 108.829688 108.44375 \nQ 106.829688 108.44375 106.829688 110.44375 \nL 106.829688 138.8 \nQ 106.829688 140.8 108.829688 140.8 \nz\n\" style=\"fill: #ffffff; opacity: 0.8; stroke: #cccccc; stroke-linejoin: miter\"/>\n    </g>\n    <g id=\"patch_28\">\n     <path d=\"M 110.829688 120.042188 \nL 130.829688 120.042188 \nL 130.829688 113.042188 \nL 110.829688 113.042188 \nz\n\" style=\"fill: #1f77b4\"/>\n    </g>\n    <g id=\"text_15\">\n     <!-- source -->\n     <g transform=\"translate(138.829688 120.042188) scale(0.1 -0.1)\">\n      <use xlink:href=\"#DejaVuSans-73\"/>\n      <use xlink:href=\"#DejaVuSans-6f\" x=\"52.099609\"/>\n      <use xlink:href=\"#DejaVuSans-75\" x=\"113.28125\"/>\n      <use xlink:href=\"#DejaVuSans-72\" x=\"176.660156\"/>\n      <use xlink:href=\"#DejaVuSans-63\" x=\"215.523438\"/>\n      <use xlink:href=\"#DejaVuSans-65\" x=\"270.503906\"/>\n     </g>\n    </g>\n    <g id=\"patch_29\">\n     <path d=\"M 110.829688 134.720313 \nL 130.829688 134.720313 \nL 130.829688 127.720313 \nL 110.829688 127.720313 \nz\n\" style=\"fill: url(#h6b96ae9e09)\"/>\n    </g>\n    <g id=\"text_16\">\n     <!-- target -->\n     <g transform=\"translate(138.829688 134.720313) scale(0.1 -0.1)\">\n      <defs>\n       <path id=\"DejaVuSans-61\" d=\"M 2194 1759 \nQ 1497 1759 1228 1600 \nQ 959 1441 959 1056 \nQ 959 750 1161 570 \nQ 1363 391 1709 391 \nQ 2188 391 2477 730 \nQ 2766 1069 2766 1631 \nL 2766 1759 \nL 2194 1759 \nz\nM 3341 1997 \nL 3341 0 \nL 2766 0 \nL 2766 531 \nQ 2569 213 2275 61 \nQ 1981 -91 1556 -91 \nQ 1019 -91 701 211 \nQ 384 513 384 1019 \nQ 384 1609 779 1909 \nQ 1175 2209 1959 2209 \nL 2766 2209 \nL 2766 2266 \nQ 2766 2663 2505 2880 \nQ 2244 3097 1772 3097 \nQ 1472 3097 1187 3025 \nQ 903 2953 641 2809 \nL 641 3341 \nQ 956 3463 1253 3523 \nQ 1550 3584 1831 3584 \nQ 2591 3584 2966 3190 \nQ 3341 2797 3341 1997 \nz\n\" transform=\"scale(0.015625)\"/>\n       <path id=\"DejaVuSans-67\" d=\"M 2906 1791 \nQ 2906 2416 2648 2759 \nQ 2391 3103 1925 3103 \nQ 1463 3103 1205 2759 \nQ 947 2416 947 1791 \nQ 947 1169 1205 825 \nQ 1463 481 1925 481 \nQ 2391 481 2648 825 \nQ 2906 1169 2906 1791 \nz\nM 3481 434 \nQ 3481 -459 3084 -895 \nQ 2688 -1331 1869 -1331 \nQ 1566 -1331 1297 -1286 \nQ 1028 -1241 775 -1147 \nL 775 -588 \nQ 1028 -725 1275 -790 \nQ 1522 -856 1778 -856 \nQ 2344 -856 2625 -561 \nQ 2906 -266 2906 331 \nL 2906 616 \nQ 2728 306 2450 153 \nQ 2172 0 1784 0 \nQ 1141 0 747 490 \nQ 353 981 353 1791 \nQ 353 2603 747 3093 \nQ 1141 3584 1784 3584 \nQ 2172 3584 2450 3431 \nQ 2728 3278 2906 2969 \nL 2906 3500 \nL 3481 3500 \nL 3481 434 \nz\n\" transform=\"scale(0.015625)\"/>\n      </defs>\n      <use xlink:href=\"#DejaVuSans-74\"/>\n      <use xlink:href=\"#DejaVuSans-61\" x=\"39.208984\"/>\n      <use xlink:href=\"#DejaVuSans-72\" x=\"100.488281\"/>\n      <use xlink:href=\"#DejaVuSans-67\" x=\"139.851562\"/>\n      <use xlink:href=\"#DejaVuSans-65\" x=\"203.328125\"/>\n      <use xlink:href=\"#DejaVuSans-74\" x=\"264.851562\"/>\n     </g>\n    </g>\n   </g>\n  </g>\n </g>\n <defs>\n  <clipPath id=\"pafb990c477\">\n   <rect x=\"43.78125\" y=\"7.2\" width=\"195.3\" height=\"138.6\"/>\n  </clipPath>\n </defs>\n <defs>\n  <pattern id=\"h6b96ae9e09\" patternUnits=\"userSpaceOnUse\" x=\"0\" y=\"0\" width=\"72\" height=\"72\">\n   <rect x=\"0\" y=\"0\" width=\"73\" height=\"73\" fill=\"#ff7f0e\"/>\n   <path d=\"M -36 36 \nL 36 -36 \nM -24 48 \nL 48 -24 \nM -12 60 \nL 60 -12 \nM 0 72 \nL 72 0 \nM 12 84 \nL 84 12 \nM 24 96 \nL 96 24 \nM 36 108 \nL 108 36 \n\" style=\"fill: #000000; stroke: #000000; stroke-width: 1.0; stroke-linecap: butt; stroke-linejoin: miter\"/>\n  </pattern>\n </defs>\n</svg>\n"
          },
          "metadata": {}
        }
      ],
      "source": [
        "show_list_len_pair_hist(['source', 'target'], '# tokens per sequence',\n",
        "                        'count', src, tgt);"
      ]
    },
    {
      "cell_type": "markdown",
      "id": "470e58cd",
      "metadata": {
        "origin_pos": 18,
        "id": "470e58cd"
      },
      "source": [
        "## Loading Sequences of Fixed Length\n",
        ":label:`subsec_loading-seq-fixed-len`\n",
        "\n",
        "Recall that in language modeling\n",
        "[**each example sequence**],\n",
        "either a segment of one sentence\n",
        "or a span over multiple sentences,\n",
        "(**had a fixed length.**)\n",
        "This was specified by the `num_steps`\n",
        "(number of time steps or tokens) argument from :numref:`sec_language-model`.\n",
        "In machine translation, each example is\n",
        "a pair of source and target text sequences,\n",
        "where the two text sequences may have different lengths.\n",
        "\n",
        "For computational efficiency,\n",
        "we can still process a minibatch of text sequences\n",
        "at one time by *truncation* and *padding*.\n",
        "Suppose that every sequence in the same minibatch\n",
        "should have the same length `num_steps`.\n",
        "If a text sequence has fewer than `num_steps` tokens,\n",
        "we will keep appending the special \"&lt;pad&gt;\" token\n",
        "to its end until its length reaches `num_steps`.\n",
        "Otherwise, we will truncate the text sequence\n",
        "by only taking its first `num_steps` tokens\n",
        "and discarding the remaining.\n",
        "In this way, every text sequence\n",
        "will have the same length\n",
        "to be loaded in minibatches of the same shape.\n",
        "Furthermore, we also record length of the source sequence excluding padding tokens.\n",
        "This information will be needed by some models that we will cover later.\n",
        "\n",
        "\n",
        "Since the machine translation dataset\n",
        "consists of pairs of languages,\n",
        "we can build two vocabularies for\n",
        "both the source language and\n",
        "the target language separately.\n",
        "With word-level tokenization,\n",
        "the vocabulary size will be significantly larger\n",
        "than that using character-level tokenization.\n",
        "To alleviate this,\n",
        "here we treat infrequent tokens\n",
        "that appear less than twice\n",
        "as the same unknown (\"&lt;unk&gt;\") token.\n",
        "As we will explain later (:numref:`fig_seq2seq`),\n",
        "when training with target sequences,\n",
        "the decoder output (label tokens)\n",
        "can be the same decoder input (target tokens),\n",
        "shifted by one token;\n",
        "and the special beginning-of-sequence \"&lt;bos&gt;\" token\n",
        "will be used as the first input token\n",
        "for predicting the target sequence (:numref:`fig_seq2seq_predict`).\n"
      ]
    },
    {
      "cell_type": "code",
      "execution_count": 29,
      "id": "499a8c37",
      "metadata": {
        "attributes": {
          "classes": [],
          "id": "",
          "n": "9"
        },
        "execution": {
          "iopub.execute_input": "2023-08-18T19:25:43.726907Z",
          "iopub.status.busy": "2023-08-18T19:25:43.726170Z",
          "iopub.status.idle": "2023-08-18T19:25:43.731267Z",
          "shell.execute_reply": "2023-08-18T19:25:43.730455Z"
        },
        "origin_pos": 19,
        "tab": [
          "pytorch"
        ],
        "id": "499a8c37"
      },
      "outputs": [],
      "source": [
        "@d2l.add_to_class(MTFinEng)\n",
        "def __init__(self, batch_size, num_steps=9, num_train=512, num_val=128):\n",
        "    super(MTFinEng, self).__init__()\n",
        "    self.save_hyperparameters()\n",
        "    self.arrays, self.src_vocab, self.tgt_vocab = self._build_arrays(\n",
        "        self._download())"
      ]
    },
    {
      "cell_type": "code",
      "execution_count": 30,
      "id": "642915b2",
      "metadata": {
        "execution": {
          "iopub.execute_input": "2023-08-18T19:25:43.734774Z",
          "iopub.status.busy": "2023-08-18T19:25:43.734205Z",
          "iopub.status.idle": "2023-08-18T19:25:43.741936Z",
          "shell.execute_reply": "2023-08-18T19:25:43.741036Z"
        },
        "origin_pos": 20,
        "tab": [
          "pytorch"
        ],
        "id": "642915b2"
      },
      "outputs": [],
      "source": [
        "@d2l.add_to_class(MTFinEng)\n",
        "def _build_arrays(self, raw_text, src_vocab=None, tgt_vocab=None):\n",
        "    def _build_array(sentences, vocab, is_tgt=False):\n",
        "        pad_or_trim = lambda seq, t: (\n",
        "            seq[:t] if len(seq) > t else seq + ['<pad>'] * (t - len(seq)))\n",
        "        sentences = [pad_or_trim(s, self.num_steps) for s in sentences]\n",
        "        if is_tgt:\n",
        "            sentences = [['<bos>'] + s for s in sentences]\n",
        "        if vocab is None:\n",
        "            vocab = d2l.Vocab(sentences, min_freq=2)\n",
        "        array = torch.tensor([vocab[s] for s in sentences])\n",
        "        valid_len = (array != vocab['<pad>']).type(torch.int32).sum(1)\n",
        "        return array, vocab, valid_len\n",
        "    src, tgt = self._tokenize(self._preprocess(raw_text),\n",
        "                              self.num_train + self.num_val)\n",
        "    src_array, src_vocab, src_valid_len = _build_array(src, src_vocab)\n",
        "    tgt_array, tgt_vocab, _ = _build_array(tgt, tgt_vocab, True)\n",
        "    return ((src_array, tgt_array[:,:-1], src_valid_len, tgt_array[:,1:]),\n",
        "            src_vocab, tgt_vocab)"
      ]
    },
    {
      "cell_type": "markdown",
      "id": "1db3140e",
      "metadata": {
        "origin_pos": 21,
        "id": "1db3140e"
      },
      "source": [
        "## [**Reading the Dataset**]\n",
        "\n",
        "Finally, we define the `get_dataloader` method\n",
        "to return the data iterator.\n"
      ]
    },
    {
      "cell_type": "code",
      "execution_count": 31,
      "id": "5eb64a4b",
      "metadata": {
        "attributes": {
          "classes": [],
          "id": "",
          "n": "10"
        },
        "execution": {
          "iopub.execute_input": "2023-08-18T19:25:43.745419Z",
          "iopub.status.busy": "2023-08-18T19:25:43.744866Z",
          "iopub.status.idle": "2023-08-18T19:25:43.749246Z",
          "shell.execute_reply": "2023-08-18T19:25:43.748444Z"
        },
        "origin_pos": 22,
        "tab": [
          "pytorch"
        ],
        "id": "5eb64a4b"
      },
      "outputs": [],
      "source": [
        "@d2l.add_to_class(MTFinEng)\n",
        "def get_dataloader(self, train):\n",
        "    idx = slice(0, self.num_train) if train else slice(self.num_train, None)\n",
        "    return self.get_tensorloader(self.arrays, train, idx)"
      ]
    },
    {
      "cell_type": "markdown",
      "id": "f7f295c6",
      "metadata": {
        "origin_pos": 23,
        "id": "f7f295c6"
      },
      "source": [
        "Let's [**read the first minibatch from the English--French dataset.**]\n"
      ]
    },
    {
      "cell_type": "code",
      "execution_count": 33,
      "id": "ef39df99",
      "metadata": {
        "attributes": {
          "classes": [],
          "id": "",
          "n": "11"
        },
        "execution": {
          "iopub.execute_input": "2023-08-18T19:25:43.752740Z",
          "iopub.status.busy": "2023-08-18T19:25:43.752195Z",
          "iopub.status.idle": "2023-08-18T19:25:47.133736Z",
          "shell.execute_reply": "2023-08-18T19:25:47.132842Z"
        },
        "origin_pos": 24,
        "tab": [
          "pytorch"
        ],
        "id": "ef39df99",
        "outputId": "2c98a2f6-f7ba-4912-aa44-0275a67e3de9",
        "colab": {
          "base_uri": "https://localhost:8080/",
          "height": 356
        }
      },
      "outputs": [
        {
          "output_type": "error",
          "ename": "IndexError",
          "evalue": "Dimension out of range (expected to be in range of [-1, 0], but got 1)",
          "traceback": [
            "\u001b[0;31m---------------------------------------------------------------------------\u001b[0m",
            "\u001b[0;31mIndexError\u001b[0m                                Traceback (most recent call last)",
            "\u001b[0;32m<ipython-input-33-59d835a790cd>\u001b[0m in \u001b[0;36m<cell line: 0>\u001b[0;34m()\u001b[0m\n\u001b[0;32m----> 1\u001b[0;31m \u001b[0mdata\u001b[0m \u001b[0;34m=\u001b[0m \u001b[0mMTFinEng\u001b[0m\u001b[0;34m(\u001b[0m\u001b[0mbatch_size\u001b[0m\u001b[0;34m=\u001b[0m\u001b[0;36m3\u001b[0m\u001b[0;34m)\u001b[0m\u001b[0;34m\u001b[0m\u001b[0;34m\u001b[0m\u001b[0m\n\u001b[0m\u001b[1;32m      2\u001b[0m \u001b[0msrc\u001b[0m\u001b[0;34m,\u001b[0m \u001b[0mtgt\u001b[0m\u001b[0;34m,\u001b[0m \u001b[0msrc_valid_len\u001b[0m\u001b[0;34m,\u001b[0m \u001b[0mlabel\u001b[0m \u001b[0;34m=\u001b[0m \u001b[0mnext\u001b[0m\u001b[0;34m(\u001b[0m\u001b[0miter\u001b[0m\u001b[0;34m(\u001b[0m\u001b[0mdata\u001b[0m\u001b[0;34m.\u001b[0m\u001b[0mtrain_dataloader\u001b[0m\u001b[0;34m(\u001b[0m\u001b[0;34m)\u001b[0m\u001b[0;34m)\u001b[0m\u001b[0;34m)\u001b[0m\u001b[0;34m\u001b[0m\u001b[0;34m\u001b[0m\u001b[0m\n\u001b[1;32m      3\u001b[0m \u001b[0mprint\u001b[0m\u001b[0;34m(\u001b[0m\u001b[0;34m'source:'\u001b[0m\u001b[0;34m,\u001b[0m \u001b[0msrc\u001b[0m\u001b[0;34m.\u001b[0m\u001b[0mtype\u001b[0m\u001b[0;34m(\u001b[0m\u001b[0mtorch\u001b[0m\u001b[0;34m.\u001b[0m\u001b[0mint32\u001b[0m\u001b[0;34m)\u001b[0m\u001b[0;34m)\u001b[0m\u001b[0;34m\u001b[0m\u001b[0;34m\u001b[0m\u001b[0m\n\u001b[1;32m      4\u001b[0m \u001b[0mprint\u001b[0m\u001b[0;34m(\u001b[0m\u001b[0;34m'decoder input:'\u001b[0m\u001b[0;34m,\u001b[0m \u001b[0mtgt\u001b[0m\u001b[0;34m.\u001b[0m\u001b[0mtype\u001b[0m\u001b[0;34m(\u001b[0m\u001b[0mtorch\u001b[0m\u001b[0;34m.\u001b[0m\u001b[0mint32\u001b[0m\u001b[0;34m)\u001b[0m\u001b[0;34m)\u001b[0m\u001b[0;34m\u001b[0m\u001b[0;34m\u001b[0m\u001b[0m\n\u001b[1;32m      5\u001b[0m \u001b[0mprint\u001b[0m\u001b[0;34m(\u001b[0m\u001b[0;34m'source len excluding pad:'\u001b[0m\u001b[0;34m,\u001b[0m \u001b[0msrc_valid_len\u001b[0m\u001b[0;34m.\u001b[0m\u001b[0mtype\u001b[0m\u001b[0;34m(\u001b[0m\u001b[0mtorch\u001b[0m\u001b[0;34m.\u001b[0m\u001b[0mint32\u001b[0m\u001b[0;34m)\u001b[0m\u001b[0;34m)\u001b[0m\u001b[0;34m\u001b[0m\u001b[0;34m\u001b[0m\u001b[0m\n",
            "\u001b[0;32m<ipython-input-29-6cf48f0774a1>\u001b[0m in \u001b[0;36m__init__\u001b[0;34m(self, batch_size, num_steps, num_train, num_val)\u001b[0m\n\u001b[1;32m      3\u001b[0m     \u001b[0msuper\u001b[0m\u001b[0;34m(\u001b[0m\u001b[0mMTFinEng\u001b[0m\u001b[0;34m,\u001b[0m \u001b[0mself\u001b[0m\u001b[0;34m)\u001b[0m\u001b[0;34m.\u001b[0m\u001b[0m__init__\u001b[0m\u001b[0;34m(\u001b[0m\u001b[0;34m)\u001b[0m\u001b[0;34m\u001b[0m\u001b[0;34m\u001b[0m\u001b[0m\n\u001b[1;32m      4\u001b[0m     \u001b[0mself\u001b[0m\u001b[0;34m.\u001b[0m\u001b[0msave_hyperparameters\u001b[0m\u001b[0;34m(\u001b[0m\u001b[0;34m)\u001b[0m\u001b[0;34m\u001b[0m\u001b[0;34m\u001b[0m\u001b[0m\n\u001b[0;32m----> 5\u001b[0;31m     self.arrays, self.src_vocab, self.tgt_vocab = self._build_arrays(\n\u001b[0m\u001b[1;32m      6\u001b[0m         self._download())\n",
            "\u001b[0;32m<ipython-input-30-9bf33b0e2485>\u001b[0m in \u001b[0;36m_build_arrays\u001b[0;34m(self, raw_text, src_vocab, tgt_vocab)\u001b[0m\n\u001b[1;32m     14\u001b[0m     src, tgt = self._tokenize(self._preprocess(raw_text),\n\u001b[1;32m     15\u001b[0m                               self.num_train + self.num_val)\n\u001b[0;32m---> 16\u001b[0;31m     \u001b[0msrc_array\u001b[0m\u001b[0;34m,\u001b[0m \u001b[0msrc_vocab\u001b[0m\u001b[0;34m,\u001b[0m \u001b[0msrc_valid_len\u001b[0m \u001b[0;34m=\u001b[0m \u001b[0m_build_array\u001b[0m\u001b[0;34m(\u001b[0m\u001b[0msrc\u001b[0m\u001b[0;34m,\u001b[0m \u001b[0msrc_vocab\u001b[0m\u001b[0;34m)\u001b[0m\u001b[0;34m\u001b[0m\u001b[0;34m\u001b[0m\u001b[0m\n\u001b[0m\u001b[1;32m     17\u001b[0m     \u001b[0mtgt_array\u001b[0m\u001b[0;34m,\u001b[0m \u001b[0mtgt_vocab\u001b[0m\u001b[0;34m,\u001b[0m \u001b[0m_\u001b[0m \u001b[0;34m=\u001b[0m \u001b[0m_build_array\u001b[0m\u001b[0;34m(\u001b[0m\u001b[0mtgt\u001b[0m\u001b[0;34m,\u001b[0m \u001b[0mtgt_vocab\u001b[0m\u001b[0;34m,\u001b[0m \u001b[0;32mTrue\u001b[0m\u001b[0;34m)\u001b[0m\u001b[0;34m\u001b[0m\u001b[0;34m\u001b[0m\u001b[0m\n\u001b[1;32m     18\u001b[0m     return ((src_array, tgt_array[:,:-1], src_valid_len, tgt_array[:,1:]),\n",
            "\u001b[0;32m<ipython-input-30-9bf33b0e2485>\u001b[0m in \u001b[0;36m_build_array\u001b[0;34m(sentences, vocab, is_tgt)\u001b[0m\n\u001b[1;32m     10\u001b[0m             \u001b[0mvocab\u001b[0m \u001b[0;34m=\u001b[0m \u001b[0md2l\u001b[0m\u001b[0;34m.\u001b[0m\u001b[0mVocab\u001b[0m\u001b[0;34m(\u001b[0m\u001b[0msentences\u001b[0m\u001b[0;34m,\u001b[0m \u001b[0mmin_freq\u001b[0m\u001b[0;34m=\u001b[0m\u001b[0;36m2\u001b[0m\u001b[0;34m)\u001b[0m\u001b[0;34m\u001b[0m\u001b[0;34m\u001b[0m\u001b[0m\n\u001b[1;32m     11\u001b[0m         \u001b[0marray\u001b[0m \u001b[0;34m=\u001b[0m \u001b[0mtorch\u001b[0m\u001b[0;34m.\u001b[0m\u001b[0mtensor\u001b[0m\u001b[0;34m(\u001b[0m\u001b[0;34m[\u001b[0m\u001b[0mvocab\u001b[0m\u001b[0;34m[\u001b[0m\u001b[0ms\u001b[0m\u001b[0;34m]\u001b[0m \u001b[0;32mfor\u001b[0m \u001b[0ms\u001b[0m \u001b[0;32min\u001b[0m \u001b[0msentences\u001b[0m\u001b[0;34m]\u001b[0m\u001b[0;34m)\u001b[0m\u001b[0;34m\u001b[0m\u001b[0;34m\u001b[0m\u001b[0m\n\u001b[0;32m---> 12\u001b[0;31m         \u001b[0mvalid_len\u001b[0m \u001b[0;34m=\u001b[0m \u001b[0;34m(\u001b[0m\u001b[0marray\u001b[0m \u001b[0;34m!=\u001b[0m \u001b[0mvocab\u001b[0m\u001b[0;34m[\u001b[0m\u001b[0;34m'<pad>'\u001b[0m\u001b[0;34m]\u001b[0m\u001b[0;34m)\u001b[0m\u001b[0;34m.\u001b[0m\u001b[0mtype\u001b[0m\u001b[0;34m(\u001b[0m\u001b[0mtorch\u001b[0m\u001b[0;34m.\u001b[0m\u001b[0mint32\u001b[0m\u001b[0;34m)\u001b[0m\u001b[0;34m.\u001b[0m\u001b[0msum\u001b[0m\u001b[0;34m(\u001b[0m\u001b[0;36m1\u001b[0m\u001b[0;34m)\u001b[0m\u001b[0;34m\u001b[0m\u001b[0;34m\u001b[0m\u001b[0m\n\u001b[0m\u001b[1;32m     13\u001b[0m         \u001b[0;32mreturn\u001b[0m \u001b[0marray\u001b[0m\u001b[0;34m,\u001b[0m \u001b[0mvocab\u001b[0m\u001b[0;34m,\u001b[0m \u001b[0mvalid_len\u001b[0m\u001b[0;34m\u001b[0m\u001b[0;34m\u001b[0m\u001b[0m\n\u001b[1;32m     14\u001b[0m     src, tgt = self._tokenize(self._preprocess(raw_text),\n",
            "\u001b[0;31mIndexError\u001b[0m: Dimension out of range (expected to be in range of [-1, 0], but got 1)"
          ]
        }
      ],
      "source": [
        "data = MTFinEng(batch_size=3)\n",
        "src, tgt, src_valid_len, label = next(iter(data.train_dataloader()))\n",
        "print('source:', src.type(torch.int32))\n",
        "print('decoder input:', tgt.type(torch.int32))\n",
        "print('source len excluding pad:', src_valid_len.type(torch.int32))\n",
        "print('label:', label.type(torch.int32))"
      ]
    },
    {
      "cell_type": "markdown",
      "id": "1d0001a8",
      "metadata": {
        "origin_pos": 25,
        "id": "1d0001a8"
      },
      "source": [
        "We show a pair of source and target sequences\n",
        "processed by the above `_build_arrays` method\n",
        "(in the string format).\n"
      ]
    },
    {
      "cell_type": "code",
      "execution_count": null,
      "id": "e21903b8",
      "metadata": {
        "attributes": {
          "classes": [],
          "id": "",
          "n": "12"
        },
        "execution": {
          "iopub.execute_input": "2023-08-18T19:25:47.137535Z",
          "iopub.status.busy": "2023-08-18T19:25:47.136938Z",
          "iopub.status.idle": "2023-08-18T19:25:47.141831Z",
          "shell.execute_reply": "2023-08-18T19:25:47.141037Z"
        },
        "origin_pos": 26,
        "tab": [
          "pytorch"
        ],
        "id": "e21903b8"
      },
      "outputs": [],
      "source": [
        "@d2l.add_to_class(MTFraEng)\n",
        "def build(self, src_sentences, tgt_sentences):\n",
        "    raw_text = '\\n'.join([src + '\\t' + tgt for src, tgt in zip(\n",
        "        src_sentences, tgt_sentences)])\n",
        "    arrays, _, _ = self._build_arrays(\n",
        "        raw_text, self.src_vocab, self.tgt_vocab)\n",
        "    return arrays"
      ]
    },
    {
      "cell_type": "code",
      "execution_count": null,
      "id": "102aced4",
      "metadata": {
        "attributes": {
          "classes": [],
          "id": "",
          "n": "13"
        },
        "execution": {
          "iopub.execute_input": "2023-08-18T19:25:47.145332Z",
          "iopub.status.busy": "2023-08-18T19:25:47.144692Z",
          "iopub.status.idle": "2023-08-18T19:25:47.150415Z",
          "shell.execute_reply": "2023-08-18T19:25:47.149609Z"
        },
        "origin_pos": 27,
        "tab": [
          "pytorch"
        ],
        "id": "102aced4"
      },
      "outputs": [],
      "source": [
        "src, tgt, _,  _ = data.build(['hi .'], ['salut .'])\n",
        "print('source:', data.src_vocab.to_tokens(src[0].type(torch.int32)))\n",
        "print('target:', data.tgt_vocab.to_tokens(tgt[0].type(torch.int32)))"
      ]
    },
    {
      "cell_type": "markdown",
      "source": [
        "Encoder-decoder architectures can handle inputs and outputs that both consist of variable-length sequences and thus are suitable for sequence-to-sequence problems such as machine translation. The encoder takes a variable-length sequence as input and transforms it into a state with a fixed shape. The decoder maps the encoded state of a fixed shape to a variable-length sequence."
      ],
      "metadata": {
        "id": "U3pDIgO0Pngc"
      },
      "id": "U3pDIgO0Pngc"
    },
    {
      "cell_type": "code",
      "source": [
        "class Encoder(nn.Module):\n",
        "    \"\"\"The base encoder interface for the encoder--decoder architecture.\"\"\"\n",
        "    def __init__(self):\n",
        "        super().__init__()\n",
        "\n",
        "    # Later there can be additional arguments (e.g., length excluding padding)\n",
        "    def forward(self, X, *args):\n",
        "        raise NotImplementedError\n"
      ],
      "metadata": {
        "id": "AX6RB7OnPeVU"
      },
      "id": "AX6RB7OnPeVU",
      "execution_count": null,
      "outputs": []
    },
    {
      "cell_type": "code",
      "source": [
        "class Decoder(nn.Module):\n",
        "    \"\"\"The base decoder interface for the encoder--decoder architecture.\"\"\"\n",
        "    def __init__(self):\n",
        "        super().__init__()\n",
        "\n",
        "    # Later there can be additional arguments (e.g., length excluding padding)\n",
        "    def init_state(self, enc_all_outputs, *args):\n",
        "        raise NotImplementedError\n",
        "\n",
        "    def forward(self, X, state):\n",
        "        raise NotImplementedError\n"
      ],
      "metadata": {
        "id": "WVHmTGPiPf59"
      },
      "id": "WVHmTGPiPf59",
      "execution_count": null,
      "outputs": []
    },
    {
      "cell_type": "code",
      "source": [
        "class EncoderDecoder(d2l.Classifier):\n",
        "    \"\"\"The base class for the encoder--decoder architecture.\"\"\"\n",
        "    def __init__(self, encoder, decoder):\n",
        "        super().__init__()\n",
        "        self.encoder = encoder\n",
        "        self.decoder = decoder\n",
        "\n",
        "    def forward(self, enc_X, dec_X, *args):\n",
        "        enc_all_outputs = self.encoder(enc_X, *args)\n",
        "        dec_state = self.decoder.init_state(enc_all_outputs, *args)\n",
        "        # Return decoder output only\n",
        "        return self.decoder(dec_X, dec_state)[0]\n"
      ],
      "metadata": {
        "id": "OgC83f1-PhY3"
      },
      "id": "OgC83f1-PhY3",
      "execution_count": null,
      "outputs": []
    },
    {
      "cell_type": "code",
      "source": [
        "def init_seq2seq(module):\n",
        "    \"\"\"Initialize weights for sequence-to-sequence learning.\"\"\"\n",
        "    if type(module) == nn.Linear:\n",
        "         nn.init.xavier_uniform_(module.weight)\n",
        "    if type(module) == nn.GRU:\n",
        "        for param in module._flat_weights_names:\n",
        "            if \"weight\" in param:\n",
        "                nn.init.xavier_uniform_(module._parameters[param])\n",
        "\n",
        "class Seq2SeqEncoder(d2l.Encoder):\n",
        "    \"\"\"The RNN encoder for sequence-to-sequence learning.\"\"\"\n",
        "    def __init__(self, vocab_size, embed_size, num_hiddens, num_layers,\n",
        "                 dropout=0):\n",
        "        super().__init__()\n",
        "        self.embedding = nn.Embedding(vocab_size, embed_size)\n",
        "        self.rnn = d2l.GRU(embed_size, num_hiddens, num_layers, dropout)\n",
        "        self.apply(init_seq2seq)\n",
        "\n",
        "    def forward(self, X, *args):\n",
        "        # X shape: (batch_size, num_steps)\n",
        "        embs = self.embedding(X.t().type(torch.int64))\n",
        "        # embs shape: (num_steps, batch_size, embed_size)\n",
        "        outputs, state = self.rnn(embs)\n",
        "        # outputs shape: (num_steps, batch_size, num_hiddens)\n",
        "        # state shape: (num_layers, batch_size, num_hiddens)\n",
        "        return outputs, state\n"
      ],
      "metadata": {
        "id": "xulfmUmtnMkF"
      },
      "id": "xulfmUmtnMkF",
      "execution_count": null,
      "outputs": []
    },
    {
      "cell_type": "code",
      "source": [
        "vocab_size, embed_size, num_hiddens, num_layers = 10, 8, 16, 2\n",
        "batch_size, num_steps = 4, 9\n",
        "encoder = Seq2SeqEncoder(vocab_size, embed_size, num_hiddens, num_layers)\n",
        "X = torch.zeros((batch_size, num_steps))\n",
        "enc_outputs, enc_state = encoder(X)\n",
        "d2l.check_shape(enc_outputs, (num_steps, batch_size, num_hiddens))"
      ],
      "metadata": {
        "id": "RV9GhAZ7nhAG"
      },
      "id": "RV9GhAZ7nhAG",
      "execution_count": null,
      "outputs": []
    },
    {
      "cell_type": "code",
      "source": [
        "class Seq2SeqDecoder(d2l.Decoder):\n",
        "    \"\"\"The RNN decoder for sequence to sequence learning.\"\"\"\n",
        "    def __init__(self, vocab_size, embed_size, num_hiddens, num_layers,\n",
        "                 dropout=0):\n",
        "        super().__init__()\n",
        "        self.embedding = nn.Embedding(vocab_size, embed_size)\n",
        "        self.rnn = d2l.GRU(embed_size+num_hiddens, num_hiddens,\n",
        "                           num_layers, dropout)\n",
        "        self.dense = nn.LazyLinear(vocab_size)\n",
        "        self.apply(init_seq2seq)\n",
        "\n",
        "    def init_state(self, enc_all_outputs, *args):\n",
        "        return enc_all_outputs\n",
        "\n",
        "    def forward(self, X, state):\n",
        "        # X shape: (batch_size, num_steps)\n",
        "        # embs shape: (num_steps, batch_size, embed_size)\n",
        "        embs = self.embedding(X.t().type(torch.int32))\n",
        "        enc_output, hidden_state = state\n",
        "        # context shape: (batch_size, num_hiddens)\n",
        "        context = enc_output[-1]\n",
        "        # Broadcast context to (num_steps, batch_size, num_hiddens)\n",
        "        context = context.repeat(embs.shape[0], 1, 1)\n",
        "        # Concat at the feature dimension\n",
        "        embs_and_context = torch.cat((embs, context), -1)\n",
        "        outputs, hidden_state = self.rnn(embs_and_context, hidden_state)\n",
        "        outputs = self.dense(outputs).swapaxes(0, 1)\n",
        "        # outputs shape: (batch_size, num_steps, vocab_size)\n",
        "        # hidden_state shape: (num_layers, batch_size, num_hiddens)\n",
        "        return outputs, [enc_output, hidden_state]"
      ],
      "metadata": {
        "id": "SYOH6rcp21bR"
      },
      "id": "SYOH6rcp21bR",
      "execution_count": null,
      "outputs": []
    },
    {
      "cell_type": "code",
      "source": [
        "decoder = Seq2SeqDecoder(vocab_size, embed_size, num_hiddens, num_layers)\n",
        "state = decoder.init_state(encoder(X))\n",
        "dec_outputs, state = decoder(X, state)\n",
        "d2l.check_shape(dec_outputs, (batch_size, num_steps, vocab_size))\n",
        "d2l.check_shape(state[1], (num_layers, batch_size, num_hiddens))"
      ],
      "metadata": {
        "id": "h-tnrdkO2v9g"
      },
      "id": "h-tnrdkO2v9g",
      "execution_count": null,
      "outputs": []
    },
    {
      "cell_type": "code",
      "source": [
        "class Seq2Seq(d2l.EncoderDecoder):\n",
        "    \"\"\"The RNN encoder--decoder for sequence to sequence learning.\"\"\"\n",
        "    def __init__(self, encoder, decoder, tgt_pad, lr):\n",
        "        super().__init__(encoder, decoder)\n",
        "        self.save_hyperparameters()\n",
        "\n",
        "    def validation_step(self, batch):\n",
        "        Y_hat = self(*batch[:-1])\n",
        "        self.plot('loss', self.loss(Y_hat, batch[-1]), train=False)\n",
        "\n",
        "    def configure_optimizers(self):\n",
        "        # Adam optimizer is used here\n",
        "        return torch.optim.Adam(self.parameters(), lr=self.lr)"
      ],
      "metadata": {
        "id": "saEsuboN1IA6"
      },
      "id": "saEsuboN1IA6",
      "execution_count": null,
      "outputs": []
    },
    {
      "cell_type": "code",
      "source": [
        "@d2l.add_to_class(Seq2Seq)\n",
        "def loss(self, Y_hat, Y):\n",
        "    l = super(Seq2Seq, self).loss(Y_hat, Y, averaged=False)\n",
        "    mask = (Y.reshape(-1) != self.tgt_pad).type(torch.float32)\n",
        "    return (l * mask).sum() / mask.sum()"
      ],
      "metadata": {
        "id": "FQXQumTx2RnH"
      },
      "id": "FQXQumTx2RnH",
      "execution_count": null,
      "outputs": []
    },
    {
      "cell_type": "code",
      "source": [
        "data = d2l.MTFraEng(batch_size=128)\n",
        "embed_size, num_hiddens, num_layers, dropout = 256, 256, 2, 0.2\n",
        "encoder = Seq2SeqEncoder(\n",
        "    len(data.src_vocab), embed_size, num_hiddens, num_layers, dropout)\n",
        "decoder = Seq2SeqDecoder(\n",
        "    len(data.tgt_vocab), embed_size, num_hiddens, num_layers, dropout)\n",
        "model = Seq2Seq(encoder, decoder, tgt_pad=data.tgt_vocab['<pad>'],\n",
        "                lr=0.005)\n",
        "trainer = d2l.Trainer(max_epochs=30, gradient_clip_val=1, num_gpus=1)\n",
        "trainer.fit(model, data)\n"
      ],
      "metadata": {
        "id": "3AcLNbRS2qOF"
      },
      "id": "3AcLNbRS2qOF",
      "execution_count": null,
      "outputs": []
    },
    {
      "cell_type": "code",
      "source": [
        "@d2l.add_to_class(d2l.EncoderDecoder)\n",
        "def predict_step(self, batch, device, num_steps,\n",
        "                 save_attention_weights=False):\n",
        "    batch = [a.to(device) for a in batch]\n",
        "    src, tgt, src_valid_len, _ = batch\n",
        "    enc_all_outputs = self.encoder(src, src_valid_len)\n",
        "    dec_state = self.decoder.init_state(enc_all_outputs, src_valid_len)\n",
        "    outputs, attention_weights = [tgt[:, (0)].unsqueeze(1), ], []\n",
        "    for _ in range(num_steps):\n",
        "        Y, dec_state = self.decoder(outputs[-1], dec_state)\n",
        "        outputs.append(Y.argmax(2))\n",
        "        # Save attention weights (to be covered later)\n",
        "        if save_attention_weights:\n",
        "            attention_weights.append(self.decoder.attention_weights)\n",
        "    return torch.cat(outputs[1:], 1), attention_weights\n"
      ],
      "metadata": {
        "id": "VgBQBmAN3wKI"
      },
      "id": "VgBQBmAN3wKI",
      "execution_count": null,
      "outputs": []
    },
    {
      "cell_type": "code",
      "source": [
        "def bleu(pred_seq, label_seq, k):\n",
        "    \"\"\"Compute the BLEU.\"\"\"\n",
        "    pred_tokens, label_tokens = pred_seq.split(' '), label_seq.split(' ')\n",
        "    len_pred, len_label = len(pred_tokens), len(label_tokens)\n",
        "    score = math.exp(min(0, 1 - len_label / len_pred))\n",
        "    for n in range(1, min(k, len_pred) + 1):\n",
        "        num_matches, label_subs = 0, collections.defaultdict(int)\n",
        "        for i in range(len_label - n + 1):\n",
        "            label_subs[' '.join(label_tokens[i: i + n])] += 1\n",
        "        for i in range(len_pred - n + 1):\n",
        "            if label_subs[' '.join(pred_tokens[i: i + n])] > 0:\n",
        "                num_matches += 1\n",
        "                label_subs[' '.join(pred_tokens[i: i + n])] -= 1\n",
        "        score *= math.pow(num_matches / (len_pred - n + 1), math.pow(0.5, n))\n",
        "    return score\n"
      ],
      "metadata": {
        "id": "Btvqb3S632sF"
      },
      "id": "Btvqb3S632sF",
      "execution_count": null,
      "outputs": []
    },
    {
      "cell_type": "code",
      "source": [
        "engs = ['go .', 'i lost .', 'he\\'s calm .', 'i\\'m home .']\n",
        "fras = ['va !', 'j\\'ai perdu .', 'il est calme .', 'je suis chez moi .']\n",
        "preds, _ = model.predict_step(\n",
        "    data.build(engs, fras), d2l.try_gpu(), data.num_steps)\n",
        "for en, fr, p in zip(engs, fras, preds):\n",
        "    translation = []\n",
        "    for token in data.tgt_vocab.to_tokens(p):\n",
        "        if token == '<eos>':\n",
        "            break\n",
        "        translation.append(token)\n",
        "    print(f'{en} => {translation}, bleu,'\n",
        "          f'{bleu(\" \".join(translation), fr, k=2):.3f}')\n"
      ],
      "metadata": {
        "id": "lNZ1bWzC36RG"
      },
      "id": "lNZ1bWzC36RG",
      "execution_count": null,
      "outputs": []
    }
  ],
  "metadata": {
    "kernelspec": {
      "display_name": "Python 3",
      "name": "python3"
    },
    "language_info": {
      "name": "python"
    },
    "required_libs": [],
    "colab": {
      "provenance": [],
      "gpuType": "T4"
    },
    "accelerator": "GPU"
  },
  "nbformat": 4,
  "nbformat_minor": 5
}