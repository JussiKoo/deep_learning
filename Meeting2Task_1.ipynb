{
  "nbformat": 4,
  "nbformat_minor": 0,
  "metadata": {
    "colab": {
      "provenance": [],
      "include_colab_link": true
    },
    "kernelspec": {
      "name": "python3",
      "display_name": "Python 3"
    },
    "language_info": {
      "name": "python"
    }
  },
  "cells": [
    {
      "cell_type": "markdown",
      "metadata": {
        "id": "view-in-github",
        "colab_type": "text"
      },
      "source": [
        "<a href=\"https://colab.research.google.com/github/JussiKoo/deep_learning/blob/main/Meeting2Task_1.ipynb\" target=\"_parent\"><img src=\"https://colab.research.google.com/assets/colab-badge.svg\" alt=\"Open In Colab\"/></a>"
      ]
    },
    {
      "cell_type": "code",
      "source": [],
      "metadata": {
        "id": "VMHl-Gd6FYmk"
      },
      "execution_count": null,
      "outputs": []
    },
    {
      "cell_type": "markdown",
      "source": [
        "## **1. Understanding Neural Networks in PyTorch**\n",
        "- Neural networks are composed of **layers** that process inputs and generate outputs.\n",
        "- PyTorch provides high-level abstractions to build and manage these layers efficiently.\n",
        "- Key Concepts:  \n",
        "  - Layers in Neural Networks  \n",
        "  - Modules and Abstraction  \n",
        "  - Model Construction Techniques\n"
      ],
      "metadata": {
        "id": "G-Ew5EtEwQoo"
      }
    },
    {
      "cell_type": "markdown",
      "source": [
        "## **2. Layers in Neural Networks**\n",
        "- Initially, neural networks consisted of a **single neuron** taking inputs, processing, and producing outputs.\n",
        "- Modern networks contain multiple layers, such as:\n",
        "  - Input Layer\n",
        "  - Hidden Layers (e.g., ReLU activations)\n",
        "  - Output Layer\n",
        "- Layers contain **trainable parameters** that get updated during learning.\n",
        "\n",
        "### **Diagram Example:**\n",
        "![Neural Network](https://upload.wikimedia.org/wikipedia/commons/e/e4/Artificial_neural_network.svg)\n"
      ],
      "metadata": {
        "id": "9jds-LTwwQ6S"
      }
    },
    {
      "cell_type": "markdown",
      "source": [
        "## **3. PyTorch Modules: Building Blocks of Deep Learning**\n",
        "- PyTorch introduces the `Module` class to encapsulate network components.\n",
        "- A module can represent:\n",
        "  - A single layer (e.g., a fully connected layer).\n",
        "  - A collection of layers.\n",
        "  - An entire neural network.\n",
        "\n",
        "### **Example Code:**\n",
        "```python\n",
        "import torch.nn as nn\n",
        "class MyModel(nn.Module):\n",
        "    def __init__(self):\n",
        "        super().__init__()\n",
        "        self.layer1 = nn.Linear(28*28, 128)\n",
        "    def forward(self, x):\n",
        "        return self.layer1(x)\n"
      ],
      "metadata": {
        "id": "naBjkMvZwh9u"
      }
    },
    {
      "cell_type": "markdown",
      "source": [
        "## 4. Building Models Using nn.Sequential\n",
        "\n",
        "- `nn.Sequential` allows for easy stacking of layers in an ordered fashion.\n",
        "- The output of one layer is passed directly to the next.\n",
        "- Example model structure using `Sequential`:\n",
        "\n",
        "### Example Code:\n",
        "```python\n",
        "import torch.nn as nn\n",
        "net = nn.Sequential(\n",
        "    nn.Linear(784, 256),\n",
        "    nn.ReLU(),\n",
        "    nn.Linear(256, 10)\n",
        ")\n"
      ],
      "metadata": {
        "id": "qCtaj_sfwiMo"
      }
    },
    {
      "cell_type": "markdown",
      "source": [
        "## 5. Creating Custom Models Using nn.Module\n",
        "\n",
        "- Custom models can be built by subclassing `nn.Module`.\n",
        "- The `__init__` method defines layers.\n",
        "- The `forward` method specifies how data flows through the model.\n",
        "\n",
        "### Example Code:\n",
        "```python\n",
        "import torch.nn as nn\n",
        "import torch\n",
        "\n",
        "class MLP(nn.Module):\n",
        "    def __init__(self):\n",
        "        super().__init__()\n",
        "        self.hidden = nn.Linear(784, 128)\n",
        "        self.out = nn.Linear(128, 10)\n",
        "\n",
        "    def forward(self, x):\n",
        "        x = torch.relu(self.hidden(x))\n",
        "        return self.out(x)\n"
      ],
      "metadata": {
        "id": "nvOWsnbYwiSQ"
      }
    },
    {
      "cell_type": "markdown",
      "source": [
        "## **6. Why Use PyTorch Modules?**\n",
        "\n",
        "- **Flexibility:** Allows easy customization and extension.\n",
        "- **Code Reusability:** Modular design supports reusing components across models.\n",
        "- **Automatic Management:** Handles parameters and backpropagation efficiently.\n",
        "- **Scalability:** Suitable for large architectures like ResNet.\n"
      ],
      "metadata": {
        "id": "pITzogRQwiV_"
      }
    },
    {
      "cell_type": "markdown",
      "source": [
        "## 7. Modules for Large-Scale Models\n",
        "\n",
        "- Complex architectures like ResNet use modular components.\n",
        "- Layers are arranged in repeating blocks for efficiency.\n",
        "- Modularization simplifies model management.\n",
        "\n",
        "### Diagram Example:\n",
        "![ResNet](https://upload.wikimedia.org/wikipedia/commons/0/02/ResNet34.png)\n"
      ],
      "metadata": {
        "id": "xn6fuMHrwiYn"
      }
    },
    {
      "cell_type": "markdown",
      "source": [
        "## **8. Summary**\n",
        "- **Layers** process data sequentially and contain trainable parameters.\n",
        "- **Modules** provide a high-level abstraction to group layers efficiently.\n",
        "- PyTorch offers flexibility through `nn.Sequential` and custom `nn.Module` subclassing.\n",
        "- Understanding these concepts is essential for scalable and maintainable model development.\n"
      ],
      "metadata": {
        "id": "r7NDHJEUwibB"
      }
    },
    {
      "cell_type": "markdown",
      "source": [
        "## **9. Hands-on Exercise**\n",
        "**Task:**  \n",
        "- Implement a simple MLP in PyTorch using `Sequential` and `Module`.\n",
        "- Sample dataset: MNIST.\n",
        "- Evaluate accuracy and visualize predictions.\n"
      ],
      "metadata": {
        "id": "fJ-efhTFwidN"
      }
    },
    {
      "cell_type": "markdown",
      "source": [
        "## **10. Questions and Discussion**\n",
        "- Any doubts?\n",
        "- Further reading suggestions:\n",
        "  - PyTorch official documentation: https://pytorch.org/docs/stable/nn.html\n",
        "  - Hands-on tutorials with Colab: https://colab.research.google.com/github/pytorch/tutorials\n",
        "\n",
        "- PyTorch tutorials: https://pytorch.org/tutorials/beginner/introyt/introyt1_tutorial.html\n",
        "\n",
        "Colab TUtorials: https://colab.research.google.com/notebooks/intro.ipynb\n"
      ],
      "metadata": {
        "id": "k6b97BGEwif8"
      }
    },
    {
      "cell_type": "markdown",
      "source": [],
      "metadata": {
        "id": "qa2AqrsEwiiY"
      }
    },
    {
      "cell_type": "markdown",
      "source": [
        "## Example: Steps for MNIST Classification:\n",
        "\n",
        "1. **Import required libraries.**  \n",
        "   - Import necessary PyTorch and visualization libraries.\n",
        "\n",
        "2. **Load and preprocess the MNIST dataset.**  \n",
        "   - Download the dataset using `torchvision.datasets` and apply transformations.\n",
        "\n",
        "3. **Define a simple feedforward neural network.**  \n",
        "   - Create an `nn.Module` subclass to define layers and the forward pass.\n",
        "\n",
        "4. **Set up loss function and optimizer.**  \n",
        "   - Use `CrossEntropyLoss` for classification and `Adam` optimizer.\n",
        "\n",
        "5. **Train the model for a few epochs.**  \n",
        "   - Iterate through the dataset using the data loader and update weights.\n",
        "\n",
        "6. **Evaluate performance on test data.**  \n",
        "   - Compute accuracy by comparing predictions with true labels.\n",
        "\n",
        "7. **Visualize predictions.**  \n",
        "   - Display some sample images with their predicted labels.\n",
        "\n",
        "8. **Save and load the model for future use.**  \n",
        "   - Use `torch.save()` to store model weights and `torch.load()` to restore them.\n"
      ],
      "metadata": {
        "id": "RMzCZ3uWvjm1"
      }
    },
    {
      "cell_type": "code",
      "source": [
        "import torch.nn as nn\n",
        "import numpy as np\n",
        "import matplotlib.pyplot as plt\n",
        "import torch\n",
        "from torchvision import utils\n",
        "from torchvision import datasets, transforms\n",
        "from torch.utils.data import DataLoader\n",
        "from torch.utils.data import ConcatDataset\n",
        "\n",
        "import torch.nn.functional as F\n",
        "import torch.optim as optim\n",
        "\n",
        "import torchvision\n",
        "\n",
        "import matplotlib"
      ],
      "metadata": {
        "id": "LTXJosxxvefC"
      },
      "execution_count": 1,
      "outputs": []
    },
    {
      "cell_type": "code",
      "source": [
        "transform = transforms.Compose([transforms.ToTensor()])\n",
        "\n",
        "#train = datasets.MNIST(root='./data', train=True, download=True, transform=transform)\n",
        "train = datasets.CIFAR10(root='./data', train=True, download=True, transform=transform)"
      ],
      "metadata": {
        "id": "xy5oAloT7RVK",
        "outputId": "5394b029-01b8-43b1-a18c-aae5e49ab61a",
        "colab": {
          "base_uri": "https://localhost:8080/"
        }
      },
      "execution_count": 13,
      "outputs": [
        {
          "output_type": "stream",
          "name": "stdout",
          "text": [
            "Downloading https://www.cs.toronto.edu/~kriz/cifar-10-python.tar.gz to ./data/cifar-10-python.tar.gz\n"
          ]
        },
        {
          "output_type": "stream",
          "name": "stderr",
          "text": [
            "100%|██████████| 170M/170M [00:02<00:00, 61.1MB/s]\n"
          ]
        },
        {
          "output_type": "stream",
          "name": "stdout",
          "text": [
            "Extracting ./data/cifar-10-python.tar.gz to ./data\n"
          ]
        }
      ]
    },
    {
      "cell_type": "code",
      "source": [
        "x = torch.stack([sample[0] for sample in ConcatDataset([train])])\n",
        "mean = torch.mean(x, dim=(0,2,3))\n",
        "std = torch.std(x, dim=(0,2,3))"
      ],
      "metadata": {
        "id": "TWAH4gIUUhtd"
      },
      "execution_count": 14,
      "outputs": []
    },
    {
      "cell_type": "code",
      "source": [
        "print(x.shape)\n",
        "print(mean)\n",
        "print(std)\n",
        "\n",
        "x = x.view(x.size(0), -1)"
      ],
      "metadata": {
        "id": "6PAEaP1Hy1IJ",
        "outputId": "f8eb3f16-82c7-4315-8519-3b158dc33953",
        "colab": {
          "base_uri": "https://localhost:8080/"
        }
      },
      "execution_count": 15,
      "outputs": [
        {
          "output_type": "stream",
          "name": "stdout",
          "text": [
            "torch.Size([50000, 3, 32, 32])\n",
            "tensor([0.4914, 0.4822, 0.4465])\n",
            "tensor([0.2470, 0.2435, 0.2616])\n"
          ]
        }
      ]
    },
    {
      "cell_type": "code",
      "source": [
        "transform = transforms.Compose([\n",
        "    transforms.ToTensor(),\n",
        "    transforms.Normalize(mean, std)\n",
        "])\n",
        "\n",
        "train = datasets.CIFAR10(root='./data', train=True, download=True, transform=transform)\n",
        "test = datasets.CIFAR10(root='./data', train=False, download=True, transform=transform)\n",
        "\n",
        "train_dataloader = DataLoader(train, batch_size=128, shuffle=True)\n",
        "test_dataloader = DataLoader(test, batch_size=128, shuffle=True)"
      ],
      "metadata": {
        "id": "z55jBjU0xYZo",
        "outputId": "d77dddd8-bf31-4292-8074-87c6e20b40f4",
        "colab": {
          "base_uri": "https://localhost:8080/"
        }
      },
      "execution_count": 62,
      "outputs": [
        {
          "output_type": "stream",
          "name": "stdout",
          "text": [
            "Files already downloaded and verified\n",
            "Files already downloaded and verified\n"
          ]
        }
      ]
    },
    {
      "cell_type": "code",
      "source": [
        "class MLP(nn.Module):\n",
        "    def __init__(self):\n",
        "        super().__init__()\n",
        "        self.hidden = nn.Linear(3*32*32, 512)\n",
        "        self.hidden2 = nn.Linear(512, 256)\n",
        "        self.hidden3 = nn.Linear(256, 128)\n",
        "        self.out = nn.Linear(128, 10)\n",
        "\n",
        "    def forward(self, x):\n",
        "        x = torch.relu(self.hidden(x))\n",
        "        x = torch.relu(self.hidden2(x))\n",
        "        x = torch.relu(self.hidden3(x))\n",
        "        x = self.out(x)\n",
        "        return x"
      ],
      "metadata": {
        "id": "VH5AQtJyeZ7K"
      },
      "execution_count": 63,
      "outputs": []
    },
    {
      "cell_type": "code",
      "source": [
        "classes = (\"ariplane\", \"automobile\", \"bird\", \"cat\", \"deer\", \"dog\", \"frog\", \"horse\", \"ship\", \"truck\")\n",
        "\n",
        "def imshow(img):\n",
        "    img = img/2 + 0.5     # unnormalize\n",
        "    npimg = img.numpy()\n",
        "    plt.imshow(np.transpose(npimg, (1, 2, 0)))\n",
        "\n",
        "\n",
        "# get some random training images\n",
        "dataiter = iter(train_dataloader)\n",
        "images, labels = next(dataiter)\n",
        "\n",
        "images, labels = images[0:8], labels[0:8]\n",
        "\n",
        "# show images\n",
        "imshow(utils.make_grid(images))\n",
        "# print labels\n",
        "print(' '.join('%5s' % classes[labels[j]] for j in range(8)))"
      ],
      "metadata": {
        "id": "SbOPKlwx34sV",
        "outputId": "60537908-e89d-4be2-cb34-ad7ab2944166",
        "colab": {
          "base_uri": "https://localhost:8080/",
          "height": 166
        }
      },
      "execution_count": 51,
      "outputs": [
        {
          "output_type": "stream",
          "name": "stderr",
          "text": [
            "WARNING:matplotlib.image:Clipping input data to the valid range for imshow with RGB data ([0..1] for floats or [0..255] for integers). Got range [-0.43374902..1.5633934].\n"
          ]
        },
        {
          "output_type": "stream",
          "name": "stdout",
          "text": [
            "  cat truck horse  frog   cat  ship   cat  bird\n"
          ]
        },
        {
          "output_type": "display_data",
          "data": {
            "text/plain": [
              "<Figure size 640x480 with 1 Axes>"
            ],
            "image/png": "[encoded data removed]"
          },
          "metadata": {}
        }
      ]
    },
    {
      "cell_type": "code",
      "source": [
        "mlp = MLP()\n",
        "\n",
        "criterion = nn.CrossEntropyLoss()\n",
        "optimizer = optim.Adam(mlp.parameters(), lr=0.0001)"
      ],
      "metadata": {
        "id": "Hl6hoju95v45"
      },
      "execution_count": 67,
      "outputs": []
    },
    {
      "cell_type": "code",
      "source": [
        "for epoch in range(3):\n",
        "  running_loss = 0.0\n",
        "  for i, data in enumerate(train_dataloader, 0):\n",
        "    inputs, labels = data\n",
        "    optimizer.zero_grad()\n",
        "\n",
        "    x = inputs.view(inputs.size(0), -1)\n",
        "\n",
        "    outputs = mlp(x)\n",
        "    loss = criterion(outputs, labels)\n",
        "    loss.backward()\n",
        "    optimizer.step()\n",
        "\n",
        "    running_loss += loss.item()\n",
        "\n",
        "    if i % 100 == 99:\n",
        "      print(f'[{epoch + 1}, {i + 1:5d}] loss: {running_loss / 100:.3f}')\n",
        "      running_loss = 0.0\n",
        "print(\"Training finished\")"
      ],
      "metadata": {
        "id": "E9tTliaI7Zck",
        "outputId": "d11a4eee-6d52-4163-cc51-57f2caae56aa",
        "colab": {
          "base_uri": "https://localhost:8080/"
        }
      },
      "execution_count": 70,
      "outputs": [
        {
          "output_type": "stream",
          "name": "stdout",
          "text": [
            "[1,   100] loss: 1.408\n",
            "[1,   200] loss: 1.378\n",
            "[1,   300] loss: 1.388\n",
            "[2,   100] loss: 1.301\n",
            "[2,   200] loss: 1.323\n",
            "[2,   300] loss: 1.295\n",
            "[3,   100] loss: 1.251\n",
            "[3,   200] loss: 1.252\n",
            "[3,   300] loss: 1.232\n",
            "Training finished\n"
          ]
        }
      ]
    },
    {
      "cell_type": "code",
      "source": [
        "correct = 0\n",
        "total = 0\n",
        "with torch.no_grad():\n",
        "  for data in test_dataloader:\n",
        "    images, labels = data\n",
        "    images = images.view(images.size(0), -1)\n",
        "    outputs = mlp(images)\n",
        "    _, predicted = torch.max(outputs.data, 1)\n",
        "    total += labels.size(0)\n",
        "    correct += (predicted == labels).sum().item()\n",
        "\n",
        "print('Accuracy of the network on the 10000 test images: %d %%' % (\n",
        "    100 * correct / total))"
      ],
      "metadata": {
        "id": "vAOV5uNTvHLJ",
        "outputId": "ee4a64da-661f-46a6-f442-22b2bab27e75",
        "colab": {
          "base_uri": "https://localhost:8080/"
        }
      },
      "execution_count": 71,
      "outputs": [
        {
          "output_type": "stream",
          "name": "stdout",
          "text": [
            "Accuracy of the network on the 10000 test images: 52 %\n"
          ]
        }
      ]
    },
    {
      "cell_type": "code",
      "source": [
        "#from google.colab import drive\n",
        "\n",
        "#drive.mount('/content/drive')\n",
        "\n",
        "def imshow(img):\n",
        "    img = img/2 + 0.5     # unnormalize\n",
        "    npimg = img.numpy()\n",
        "    plt.imshow(np.transpose(npimg, (1, 2, 0)))\n",
        "\n",
        "\n",
        "# get some random test images\n",
        "dataiter = iter(test_dataloader)\n",
        "images, labels = next(dataiter)\n",
        "\n",
        "images, labels = images[0:8], labels[0:8]\n",
        "\n",
        "predictions = mlp(images.view(images.size(0), -1))\n",
        "_, predicted = torch.max(predictions.data, 1)\n",
        "\n",
        "# show images\n",
        "imshow(utils.make_grid(images))\n",
        "\n",
        "# print labels\n",
        "print(' '.join('%5s' % classes[labels[j]] for j in range(8)))\n",
        "\n",
        "#print predictions\n",
        "print(' '.join('%5s' % classes[predicted[j]] for j in range(8)))"
      ],
      "metadata": {
        "id": "4aMtzJocf49P",
        "outputId": "2b2a8c36-3b67-448a-9416-9990d874d7e8",
        "colab": {
          "base_uri": "https://localhost:8080/",
          "height": 365
        }
      },
      "execution_count": 44,
      "outputs": [
        {
          "output_type": "error",
          "ename": "MessageError",
          "evalue": "Error: credential propagation was unsuccessful",
          "traceback": [
            "\u001b[0;31m---------------------------------------------------------------------------\u001b[0m",
            "\u001b[0;31mMessageError\u001b[0m                              Traceback (most recent call last)",
            "\u001b[0;32m<ipython-input-44-5c187821e601>\u001b[0m in \u001b[0;36m<cell line: 0>\u001b[0;34m()\u001b[0m\n\u001b[1;32m      1\u001b[0m \u001b[0;32mfrom\u001b[0m \u001b[0mgoogle\u001b[0m\u001b[0;34m.\u001b[0m\u001b[0mcolab\u001b[0m \u001b[0;32mimport\u001b[0m \u001b[0mdrive\u001b[0m\u001b[0;34m\u001b[0m\u001b[0;34m\u001b[0m\u001b[0m\n\u001b[1;32m      2\u001b[0m \u001b[0;34m\u001b[0m\u001b[0m\n\u001b[0;32m----> 3\u001b[0;31m \u001b[0mdrive\u001b[0m\u001b[0;34m.\u001b[0m\u001b[0mmount\u001b[0m\u001b[0;34m(\u001b[0m\u001b[0;34m'/content/drive'\u001b[0m\u001b[0;34m)\u001b[0m\u001b[0;34m\u001b[0m\u001b[0;34m\u001b[0m\u001b[0m\n\u001b[0m\u001b[1;32m      4\u001b[0m \u001b[0;34m\u001b[0m\u001b[0m\n\u001b[1;32m      5\u001b[0m \u001b[0;32mdef\u001b[0m \u001b[0mimshow\u001b[0m\u001b[0;34m(\u001b[0m\u001b[0mimg\u001b[0m\u001b[0;34m)\u001b[0m\u001b[0;34m:\u001b[0m\u001b[0;34m\u001b[0m\u001b[0;34m\u001b[0m\u001b[0m\n",
            "\u001b[0;32m/usr/local/lib/python3.11/dist-packages/google/colab/drive.py\u001b[0m in \u001b[0;36mmount\u001b[0;34m(mountpoint, force_remount, timeout_ms, readonly)\u001b[0m\n\u001b[1;32m     98\u001b[0m \u001b[0;32mdef\u001b[0m \u001b[0mmount\u001b[0m\u001b[0;34m(\u001b[0m\u001b[0mmountpoint\u001b[0m\u001b[0;34m,\u001b[0m \u001b[0mforce_remount\u001b[0m\u001b[0;34m=\u001b[0m\u001b[0;32mFalse\u001b[0m\u001b[0;34m,\u001b[0m \u001b[0mtimeout_ms\u001b[0m\u001b[0;34m=\u001b[0m\u001b[0;36m120000\u001b[0m\u001b[0;34m,\u001b[0m \u001b[0mreadonly\u001b[0m\u001b[0;34m=\u001b[0m\u001b[0;32mFalse\u001b[0m\u001b[0;34m)\u001b[0m\u001b[0;34m:\u001b[0m\u001b[0;34m\u001b[0m\u001b[0;34m\u001b[0m\u001b[0m\n\u001b[1;32m     99\u001b[0m   \u001b[0;34m\"\"\"Mount your Google Drive at the specified mountpoint path.\"\"\"\u001b[0m\u001b[0;34m\u001b[0m\u001b[0;34m\u001b[0m\u001b[0m\n\u001b[0;32m--> 100\u001b[0;31m   return _mount(\n\u001b[0m\u001b[1;32m    101\u001b[0m       \u001b[0mmountpoint\u001b[0m\u001b[0;34m,\u001b[0m\u001b[0;34m\u001b[0m\u001b[0;34m\u001b[0m\u001b[0m\n\u001b[1;32m    102\u001b[0m       \u001b[0mforce_remount\u001b[0m\u001b[0;34m=\u001b[0m\u001b[0mforce_remount\u001b[0m\u001b[0;34m,\u001b[0m\u001b[0;34m\u001b[0m\u001b[0;34m\u001b[0m\u001b[0m\n",
            "\u001b[0;32m/usr/local/lib/python3.11/dist-packages/google/colab/drive.py\u001b[0m in \u001b[0;36m_mount\u001b[0;34m(mountpoint, force_remount, timeout_ms, ephemeral, readonly)\u001b[0m\n\u001b[1;32m    135\u001b[0m   )\n\u001b[1;32m    136\u001b[0m   \u001b[0;32mif\u001b[0m \u001b[0mephemeral\u001b[0m\u001b[0;34m:\u001b[0m\u001b[0;34m\u001b[0m\u001b[0;34m\u001b[0m\u001b[0m\n\u001b[0;32m--> 137\u001b[0;31m     _message.blocking_request(\n\u001b[0m\u001b[1;32m    138\u001b[0m         \u001b[0;34m'request_auth'\u001b[0m\u001b[0;34m,\u001b[0m\u001b[0;34m\u001b[0m\u001b[0;34m\u001b[0m\u001b[0m\n\u001b[1;32m    139\u001b[0m         \u001b[0mrequest\u001b[0m\u001b[0;34m=\u001b[0m\u001b[0;34m{\u001b[0m\u001b[0;34m'authType'\u001b[0m\u001b[0;34m:\u001b[0m \u001b[0;34m'dfs_ephemeral'\u001b[0m\u001b[0;34m}\u001b[0m\u001b[0;34m,\u001b[0m\u001b[0;34m\u001b[0m\u001b[0;34m\u001b[0m\u001b[0m\n",
            "\u001b[0;32m/usr/local/lib/python3.11/dist-packages/google/colab/_message.py\u001b[0m in \u001b[0;36mblocking_request\u001b[0;34m(request_type, request, timeout_sec, parent)\u001b[0m\n\u001b[1;32m    174\u001b[0m       \u001b[0mrequest_type\u001b[0m\u001b[0;34m,\u001b[0m \u001b[0mrequest\u001b[0m\u001b[0;34m,\u001b[0m \u001b[0mparent\u001b[0m\u001b[0;34m=\u001b[0m\u001b[0mparent\u001b[0m\u001b[0;34m,\u001b[0m \u001b[0mexpect_reply\u001b[0m\u001b[0;34m=\u001b[0m\u001b[0;32mTrue\u001b[0m\u001b[0;34m\u001b[0m\u001b[0;34m\u001b[0m\u001b[0m\n\u001b[1;32m    175\u001b[0m   )\n\u001b[0;32m--> 176\u001b[0;31m   \u001b[0;32mreturn\u001b[0m \u001b[0mread_reply_from_input\u001b[0m\u001b[0;34m(\u001b[0m\u001b[0mrequest_id\u001b[0m\u001b[0;34m,\u001b[0m \u001b[0mtimeout_sec\u001b[0m\u001b[0;34m)\u001b[0m\u001b[0;34m\u001b[0m\u001b[0;34m\u001b[0m\u001b[0m\n\u001b[0m",
            "\u001b[0;32m/usr/local/lib/python3.11/dist-packages/google/colab/_message.py\u001b[0m in \u001b[0;36mread_reply_from_input\u001b[0;34m(message_id, timeout_sec)\u001b[0m\n\u001b[1;32m    101\u001b[0m     ):\n\u001b[1;32m    102\u001b[0m       \u001b[0;32mif\u001b[0m \u001b[0;34m'error'\u001b[0m \u001b[0;32min\u001b[0m \u001b[0mreply\u001b[0m\u001b[0;34m:\u001b[0m\u001b[0;34m\u001b[0m\u001b[0;34m\u001b[0m\u001b[0m\n\u001b[0;32m--> 103\u001b[0;31m         \u001b[0;32mraise\u001b[0m \u001b[0mMessageError\u001b[0m\u001b[0;34m(\u001b[0m\u001b[0mreply\u001b[0m\u001b[0;34m[\u001b[0m\u001b[0;34m'error'\u001b[0m\u001b[0;34m]\u001b[0m\u001b[0;34m)\u001b[0m\u001b[0;34m\u001b[0m\u001b[0;34m\u001b[0m\u001b[0m\n\u001b[0m\u001b[1;32m    104\u001b[0m       \u001b[0;32mreturn\u001b[0m \u001b[0mreply\u001b[0m\u001b[0;34m.\u001b[0m\u001b[0mget\u001b[0m\u001b[0;34m(\u001b[0m\u001b[0;34m'data'\u001b[0m\u001b[0;34m,\u001b[0m \u001b[0;32mNone\u001b[0m\u001b[0;34m)\u001b[0m\u001b[0;34m\u001b[0m\u001b[0;34m\u001b[0m\u001b[0m\n\u001b[1;32m    105\u001b[0m \u001b[0;34m\u001b[0m\u001b[0m\n",
            "\u001b[0;31mMessageError\u001b[0m: Error: credential propagation was unsuccessful"
          ]
        }
      ]
    },
    {
      "cell_type": "code",
      "source": [],
      "metadata": {
        "id": "YIyZURqwkld0"
      },
      "execution_count": 11,
      "outputs": []
    }
  ]
}