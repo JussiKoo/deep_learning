{
  "nbformat": 4,
  "nbformat_minor": 0,
  "metadata": {
    "colab": {
      "provenance": [],
      "include_colab_link": true
    },
    "kernelspec": {
      "name": "python3",
      "display_name": "Python 3"
    },
    "language_info": {
      "name": "python"
    }
  },
  "cells": [
    {
      "cell_type": "markdown",
      "metadata": {
        "id": "view-in-github",
        "colab_type": "text"
      },
      "source": [
        "<a href=\"https://colab.research.google.com/github/JussiKoo/deep_learning/blob/main/Meeting2Task_1.ipynb\" target=\"_parent\"><img src=\"https://colab.research.google.com/assets/colab-badge.svg\" alt=\"Open In Colab\"/></a>"
      ]
    },
    {
      "cell_type": "code",
      "source": [],
      "metadata": {
        "id": "VMHl-Gd6FYmk"
      },
      "execution_count": null,
      "outputs": []
    },
    {
      "cell_type": "markdown",
      "source": [
        "## **1. Understanding Neural Networks in PyTorch**\n",
        "- Neural networks are composed of **layers** that process inputs and generate outputs.\n",
        "- PyTorch provides high-level abstractions to build and manage these layers efficiently.\n",
        "- Key Concepts:  \n",
        "  - Layers in Neural Networks  \n",
        "  - Modules and Abstraction  \n",
        "  - Model Construction Techniques\n"
      ],
      "metadata": {
        "id": "G-Ew5EtEwQoo"
      }
    },
    {
      "cell_type": "markdown",
      "source": [
        "## **2. Layers in Neural Networks**\n",
        "- Initially, neural networks consisted of a **single neuron** taking inputs, processing, and producing outputs.\n",
        "- Modern networks contain multiple layers, such as:\n",
        "  - Input Layer\n",
        "  - Hidden Layers (e.g., ReLU activations)\n",
        "  - Output Layer\n",
        "- Layers contain **trainable parameters** that get updated during learning.\n",
        "\n",
        "### **Diagram Example:**\n",
        "![Neural Network](https://upload.wikimedia.org/wikipedia/commons/e/e4/Artificial_neural_network.svg)\n"
      ],
      "metadata": {
        "id": "9jds-LTwwQ6S"
      }
    },
    {
      "cell_type": "markdown",
      "source": [
        "## **3. PyTorch Modules: Building Blocks of Deep Learning**\n",
        "- PyTorch introduces the `Module` class to encapsulate network components.\n",
        "- A module can represent:\n",
        "  - A single layer (e.g., a fully connected layer).\n",
        "  - A collection of layers.\n",
        "  - An entire neural network.\n",
        "\n",
        "### **Example Code:**\n",
        "```python\n",
        "import torch.nn as nn\n",
        "class MyModel(nn.Module):\n",
        "    def __init__(self):\n",
        "        super().__init__()\n",
        "        self.layer1 = nn.Linear(28*28, 128)\n",
        "    def forward(self, x):\n",
        "        return self.layer1(x)\n"
      ],
      "metadata": {
        "id": "naBjkMvZwh9u"
      }
    },
    {
      "cell_type": "markdown",
      "source": [
        "## 4. Building Models Using nn.Sequential\n",
        "\n",
        "- `nn.Sequential` allows for easy stacking of layers in an ordered fashion.\n",
        "- The output of one layer is passed directly to the next.\n",
        "- Example model structure using `Sequential`:\n",
        "\n",
        "### Example Code:\n",
        "```python\n",
        "import torch.nn as nn\n",
        "net = nn.Sequential(\n",
        "    nn.Linear(784, 256),\n",
        "    nn.ReLU(),\n",
        "    nn.Linear(256, 10)\n",
        ")\n"
      ],
      "metadata": {
        "id": "qCtaj_sfwiMo"
      }
    },
    {
      "cell_type": "markdown",
      "source": [
        "## 5. Creating Custom Models Using nn.Module\n",
        "\n",
        "- Custom models can be built by subclassing `nn.Module`.\n",
        "- The `__init__` method defines layers.\n",
        "- The `forward` method specifies how data flows through the model.\n",
        "\n",
        "### Example Code:\n",
        "```python\n",
        "import torch.nn as nn\n",
        "import torch\n",
        "\n",
        "class MLP(nn.Module):\n",
        "    def __init__(self):\n",
        "        super().__init__()\n",
        "        self.hidden = nn.Linear(784, 128)\n",
        "        self.out = nn.Linear(128, 10)\n",
        "\n",
        "    def forward(self, x):\n",
        "        x = torch.relu(self.hidden(x))\n",
        "        return self.out(x)\n"
      ],
      "metadata": {
        "id": "nvOWsnbYwiSQ"
      }
    },
    {
      "cell_type": "markdown",
      "source": [
        "## **6. Why Use PyTorch Modules?**\n",
        "\n",
        "- **Flexibility:** Allows easy customization and extension.\n",
        "- **Code Reusability:** Modular design supports reusing components across models.\n",
        "- **Automatic Management:** Handles parameters and backpropagation efficiently.\n",
        "- **Scalability:** Suitable for large architectures like ResNet.\n"
      ],
      "metadata": {
        "id": "pITzogRQwiV_"
      }
    },
    {
      "cell_type": "markdown",
      "source": [
        "## 7. Modules for Large-Scale Models\n",
        "\n",
        "- Complex architectures like ResNet use modular components.\n",
        "- Layers are arranged in repeating blocks for efficiency.\n",
        "- Modularization simplifies model management.\n",
        "\n",
        "### Diagram Example:\n",
        "![ResNet](https://upload.wikimedia.org/wikipedia/commons/0/02/ResNet34.png)\n"
      ],
      "metadata": {
        "id": "xn6fuMHrwiYn"
      }
    },
    {
      "cell_type": "markdown",
      "source": [
        "## **8. Summary**\n",
        "- **Layers** process data sequentially and contain trainable parameters.\n",
        "- **Modules** provide a high-level abstraction to group layers efficiently.\n",
        "- PyTorch offers flexibility through `nn.Sequential` and custom `nn.Module` subclassing.\n",
        "- Understanding these concepts is essential for scalable and maintainable model development.\n"
      ],
      "metadata": {
        "id": "r7NDHJEUwibB"
      }
    },
    {
      "cell_type": "markdown",
      "source": [
        "## **9. Hands-on Exercise**\n",
        "**Task:**  \n",
        "- Implement a simple MLP in PyTorch using `Sequential` and `Module`.\n",
        "- Sample dataset: MNIST.\n",
        "- Evaluate accuracy and visualize predictions.\n"
      ],
      "metadata": {
        "id": "fJ-efhTFwidN"
      }
    },
    {
      "cell_type": "markdown",
      "source": [
        "## **10. Questions and Discussion**\n",
        "- Any doubts?\n",
        "- Further reading suggestions:\n",
        "  - PyTorch official documentation: https://pytorch.org/docs/stable/nn.html\n",
        "  - Hands-on tutorials with Colab: https://colab.research.google.com/github/pytorch/tutorials\n",
        "\n",
        "- PyTorch tutorials: https://pytorch.org/tutorials/beginner/introyt/introyt1_tutorial.html\n",
        "\n",
        "Colab TUtorials: https://colab.research.google.com/notebooks/intro.ipynb\n"
      ],
      "metadata": {
        "id": "k6b97BGEwif8"
      }
    },
    {
      "cell_type": "markdown",
      "source": [],
      "metadata": {
        "id": "qa2AqrsEwiiY"
      }
    },
    {
      "cell_type": "markdown",
      "source": [
        "## Example: Steps for MNIST Classification:\n",
        "\n",
        "1. **Import required libraries.**  \n",
        "   - Import necessary PyTorch and visualization libraries.\n",
        "\n",
        "2. **Load and preprocess the MNIST dataset.**  \n",
        "   - Download the dataset using `torchvision.datasets` and apply transformations.\n",
        "\n",
        "3. **Define a simple feedforward neural network.**  \n",
        "   - Create an `nn.Module` subclass to define layers and the forward pass.\n",
        "\n",
        "4. **Set up loss function and optimizer.**  \n",
        "   - Use `CrossEntropyLoss` for classification and `Adam` optimizer.\n",
        "\n",
        "5. **Train the model for a few epochs.**  \n",
        "   - Iterate through the dataset using the data loader and update weights.\n",
        "\n",
        "6. **Evaluate performance on test data.**  \n",
        "   - Compute accuracy by comparing predictions with true labels.\n",
        "\n",
        "7. **Visualize predictions.**  \n",
        "   - Display some sample images with their predicted labels.\n",
        "\n",
        "8. **Save and load the model for future use.**  \n",
        "   - Use `torch.save()` to store model weights and `torch.load()` to restore them.\n"
      ],
      "metadata": {
        "id": "RMzCZ3uWvjm1"
      }
    },
    {
      "cell_type": "code",
      "source": [
        "import torch.nn as nn\n",
        "import numpy as np\n",
        "import matplotlib.pyplot as plt\n",
        "import torch\n",
        "from torchvision import utils\n",
        "from torchvision import datasets, transforms\n",
        "from torch.utils.data import DataLoader\n",
        "from torch.utils.data import ConcatDataset\n",
        "\n",
        "import torch.nn.functional as F\n",
        "import torch.optim as optim\n",
        "\n",
        "import torchvision\n",
        "\n",
        "import matplotlib"
      ],
      "metadata": {
        "id": "LTXJosxxvefC"
      },
      "execution_count": 38,
      "outputs": []
    },
    {
      "cell_type": "code",
      "source": [
        "transform = transforms.Compose([transforms.ToTensor()])\n",
        "\n",
        "train = datasets.MNIST(root='./data', train=True, download=True, transform=transform)"
      ],
      "metadata": {
        "id": "xy5oAloT7RVK"
      },
      "execution_count": 39,
      "outputs": []
    },
    {
      "cell_type": "code",
      "source": [
        "x = torch.stack([sample[0] for sample in ConcatDataset([train])])\n",
        "mean = torch.mean(x, dim=(0,2,3))\n",
        "std = torch.std(x, dim=(0,2,3))"
      ],
      "metadata": {
        "id": "TWAH4gIUUhtd"
      },
      "execution_count": 40,
      "outputs": []
    },
    {
      "cell_type": "code",
      "source": [
        "print(x.shape)\n",
        "print(mean)\n",
        "print(std)\n",
        "\n",
        "x = x.view(x.size(0), -1)"
      ],
      "metadata": {
        "id": "6PAEaP1Hy1IJ",
        "outputId": "0c379ed0-7971-431b-f30a-85e813752a2a",
        "colab": {
          "base_uri": "https://localhost:8080/"
        }
      },
      "execution_count": 41,
      "outputs": [
        {
          "output_type": "stream",
          "name": "stdout",
          "text": [
            "torch.Size([60000, 1, 28, 28])\n",
            "tensor([0.1307])\n",
            "tensor([0.3081])\n"
          ]
        }
      ]
    },
    {
      "cell_type": "code",
      "source": [
        "transform = transforms.Compose([\n",
        "    transforms.ToTensor(),\n",
        "    transforms.Normalize(mean, std)\n",
        "])\n",
        "\n",
        "train = datasets.MNIST(root='./data', train=True, download=True, transform=transform)\n",
        "test = datasets.MNIST(root='./data', train=False, download=True, transform=transform)\n",
        "\n",
        "train_dataloader = DataLoader(train, batch_size=8, shuffle=True)\n",
        "test_dataloader = DataLoader(test, batch_size=8, shuffle=True)"
      ],
      "metadata": {
        "id": "z55jBjU0xYZo"
      },
      "execution_count": 42,
      "outputs": []
    },
    {
      "cell_type": "code",
      "source": [
        "class MLP(nn.Module):\n",
        "    def __init__(self):\n",
        "        super().__init__()\n",
        "        self.hidden = nn.Linear(784, 128)\n",
        "        self.out = nn.Linear(128, 10)\n",
        "\n",
        "    def forward(self, x):\n",
        "        x = self.out(torch.relu(self.hidden(x)))\n",
        "        return x"
      ],
      "metadata": {
        "id": "VH5AQtJyeZ7K"
      },
      "execution_count": 43,
      "outputs": []
    },
    {
      "cell_type": "code",
      "source": [
        "classes = ('0', '1', '2', '3', '4', '5', '6', '7', '8', '9')\n",
        "\n",
        "def imshow(img):\n",
        "    img = img*std + mean     # unnormalize\n",
        "    npimg = img.numpy()\n",
        "    plt.imshow(np.transpose(npimg, (1, 2, 0)))\n",
        "\n",
        "\n",
        "# get some random training images\n",
        "dataiter = iter(train_dataloader)\n",
        "images, labels = next(dataiter)\n",
        "\n",
        "# show images\n",
        "imshow(utils.make_grid(images))\n",
        "# print labels\n",
        "print(' '.join('%5s' % classes[labels[j]] for j in range(8)))"
      ],
      "metadata": {
        "id": "SbOPKlwx34sV",
        "outputId": "eb447cd8-fdf9-4846-e30c-c99e92e97b22",
        "colab": {
          "base_uri": "https://localhost:8080/",
          "height": 147
        }
      },
      "execution_count": 44,
      "outputs": [
        {
          "output_type": "stream",
          "name": "stdout",
          "text": [
            "    8     8     4     0\n"
          ]
        },
        {
          "output_type": "display_data",
          "data": {
            "text/plain": [
              "<Figure size 640x480 with 1 Axes>"
            ],
            "image/png": "[encoded data removed]"
          },
          "metadata": {}
        }
      ]
    },
    {
      "cell_type": "code",
      "source": [
        "mlp = MLP()\n",
        "\n",
        "criterion = nn.CrossEntropyLoss()\n",
        "optimizer = optim.Adam(mlp.parameters(), lr=0.001)"
      ],
      "metadata": {
        "id": "Hl6hoju95v45"
      },
      "execution_count": 45,
      "outputs": []
    },
    {
      "cell_type": "code",
      "source": [
        "for epoch in range(2):\n",
        "  running_loss = 0.0\n",
        "  for i, data in enumerate(train_dataloader, 0):\n",
        "    inputs, labels = data\n",
        "    optimizer.zero_grad()\n",
        "\n",
        "    x = inputs.view(inputs.size(0), -1)\n",
        "\n",
        "    outputs = mlp(x)\n",
        "    loss = criterion(outputs, labels)\n",
        "    loss.backward()\n",
        "    optimizer.step()\n",
        "\n",
        "    running_loss += loss.item()\n",
        "\n",
        "    if i % 2000 == 1999:\n",
        "      print(f'[{epoch + 1}, {i + 1:5d}] loss: {running_loss / 100:.3f}')\n",
        "      running_loss = 0.0\n",
        "print(\"Training finished\")"
      ],
      "metadata": {
        "id": "E9tTliaI7Zck",
        "outputId": "1bfb009d-0c95-4e3a-f6c2-955f51ce1eaf",
        "colab": {
          "base_uri": "https://localhost:8080/"
        }
      },
      "execution_count": 46,
      "outputs": [
        {
          "output_type": "stream",
          "name": "stdout",
          "text": [
            "[1,  2000] loss: 6.881\n",
            "[1,  4000] loss: 3.738\n",
            "[1,  6000] loss: 2.948\n",
            "[2,  2000] loss: 2.261\n",
            "[2,  4000] loss: 2.219\n",
            "[2,  6000] loss: 2.301\n",
            "Training finished\n"
          ]
        }
      ]
    },
    {
      "cell_type": "code",
      "source": [
        "correct = 0\n",
        "total = 0\n",
        "with torch.no_grad():\n",
        "  for data in test_dataloader:\n",
        "    images, labels = data\n",
        "    images = images.view(images.size(0), -1)\n",
        "    outputs = mlp(images)\n",
        "    _, predicted = torch.max(outputs.data, 1)\n",
        "    total += labels.size(0)\n",
        "    correct += (predicted == labels).sum().item()\n",
        "\n",
        "print('Accuracy of the network on the 10000 test images: %d %%' % (\n",
        "    100 * correct / total))"
      ],
      "metadata": {
        "id": "vAOV5uNTvHLJ",
        "outputId": "b31cdabc-7e15-45e2-faa0-0fa47e28d581",
        "colab": {
          "base_uri": "https://localhost:8080/"
        }
      },
      "execution_count": 47,
      "outputs": [
        {
          "output_type": "stream",
          "name": "stdout",
          "text": [
            "Accuracy of the network on the 10000 test images: 96 %\n"
          ]
        }
      ]
    },
    {
      "cell_type": "code",
      "source": [
        "classes = ('0', '1', '2', '3', '4', '5', '6', '7', '8', '9')\n",
        "\n",
        "def imshow(img):\n",
        "    img = img*std + mean     # unnormalize\n",
        "    npimg = img.numpy()\n",
        "    plt.imshow(np.transpose(npimg, (1, 2, 0)))\n",
        "\n",
        "\n",
        "# get some random test images\n",
        "dataiter = iter(test_dataloader)\n",
        "images, labels = next(dataiter)\n",
        "\n",
        "predictions = mlp(images.view(images.size(0), -1))\n",
        "_, predicted = torch.max(predictions.data, 1)\n",
        "\n",
        "# show images\n",
        "imshow(utils.make_grid(images))\n",
        "\n",
        "# print labels\n",
        "print(' '.join('%5s' % classes[labels[j]] for j in range(8)))\n",
        "\n",
        "#print predictions\n",
        "print(' '.join('%5s' % classes[predicted[j]] for j in range(8)))"
      ],
      "metadata": {
        "id": "4aMtzJocf49P",
        "outputId": "611d22cf-4723-4b5f-c5eb-9cccb30e0aea",
        "colab": {
          "base_uri": "https://localhost:8080/",
          "height": 165
        }
      },
      "execution_count": 59,
      "outputs": [
        {
          "output_type": "stream",
          "name": "stdout",
          "text": [
            "    1     0     9     6     4     5     8     1\n",
            "    1     0     9     6     4     5     8     1\n"
          ]
        },
        {
          "output_type": "display_data",
          "data": {
            "text/plain": [
              "<Figure size 640x480 with 1 Axes>"
            ],
            "image/png": "[encoded data removed]"
          },
          "metadata": {}
        }
      ]
    },
    {
      "cell_type": "code",
      "source": [],
      "metadata": {
        "id": "YIyZURqwkld0"
      },
      "execution_count": 52,
      "outputs": []
    }
  ]
}